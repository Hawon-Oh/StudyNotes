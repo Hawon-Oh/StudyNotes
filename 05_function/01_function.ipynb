{
 "cells": [
  {
   "cell_type": "markdown",
   "id": "c9ba8855",
   "metadata": {},
   "source": [
    "함수"
   ]
  },
  {
   "cell_type": "code",
   "execution_count": 1,
   "id": "078156ea",
   "metadata": {},
   "outputs": [],
   "source": [
    "def print_greeting():\n",
    "    print(\"즐거운 오후입니다! 목요일도 화이팅!!\")\n",
    "    "
   ]
  },
  {
   "cell_type": "code",
   "execution_count": 3,
   "id": "ee88fb23",
   "metadata": {},
   "outputs": [
    {
     "name": "stdout",
     "output_type": "stream",
     "text": [
      "즐거운 오후입니다! 목요일도 화이팅!!\n"
     ]
    }
   ],
   "source": [
    "print_greeting()"
   ]
  },
  {
   "cell_type": "code",
   "execution_count": 1,
   "id": "137b0860",
   "metadata": {},
   "outputs": [
    {
     "data": {
      "text/plain": [
       "'안녕하세요, 저는 토끼 신입사원입니다!'"
      ]
     },
     "execution_count": 1,
     "metadata": {},
     "output_type": "execute_result"
    }
   ],
   "source": [
    "def introduce():\n",
    "    return \"안녕하세요, 저는 토끼 신입사원입니다!\"\n",
    "introduce()"
   ]
  },
  {
   "cell_type": "code",
   "execution_count": 3,
   "id": "25ff7a59",
   "metadata": {},
   "outputs": [
    {
     "name": "stdout",
     "output_type": "stream",
     "text": [
      "토끼님, 출근 체크 완료\n"
     ]
    }
   ],
   "source": [
    "def check_in(name):\n",
    "    print(f'{name}님, 출근 체크 완료')\n",
    "\n",
    "check_in(\"토끼\")\n"
   ]
  },
  {
   "cell_type": "code",
   "execution_count": 9,
   "id": "c8f0502c",
   "metadata": {},
   "outputs": [
    {
     "name": "stdout",
     "output_type": "stream",
     "text": [
      "오늘 근무한 시간은 6시간입니다.\n"
     ]
    }
   ],
   "source": [
    "def work_hours(start, end):\n",
    "    return end - start\n",
    "\n",
    "print(f'오늘 근무한 시간은 {work_hours(7, 13)}시간입니다.')"
   ]
  },
  {
   "cell_type": "code",
   "execution_count": 8,
   "id": "d074fd45",
   "metadata": {},
   "outputs": [
    {
     "data": {
      "text/plain": [
       "'오늘의 점심 메뉴는 짜장입니다.'"
      ]
     },
     "execution_count": 8,
     "metadata": {},
     "output_type": "execute_result"
    }
   ],
   "source": [
    "def recommend_menu(*menu):\n",
    "    from random import choice\n",
    "\n",
    "    return(f'오늘의 점심 메뉴는 {choice(menu)}입니다.')\n",
    "\n",
    "recommend_menu('짜장', '물짜장', '쟁반짜장', '짜장면곱배기')"
   ]
  },
  {
   "cell_type": "code",
   "execution_count": 11,
   "id": "90df82f6",
   "metadata": {},
   "outputs": [
    {
     "name": "stdout",
     "output_type": "stream",
     "text": [
      "오후3시입니다. 커피 한잔 줘.\n"
     ]
    }
   ],
   "source": [
    "def coffee_time():\n",
    "    return '오후3시입니다. 커피 한잔 줘.'\n",
    "\n",
    "print(coffee_time())\n"
   ]
  },
  {
   "cell_type": "code",
   "execution_count": 13,
   "id": "6ac5f733",
   "metadata": {},
   "outputs": [
    {
     "name": "stdout",
     "output_type": "stream",
     "text": [
      "오늘 처리한 업무는 10개입니다. 성과 평가: 우수\n"
     ]
    }
   ],
   "source": [
    "def work_report(tasks_done):\n",
    "    temp = ''\n",
    "    if tasks_done > 9: temp = '우수'\n",
    "    elif tasks_done > 4: temp = '보통'\n",
    "    else: temp = '노력필요'\n",
    "    return temp\n",
    "\n",
    "done = 10\n",
    "print(f\"오늘 처리한 업무는 {done}개입니다. 성과 평가: {work_report(done)}\")"
   ]
  },
  {
   "cell_type": "code",
   "execution_count": 14,
   "id": "03290f3c",
   "metadata": {},
   "outputs": [
    {
     "name": "stdout",
     "output_type": "stream",
     "text": [
      "세전 월급: 100원, 세금: 20.0원, 실수령액: 180.0원\n"
     ]
    }
   ],
   "source": [
    "def calculate_salary(base_salary, bonus):\n",
    "    base_salary += bonus\n",
    "    tax = base_salary / 10\n",
    "    net_salary = base_salary - tax\n",
    "    return tax, net_salary\n",
    "\n",
    "salary = 100\n",
    "tax, net_salary = calculate_salary(salary, 100)\n",
    "print(f\"세전 월급: {salary}원, 세금: {tax}원, 실수령액: {net_salary}원\")\n"
   ]
  },
  {
   "cell_type": "markdown",
   "id": "83f62723",
   "metadata": {},
   "source": [
    "---\n",
    "### 패키징과 언패키징"
   ]
  },
  {
   "cell_type": "markdown",
   "id": "8f50cd4e",
   "metadata": {},
   "source": [
    "### *args | **kwagrs\n",
    "* *args     `n개의 위치 인자를 튜플로 묶음`\n",
    "* **kwagrs  `n개의 키워드 인자를 딕셔너리로 묶음`"
   ]
  },
  {
   "cell_type": "code",
   "execution_count": 29,
   "id": "44dd844b",
   "metadata": {},
   "outputs": [],
   "source": [
    "def call_animals(*animal_args):\n",
    "    for animal_name in animal_args:\n",
    "        print(animal_name)\n",
    "        "
   ]
  },
  {
   "cell_type": "code",
   "execution_count": 30,
   "id": "64596c89",
   "metadata": {},
   "outputs": [
    {
     "name": "stdout",
     "output_type": "stream",
     "text": [
      "토끼\n",
      "코끼리\n",
      "비타민부족\n"
     ]
    }
   ],
   "source": [
    "call_animals('토끼', '코끼리', '비타민부족')"
   ]
  },
  {
   "cell_type": "code",
   "execution_count": null,
   "id": "b6233e92",
   "metadata": {},
   "outputs": [],
   "source": [
    "def unpack_test(a, b, c):\n",
    "    print(a, b, c)"
   ]
  },
  {
   "cell_type": "code",
   "execution_count": 34,
   "id": "e44a29ca",
   "metadata": {},
   "outputs": [
    {
     "name": "stdout",
     "output_type": "stream",
     "text": [
      "김 이 씨\n"
     ]
    }
   ],
   "source": [
    "names = ['김', '이', '씨']\n",
    "unpack_test(*names)"
   ]
  },
  {
   "cell_type": "code",
   "execution_count": null,
   "id": "1f0a5ad2",
   "metadata": {},
   "outputs": [
    {
     "name": "stdout",
     "output_type": "stream",
     "text": [
      "a b c\n",
      "99 85 70\n"
     ]
    }
   ],
   "source": [
    "grades = {'a': 99, 'b': 85, 'c': 70}\n",
    "unpack_test(*grades)    # *하면 키값으로 unpack\n",
    "unpack_test(**grades)   # **하면 밸류값이"
   ]
  },
  {
   "cell_type": "markdown",
   "id": "4e240cf3",
   "metadata": {},
   "source": [
    "---"
   ]
  },
  {
   "cell_type": "markdown",
   "id": "ba48ffcf",
   "metadata": {},
   "source": [
    "## **문제 1: 자기소개 하기**\n",
    "\n",
    "**\"토끼는 IT 회사 첫 출근 날, 자기소개를 준비했다.\"**\n",
    "\n",
    "1. `introduce()`라는 함수를 만들어 **\"안녕하세요, 저는 토끼 신입사원입니다!\"**라는 메시지를 출력하세요.\n",
    "2. 함수를 호출하여 토끼의 자기소개를 출력하세요."
   ]
  },
  {
   "cell_type": "code",
   "execution_count": 39,
   "id": "8a5034ae",
   "metadata": {},
   "outputs": [
    {
     "name": "stdout",
     "output_type": "stream",
     "text": [
      "안녕\n"
     ]
    }
   ],
   "source": [
    "def introduce():\n",
    "    print(\"안녕\")\n",
    "\n",
    "introduce()"
   ]
  },
  {
   "cell_type": "markdown",
   "id": "021188b5",
   "metadata": {},
   "source": [
    "## **문제 2: 출근 체크하기**\n",
    "\n",
    "**\"토끼는 출근할 때 출근부에 이름을 적어야 한다.\"**\n",
    "\n",
    "1. `check_in(name)`이라는 함수를 만들어 매개변수 `name`을 입력받아 다음과 같이 출력하세요.\n",
    "    - **\"[이름]님, 출근 체크 완료!\"**\n",
    "2. 함수를 호출해 **\"토끼\"**를 출근 체크하세요."
   ]
  },
  {
   "cell_type": "code",
   "execution_count": 40,
   "id": "1bb447d5",
   "metadata": {},
   "outputs": [],
   "source": [
    "def check_in(name):\n",
    "    print(f'{name}님 출근체크해')"
   ]
  },
  {
   "cell_type": "markdown",
   "id": "161e0105",
   "metadata": {},
   "source": [
    "## **문제 3: 업무 시간 계산하기**\n",
    "\n",
    "**\"토끼는 오늘 근무한 시간을 계산하고 싶다.\"**\n",
    "\n",
    "1. `work_hours(start, end)`라는 함수를 만들어 매개변수 `start`(출근 시간)와 `end`(퇴근 시간)를 입력받아 근무 시간을 계산하세요.\n",
    "    - 근무 시간 = `end - start`\n",
    "2. 반환된 근무 시간을 출력하세요.\n",
    "    - 출력 예시: **\"오늘 근무한 시간은 [근무 시간]시간입니다.\"**"
   ]
  },
  {
   "cell_type": "code",
   "execution_count": 41,
   "id": "4e7d5937",
   "metadata": {},
   "outputs": [],
   "source": [
    "def work_hours(start, end):\n",
    "    hr = end - start\n",
    "    print(f'오늘 근무한 시간은 {hr}시간입니다.')"
   ]
  },
  {
   "cell_type": "markdown",
   "id": "6ef9aad0",
   "metadata": {},
   "source": [
    "## **문제 4: 점심 메뉴 추천**\n",
    "\n",
    "**\"점심시간, 토끼는 팀원들에게 점심 메뉴를 추천해준다.\"**\n",
    "\n",
    "1. `recommend_menu(*menus)`라는 함수를 만들어 여러 개의 점심 메뉴를 매개변수로 전달받으세요.\n",
    "2. 랜덤하게 하나의 메뉴를 선택하고 반환하세요.\n",
    "    - 출력 예시: **\"오늘의 점심 메뉴는 [선택된 메뉴]입니다!\"**\n",
    "    - 힌트: `random.choice()`를 사용하면 랜덤 선택이 가능합니다. (import random)"
   ]
  },
  {
   "cell_type": "code",
   "execution_count": null,
   "id": "555e4fc3",
   "metadata": {},
   "outputs": [],
   "source": [
    "def recommend_menu(*menus):\n",
    "    import random\n",
    "    print"
   ]
  }
 ],
 "metadata": {
  "kernelspec": {
   "display_name": "pystudy_env",
   "language": "python",
   "name": "python3"
  },
  "language_info": {
   "codemirror_mode": {
    "name": "ipython",
    "version": 3
   },
   "file_extension": ".py",
   "mimetype": "text/x-python",
   "name": "python",
   "nbconvert_exporter": "python",
   "pygments_lexer": "ipython3",
   "version": "3.12.11"
  }
 },
 "nbformat": 4,
 "nbformat_minor": 5
}
