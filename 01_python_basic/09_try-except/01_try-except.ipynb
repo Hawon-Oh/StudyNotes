{
 "cells": [
  {
   "cell_type": "code",
   "execution_count": null,
   "id": "4c266e17",
   "metadata": {},
   "outputs": [],
   "source": [
    "class NotMyTeacher(Exception):\n",
    "    pass\n",
    "\n",
    "try:\n",
    "    print('hi')\n",
    "\n",
    "except:\n",
    "    raise NotMyTeacher('joji')\n",
    "\n"
   ]
  }
 ],
 "metadata": {
  "language_info": {
   "name": "python"
  }
 },
 "nbformat": 4,
 "nbformat_minor": 5
}
