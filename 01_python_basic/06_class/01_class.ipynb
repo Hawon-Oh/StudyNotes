{
 "cells": [
  {
   "cell_type": "markdown",
   "id": "a9a3a8a6",
   "metadata": {},
   "source": [
    "### Instance / Class / Static Methods"
   ]
  },
  {
   "cell_type": "code",
   "execution_count": null,
   "id": "311e1756",
   "metadata": {},
   "outputs": [
    {
     "name": "stdout",
     "output_type": "stream",
     "text": [
      "\n",
      "goyang\n",
      "!\n",
      "!!\n",
      "name: N/A\n"
     ]
    }
   ],
   "source": [
    "class Cat:\n",
    "    name = \"\"\n",
    "\n",
    "    def __init__(self, name=''):\n",
    "        self.name = name\n",
    "\n",
    "    def __str__(self):\n",
    "        temp = \"name: \" + self.name\n",
    "        if not self.name:\n",
    "            temp += \"N/A\"\n",
    "        return temp\n",
    "\n",
    "    def get_name(self):             # instance\n",
    "        return self.name            # default로 1개 포지셔널 argu받음. 관례상 self\n",
    "    \n",
    "    @ classmethod                   # class\n",
    "    def do_nothing(cls):            # default로 1개 포지셔널 argu받음. 관례상 cls\n",
    "        return '!'\n",
    "\n",
    "    @ staticmethod                  # static\n",
    "    def do_something():\n",
    "        return '!!'\n",
    "\n",
    "cat1 = Cat()\n",
    "cat2 = Cat(\"goyang\")\n",
    "\n",
    "print(cat1.get_name())\n",
    "print(cat2.get_name())\n",
    "print(Cat.do_nothing())\n",
    "print(Cat.do_something())\n",
    "print(cat1)"
   ]
  },
  {
   "cell_type": "code",
   "execution_count": 13,
   "id": "f9485b8b",
   "metadata": {},
   "outputs": [
    {
     "name": "stdout",
     "output_type": "stream",
     "text": [
      "<class '__main__.Student'>\n",
      "<__main__.Student object at 0x0000025232E5B170>\n",
      "오늘도 열심히\n",
      "<__main__.Student object at 0x0000025232E5B170>\n"
     ]
    }
   ],
   "source": [
    "class Student:\n",
    "    dream = '취업'\n",
    "\n",
    "    def __init__(self):\n",
    "        pass\n",
    "\n",
    "    def study(self):\n",
    "        print('오늘도 열심히')\n",
    "\n",
    "        \n",
    "st1 = Student()\n",
    "print(Student)\n",
    "print(st1)\n",
    "st1.study()\n",
    "pt = st1\n",
    "print(pt)"
   ]
  },
  {
   "cell_type": "markdown",
   "id": "3b9f01eb",
   "metadata": {},
   "source": [
    "### **문제 1: 클래스 속성, 인스턴스 속성 테스트**\n",
    "\n",
    "토끼는 이직 준비를 위해 ` 작성해야 합니다. `Rabbit`이라는 클래스를 만들어 토끼의 기본 정보를 설정하세요.\n",
    "\n",
    "1. 클래스 속성 `species`를 설정하여 \"토끼\"로 초기화하세요.\n",
    "2. 생성자를 통해 인스턴스 속성 `name`과 `current_job`을 설정하세요.\n",
    "3. 메서드 `introduce`를 만들어 이름과 현재 직업을 소개하는 문자열을 반환하세요.\n",
    "4. 다른 인스턴스를 생성해도 `species`는 공유되지만, `name`과 `current_job`은 서로 독립적임을 확인하세요."
   ]
  },
  {
   "cell_type": "code",
   "execution_count": 2,
   "id": "05e73549",
   "metadata": {},
   "outputs": [],
   "source": [
    "class Rabbit:\n",
    "    species = 'rabbit'\n",
    "    name = ''\n",
    "    current_job = ''\n",
    "    def __init__(self, name, current_job):\n",
    "        self.name = name\n",
    "        self.current_job = current_job\n",
    "\n",
    "    def introduce(self):\n",
    "        print(f'name: {self.name}, job: {self.current_job}')"
   ]
  },
  {
   "cell_type": "code",
   "execution_count": 5,
   "id": "61a4ec2b",
   "metadata": {},
   "outputs": [
    {
     "name": "stdout",
     "output_type": "stream",
     "text": [
      "name: 홍길, job: 도둑\n",
      "name: 하이, job: 백수\n",
      "rabbit rabbit\n"
     ]
    }
   ],
   "source": [
    "rabbit1 = Rabbit('홍길', '도둑')\n",
    "rabbit2 = Rabbit('하이', '백수')\n",
    "rabbit1.introduce()\n",
    "rabbit2.introduce()\n",
    "print(rabbit1.species, rabbit2.species)"
   ]
  },
  {
   "cell_type": "markdown",
   "id": "a4afb11c",
   "metadata": {},
   "source": [
    "### **문제 2: 클래스 속성과 인스턴스 속성의 차이**\n",
    "\n",
    "토끼는 이직 준비를 하며 다양한 직업 스킬을 학습 중입니다. 클래스 속성과 인스턴스 속성의 차이를 확인하세요.\n",
    "\n",
    "1. `Character` 클래스를 생성하세요.\n",
    "2. 클래스 속성 `skills`를 정의하여 빈 리스트로 초기화하세요.\n",
    "3. 생성자에서 인스턴스 속성 `skills`를 별도로 초기화하세요.\n",
    "4. `add_skill` 메서드에서 클래스 속성이 아닌 인스턴스 속성에 스킬을 추가하도록 수정하세요."
   ]
  },
  {
   "cell_type": "code",
   "execution_count": null,
   "id": "5aa14f4d",
   "metadata": {},
   "outputs": [
    {
     "name": "stdout",
     "output_type": "stream",
     "text": [
      "[1]\n",
      "[2]\n"
     ]
    }
   ],
   "source": [
    "class Character:\n",
    "    skills = []\n",
    "    \n",
    "    def __init__(self, skills):\n",
    "        self.skills = skills\n",
    "\n",
    "    def add_skill(self, s):\n",
    "        self.skills.append(s)\n",
    "\n",
    "c1 = Character([1])\n",
    "c2 = Character([2])\n",
    "print(c1.skills)\n",
    "print(c2.skills)"
   ]
  },
  {
   "cell_type": "markdown",
   "id": "920462b0",
   "metadata": {},
   "source": [
    "### **문제 3: 인스턴스 속성과 클래스 속성의 우선순위**\n",
    "\n",
    "토끼는 이직을 위해 별명을 여러 개 사용합니다. 클래스 속성으로 `nickname`을 설정하지만, 각 인스턴스마다 별명을 변경할 수 있습니다.\n",
    "\n",
    "1. `Character` 클래스에 클래스 속성 `nickname`을 설정하세요.\n",
    "2. 생성자에서 인스턴스 속성 `nickname`을 설정하세요.\n",
    "3. 클래스 속성과 인스턴스 속성이 충돌할 때, 인스턴스 속성이 우선됨을 확인하세요."
   ]
  },
  {
   "cell_type": "code",
   "execution_count": 10,
   "id": "3a9e6d3a",
   "metadata": {},
   "outputs": [
    {
     "name": "stdout",
     "output_type": "stream",
     "text": [
      "클래스닉\n",
      "2\n"
     ]
    }
   ],
   "source": [
    "class 토끼:\n",
    "    nickname = '클래스닉'\n",
    "    \n",
    "    def __init__(self, nickname=nickname):\n",
    "        self.nickname = nickname\n",
    "\n",
    "c1 = 토끼()\n",
    "c2 = 토끼('2')\n",
    "print(c1.nickname)\n",
    "print(c2.nickname)"
   ]
  },
  {
   "cell_type": "markdown",
   "id": "ede200c5",
   "metadata": {},
   "source": [
    "### **문제 4: 네임스페이스 테스트 - 전역과 로컬**\n",
    "\n",
    "토끼는 이직 준비 도구를 사용하며, 전역 변수와 로컬 변수를 관리합니다. `namespace_test` 함수를 작성해 네임스페이스를 테스트하세요.\n",
    "\n",
    "1. 전역 변수 `tool`을 \"연필\"로 설정하세요.\n",
    "2. 함수 `namespace_test` 내부에 로컬 변수 `local_tool`을 \"키보드\"로 설정하고, `global` 키워드를 사용해 전역 변수를 \"펜\"으로 수정하세요.\n",
    "3. 함수 내부에서 로컬 변수와 전역 변수의 값을 출력하세요."
   ]
  },
  {
   "cell_type": "markdown",
   "id": "7d66e988",
   "metadata": {},
   "source": [
    "### **문제 5: 네임스페이스 테스트 - 클래스와 인스턴스**\n",
    "\n",
    "토끼는 이직 준비 중 클래스를 통해 도구를 관리합니다. `Toolbox` 클래스를 만들어 네임스페이스를 테스트하세요.\n",
    "\n",
    "1. 클래스 속성 `tools`를 [\"노트북\", \"책상\"]으로 초기화하세요.\n",
    "2. 생성자를 통해 인스턴스 속성 `tools`를 설정하고, 객체마다 다른 도구를 가질 수 있도록 설정하세요.\n",
    "3. `add_tool` 메서드를 만들어 클래스 속성에 새 도구를 추가하세요."
   ]
  },
  {
   "cell_type": "code",
   "execution_count": 18,
   "id": "57190292",
   "metadata": {},
   "outputs": [
    {
     "name": "stdout",
     "output_type": "stream",
     "text": [
      "['노트북', '책상', '마우스', '키보드'] ['노트북', '책상', '마우스', '키보드']\n",
      "['노트북', '책상', '마우스', '키보드']\n"
     ]
    }
   ],
   "source": [
    "class Toolbox:\n",
    "    tools = ['노트북', '책상']\n",
    "\n",
    "    def __init__(self, tools=tools):\n",
    "        self.tools = tools\n",
    "\n",
    "    def add_tool(self, t):\n",
    "        __class__.tools.append(t) # self가 아니라 __class__ 로 하면 클래스를 가르킴\n",
    "\n",
    "\n",
    "t1 = Toolbox()\n",
    "t1.add_tool('마우스')\n",
    "\n",
    "t2 = Toolbox()\n",
    "t2.add_tool('키보드')\n",
    "\n",
    "print(t1.tools, t2.tools)\n",
    "print(Toolbox.tools)"
   ]
  },
  {
   "cell_type": "code",
   "execution_count": null,
   "id": "f3e04a86",
   "metadata": {},
   "outputs": [],
   "source": [
    "class Toolbox:\n",
    "    tools = ['노트북', '책상']\n",
    "\n",
    "    def __init__(self, tools=tools):\n",
    "        self.tools = tools\n",
    "\n",
    "    @classmethod\n",
    "    def add_tool(cls, t):\n",
    "        cls.tools.append(t)"
   ]
  },
  {
   "cell_type": "markdown",
   "id": "69c6f26c",
   "metadata": {},
   "source": [
    "### Global / Nonlocal"
   ]
  },
  {
   "cell_type": "code",
   "execution_count": null,
   "id": "374a491c",
   "metadata": {},
   "outputs": [
    {
     "name": "stdout",
     "output_type": "stream",
     "text": [
      "키보드\n",
      "펜\n",
      "펜\n"
     ]
    }
   ],
   "source": [
    "tool = '연필'\n",
    "\n",
    "def namesapce_test():    \n",
    "    global tool\n",
    "    tool = '펜'\n",
    "    local_tool = '키보드'\n",
    "\n",
    "    print(local_tool)\n",
    "    print(tool)\n",
    "\n",
    "\n",
    "namesapce_test()\n",
    "print(tool)"
   ]
  },
  {
   "cell_type": "markdown",
   "id": "1511faf9",
   "metadata": {},
   "source": [
    "### **문제 6: 네임스페이스 테스트 - nonlocal**\n",
    "\n",
    "토끼는 이직 준비 중 추가적인 정보가 필요합니다. 중첩 함수와 `nonlocal` 키워드를 사용해 바깥 함수의 변수를 수정하세요.\n",
    "\n",
    "1. 함수 `nested_function`을 작성하세요.\n",
    "2. 바깥 함수의 변수 `status`를 \"작성 중\"으로 초기화하세요.\n",
    "3. 중첩 함수에서 `status`를 \"완료\"로 수정하세요."
   ]
  },
  {
   "cell_type": "code",
   "execution_count": null,
   "id": "9c866740",
   "metadata": {},
   "outputs": [
    {
     "name": "stdout",
     "output_type": "stream",
     "text": [
      "완료\n"
     ]
    }
   ],
   "source": [
    "def nested_function():\n",
    "    status = '작성 중'\n",
    "\n",
    "    def inner_function():\n",
    "        nonlocal status\n",
    "        status = '완료'\n",
    "\n",
    "    inner_function()\n",
    "    print(status)\n",
    "\n",
    "nested_function()"
   ]
  },
  {
   "cell_type": "markdown",
   "id": "a5265d0c",
   "metadata": {},
   "source": [
    "### 캡슐화"
   ]
  },
  {
   "cell_type": "code",
   "execution_count": null,
   "id": "a5619c48",
   "metadata": {},
   "outputs": [],
   "source": [
    "class Char:\n",
    "    def __init__(self, name, tyle):\n",
    "        self.name = name\n",
    "        self.__type = type              # __변수 : private임\n",
    "\n",
    "    def get_type(self):\n",
    "        return self.__type\n",
    "    \n",
    "    def set_type(self, type):\n",
    "        type_choices = ['전사', '마법사', '힐러']\n",
    "        if type in type_choices:\n",
    "            self.__type = type"
   ]
  },
  {
   "cell_type": "markdown",
   "id": "735e9279",
   "metadata": {},
   "source": [
    "### 상속"
   ]
  },
  {
   "cell_type": "code",
   "execution_count": null,
   "id": "cc159256",
   "metadata": {},
   "outputs": [],
   "source": [
    "class DerivedClass(BaseClass):\n",
    "    # do something"
   ]
  }
 ],
 "metadata": {
  "kernelspec": {
   "display_name": "pystudy_env",
   "language": "python",
   "name": "python3"
  },
  "language_info": {
   "codemirror_mode": {
    "name": "ipython",
    "version": 3
   },
   "file_extension": ".py",
   "mimetype": "text/x-python",
   "name": "python",
   "nbconvert_exporter": "python",
   "pygments_lexer": "ipython3",
   "version": "3.12.11"
  }
 },
 "nbformat": 4,
 "nbformat_minor": 5
}
