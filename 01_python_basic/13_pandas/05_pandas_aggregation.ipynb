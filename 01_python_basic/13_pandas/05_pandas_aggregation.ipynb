{
 "cells": [
  {
   "cell_type": "code",
   "execution_count": null,
   "id": "c8942fd1",
   "metadata": {},
   "outputs": [
    {
     "ename": "NameError",
     "evalue": "name 'df' is not defined",
     "output_type": "error",
     "traceback": [
      "\u001b[31m---------------------------------------------------------------------------\u001b[39m",
      "\u001b[31mNameError\u001b[39m                                 Traceback (most recent call last)",
      "\u001b[36mCell\u001b[39m\u001b[36m \u001b[39m\u001b[32mIn[1]\u001b[39m\u001b[32m, line 5\u001b[39m\n\u001b[32m      1\u001b[39m \u001b[38;5;66;03m# DataFrame 레벨\u001b[39;00m\n\u001b[32m      2\u001b[39m \n\u001b[32m      3\u001b[39m \n\u001b[32m      4\u001b[39m \u001b[38;5;66;03m# Series 레벨\u001b[39;00m\n\u001b[32m----> \u001b[39m\u001b[32m5\u001b[39m \u001b[38;5;28mprint\u001b[39m(\u001b[38;5;28mlen\u001b[39m(\u001b[43mdf\u001b[49m[\u001b[33m'\u001b[39m\u001b[33msalary\u001b[39m\u001b[33m'\u001b[39m])) \u001b[38;5;66;03m# 개수\u001b[39;00m\n\u001b[32m      6\u001b[39m \u001b[38;5;28mprint\u001b[39m(df[\u001b[33m'\u001b[39m\u001b[33msalary\u001b[39m\u001b[33m'\u001b[39m].sum()) \u001b[38;5;66;03m# 합계\u001b[39;00m\n\u001b[32m      7\u001b[39m \u001b[38;5;28mprint\u001b[39m(df[\u001b[33m'\u001b[39m\u001b[33msalary\u001b[39m\u001b[33m'\u001b[39m].mean()) \u001b[38;5;66;03m# 평균\u001b[39;00m\n",
      "\u001b[31mNameError\u001b[39m: name 'df' is not defined"
     ]
    }
   ],
   "source": [
    "# DataFrame 레벨\n",
    "\n",
    "\n",
    "# Series 레벨\n",
    "print(df['salary'].count()) # 개수\n",
    "print(df['salary'].sum()) # 합계\n",
    "print(df['salary'].mean()) # 평균\n",
    "print(df['salary'].max()) # 최대값\n",
    "print(df['salary'].min()) # 최소값\n",
    "print(df['salary'].median()) # 중위값\n",
    "print(df['salary'].var()) # 분산\n",
    "print(df['salary'].std()) # 표준편차 (분산의 제곱)"
   ]
  },
  {
   "cell_type": "code",
   "execution_count": null,
   "id": "89132366",
   "metadata": {},
   "outputs": [],
   "source": [
    "groupby_dept = df.groupby('department')\n",
    "\n",
    "print(groupby_dept)\n",
    "print(type(groupby_dept))b\n",
    "print(groupby_dept.groups)"
   ]
  }
 ],
 "metadata": {
  "kernelspec": {
   "display_name": "pystudy_env",
   "language": "python",
   "name": "pystudy_env"
  },
  "language_info": {
   "codemirror_mode": {
    "name": "ipython",
    "version": 3
   },
   "file_extension": ".py",
   "mimetype": "text/x-python",
   "name": "python",
   "nbconvert_exporter": "python",
   "pygments_lexer": "ipython3",
   "version": "3.12.11"
  }
 },
 "nbformat": 4,
 "nbformat_minor": 5
}
