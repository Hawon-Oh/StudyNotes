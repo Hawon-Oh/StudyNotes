{
 "cells": [
  {
   "cell_type": "markdown",
   "id": "b252be00",
   "metadata": {},
   "source": [
    "### **문제 5**\n",
    "\n",
    "다음과 같은 규칙을 지켜 변수를 작성하세요.\n",
    "\n",
    "1. 변수 이름은 **스네이크 케이스**를 따릅니다.\n",
    "2. `first_name`에 **당신의 이름의 첫 글자**를 문자열로 저장하세요.\n",
    "3. `last_name`에 **당신의 성**을 문자열로 저장하세요.\n",
    "4. `full_name` 변수에 `first_name`과 `last_name`을 이어붙여서 저장하세요.\n",
    "5. `print()`를 사용해 `full_name`을 출력해보세요."
   ]
  },
  {
   "cell_type": "code",
   "execution_count": 1,
   "id": "91696968",
   "metadata": {},
   "outputs": [],
   "source": [
    "first_name = '주'\n",
    "last_name = '이'"
   ]
  },
  {
   "cell_type": "code",
   "execution_count": 2,
   "id": "7965beed",
   "metadata": {},
   "outputs": [],
   "source": [
    "full_name = first_name + last_name"
   ]
  },
  {
   "cell_type": "code",
   "execution_count": 3,
   "id": "99355cd3",
   "metadata": {},
   "outputs": [
    {
     "name": "stdout",
     "output_type": "stream",
     "text": [
      "주이\n"
     ]
    }
   ],
   "source": [
    "print(full_name)"
   ]
  }
 ],
 "metadata": {
  "kernelspec": {
   "display_name": "pystudy_env",
   "language": "python",
   "name": "python3"
  },
  "language_info": {
   "codemirror_mode": {
    "name": "ipython",
    "version": 3
   },
   "file_extension": ".py",
   "mimetype": "text/x-python",
   "name": "python",
   "nbconvert_exporter": "python",
   "pygments_lexer": "ipython3",
   "version": "3.12.11"
  }
 },
 "nbformat": 4,
 "nbformat_minor": 5
}
