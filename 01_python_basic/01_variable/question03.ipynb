{
 "cells": [
  {
   "cell_type": "markdown",
   "id": "737779c0",
   "metadata": {},
   "source": [
    "### **문제 3**\n",
    "\n",
    "변수에 담긴 값을 다른 변수에 대입하는 연습을 해봅시다.\n",
    "\n",
    "1. `city`라는 변수에 **당신이 살고 있는 도시 이름**을 문자열로 저장하세요.\n",
    "2. `my_city`라는 변수에 `city` 변수의 값을 대입하세요.\n",
    "3. 두 변수를 각각 `print()`로 출력해보세요."
   ]
  },
  {
   "cell_type": "code",
   "execution_count": 5,
   "id": "9a797d43",
   "metadata": {},
   "outputs": [],
   "source": [
    "city = '경기도'\n",
    "my_city = city"
   ]
  },
  {
   "cell_type": "code",
   "execution_count": 6,
   "id": "1c6aad01",
   "metadata": {},
   "outputs": [
    {
     "name": "stdout",
     "output_type": "stream",
     "text": [
      "경기도\n"
     ]
    }
   ],
   "source": [
    "print(my_city)"
   ]
  }
 ],
 "metadata": {
  "kernelspec": {
   "display_name": "pystudy_env",
   "language": "python",
   "name": "python3"
  },
  "language_info": {
   "codemirror_mode": {
    "name": "ipython",
    "version": 3
   },
   "file_extension": ".py",
   "mimetype": "text/x-python",
   "name": "python",
   "nbconvert_exporter": "python",
   "pygments_lexer": "ipython3",
   "version": "3.12.11"
  }
 },
 "nbformat": 4,
 "nbformat_minor": 5
}
