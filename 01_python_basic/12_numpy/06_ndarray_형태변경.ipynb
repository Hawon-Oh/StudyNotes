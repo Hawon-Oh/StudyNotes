{
 "cells": [
  {
   "cell_type": "code",
   "execution_count": 3,
   "id": "1bb4deb4",
   "metadata": {},
   "outputs": [],
   "source": [
    "import numpy as np"
   ]
  },
  {
   "cell_type": "markdown",
   "id": "0239dd7d",
   "metadata": {},
   "source": [
    "### ndarray 형태 변경"
   ]
  },
  {
   "cell_type": "code",
   "execution_count": 14,
   "id": "4907e5ac",
   "metadata": {},
   "outputs": [
    {
     "name": "stdout",
     "output_type": "stream",
     "text": [
      "1\n",
      "2 (3, 4) \n",
      "\n",
      "2 (6, 2) \n",
      "\n",
      "[[ 0  1  2  3  4  5  6  7  8  9 10 11]]\n",
      "2 (1, 12) \n",
      "\n",
      "[ 0  1  2  3  4  5  6  7  8  9 10 11] \n",
      "\n",
      "[[ 0  1  2]\n",
      " [ 3  4  5]\n",
      " [ 6  7  8]\n",
      " [ 9 10 11]] \n",
      "\n"
     ]
    }
   ],
   "source": [
    "# reshape()\n",
    "\n",
    "arr = np.arange(12)\n",
    "print(arr.ndim)\n",
    "\n",
    "arr = arr.reshape(3, 4)\n",
    "print(arr.ndim, arr.shape, \"\\n\")\n",
    "\n",
    "arr = arr.reshape(6, 2)\n",
    "print(arr.ndim, arr.shape, \"\\n\")\n",
    "\n",
    "# [ ] 껍데기가 있어서 (1, 12) shape이지만 2차원임\n",
    "arr = arr.reshape(1, 12)\n",
    "print(arr)\n",
    "print(arr.ndim, arr.shape, \"\\n\")\n",
    "\n",
    "print(arr.reshape(-1), \"\\n\") # 한 차원 낮춤\n",
    "\n",
    "print(arr.reshape(4, -1), \"\\n\") # 자동"
   ]
  },
  {
   "cell_type": "code",
   "execution_count": 22,
   "id": "7d4b6b7b",
   "metadata": {},
   "outputs": [
    {
     "name": "stdout",
     "output_type": "stream",
     "text": [
      "[[ 0  1  2  3  4  5  6  7  8  9]\n",
      " [10 11 12 13 14 15 16 17 18 19]\n",
      " [20 21 22 23 24 25 26 27 28 29]\n",
      " [30 31 32 33 34 35 36 37 38 39]\n",
      " [40 41 42 43 44 45 46 47 48 49]] \n",
      "\n",
      "[ 0  1  2  3  4  5  6  7  8  9 10 11 12 13 14 15 16 17 18 19 20 21 22 23\n",
      " 24 25 26 27 28 29 30 31 32 33 34 35 36 37 38 39 40 41 42 43 44 45 46 47\n",
      " 48 49] \n",
      "\n",
      "(10,) [0 1 2 3 4 5 6 7 8 9]\n",
      "[[0]\n",
      " [1]\n",
      " [2]\n",
      " [3]\n",
      " [4]\n",
      " [5]\n",
      " [6]\n",
      " [7]\n",
      " [8]\n",
      " [9]]\n",
      "(10, 1)\n"
     ]
    }
   ],
   "source": [
    "arr = np.arange(50).reshape(5, -1)\n",
    "print(arr, \"\\n\")\n",
    "\n",
    "# np.ravel(): 1차원으로 변환\n",
    "print(np.ravel(arr), \"\\n\")\n",
    "\n",
    "# np.expand_dims(): 차원을 1늘림\n",
    "arr_1d = np.arange(10)\n",
    "print(arr_1d.shape, arr_1d)\n",
    "print(np.expand_dims(arr_1d, axis=1))\n",
    "print(np.expand_dims(arr_1d, axis=1).shape)"
   ]
  },
  {
   "cell_type": "code",
   "execution_count": 37,
   "id": "ee4d3c30",
   "metadata": {},
   "outputs": [
    {
     "name": "stdout",
     "output_type": "stream",
     "text": [
      "[[1 2]] (1, 2)\n",
      "[1 2] (2,) \n",
      "\n",
      "[[[[1]\n",
      "   [2]]]\n",
      "\n",
      "\n",
      " [[[3]\n",
      "   [4]]]] (2, 1, 2, 1)\n",
      "[[1 2]\n",
      " [3 4]] (2, 2)\n"
     ]
    }
   ],
   "source": [
    "# np.sqeeze(): 요소가 한개인 차원을 제거\n",
    "arr = np.array([[1, 2]])\n",
    "print(arr, arr.shape)\n",
    "arr1 = np.squeeze(arr)\n",
    "print(arr1, arr1.shape, '\\n')\n",
    "\n",
    "arr = np.array([[[[1], [2]]],[[[3], [4]]]])\n",
    "print(arr, arr.shape)\n",
    "arr1 = np.squeeze(arr)\n",
    "print(arr1, arr1.shape)"
   ]
  },
  {
   "cell_type": "code",
   "execution_count": null,
   "id": "f4c9bc7f",
   "metadata": {},
   "outputs": [],
   "source": []
  }
 ],
 "metadata": {
  "kernelspec": {
   "display_name": "pystudy_env",
   "language": "python",
   "name": "pystudy_env"
  },
  "language_info": {
   "codemirror_mode": {
    "name": "ipython",
    "version": 3
   },
   "file_extension": ".py",
   "mimetype": "text/x-python",
   "name": "python",
   "nbconvert_exporter": "python",
   "pygments_lexer": "ipython3",
   "version": "3.12.11"
  }
 },
 "nbformat": 4,
 "nbformat_minor": 5
}
