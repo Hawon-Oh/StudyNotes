{
 "cells": [
  {
   "cell_type": "markdown",
   "id": "aa212ad4",
   "metadata": {},
   "source": [
    "NumPy를 사용하여 다음과 같은 배열을 생성해 보세요.\n",
    "\n",
    "1. 크기가 4x3인 모든 값이 0인 배열\n",
    "2. 크기가 3x3인 모든 값이 1인 배열\n",
    "3. 0에서 20까지 5씩 증가하는 값으로 구성된 배열\n",
    "4. 0과 1 사이의 4개의 등d간격 값을 가진 배열\n",
    "5. *크기가 2x2인 정규 분포로 구성된 배열*"
   ]
  },
  {
   "cell_type": "code",
   "execution_count": 16,
   "id": "e2668a27",
   "metadata": {},
   "outputs": [],
   "source": [
    "import numpy as np"
   ]
  },
  {
   "cell_type": "code",
   "execution_count": 17,
   "id": "90077d46",
   "metadata": {},
   "outputs": [
    {
     "name": "stdout",
     "output_type": "stream",
     "text": [
      "[[0. 0. 0. 0.]\n",
      " [0. 0. 0. 0.]\n",
      " [0. 0. 0. 0.]]\n"
     ]
    }
   ],
   "source": [
    "zero_arr = np.zeros((3, 4))\n",
    "print(zero_arr)"
   ]
  },
  {
   "cell_type": "code",
   "execution_count": 18,
   "id": "99fa09ed",
   "metadata": {},
   "outputs": [
    {
     "name": "stdout",
     "output_type": "stream",
     "text": [
      "[[1. 1. 1.]\n",
      " [1. 1. 1.]\n",
      " [1. 1. 1.]]\n"
     ]
    }
   ],
   "source": [
    "one_arr = np.ones((3, 3))\n",
    "print(one_arr)"
   ]
  },
  {
   "cell_type": "code",
   "execution_count": 8,
   "id": "a6384070",
   "metadata": {},
   "outputs": [
    {
     "name": "stdout",
     "output_type": "stream",
     "text": [
      "[ 0  5 10 15 20]\n"
     ]
    }
   ],
   "source": [
    "arange_step_arr = np.arange(0, 21, 5)\n",
    "print(arange_step_arr)"
   ]
  },
  {
   "cell_type": "markdown",
   "id": "fa3a2a81",
   "metadata": {},
   "source": [
    "# 팬시 & 불리언 인덱싱\n",
    "아래 배열에서 팬시 인덱싱과 불리언 인덱싱을 사용하여 다음 작업을 수행하세요.\n",
    "\n",
    "1. 팬시 인덱싱을 사용하여 배열의 0번째, 2번째, 4번째 요소를 출력\n",
    "2. 배열의 값 중 50보다 큰 값만 추출"
   ]
  },
  {
   "cell_type": "code",
   "execution_count": null,
   "id": "05f32636",
   "metadata": {},
   "outputs": [
    {
     "name": "stdout",
     "output_type": "stream",
     "text": [
      "[10 30 50]\n",
      "[60 70]\n"
     ]
    }
   ],
   "source": [
    "arr = np.array([10, 20, 30, 40, 50, 60, 70])\n",
    "print(arr[[0, 2, 4]])\n",
    "print(arr[arr > 50])"
   ]
  },
  {
   "cell_type": "markdown",
   "id": "87ab9eea",
   "metadata": {},
   "source": [
    "어느 마트에서 판매되는 제품들의 월별 매출량이 아래와 같이 주어졌습니다. 각각의 행은 제품을 나타내고, 열은 각 월의 판매량을 나타냅니다.\n",
    "\n",
    "1. 월별 판매량이 200개 이상인 제품의 판매량을 선택하라.\n",
    "2. 3월(세 번째 열)의 판매량이 100개 이하인 제품의 1월과 2월 판매량을 추출하라.\n",
    "3. 2월(두 번째 열)의 판매량이 150개 이상인 제품들의 전체 월별 판매량을 출력하라."
   ]
  },
  {
   "cell_type": "code",
   "execution_count": 9,
   "id": "e251dc1d",
   "metadata": {},
   "outputs": [],
   "source": [
    "sales = np.array([[120, 150, 100],\n",
    "                  [80, 90, 110],\n",
    "                  [200, 180, 220],\n",
    "                  [50, 45, 70],\n",
    "                  [300, 320, 310]])"
   ]
  },
  {
   "cell_type": "code",
   "execution_count": null,
   "id": "e788cc74",
   "metadata": {},
   "outputs": [
    {
     "name": "stdout",
     "output_type": "stream",
     "text": [
      "[ True False  True False  True]\n",
      "[[120 150 100]\n",
      " [200 180 220]\n",
      " [300 320 310]]\n"
     ]
    }
   ],
   "source": [
    "print(sales[:, 1] >= 150)\n",
    "print(sales[sales[:, 1] >= 150])"
   ]
  }
 ],
 "metadata": {
  "kernelspec": {
   "display_name": "pystudy_env",
   "language": "python",
   "name": "pystudy_env"
  },
  "language_info": {
   "codemirror_mode": {
    "name": "ipython",
    "version": 3
   },
   "file_extension": ".py",
   "mimetype": "text/x-python",
   "name": "python",
   "nbconvert_exporter": "python",
   "pygments_lexer": "ipython3",
   "version": "3.12.11"
  }
 },
 "nbformat": 4,
 "nbformat_minor": 5
}
