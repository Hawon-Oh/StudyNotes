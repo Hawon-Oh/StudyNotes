{
 "cells": [
  {
   "cell_type": "markdown",
   "id": "26a436d5",
   "metadata": {},
   "source": [
    "### 조건문"
   ]
  },
  {
   "cell_type": "code",
   "execution_count": 2,
   "id": "d1720e33",
   "metadata": {},
   "outputs": [
    {
     "name": "stdout",
     "output_type": "stream",
     "text": [
      "-----\n"
     ]
    }
   ],
   "source": [
    "if False:\n",
    "    print('if 블럭이 실행되었습니다.')\n",
    "\n",
    "print('-----')"
   ]
  },
  {
   "cell_type": "code",
   "execution_count": 7,
   "id": "1c3e69a5",
   "metadata": {},
   "outputs": [
    {
     "name": "stdout",
     "output_type": "stream",
     "text": [
      "우수학생이시네요.\n",
      "시험보느라 모두 수고하셨습니다.\n"
     ]
    }
   ],
   "source": [
    "score = 95\n",
    "if score >= 90:\n",
    "    print('우수학생이시네요.')\n",
    "print('시험보느라 모두 수고하셨습니다.')"
   ]
  }
 ],
 "metadata": {
  "kernelspec": {
   "display_name": "pystudy_env",
   "language": "python",
   "name": "python3"
  },
  "language_info": {
   "codemirror_mode": {
    "name": "ipython",
    "version": 3
   },
   "file_extension": ".py",
   "mimetype": "text/x-python",
   "name": "python",
   "nbconvert_exporter": "python",
   "pygments_lexer": "ipython3",
   "version": "3.12.11"
  }
 },
 "nbformat": 4,
 "nbformat_minor": 5
}
