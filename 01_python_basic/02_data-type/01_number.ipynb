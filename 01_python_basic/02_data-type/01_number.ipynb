{
 "cells": [
  {
   "cell_type": "markdown",
   "id": "a24e4b56",
   "metadata": {},
   "source": [
    "### 숫자형"
   ]
  },
  {
   "cell_type": "markdown",
   "id": "f3ac4386",
   "metadata": {},
   "source": [
    "### **문제 1**\n",
    "\n",
    "다음 조건에 맞게 변수를 선언하고 연산 결과를 출력하세요.\n",
    "\n",
    "1. `num1`에 10을 저장하고, `num2`에 5를 저장합니다.\n",
    "2. 두 변수를 더한 결과를 `sum_result`에 저장하고 출력하세요."
   ]
  },
  {
   "cell_type": "code",
   "execution_count": 1,
   "id": "c5a6f29f",
   "metadata": {},
   "outputs": [
    {
     "name": "stdout",
     "output_type": "stream",
     "text": [
      "15\n"
     ]
    }
   ],
   "source": [
    "num1 = 10\n",
    "num2 = 5\n",
    "\n",
    "sum_result = num1 + num2\n",
    "print(sum_result)"
   ]
  },
  {
   "cell_type": "markdown",
   "id": "13aa55fb",
   "metadata": {},
   "source": [
    "### **문제 2**\n",
    "\n",
    "다음 조건에 맞게 변수를 선언하고 연산 결과를 출력하세요.\n",
    "\n",
    "1. `x`에 7.5를 저장하고, `y`에 2를 저장합니다.\n",
    "2. `x`를 `y`로 나눈 결과를 `result`에 저장하고 출력하세요."
   ]
  },
  {
   "cell_type": "code",
   "execution_count": 2,
   "id": "c621d604",
   "metadata": {},
   "outputs": [
    {
     "name": "stdout",
     "output_type": "stream",
     "text": [
      "3.75\n"
     ]
    }
   ],
   "source": [
    "x = 7.5\n",
    "y = 2\n",
    "\n",
    "result = x / y\n",
    "print(result)"
   ]
  },
  {
   "cell_type": "markdown",
   "id": "250f66e0",
   "metadata": {},
   "source": [
    "\n",
    "### **문제 3**\n",
    "\n",
    "다음 조건을 만족하는 프로그램을 작성하세요.\n",
    "\n",
    "1. `num1`에 15를 저장하고, `num2`에 4를 저장합니다.\n",
    "2. 두 수의 **나머지**와 **몫**을 각각 구하여 출력하세요."
   ]
  },
  {
   "cell_type": "code",
   "execution_count": 4,
   "id": "890c7eb7",
   "metadata": {},
   "outputs": [
    {
     "name": "stdout",
     "output_type": "stream",
     "text": [
      "3\n",
      "3\n"
     ]
    }
   ],
   "source": [
    "num1 = 15\n",
    "num2 = 4\n",
    "\n",
    "print(num1 % num2)\n",
    "print(num1 // num2)"
   ]
  },
  {
   "cell_type": "markdown",
   "id": "9ac84a82",
   "metadata": {},
   "source": [
    "\n",
    "### **문제 4**\n",
    "\n",
    "다음 조건에 맞는 변수를 선언하고 결과를 출력하세요.\n",
    "\n",
    "1. `base`에 숫자 2를 저장하고, `exponent`에 숫자 5를 저장합니다.\n",
    "2. `base`를 `exponent`만큼 제곱한 결과를 출력하세요."
   ]
  },
  {
   "cell_type": "code",
   "execution_count": 5,
   "id": "34f6cbd2",
   "metadata": {},
   "outputs": [
    {
     "name": "stdout",
     "output_type": "stream",
     "text": [
      "32\n"
     ]
    }
   ],
   "source": [
    "base = 2\n",
    "exponent = 5\n",
    "\n",
    "print(base ** exponent)"
   ]
  },
  {
   "cell_type": "markdown",
   "id": "926ef7c8",
   "metadata": {},
   "source": [
    "### **문제 5**\n",
    "\n",
    "다음 조건에 맞는 프로그램을 작성하세요.\n",
    "\n",
    "1. `number`라는 변수에 숫자 3을 저장합니다.\n",
    "2. 이 숫자가 **짝수인지 홀수인지**를 확인하세요."
   ]
  },
  {
   "cell_type": "code",
   "execution_count": 6,
   "id": "79354b15",
   "metadata": {},
   "outputs": [],
   "source": [
    "number = 3"
   ]
  },
  {
   "cell_type": "code",
   "execution_count": 10,
   "id": "62d06142",
   "metadata": {},
   "outputs": [
    {
     "data": {
      "text/plain": [
       "False"
      ]
     },
     "execution_count": 10,
     "metadata": {},
     "output_type": "execute_result"
    }
   ],
   "source": [
    "number % 2 == 0\n",
    "\n",
    "# print(number % 2)"
   ]
  }
 ],
 "metadata": {
  "kernelspec": {
   "display_name": "pystudy_env",
   "language": "python",
   "name": "python3"
  },
  "language_info": {
   "codemirror_mode": {
    "name": "ipython",
    "version": 3
   },
   "file_extension": ".py",
   "mimetype": "text/x-python",
   "name": "python",
   "nbconvert_exporter": "python",
   "pygments_lexer": "ipython3",
   "version": "3.12.11"
  }
 },
 "nbformat": 4,
 "nbformat_minor": 5
}
