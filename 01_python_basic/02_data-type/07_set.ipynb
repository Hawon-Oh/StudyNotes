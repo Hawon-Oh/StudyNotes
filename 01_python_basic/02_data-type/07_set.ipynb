{
 "cells": [
  {
   "cell_type": "markdown",
   "id": "84875653",
   "metadata": {},
   "source": [
    "### 셋(Set)"
   ]
  },
  {
   "cell_type": "code",
   "execution_count": 5,
   "id": "36d6926d",
   "metadata": {},
   "outputs": [],
   "source": [
    "empty_set = set({})\n",
    "number_set = {1}\n",
    "anything = {2025, 8, 20, '오늘은 수요일', True}"
   ]
  },
  {
   "cell_type": "code",
   "execution_count": 6,
   "id": "514e5741",
   "metadata": {},
   "outputs": [
    {
     "name": "stdout",
     "output_type": "stream",
     "text": [
      "<class 'set'>\n"
     ]
    }
   ],
   "source": [
    "print(type(empty_set))"
   ]
  },
  {
   "cell_type": "code",
   "execution_count": 7,
   "id": "160c63ca",
   "metadata": {},
   "outputs": [],
   "source": [
    "animals = {'rabbit', 'wolf', 'koala', 'sheep', 'rabbit'}"
   ]
  },
  {
   "cell_type": "code",
   "execution_count": 8,
   "id": "ce1936aa",
   "metadata": {},
   "outputs": [
    {
     "name": "stdout",
     "output_type": "stream",
     "text": [
      "{'wolf', 'koala', 'rabbit', 'sheep'}\n"
     ]
    }
   ],
   "source": [
    "print(animals)"
   ]
  },
  {
   "cell_type": "markdown",
   "id": "29a526ec",
   "metadata": {},
   "source": [
    "---\n",
    "### 셋의 집합 연산"
   ]
  },
  {
   "cell_type": "code",
   "execution_count": 9,
   "id": "1c99981f",
   "metadata": {},
   "outputs": [],
   "source": [
    "st_animals = {'rabbit', 'sheep', 'panda', 'wolf', 'tiger'}"
   ]
  },
  {
   "cell_type": "code",
   "execution_count": 15,
   "id": "f9520ea1",
   "metadata": {},
   "outputs": [
    {
     "name": "stdout",
     "output_type": "stream",
     "text": [
      "{'panda', 'koala', 'tiger', 'rabbit', 'wolf', 'sheep'}\n",
      "{'panda', 'koala', 'tiger', 'rabbit', 'wolf', 'sheep'}\n",
      "{'wolf', 'rabbit', 'sheep'}\n",
      "{'wolf', 'rabbit', 'sheep'}\n",
      "{'koala'}\n",
      "{'koala'}\n",
      "{'panda', 'koala', 'tiger'}\n",
      "{'panda', 'koala', 'tiger'}\n"
     ]
    }
   ],
   "source": [
    "# 합집합 union\n",
    "print(animals.union(st_animals))\n",
    "print(animals | st_animals)\n",
    "\n",
    "# 교집합 intersection\n",
    "print(animals.intersection(st_animals))\n",
    "print(animals & st_animals)\n",
    "\n",
    "# 차집합 difference\n",
    "print(animals.difference(st_animals))\n",
    "print(animals - st_animals)\n",
    "\n",
    "# 대칭차집합 symmetric_difference\n",
    "print(animals.symmetric_difference(st_animals))\n",
    "print(animals ^ st_animals)"
   ]
  }
 ],
 "metadata": {
  "kernelspec": {
   "display_name": "pystudy_env",
   "language": "python",
   "name": "python3"
  },
  "language_info": {
   "codemirror_mode": {
    "name": "ipython",
    "version": 3
   },
   "file_extension": ".py",
   "mimetype": "text/x-python",
   "name": "python",
   "nbconvert_exporter": "python",
   "pygments_lexer": "ipython3",
   "version": "3.12.11"
  }
 },
 "nbformat": 4,
 "nbformat_minor": 5
}
