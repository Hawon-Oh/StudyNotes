{
 "cells": [
  {
   "cell_type": "markdown",
   "id": "6bf045f3",
   "metadata": {},
   "source": [
    "### 문자형(문자열)"
   ]
  },
  {
   "cell_type": "code",
   "execution_count": 9,
   "id": "3ea6e230",
   "metadata": {},
   "outputs": [],
   "source": [
    "my_name = 'rabbit'\n",
    "your_name = \"\"\n",
    "# error_name = '이건 안돼요~!\" # Syntax Error  "
   ]
  },
  {
   "cell_type": "code",
   "execution_count": null,
   "id": "339d78bc",
   "metadata": {},
   "outputs": [
    {
     "name": "stdout",
     "output_type": "stream",
     "text": [
      "rabbit 이주원 \"이건 안돼요~!\"\n"
     ]
    }
   ],
   "source": [
    "print(my_name, your_name)"
   ]
  },
  {
   "cell_type": "code",
   "execution_count": 10,
   "id": "fec397b2",
   "metadata": {},
   "outputs": [
    {
     "name": "stdout",
     "output_type": "stream",
     "text": [
      "<class 'str'>\n"
     ]
    }
   ],
   "source": [
    "print(type(your_name))"
   ]
  },
  {
   "cell_type": "code",
   "execution_count": 11,
   "id": "53ac9fec",
   "metadata": {},
   "outputs": [
    {
     "name": "stdout",
     "output_type": "stream",
     "text": [
      "\n",
      "hello\n",
      "world\n",
      "\n"
     ]
    }
   ],
   "source": [
    "line = \"\"\"\n",
    "hello\n",
    "world\n",
    "\"\"\"\n",
    "\n",
    "print(line)"
   ]
  },
  {
   "cell_type": "markdown",
   "id": "43f543ec",
   "metadata": {},
   "source": [
    "---\n",
    "### 문자형의 연산"
   ]
  },
  {
   "cell_type": "code",
   "execution_count": null,
   "id": "b0b15ab5",
   "metadata": {},
   "outputs": [
    {
     "name": "stdout",
     "output_type": "stream",
     "text": [
      "오늘의 점심 메뉴는?포케\n",
      "🥗123\n",
      "포케포케포케포케포케\n"
     ]
    }
   ],
   "source": [
    "str1 = \"오늘의 점심 메뉴는?\"\n",
    "str2 = \"포케\"\n",
    "\n",
    "print(str1 + str2) # 문자열 더하기 연산(연결)\n",
    "\n",
    "# print(\"🥗\" + 123)\n",
    "print(\"🥗\" + str(123))\n",
    "\n",
    "print(str2 * 5) # 문자열 곱하기 연산(숫자만큼 반복)"
   ]
  },
  {
   "cell_type": "code",
   "execution_count": 18,
   "id": "54ed188b",
   "metadata": {},
   "outputs": [
    {
     "name": "stdout",
     "output_type": "stream",
     "text": [
      "2025-08-19\n",
      "2025/08/19\n"
     ]
    }
   ],
   "source": [
    "today = '2025/08/19'\n",
    "print(today.replace(\"/\", \"-\"))\n",
    "print(today)"
   ]
  },
  {
   "cell_type": "code",
   "execution_count": null,
   "id": "cbdc9162",
   "metadata": {},
   "outputs": [
    {
     "name": "stdout",
     "output_type": "stream",
     "text": [
      "HELLO WORLD\n",
      "hello world\n",
      "Hello world\n"
     ]
    }
   ],
   "source": [
    "txt = \"hELLO wORLD\"\n",
    "\n",
    "print(txt.upper())\n",
    "print(txt.lower())\n",
    "print(txt.capitalize())"
   ]
  },
  {
   "cell_type": "markdown",
   "id": "10a411a5",
   "metadata": {},
   "source": [
    "---\n",
    "### 포맷팅\n",
    "\n",
    "1. %\n",
    "2. str.format()\n",
    "3. f-string"
   ]
  },
  {
   "cell_type": "code",
   "execution_count": 21,
   "id": "2eafac4b",
   "metadata": {},
   "outputs": [
    {
     "name": "stdout",
     "output_type": "stream",
     "text": [
      "고양이는 겨울철 양식으로 고구마개를 쿠팡했습니다.\n",
      "고양이는 겨울철 양식으로  고구마 6 개를 쿠팡했습니다.\n"
     ]
    }
   ],
   "source": [
    "food = '고구마'\n",
    "count = 6\n",
    "\n",
    "print('고양이는 겨울철 양식으로 ' + food + '개를 쿠팡했습니다.')\n",
    "print('고양이는 겨울철 양식으로 ', food, count, '개를 쿠팡했습니다.')"
   ]
  },
  {
   "cell_type": "code",
   "execution_count": 28,
   "id": "2a669147",
   "metadata": {},
   "outputs": [
    {
     "name": "stdout",
     "output_type": "stream",
     "text": [
      "x는 10입니다.\n",
      "y는 123.456입니다.\n"
     ]
    }
   ],
   "source": [
    "x = 10\n",
    "y = 123.456\n",
    "print(\"x는 %d입니다.\" % x)\n",
    "print(\"y는 %.3f입니다.\" % y)"
   ]
  },
  {
   "cell_type": "code",
   "execution_count": 29,
   "id": "0adfe557",
   "metadata": {},
   "outputs": [
    {
     "name": "stdout",
     "output_type": "stream",
     "text": [
      "x는 10, y는 123.456입니다.\n",
      "x는 10, y는 123.456입니다.\n"
     ]
    }
   ],
   "source": [
    "print(\"x는 {0}, y는 {1}입니다.\".format(x, y))\n",
    "print(\"x는 {a}, y는 {b}입니다.\".format(a=x, b=y))"
   ]
  },
  {
   "cell_type": "code",
   "execution_count": 32,
   "id": "9a6d1528",
   "metadata": {},
   "outputs": [
    {
     "name": "stdout",
     "output_type": "stream",
     "text": [
      "고양이는 겨울철 양식으로 고구마 6개를 쿠팡했습니다.\n",
      "고양이는 겨울철 양식으로 고구마 6 개를 쿠팡했습니다.\n",
      "고양이는 겨울철 양식으로 고구마 6개를 쿠팡했습니다.\n"
     ]
    }
   ],
   "source": [
    "print(f'고양이는 겨울철 양식으로 {food} {count}개를 쿠팡했습니다.')\n",
    "print('고양이는 겨울철 양식으로', food, count, '개를 쿠팡했습니다.')\n",
    "\n",
    "result_str = f'고양이는 겨울철 양식으로 {food} {count}개를 쿠팡했습니다.'\n",
    "print(result_str)"
   ]
  },
  {
   "cell_type": "markdown",
   "id": "4cac1fe7",
   "metadata": {},
   "source": [
    "---"
   ]
  },
  {
   "cell_type": "markdown",
   "id": "6122c955",
   "metadata": {},
   "source": [
    "### **문제 1**\n",
    "\n",
    "아래 조건에 맞게 변수를 선언하고 결과를 출력하세요.\n",
    "\n",
    "1. `greeting_message` 변수에 문자열 `\"Hello\"`를 저장합니다.\n",
    "2. `greeting_target` 변수에 `\"World\"`를 저장합니다.\n",
    "3. 두 문자열을 이어 붙여 `\"HelloWorld\"`를 출력하세요."
   ]
  },
  {
   "cell_type": "code",
   "execution_count": 33,
   "id": "acee7315",
   "metadata": {},
   "outputs": [
    {
     "name": "stdout",
     "output_type": "stream",
     "text": [
      "HelloWorld\n"
     ]
    }
   ],
   "source": [
    "greeting_message = \"Hello\"\n",
    "greeting_target = \"World\"\n",
    "\n",
    "print(greeting_message + greeting_target)"
   ]
  },
  {
   "cell_type": "markdown",
   "id": "7563d1c2",
   "metadata": {},
   "source": [
    "### **문제 2**\n",
    "\n",
    "1. `age`에 당신의 나이, `city`에 당신의 거주지를 저장합니다.\n",
    "2. f-string을 사용하여 다음 문장과 같은 형태로 출력하세요.\n",
    "    - `\"나는 25살이고, Seoul에 살고 있습니다.\"`"
   ]
  },
  {
   "cell_type": "code",
   "execution_count": null,
   "id": "e8dc4ca5",
   "metadata": {},
   "outputs": [
    {
     "name": "stdout",
     "output_type": "stream",
     "text": [
      "나는 25살이고, Seoul에 살고 있습니다.\n"
     ]
    }
   ],
   "source": [
    "age = 25\n",
    "city = \"Seoul\"\n",
    "\n",
    "print(f\"나는 {age}살이고, {city}에 살고 있습니다.\")"
   ]
  },
  {
   "cell_type": "code",
   "execution_count": null,
   "id": "3de03377",
   "metadata": {},
   "outputs": [],
   "source": []
  }
 ],
 "metadata": {
  "kernelspec": {
   "display_name": "pystudy_env",
   "language": "python",
   "name": "python3"
  },
  "language_info": {
   "codemirror_mode": {
    "name": "ipython",
    "version": 3
   },
   "file_extension": ".py",
   "mimetype": "text/x-python",
   "name": "python",
   "nbconvert_exporter": "python",
   "pygments_lexer": "ipython3",
   "version": "3.12.11"
  }
 },
 "nbformat": 4,
 "nbformat_minor": 5
}
