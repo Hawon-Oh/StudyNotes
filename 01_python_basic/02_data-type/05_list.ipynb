{
 "cells": [
  {
   "cell_type": "markdown",
   "id": "de73df3e",
   "metadata": {},
   "source": [
    "### 리스트"
   ]
  },
  {
   "cell_type": "code",
   "execution_count": 1,
   "id": "a28ffb5a",
   "metadata": {},
   "outputs": [],
   "source": [
    "fruits = ['apple', 'cherry', 'orange', 'durian']\n",
    "animals = []\n",
    "anything = [2025, 8, 20, 'python', ['number', 'string', 'boolean'], True]"
   ]
  },
  {
   "cell_type": "code",
   "execution_count": 2,
   "id": "86cadc4e",
   "metadata": {},
   "outputs": [
    {
     "name": "stdout",
     "output_type": "stream",
     "text": [
      "['red', 'orange', 'yellow', 'green', 'blue', 'navy', 'purple']\n"
     ]
    }
   ],
   "source": [
    "rainbow_str = 'red-orange-yellow-green-blue-navy-purple'\n",
    "rainbow = rainbow_str.split('-')\n",
    "print(rainbow)"
   ]
  },
  {
   "cell_type": "markdown",
   "id": "0e31dc2e",
   "metadata": {},
   "source": [
    "---\n",
    "\n",
    "### 리스트의 연산"
   ]
  },
  {
   "cell_type": "code",
   "execution_count": 3,
   "id": "b6636e45",
   "metadata": {},
   "outputs": [
    {
     "name": "stdout",
     "output_type": "stream",
     "text": [
      "['apple', 'cherry', 'orange', 'durian', 2025, 8, 20, 'python', ['number', 'string', 'boolean'], True]\n"
     ]
    }
   ],
   "source": [
    "# fruits = ['apple', 'cherry', 'orange', 'durian']\n",
    "# anything = [2025, 8, 20, 'python', ['number', 'string', 'boolean'], True]\n",
    "\n",
    "added_list = fruits + anything\n",
    "print(added_list)"
   ]
  },
  {
   "cell_type": "code",
   "execution_count": 4,
   "id": "90837e32",
   "metadata": {},
   "outputs": [
    {
     "name": "stdout",
     "output_type": "stream",
     "text": [
      "['apple', 'cherry', 'orange', 'durian', 'apple', 'cherry', 'orange', 'durian', 'apple', 'cherry', 'orange', 'durian']\n"
     ]
    }
   ],
   "source": [
    "multiple_list = fruits * 3\n",
    "print(multiple_list)"
   ]
  },
  {
   "cell_type": "markdown",
   "id": "f4bbc103",
   "metadata": {},
   "source": [
    "---\n",
    "### 리스트의 메서드"
   ]
  },
  {
   "cell_type": "code",
   "execution_count": 5,
   "id": "9ddbb703",
   "metadata": {},
   "outputs": [],
   "source": [
    "num_list = [2025, 8, 20, 11, 31]"
   ]
  },
  {
   "cell_type": "code",
   "execution_count": 6,
   "id": "823488fc",
   "metadata": {},
   "outputs": [
    {
     "name": "stdout",
     "output_type": "stream",
     "text": [
      "[2025, 8, 20, 11, 31, 7]\n"
     ]
    }
   ],
   "source": [
    "num_list.append(7)\n",
    "print(num_list)"
   ]
  },
  {
   "cell_type": "code",
   "execution_count": 7,
   "id": "13b39839",
   "metadata": {},
   "outputs": [
    {
     "name": "stdout",
     "output_type": "stream",
     "text": [
      "[77, 2025, 8, 20, 11, 31, 7]\n"
     ]
    }
   ],
   "source": [
    "num_list.insert(0, 77)\n",
    "print(num_list)"
   ]
  },
  {
   "cell_type": "code",
   "execution_count": 10,
   "id": "7ee7009b",
   "metadata": {},
   "outputs": [
    {
     "name": "stdout",
     "output_type": "stream",
     "text": [
      "[77, 2025, 8, 20, 11, 31, 7, 777, 777, 777]\n"
     ]
    }
   ],
   "source": [
    "num_list.append(777)\n",
    "print(num_list)"
   ]
  },
  {
   "cell_type": "code",
   "execution_count": 12,
   "id": "bff19415",
   "metadata": {},
   "outputs": [
    {
     "name": "stdout",
     "output_type": "stream",
     "text": [
      "[77, 2025, 8, 20, 11, 31, 7, 777, 777]\n"
     ]
    }
   ],
   "source": [
    "num_list.remove(777)\n",
    "print(num_list)"
   ]
  },
  {
   "cell_type": "code",
   "execution_count": 15,
   "id": "c86e7c01",
   "metadata": {},
   "outputs": [
    {
     "name": "stdout",
     "output_type": "stream",
     "text": [
      "[2025, 31, 20, 11, 8]\n"
     ]
    }
   ],
   "source": [
    "num_list = [2025, 8, 20, 11, 31]\n",
    "# num_list.sort()\n",
    "num_list.sort(reverse=True)\n",
    "print(num_list)"
   ]
  },
  {
   "cell_type": "code",
   "execution_count": 18,
   "id": "6a95e24a",
   "metadata": {},
   "outputs": [
    {
     "name": "stdout",
     "output_type": "stream",
     "text": [
      "[8, 11, 20, 47, 2025]\n",
      "[2025, 8, 20, 11, 47]\n"
     ]
    }
   ],
   "source": [
    "num_list2 = [2025, 8, 20, 11, 47]\n",
    "\n",
    "print(sorted(num_list2))\n",
    "print(num_list2)"
   ]
  },
  {
   "cell_type": "code",
   "execution_count": 21,
   "id": "22d9597e",
   "metadata": {},
   "outputs": [
    {
     "name": "stdout",
     "output_type": "stream",
     "text": [
      "['apple', 'cherry', 'durian', 'orange']\n"
     ]
    }
   ],
   "source": [
    "# print(sorted(fruits))\n",
    "# print(fruits)\n",
    "\n",
    "sorted_fruits = sorted(fruits)\n",
    "print(sorted_fruits)"
   ]
  },
  {
   "cell_type": "markdown",
   "id": "175e7b64",
   "metadata": {},
   "source": [
    "---\n",
    "### 인덱싱, 슬라이싱\n"
   ]
  },
  {
   "cell_type": "code",
   "execution_count": 23,
   "id": "2447b254",
   "metadata": {},
   "outputs": [
    {
     "name": "stdout",
     "output_type": "stream",
     "text": [
      "8\n",
      "['number', 'string', 'boolean']\n"
     ]
    }
   ],
   "source": [
    "# anything = [2025, 8, 20, 'python', ['number', 'string', 'boolean'], True]\n",
    "\n",
    "first_ele = anything[1]\n",
    "forth_ele = anything[4]\n",
    "\n",
    "print(first_ele)\n",
    "print(forth_ele)"
   ]
  },
  {
   "cell_type": "code",
   "execution_count": 24,
   "id": "6894dd59",
   "metadata": {},
   "outputs": [
    {
     "name": "stdout",
     "output_type": "stream",
     "text": [
      "True\n"
     ]
    }
   ],
   "source": [
    "print(anything[-1])"
   ]
  },
  {
   "cell_type": "code",
   "execution_count": 25,
   "id": "b318e124",
   "metadata": {},
   "outputs": [
    {
     "name": "stdout",
     "output_type": "stream",
     "text": [
      "[2025, 8, 20, 'python', ['number', 'string', 'boolean'], False]\n"
     ]
    }
   ],
   "source": [
    "anything[-1] = False\n",
    "print(anything)"
   ]
  },
  {
   "cell_type": "code",
   "execution_count": null,
   "id": "b6885ff9",
   "metadata": {},
   "outputs": [
    {
     "name": "stdout",
     "output_type": "stream",
     "text": [
      "[2025, 8, 20]\n"
     ]
    }
   ],
   "source": [
    "# 슬라이싱\n",
    "\n",
    "# anything = [2025, 8, 20, 'python', ['number', 'string', 'boolean'], True]\n",
    "today = anything[:3]\n",
    "today = anything[0:3]\n",
    "print(today) # 오늘 날짜"
   ]
  },
  {
   "cell_type": "code",
   "execution_count": null,
   "id": "9e2fcf07",
   "metadata": {},
   "outputs": [
    {
     "name": "stdout",
     "output_type": "stream",
     "text": [
      "['python', ['number', 'string', 'boolean']]\n",
      "[['number', 'string', 'boolean'], 'python']\n"
     ]
    }
   ],
   "source": [
    "str = anything[-3:-1]\n",
    "str1 = anything[-2:-4:-1]\n",
    "print(str)\n",
    "print(str1)"
   ]
  },
  {
   "cell_type": "code",
   "execution_count": 39,
   "id": "237e20db",
   "metadata": {},
   "outputs": [
    {
     "name": "stdout",
     "output_type": "stream",
     "text": [
      "['h', 'e', 'l', 'l', 'o']\n",
      "['h', 'l', 'o', 'w', 'r', 'd']\n",
      "['d', 'l', 'r', 'o', 'w', ',', 'o', 'l', 'l', 'e', 'h']\n",
      "['w', 'o', 'r', 'l', 'd']\n",
      "['e', 'l', ',', 'o', 'l']\n",
      "['d', 'r', 'w']\n"
     ]
    }
   ],
   "source": [
    "#         0    1    2    3    4    5    6    7    8    9   10\n",
    "texts = ['h', 'e', 'l', 'l', 'o', ',', 'w', 'o', 'r', 'l', 'd']\n",
    "print(texts[:5])    #['h', 'e', 'l', 'l', 'o']\n",
    "print(texts[::2])   #['h', 'l', 'o', 'w', 'r', 'd']\n",
    "print(texts[::-1])  #['d', 'l', 'r', 'o', 'w', ',', 'o', 'l', 'l', 'e', 'h']\n",
    "print(texts[6:])\n",
    "print(texts[1::2])\n",
    "print(texts[:5:-2])"
   ]
  },
  {
   "cell_type": "markdown",
   "id": "37e693f3",
   "metadata": {},
   "source": [
    "---"
   ]
  },
  {
   "cell_type": "markdown",
   "id": "c16c1fdb",
   "metadata": {},
   "source": [
    "### **문제 1**\n",
    "\n",
    "아래 조건에 맞게 리스트를 선언하고 결과를 출력하세요.\n",
    "\n",
    "1. `fruits`라는 리스트에 다음 요소를 저장하세요.\n",
    "    - `'apple', 'banana', 'cherry'`.\n",
    "2. `print()`를 사용해 `fruits`의 첫 번째 요소와 세 번째 요소를 출력하세요."
   ]
  },
  {
   "cell_type": "code",
   "execution_count": 1,
   "id": "eeea3613",
   "metadata": {},
   "outputs": [
    {
     "name": "stdout",
     "output_type": "stream",
     "text": [
      "apple cherry\n"
     ]
    }
   ],
   "source": [
    "fruits = ['apple', 'banana', 'cherry']\n",
    "print(fruits[0], fruits[2])"
   ]
  },
  {
   "cell_type": "markdown",
   "id": "1b2dbfea",
   "metadata": {},
   "source": [
    "### **문제 2**\n",
    "\n",
    "다음 조건을 만족하는 리스트를 만드세요.\n",
    "\n",
    "1. `numbers`라는 리스트를 선언하고 숫자 `1`부터 `5`까지 저장하세요.\n",
    "2. 이 리스트의 **길이**를 출력하세요."
   ]
  },
  {
   "cell_type": "code",
   "execution_count": 2,
   "id": "7c28b79f",
   "metadata": {},
   "outputs": [
    {
     "name": "stdout",
     "output_type": "stream",
     "text": [
      "5\n"
     ]
    }
   ],
   "source": [
    "numbers = [1, 2, 3, 4, 5]\n",
    "print(len(numbers))"
   ]
  },
  {
   "cell_type": "markdown",
   "id": "1ac7c232",
   "metadata": {},
   "source": [
    "### **문제 3**\n",
    "\n",
    "다음 조건에 맞게 리스트를 조작하세요.\n",
    "\n",
    "1. `animals` 리스트에 `'cat', 'dog', 'bird'`를 저장하세요.\n",
    "2. 이 리스트의 마지막에 `'fish'`를 추가하고, 리스트를 출력하세요."
   ]
  },
  {
   "cell_type": "code",
   "execution_count": 3,
   "id": "db062cf4",
   "metadata": {},
   "outputs": [
    {
     "name": "stdout",
     "output_type": "stream",
     "text": [
      "['cat', 'dong', 'bird', 'fish']\n"
     ]
    }
   ],
   "source": [
    "animals = ['cat', 'dong', 'bird']\n",
    "animals.append('fish')\n",
    "print(animals)"
   ]
  },
  {
   "cell_type": "markdown",
   "id": "f77c5ced",
   "metadata": {},
   "source": [
    "### **문제 4**\n",
    "\n",
    "아래 조건에 맞는 프로그램을 작성하세요.\n",
    "\n",
    "1. `numbers` 리스트에 숫자 `3, 6, 9`를 저장하세요.\n",
    "2. 리스트의 첫 번째 요소를 **2배**로 만들어 다시 저장하고, 리스트를 출력하세요."
   ]
  },
  {
   "cell_type": "code",
   "execution_count": 4,
   "id": "e6ca969a",
   "metadata": {},
   "outputs": [
    {
     "name": "stdout",
     "output_type": "stream",
     "text": [
      "[6, 6, 9]\n"
     ]
    }
   ],
   "source": [
    "numbers = [3, 6, 9]\n",
    "\n",
    "temp = numbers[0] * 2\n",
    "\n",
    "numbers[0] = temp\n",
    "\n",
    "print(numbers)"
   ]
  },
  {
   "cell_type": "markdown",
   "id": "187b0ac2",
   "metadata": {},
   "source": [
    "### **문제 5**\n",
    "\n",
    "아래 문자열을 리스트로 변환하고 결과를 출력하세요.\n",
    "\n",
    "1. 문자열 `'Python-is-fun'`을 `'-'`를 기준으로 분리하여 리스트로 만드세요.\n",
    "2. 결과 리스트를 출력하세요."
   ]
  },
  {
   "cell_type": "code",
   "execution_count": 5,
   "id": "ba2f508e",
   "metadata": {},
   "outputs": [
    {
     "name": "stdout",
     "output_type": "stream",
     "text": [
      "['Python', 'is', 'fun']\n"
     ]
    }
   ],
   "source": [
    "my_str = 'Python-is-fun'\n",
    "my_list=  my_str.split('-')\n",
    "\n",
    "print(my_list)"
   ]
  },
  {
   "cell_type": "markdown",
   "id": "417c1fc9",
   "metadata": {},
   "source": [
    "### **문제 6**\n",
    "\n",
    "아래 조건에 맞게 리스트와 문자열을 활용하세요.\n",
    "\n",
    "1. 리스트 `words`에 `'Life', 'is', 'too', 'short'`를 저장하세요.\n",
    "2. 리스트의 요소를 공백으로 이어붙여 문자열 `'Life is too short'`를 출력하세요."
   ]
  },
  {
   "cell_type": "code",
   "execution_count": 6,
   "id": "7374bf69",
   "metadata": {},
   "outputs": [
    {
     "name": "stdout",
     "output_type": "stream",
     "text": [
      "Life is too short\n"
     ]
    }
   ],
   "source": [
    "words = ['Life', 'is', 'too', 'short']\n",
    "\n",
    "result = ' '.join(words)\n",
    "print(result)"
   ]
  },
  {
   "cell_type": "markdown",
   "id": "2f0154dd",
   "metadata": {},
   "source": [
    "### **문제 7**\n",
    "\n",
    "아래 조건에 맞게 리스트의 요소를 수정하세요.\n",
    "\n",
    "1. `colors` 리스트에 `'red', 'blue', 'green'`을 저장하세요.\n",
    "2. `'blue'`를 `'yellow'`로 변경하고 리스트를 출력하세요."
   ]
  },
  {
   "cell_type": "code",
   "execution_count": 7,
   "id": "987be966",
   "metadata": {},
   "outputs": [
    {
     "name": "stdout",
     "output_type": "stream",
     "text": [
      "['red', 'yellow', 'green']\n"
     ]
    }
   ],
   "source": [
    "colors = ['red', 'blue', 'green']\n",
    "\n",
    "colors[1] = 'yellow'\n",
    "\n",
    "print(colors)"
   ]
  },
  {
   "cell_type": "markdown",
   "id": "4905ea0e",
   "metadata": {},
   "source": [
    "### **문제 8**\n",
    "\n",
    "아래 조건에 맞는 프로그램을 작성하세요.\n",
    "\n",
    "1. 리스트 `numbers`에 숫자 `1, 2, 3, 4, 5`를 저장하세요.\n",
    "2. 슬라이싱을 이용하여 다음을 수행하세요:\n",
    "    - 리스트의 **처음 3개의 요소**를 출력하세요.\n",
    "    - 리스트의 **마지막 2개의 요소**를 출력하세요.\n",
    "    - 리스트의 **모든 요소를 역순**으로 출력하세요."
   ]
  },
  {
   "cell_type": "code",
   "execution_count": 8,
   "id": "7d2009c9",
   "metadata": {},
   "outputs": [
    {
     "name": "stdout",
     "output_type": "stream",
     "text": [
      "[1, 2, 3]\n",
      "[4, 5]\n",
      "[5, 4, 3, 2, 1]\n"
     ]
    }
   ],
   "source": [
    "numbers = [1, 2, 3, 4, 5]\n",
    "print(numbers[:3])\n",
    "print(numbers[-2:])\n",
    "print(numbers[::-1])"
   ]
  }
 ],
 "metadata": {
  "kernelspec": {
   "display_name": "pystudy_env",
   "language": "python",
   "name": "python3"
  },
  "language_info": {
   "codemirror_mode": {
    "name": "ipython",
    "version": 3
   },
   "file_extension": ".py",
   "mimetype": "text/x-python",
   "name": "python",
   "nbconvert_exporter": "python",
   "pygments_lexer": "ipython3",
   "version": "3.12.11"
  }
 },
 "nbformat": 4,
 "nbformat_minor": 5
}
