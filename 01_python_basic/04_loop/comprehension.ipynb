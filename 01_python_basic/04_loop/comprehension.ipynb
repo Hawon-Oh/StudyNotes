{
 "cells": [
  {
   "cell_type": "markdown",
   "id": "a1e0ef4d",
   "metadata": {},
   "source": [
    "### Comprehension"
   ]
  },
  {
   "cell_type": "code",
   "execution_count": 1,
   "id": "2db3180a",
   "metadata": {},
   "outputs": [],
   "source": [
    "li = [i for i in range(1, 11)]"
   ]
  },
  {
   "cell_type": "code",
   "execution_count": 5,
   "id": "7f867d2b",
   "metadata": {},
   "outputs": [
    {
     "data": {
      "text/plain": [
       "9"
      ]
     },
     "execution_count": 5,
     "metadata": {},
     "output_type": "execute_result"
    }
   ],
   "source": [
    "my_dic = {n: n ** 2 for n in range(1, 101) if n % 2 != 0}\n",
    "my_dic[3]"
   ]
  },
  {
   "cell_type": "markdown",
   "id": "1ebc3293",
   "metadata": {},
   "source": [
    "### filter 리턴값은 filter 클래스임. list, set, dict 등 변환시켜야 함"
   ]
  },
  {
   "cell_type": "code",
   "execution_count": 7,
   "id": "7cc9ae2a",
   "metadata": {},
   "outputs": [
    {
     "data": {
      "text/plain": [
       "[11, 12, 13, 14, 15, 16, 17, 18, 19]"
      ]
     },
     "execution_count": 7,
     "metadata": {},
     "output_type": "execute_result"
    }
   ],
   "source": [
    "filter_li = list(filter(lambda x: x > 10, range(20)))\n",
    "filter_li"
   ]
  },
  {
   "cell_type": "markdown",
   "id": "2f1ae65f",
   "metadata": {},
   "source": [
    "### 리스트, 세트, 딕셔너리는 global 값을 가지기에 함수인자로 전달 시 포인터임."
   ]
  },
  {
   "cell_type": "code",
   "execution_count": 9,
   "id": "67fb64ec",
   "metadata": {},
   "outputs": [
    {
     "name": "stdout",
     "output_type": "stream",
     "text": [
      "[1, 200, 3]\n"
     ]
    }
   ],
   "source": [
    "grade = {'a': 99, 'b':85}\n",
    "\n",
    "def func2(b):\n",
    "    b[1] *= 100\n",
    "\n",
    "b = [1, 2, 3]\n",
    "func2(b)\n",
    "print(b)"
   ]
  }
 ],
 "metadata": {
  "kernelspec": {
   "display_name": "pystudy_env",
   "language": "python",
   "name": "python3"
  },
  "language_info": {
   "codemirror_mode": {
    "name": "ipython",
    "version": 3
   },
   "file_extension": ".py",
   "mimetype": "text/x-python",
   "name": "python",
   "nbconvert_exporter": "python",
   "pygments_lexer": "ipython3",
   "version": "3.12.11"
  }
 },
 "nbformat": 4,
 "nbformat_minor": 5
}
