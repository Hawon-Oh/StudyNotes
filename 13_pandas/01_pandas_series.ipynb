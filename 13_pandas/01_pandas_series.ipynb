{
 "cells": [
  {
   "cell_type": "code",
   "execution_count": 10,
   "id": "b63f3c05",
   "metadata": {},
   "outputs": [],
   "source": [
    "import pandas as pd\n",
    "import numpy as np"
   ]
  },
  {
   "cell_type": "code",
   "execution_count": 14,
   "id": "4b05c737",
   "metadata": {},
   "outputs": [
    {
     "name": "stdout",
     "output_type": "stream",
     "text": [
      "0    NVDA\n",
      "1    MSFT\n",
      "2    APPL\n",
      "dtype: object <class 'pandas.core.series.Series'>\n",
      "NVDA\n",
      "\n",
      "0    NVDA\n",
      "1    MSFT\n",
      "2    APPL\n",
      "Name: 미국주식, dtype: object\n"
     ]
    }
   ],
   "source": [
    "stocks = ['NVDA', 'MSFT', 'APPL']\n",
    "stocks_ser = pd.Series(stocks)\n",
    "print(stocks_ser, type(stocks_ser))\n",
    "print(stocks_ser[0], end='\\n\\n')\n",
    "\n",
    "stocks_ser.name = '미국주식'\n",
    "print(stocks_ser)"
   ]
  },
  {
   "cell_type": "code",
   "execution_count": null,
   "id": "750b7866",
   "metadata": {},
   "outputs": [
    {
     "name": "stdout",
     "output_type": "stream",
     "text": [
      "a    0.243293\n",
      "b    0.335255\n",
      "c   -1.882823\n",
      "d   -2.180385\n",
      "e    1.335659\n",
      "dtype: float64\n",
      "-1.8828227185113582\n",
      "-1.8828227185113582 -1.8828227185113582\n"
     ]
    }
   ],
   "source": [
    "# ndarray 활용\n",
    "nums_ser = pd.Series(np.random.randn(5), index=['a', 'b', 'c', 'd', 'e'])\n",
    "print(nums_ser)\n",
    "print(nums_ser['c'])\n",
    "\n",
    "# iloc(integer location): 인덱스를 통해 참조\n",
    "# loc(location): 인덱스 라벨을 통해 참조\n",
    "print(nums_ser.iloc[2], nums_ser.loc['c'])\n",
    "\n",
    "\n",
    "\n",
    "# dictionary 활용\n",
    "\n",
    "\n",
    "# scalar 활용"
   ]
  }
 ],
 "metadata": {
  "kernelspec": {
   "display_name": "pystudy_env",
   "language": "python",
   "name": "pystudy_env"
  },
  "language_info": {
   "codemirror_mode": {
    "name": "ipython",
    "version": 3
   },
   "file_extension": ".py",
   "mimetype": "text/x-python",
   "name": "python",
   "nbconvert_exporter": "python",
   "pygments_lexer": "ipython3",
   "version": "3.12.11"
  }
 },
 "nbformat": 4,
 "nbformat_minor": 5
}
