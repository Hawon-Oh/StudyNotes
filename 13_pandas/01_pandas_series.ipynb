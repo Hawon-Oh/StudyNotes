{
 "cells": [
  {
   "cell_type": "code",
   "execution_count": 10,
   "id": "b63f3c05",
   "metadata": {},
   "outputs": [],
   "source": [
    "import pandas as pd\n",
    "import numpy as np"
   ]
  },
  {
   "cell_type": "code",
   "execution_count": 14,
   "id": "4b05c737",
   "metadata": {},
   "outputs": [
    {
     "name": "stdout",
     "output_type": "stream",
     "text": [
      "0    NVDA\n",
      "1    MSFT\n",
      "2    APPL\n",
      "dtype: object <class 'pandas.core.series.Series'>\n",
      "NVDA\n",
      "\n",
      "0    NVDA\n",
      "1    MSFT\n",
      "2    APPL\n",
      "Name: 미국주식, dtype: object\n"
     ]
    }
   ],
   "source": [
    "stocks = ['NVDA', 'MSFT', 'APPL']\n",
    "stocks_ser = pd.Series(stocks)\n",
    "print(stocks_ser, type(stocks_ser))\n",
    "print(stocks_ser[0], end='\\n\\n')\n",
    "\n",
    "stocks_ser.name = '미국주식'\n",
    "print(stocks_ser)"
   ]
  },
  {
   "cell_type": "code",
   "execution_count": null,
   "id": "750b7866",
   "metadata": {},
   "outputs": [
    {
     "name": "stdout",
     "output_type": "stream",
     "text": [
      "a   -1.337884\n",
      "b    0.596308\n",
      "c    0.076004\n",
      "d   -0.974229\n",
      "e    0.042896\n",
      "dtype: float64\n",
      "0.07600445966445063\n",
      "0.07600445966445063 0.07600445966445063 \n",
      "\n",
      "a    10\n",
      "b    20\n",
      "c    30\n",
      "dtype: int64\n",
      "30 30 \n",
      "\n"
     ]
    }
   ],
   "source": [
    "# ndarray 활용\n",
    "nums_ser = pd.Series(np.random.randn(5), index=['a', 'b', 'c', 'd', 'e'])\n",
    "print(nums_ser)\n",
    "print(nums_ser['c'])\n",
    "\n",
    "# iloc(integer location): 인덱스를 통해 참조\n",
    "# loc(location): 인덱스 라벨을 통해 참조\n",
    "print(nums_ser.iloc[2], nums_ser.loc['c'], '\\n')\n",
    "\n",
    "# dictionary 활용\n",
    "info = {'a': 10, 'b': 20, 'c': 30}\n",
    "info_ser = pd.Series(info)\n",
    "print(info_ser)\n",
    "print(info_ser.iloc[2], info_ser.loc['c'], '\\n')\n",
    "\n",
    "\n",
    "# scalar 활용"
   ]
  },
  {
   "cell_type": "code",
   "execution_count": null,
   "id": "46929b1a",
   "metadata": {},
   "outputs": [
    {
     "name": "stdout",
     "output_type": "stream",
     "text": [
      "True\n",
      "object\n",
      "0    NVDA\n",
      "1    MSFT\n",
      "Name: 미국주식, dtype: object\n",
      "1    MSFT\n",
      "2    APPL\n",
      "Name: 미국주식, dtype: object\n",
      "<class 'pandas.core.series.Series'>\n",
      "RangeIndex: 3 entries, 0 to 2\n",
      "Series name: 미국주식\n",
      "Non-Null Count  Dtype \n",
      "--------------  ----- \n",
      "3 non-null      object\n",
      "dtypes: object(1)\n",
      "memory usage: 156.0+ bytes\n",
      "\n",
      "info: None\n",
      "\n",
      "describle: count        3\n",
      "unique       3\n",
      "top       NVDA\n",
      "freq         1\n",
      "Name: 미국주식, dtype: object\n"
     ]
    }
   ],
   "source": [
    "# 값들이 모두 고유한지 (True: 고유함)\n",
    "print(stocks_ser.is_unique)\n",
    "print(stocks_ser.dtype)\n",
    "\n",
    "print(stocks_ser.head(2))\n",
    "print(stocks_ser.tail(2))\n",
    "\n",
    "print(\"\\ninfo:\",stocks_ser.info())\n",
    "print(\"\\ndescrible:\", stocks_ser.describe())"
   ]
  },
  {
   "cell_type": "markdown",
   "id": "cc7ef850",
   "metadata": {},
   "source": [
    "---\n",
    "##### Series 메서드\n"
   ]
  },
  {
   "cell_type": "code",
   "execution_count": 27,
   "id": "0efe1241",
   "metadata": {},
   "outputs": [
    {
     "name": "stdout",
     "output_type": "stream",
     "text": [
      "2090\n",
      "68890500\n",
      "418.0\n"
     ]
    }
   ],
   "source": [
    "nums_ser = pd.Series([2025, 9, 9, 12, 35])\n",
    "\n",
    "print(nums_ser.sum())\n",
    "print(nums_ser.product())\n",
    "print(nums_ser.mean())"
   ]
  },
  {
   "cell_type": "code",
   "execution_count": null,
   "id": "6b7a83c8",
   "metadata": {},
   "outputs": [],
   "source": [
    "# print(nums_ser.iloc[1], nums_ser.loc[1])\n",
    "\n",
    "nums_ser.index = list(\"abcd\")"
   ]
  }
 ],
 "metadata": {
  "kernelspec": {
   "display_name": "pystudy_env",
   "language": "python",
   "name": "pystudy_env"
  },
  "language_info": {
   "codemirror_mode": {
    "name": "ipython",
    "version": 3
   },
   "file_extension": ".py",
   "mimetype": "text/x-python",
   "name": "python",
   "nbconvert_exporter": "python",
   "pygments_lexer": "ipython3",
   "version": "3.12.11"
  }
 },
 "nbformat": 4,
 "nbformat_minor": 5
}
