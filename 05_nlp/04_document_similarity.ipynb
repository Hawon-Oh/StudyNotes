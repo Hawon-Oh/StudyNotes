{
 "cells": [
  {
   "cell_type": "markdown",
   "id": "35159bc9",
   "metadata": {},
   "source": [
    "# 문서 유사도"
   ]
  },
  {
   "cell_type": "code",
   "execution_count": 2,
   "id": "af1bf345",
   "metadata": {},
   "outputs": [
    {
     "data": {
      "text/html": [
       "<div>\n",
       "<style scoped>\n",
       "    .dataframe tbody tr th:only-of-type {\n",
       "        vertical-align: middle;\n",
       "    }\n",
       "\n",
       "    .dataframe tbody tr th {\n",
       "        vertical-align: top;\n",
       "    }\n",
       "\n",
       "    .dataframe thead th {\n",
       "        text-align: right;\n",
       "    }\n",
       "</style>\n",
       "<table border=\"1\" class=\"dataframe\">\n",
       "  <thead>\n",
       "    <tr style=\"text-align: right;\">\n",
       "      <th></th>\n",
       "      <th>filename</th>\n",
       "      <th>opinion</th>\n",
       "    </tr>\n",
       "  </thead>\n",
       "  <tbody>\n",
       "    <tr>\n",
       "      <th>0</th>\n",
       "      <td>accuracy_garmin_nuvi_255W_gps</td>\n",
       "      <td>...</td>\n",
       "    </tr>\n",
       "    <tr>\n",
       "      <th>1</th>\n",
       "      <td>bathroom_bestwestern_hotel_sfo</td>\n",
       "      <td>...</td>\n",
       "    </tr>\n",
       "  </tbody>\n",
       "</table>\n",
       "</div>"
      ],
      "text/plain": [
       "                         filename  \\\n",
       "0   accuracy_garmin_nuvi_255W_gps   \n",
       "1  bathroom_bestwestern_hotel_sfo   \n",
       "\n",
       "                                             opinion  \n",
       "0                                                ...  \n",
       "1                                                ...  "
      ]
     },
     "execution_count": 2,
     "metadata": {},
     "output_type": "execute_result"
    }
   ],
   "source": [
    "# glob 패키지: 파일/디렉토리 검색에 와일드 카드 사용 가능\n",
    "\n",
    "import os, sys, glob, warnings, random, json\n",
    "import numpy as np, pandas as pd\n",
    "import matplotlib.pyplot as plt, seaborn as sns\n",
    "from sklearn.model_selection import train_test_split\n",
    "warnings.filterwarnings('ignore')\n",
    "\n",
    "path = 'C:\\\\SKN_19\\\\StudyNotes\\\\05_nlp\\\\01_text_analysis\\\\data\\\\OpinosisDataset1.0\\\\topics'\n",
    "all_files = glob.glob(os.path.join(path, '*.data'))\n",
    "\n",
    "filename_list = []\n",
    "opinion_list = []\n",
    "\n",
    "for file_ in all_files:\n",
    "    df = pd.read_table(file_, header=None, index_col=None, encoding='latin1')\n",
    "    # display(df) # df를 print하기\n",
    "\n",
    "    filename = file_.split('\\\\')[-1]\n",
    "    filename = filename.split('.')[0]\n",
    "    filename_list.append(filename)\n",
    "\n",
    "    opinions = df.to_string(index=False, header=False)\n",
    "    opinion_list.append(opinions)\n",
    "\n",
    "\n",
    "\n",
    "document_df = pd.DataFrame({\n",
    "    'filename': filename_list,\n",
    "    'opinion': opinion_list\n",
    "})\n",
    "\n",
    "document_df[:2]"
   ]
  },
  {
   "cell_type": "code",
   "execution_count": 3,
   "id": "7c801dac",
   "metadata": {},
   "outputs": [],
   "source": [
    "import string\n",
    "import nltk\n",
    "from nltk.stem import WordNetLemmatizer \n",
    "\n",
    "def lemmatize(text):\n",
    "    text = text.lower()\n",
    "\n",
    "    # 특수문자제거\n",
    "    punc_rem_dict = dict((ord(ch), None) for ch in string.punctuation)\n",
    "    text = text.translate(punc_rem_dict)\n",
    "\n",
    "    # 토큰\n",
    "    tokens = nltk.word_tokenize(text)\n",
    "    \n",
    "    # 어근분리\n",
    "    lemmatizer = WordNetLemmatizer()\n",
    "    return [lemmatizer.lemmatize(token, pos='v') for token in tokens]"
   ]
  }
 ],
 "metadata": {
  "kernelspec": {
   "display_name": "ml_env",
   "language": "python",
   "name": "python3"
  },
  "language_info": {
   "codemirror_mode": {
    "name": "ipython",
    "version": 3
   },
   "file_extension": ".py",
   "mimetype": "text/x-python",
   "name": "python",
   "nbconvert_exporter": "python",
   "pygments_lexer": "ipython3",
   "version": "3.12.11"
  }
 },
 "nbformat": 4,
 "nbformat_minor": 5
}
