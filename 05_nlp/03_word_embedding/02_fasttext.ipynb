{
 "cells": [
  {
   "cell_type": "markdown",
   "id": "fd278939",
   "metadata": {},
   "source": [
    "# FastText\n",
    "### gensim FastText"
   ]
  },
  {
   "cell_type": "code",
   "execution_count": 2,
   "id": "c864a41f",
   "metadata": {},
   "outputs": [
    {
     "data": {
      "text/plain": [
       "[['two', 'reasons', 'companies', 'fail', 'new'],\n",
       " ['real',\n",
       "  'real',\n",
       "  'solution',\n",
       "  'quality',\n",
       "  'growth',\n",
       "  'figuring',\n",
       "  'balance',\n",
       "  'two',\n",
       "  'activities',\n",
       "  'exploration',\n",
       "  'exploitation'],\n",
       " ['necessary', 'much', 'good', 'thing'],\n",
       " ['consider', 'facit'],\n",
       " ['actually', 'old', 'enough', 'remember']]"
      ]
     },
     "execution_count": 2,
     "metadata": {},
     "output_type": "execute_result"
    }
   ],
   "source": [
    "from gensim.models import FastText\n",
    "from lxml import etree\n",
    "import re\n",
    "from nltk.tokenize import word_tokenize, sent_tokenize\n",
    "from nltk.corpus import stopwords\n",
    "import pandas as pd\n",
    "\n",
    "\n",
    "f = open('ted_en.html', 'r', encoding='UTF-8')\n",
    "xml = etree.parse(f)\n",
    "\n",
    "contents = xml.xpath('//content/text()')  # content 태그 하위 텍스트\n",
    "\n",
    "corpus = '\\n'.join(contents)\n",
    "corpus = re.sub(r'\\([^)]*\\)', '', corpus)\n",
    "\n",
    "\n",
    "# 데이터 전처리\n",
    "sentences = sent_tokenize(corpus)\n",
    "\n",
    "preproccessed_sentences = []\n",
    "en_stopwords = stopwords.words('english')\n",
    "\n",
    "for sentence in sentences:\n",
    "    sentence = sentence.lower()\n",
    "    sentence = re.sub(r'[^a-z0-9]', ' ', sentence)\n",
    "    tokens = word_tokenize(sentence)\n",
    "    tokens = [token for token in tokens if token not in en_stopwords]\n",
    "    preproccessed_sentences.append(tokens)\n",
    "\n",
    "preproccessed_sentences[:5]"
   ]
  },
  {
   "cell_type": "code",
   "execution_count": 3,
   "id": "71d1e06e",
   "metadata": {},
   "outputs": [],
   "source": [
    "from gensim.models import Word2Vec\n",
    "\n",
    "w2v_model = Word2Vec(\n",
    "    sentences=preproccessed_sentences,\n",
    "    vector_size=100,\n",
    "    window=5,\n",
    "    min_count=5,\n",
    "    sg=0\n",
    ")"
   ]
  },
  {
   "cell_type": "code",
   "execution_count": 6,
   "id": "78825086",
   "metadata": {},
   "outputs": [
    {
     "data": {
      "text/plain": [
       "[('son', 0.9311527013778687),\n",
       " ('daughter', 0.9271724224090576),\n",
       " ('mother', 0.9189014434814453),\n",
       " ('husband', 0.9019051790237427),\n",
       " ('grandmother', 0.8831444382667542),\n",
       " ('sister', 0.8798815011978149),\n",
       " ('uncle', 0.8637211918830872),\n",
       " ('brother', 0.8561804890632629),\n",
       " ('wife', 0.8499019742012024),\n",
       " ('woman', 0.844679594039917)]"
      ]
     },
     "execution_count": 6,
     "metadata": {},
     "output_type": "execute_result"
    }
   ],
   "source": [
    "w2v_model.wv.most_similar('father')"
   ]
  },
  {
   "cell_type": "code",
   "execution_count": 7,
   "id": "04c039e2",
   "metadata": {},
   "outputs": [],
   "source": [
    "# FastText\n",
    "from gensim.models import FastText\n",
    "\n",
    "fasttext_model = FastText(\n",
    "    sentences=preproccessed_sentences,\n",
    "    vector_size=100,\n",
    "    window=5,\n",
    "    min_count=5,\n",
    "    sg=0\n",
    ")"
   ]
  },
  {
   "cell_type": "code",
   "execution_count": 8,
   "id": "08a7271c",
   "metadata": {},
   "outputs": [
    {
     "data": {
      "text/plain": [
       "(21462, 100)"
      ]
     },
     "execution_count": 8,
     "metadata": {},
     "output_type": "execute_result"
    }
   ],
   "source": [
    "fasttext_model.wv.vectors.shape"
   ]
  },
  {
   "cell_type": "code",
   "execution_count": 9,
   "id": "12d58d3b",
   "metadata": {},
   "outputs": [
    {
     "data": {
      "text/plain": [
       "[('father', 0.9787582755088806),\n",
       " ('godfather', 0.9622250199317932),\n",
       " ('mother', 0.9383252859115601),\n",
       " ('brother', 0.9338799118995667),\n",
       " ('luther', 0.9256462454795837),\n",
       " ('grandmother', 0.9255003333091736),\n",
       " ('grandfather', 0.9219809770584106),\n",
       " ('bother', 0.8996124267578125),\n",
       " ('stepfather', 0.8737663626670837),\n",
       " ('brotherhood', 0.8726789355278015)]"
      ]
     },
     "execution_count": 9,
     "metadata": {},
     "output_type": "execute_result"
    }
   ],
   "source": [
    "fasttext_model.wv.most_similar('luckfather')"
   ]
  },
  {
   "cell_type": "code",
   "execution_count": null,
   "id": "84ac91bf",
   "metadata": {},
   "outputs": [
    {
     "data": {
      "text/plain": [
       "array([-0.00435355, -0.19239773, -0.9591016 ,  0.60312265,  0.27853677,\n",
       "        0.65898365, -0.53829336, -0.4239904 ,  0.06130924, -0.5432574 ,\n",
       "       -0.19542618, -0.14203654, -0.6559396 ,  0.44387975, -0.24078543,\n",
       "       -0.5027261 ,  0.2892029 ,  0.5050819 , -0.3922116 , -0.03830767,\n",
       "       -0.8758747 , -0.3447297 , -0.01292272, -1.0039045 , -0.7033096 ,\n",
       "       -0.28405416, -0.3285029 , -0.14902799,  0.20688294, -0.51590437,\n",
       "       -0.19561385, -0.5297332 ,  0.8434243 ,  0.14225876,  0.12574255,\n",
       "        0.58557487, -0.13509737,  0.34640375,  0.17502932,  0.30049413,\n",
       "        0.0010323 , -0.04269621, -0.13947922,  0.02312589,  0.03471731,\n",
       "        0.7827536 ,  0.4271827 , -0.5853342 ,  0.3192728 ,  0.3796591 ,\n",
       "        0.14098614,  0.17856492,  0.49919954,  0.02183352,  0.3838371 ,\n",
       "        0.3334266 , -0.42449188,  0.8130109 , -0.16829751,  0.10042821,\n",
       "        0.12531057, -0.09160309, -0.6052474 ,  0.29532406, -0.17521892,\n",
       "        0.02808599, -0.44232944, -0.8128552 ,  0.45221773, -0.05207601,\n",
       "       -0.14388262,  0.20627639, -0.2603012 , -0.2282434 ,  0.39580977,\n",
       "        0.28227302,  0.27613306, -0.02829943, -0.7730898 ,  0.18748653,\n",
       "       -0.0766778 , -0.10887865, -0.33278382,  0.5208116 , -0.37465674,\n",
       "        0.584028  , -0.02713734, -0.05525339,  0.43465033,  0.3160414 ,\n",
       "       -0.47232786,  0.45244777,  0.3358582 , -0.4289777 , -0.3173534 ,\n",
       "        0.6518021 , -0.19994113,  0.22563006, -0.29135233, -0.48181853],\n",
       "      dtype=float32)"
      ]
     },
     "execution_count": 11,
     "metadata": {},
     "output_type": "execute_result"
    }
   ],
   "source": [
    "# OOV(out of vocab) 단어도 subword 기반으로 검색해 vector 변환\n",
    "fasttext_model.wv['luckfather']"
   ]
  },
  {
   "cell_type": "code",
   "execution_count": 14,
   "id": "cdd07585",
   "metadata": {},
   "outputs": [
    {
     "name": "stdout",
     "output_type": "stream",
     "text": [
      "Collecting fasttext\n",
      "  Using cached fasttext-0.9.3.tar.gz (73 kB)\n",
      "  Installing build dependencies: started\n",
      "  Installing build dependencies: finished with status 'done'\n",
      "  Getting requirements to build wheel: started\n",
      "  Getting requirements to build wheel: finished with status 'done'\n",
      "  Preparing metadata (pyproject.toml): started\n",
      "  Preparing metadata (pyproject.toml): finished with status 'done'\n",
      "Collecting pybind11>=2.2 (from fasttext)\n",
      "  Using cached pybind11-3.0.1-py3-none-any.whl.metadata (10.0 kB)\n",
      "Requirement already satisfied: setuptools>=0.7.0 in c:\\users\\playdata\\anaconda3\\envs\\ml_env\\lib\\site-packages (from fasttext) (78.1.1)\n",
      "Requirement already satisfied: numpy in c:\\users\\playdata\\anaconda3\\envs\\ml_env\\lib\\site-packages (from fasttext) (2.3.3)\n",
      "Using cached pybind11-3.0.1-py3-none-any.whl (293 kB)\n",
      "Building wheels for collected packages: fasttext\n",
      "  Building wheel for fasttext (pyproject.toml): started\n",
      "  Building wheel for fasttext (pyproject.toml): finished with status 'error'\n",
      "Failed to build fasttext\n"
     ]
    },
    {
     "name": "stderr",
     "output_type": "stream",
     "text": [
      "  error: subprocess-exited-with-error\n",
      "  \n",
      "  × Building wheel for fasttext (pyproject.toml) did not run successfully.\n",
      "  │ exit code: 1\n",
      "  ╰─> [45 lines of output]\n",
      "      C:\\Users\\Playdata\\AppData\\Local\\Temp\\pip-build-env-h4r1kyjv\\overlay\\Lib\\site-packages\\setuptools\\dist.py:599: SetuptoolsDeprecationWarning: Invalid dash-separated key 'description-file' in 'metadata' (setup.cfg), please use the underscore name 'description_file' instead.\n",
      "      !!\n",
      "      \n",
      "              ********************************************************************************\n",
      "              Usage of dash-separated 'description-file' will not be supported in future\n",
      "              versions. Please use the underscore name 'description_file' instead.\n",
      "              (Affected: fasttext).\n",
      "      \n",
      "              By 2026-Mar-03, you need to update your project and remove deprecated calls\n",
      "              or your builds will no longer be supported.\n",
      "      \n",
      "              See https://setuptools.pypa.io/en/latest/userguide/declarative_config.html for details.\n",
      "              ********************************************************************************\n",
      "      \n",
      "      !!\n",
      "        opt = self._enforce_underscore(opt, section)\n",
      "      C:\\Users\\Playdata\\AppData\\Local\\Temp\\pip-build-env-h4r1kyjv\\overlay\\Lib\\site-packages\\setuptools\\dist.py:759: SetuptoolsDeprecationWarning: License classifiers are deprecated.\n",
      "      !!\n",
      "      \n",
      "              ********************************************************************************\n",
      "              Please consider removing the following classifiers in favor of a SPDX license expression:\n",
      "      \n",
      "              License :: OSI Approved :: MIT License\n",
      "      \n",
      "              See https://packaging.python.org/en/latest/guides/writing-pyproject-toml/#license for details.\n",
      "              ********************************************************************************\n",
      "      \n",
      "      !!\n",
      "        self._finalize_license_expression()\n",
      "      running bdist_wheel\n",
      "      running build\n",
      "      running build_py\n",
      "      creating build\\lib.win-amd64-cpython-312\\fasttext\n",
      "      copying python\\fasttext_module\\fasttext\\FastText.py -> build\\lib.win-amd64-cpython-312\\fasttext\n",
      "      copying python\\fasttext_module\\fasttext\\__init__.py -> build\\lib.win-amd64-cpython-312\\fasttext\n",
      "      creating build\\lib.win-amd64-cpython-312\\fasttext\\util\n",
      "      copying python\\fasttext_module\\fasttext\\util\\util.py -> build\\lib.win-amd64-cpython-312\\fasttext\\util\n",
      "      copying python\\fasttext_module\\fasttext\\util\\__init__.py -> build\\lib.win-amd64-cpython-312\\fasttext\\util\n",
      "      creating build\\lib.win-amd64-cpython-312\\fasttext\\tests\n",
      "      copying python\\fasttext_module\\fasttext\\tests\\test_configurations.py -> build\\lib.win-amd64-cpython-312\\fasttext\\tests\n",
      "      copying python\\fasttext_module\\fasttext\\tests\\test_script.py -> build\\lib.win-amd64-cpython-312\\fasttext\\tests\n",
      "      copying python\\fasttext_module\\fasttext\\tests\\__init__.py -> build\\lib.win-amd64-cpython-312\\fasttext\\tests\n",
      "      running build_ext\n",
      "      building 'fasttext_pybind' extension\n",
      "      error: Microsoft Visual C++ 14.0 or greater is required. Get it with \"Microsoft C++ Build Tools\": https://visualstudio.microsoft.com/visual-cpp-build-tools/\n",
      "      [end of output]\n",
      "  \n",
      "  note: This error originates from a subprocess, and is likely not a problem with pip.\n",
      "  ERROR: Failed building wheel for fasttext\n",
      "error: failed-wheel-build-for-install\n",
      "\n",
      "× Failed to build installable wheels for some pyproject.toml based projects\n",
      "╰─> fasttext\n"
     ]
    }
   ],
   "source": [
    "!pip install fasttext"
   ]
  },
  {
   "cell_type": "code",
   "execution_count": 16,
   "id": "0dc64c37",
   "metadata": {},
   "outputs": [
    {
     "ename": "ModuleNotFoundError",
     "evalue": "No module named 'fasttext'",
     "output_type": "error",
     "traceback": [
      "\u001b[31m---------------------------------------------------------------------------\u001b[39m",
      "\u001b[31mModuleNotFoundError\u001b[39m                       Traceback (most recent call last)",
      "\u001b[36mCell\u001b[39m\u001b[36m \u001b[39m\u001b[32mIn[16]\u001b[39m\u001b[32m, line 1\u001b[39m\n\u001b[32m----> \u001b[39m\u001b[32m1\u001b[39m \u001b[38;5;28;01mimport\u001b[39;00m\u001b[38;5;250m \u001b[39m\u001b[34;01mfasttext\u001b[39;00m\n\u001b[32m      3\u001b[39m model = fasttext.train_unsupervised(\n\u001b[32m      4\u001b[39m     \u001b[33m'\u001b[39m\u001b[33mnaver_movie_ratings.txt\u001b[39m\u001b[33m'\u001b[39m,\n\u001b[32m      5\u001b[39m     model=\u001b[33m'\u001b[39m\u001b[33mskipgram\u001b[39m\u001b[33m'\u001b[39m,\n\u001b[32m   (...)\u001b[39m\u001b[32m      9\u001b[39m     maxn=\u001b[32m5\u001b[39m\n\u001b[32m     10\u001b[39m )\n",
      "\u001b[31mModuleNotFoundError\u001b[39m: No module named 'fasttext'"
     ]
    }
   ],
   "source": [
    "import fasttext\n",
    "\n",
    "model = fasttext.train_unsupervised(\n",
    "    'naver_movie_ratings.txt',\n",
    "    model='skipgram',\n",
    "    minCount=1,\n",
    "    dim=100,\n",
    "    minn=3,\n",
    "    maxn=5\n",
    ")"
   ]
  },
  {
   "cell_type": "code",
   "execution_count": null,
   "id": "982fb86b",
   "metadata": {},
   "outputs": [],
   "source": [
    "model.get_word_vector('극장')"
   ]
  },
  {
   "cell_type": "code",
   "execution_count": null,
   "id": "4f462f2a",
   "metadata": {},
   "outputs": [],
   "source": [
    "model.get_subwords('영화관')"
   ]
  }
 ],
 "metadata": {
  "kernelspec": {
   "display_name": "ml_env",
   "language": "python",
   "name": "python3"
  },
  "language_info": {
   "codemirror_mode": {
    "name": "ipython",
    "version": 3
   },
   "file_extension": ".py",
   "mimetype": "text/x-python",
   "name": "python",
   "nbconvert_exporter": "python",
   "pygments_lexer": "ipython3",
   "version": "3.12.11"
  }
 },
 "nbformat": 4,
 "nbformat_minor": 5
}
