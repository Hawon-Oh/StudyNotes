{
 "cells": [
  {
   "cell_type": "markdown",
   "id": "0afa7302",
   "metadata": {},
   "source": [
    "# 코사인 유사도"
   ]
  },
  {
   "cell_type": "code",
   "execution_count": null,
   "id": "b78f3a3c",
   "metadata": {},
   "outputs": [
    {
     "name": "stdout",
     "output_type": "stream",
     "text": [
      "(3, 18)\n",
      "[('blue', 0), ('deep', 1), ('ends', 2), ('goes', 3), ('hole', 4), ('how', 5), ('if', 6), ('in', 7), ('pill', 8), ('rabbit', 9), ('red', 10), ('show', 11), ('stay', 12), ('story', 13), ('take', 14), ('the', 15), ('wonderland', 16), ('you', 17)]\n"
     ]
    },
    {
     "data": {
      "text/plain": [
       "array([[1.        , 0.40207758, 0.40425045]])"
      ]
     },
     "execution_count": 7,
     "metadata": {},
     "output_type": "execute_result"
    }
   ],
   "source": [
    "from sklearn.feature_extraction.text import TfidfVectorizer\n",
    "from sklearn.metrics.pairwise import cosine_similarity\n",
    "\n",
    "doc_list = [\n",
    "    'if you take the blue pill, the story ends' ,\n",
    "    'if you take the red pill, you stay in Wonderland',\n",
    "    'if you take the red pill, I show you how deep the rabbit hole goes'\n",
    "]\n",
    "\n",
    "tfid_vectorizer = TfidfVectorizer()\n",
    "doc_vecs = tfid_vectorizer.fit_transform(doc_list)\n",
    "print(doc_vecs.shape)\n",
    "print(sorted(tfid_vectorizer.vocabulary_.items(), key=lambda x: x[-1]))\n",
    "\n",
    "doc_arr = doc_vecs.toarray()\n",
    "\n",
    "# 코사인 유사도 게산\n",
    "cosine_similarity(doc_arr[0:1], doc_arr) # 첫번째 문장과 전체문장 비교"
   ]
  },
  {
   "cell_type": "code",
   "execution_count": 5,
   "id": "926ab71a",
   "metadata": {},
   "outputs": [
    {
     "name": "stdout",
     "output_type": "stream",
     "text": [
      "<Compressed Sparse Row sparse matrix of dtype 'float64'\n",
      "\twith 29 stored elements and shape (3, 18)>\n",
      "  Coords\tValues\n",
      "  (0, 6)\t0.24543855687841593\n",
      "  (0, 17)\t0.24543855687841593\n",
      "  (0, 14)\t0.24543855687841593\n",
      "  (0, 15)\t0.49087711375683185\n",
      "  (0, 0)\t0.41556360057939173\n",
      "  (0, 8)\t0.24543855687841593\n",
      "  (0, 13)\t0.41556360057939173\n",
      "  (0, 2)\t0.41556360057939173\n",
      "  (1, 6)\t0.2340286519091622\n",
      "  (1, 17)\t0.4680573038183244\n",
      "  (1, 14)\t0.2340286519091622\n",
      "  (1, 15)\t0.2340286519091622\n",
      "  (1, 8)\t0.2340286519091622\n",
      "  (1, 10)\t0.3013544995034864\n",
      "  (1, 12)\t0.39624495215024286\n",
      "  (1, 7)\t0.39624495215024286\n",
      "  (1, 16)\t0.39624495215024286\n",
      "  (2, 6)\t0.18300595060934663\n",
      "  (2, 17)\t0.36601190121869326\n",
      "  (2, 14)\t0.18300595060934663\n",
      "  (2, 15)\t0.36601190121869326\n",
      "  (2, 8)\t0.18300595060934663\n",
      "  (2, 10)\t0.23565348175165168\n",
      "  (2, 11)\t0.30985600929990786\n",
      "  (2, 5)\t0.30985600929990786\n",
      "  (2, 1)\t0.30985600929990786\n",
      "  (2, 9)\t0.30985600929990786\n",
      "  (2, 4)\t0.30985600929990786\n",
      "  (2, 3)\t0.30985600929990786\n"
     ]
    }
   ],
   "source": [
    "print(doc_vecs)"
   ]
  }
 ],
 "metadata": {
  "kernelspec": {
   "display_name": "ml_env",
   "language": "python",
   "name": "python3"
  },
  "language_info": {
   "codemirror_mode": {
    "name": "ipython",
    "version": 3
   },
   "file_extension": ".py",
   "mimetype": "text/x-python",
   "name": "python",
   "nbconvert_exporter": "python",
   "pygments_lexer": "ipython3",
   "version": "3.12.11"
  }
 },
 "nbformat": 4,
 "nbformat_minor": 5
}
