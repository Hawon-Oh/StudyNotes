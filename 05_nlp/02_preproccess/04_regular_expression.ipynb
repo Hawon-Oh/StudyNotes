{
 "cells": [
  {
   "cell_type": "markdown",
   "id": "10cf5353",
   "metadata": {},
   "source": [
    "# 정규표현식 Regular expression\n",
    "- 특정 규칙의 문자열을 찾기위한 패턴 (효율적으로 추출, 삭제, 대체 가능)"
   ]
  },
  {
   "cell_type": "markdown",
   "id": "58e9d76b",
   "metadata": {},
   "source": [
    "**정규 표현식 기본 문법**\n",
    "\n",
    "| 특수 문자 | 설명 | 예시 |\n",
    "|---|---|---|\n",
    "| . | 임의의 한 문자 | `a.c` : `abc`, `a1c` 등과 매치 |\n",
    "| ? | 앞 문자가 0개 또는 1개 있을 때 매치 | `ab?c` : `abc`, `ac`와 매치 |\n",
    "| * | 앞 문자가 0개 이상 있을 때 매치 | `ab*c` : `ac`, `abc`, `abbc` |\n",
    "| + | 앞 문자가 1개 이상 있을 때 매치 | `ab+c` : `abc`, `abbc` |\n",
    "| ^ | 문자열이 특정 문자로 시작할 때 매치 | `^abc` : `abcde`, `abc`와 매치 |\n",
    "| $ | 문자열이 특정 문자로 끝날 때 매치 | `abc$` : `deabc`, `abc`와 매치 |\n",
    "| {n} | 문자가 정확히 n번 반복될 때 매치 | `a{2}b` : `aab`와 매치 |\n",
    "| {n,m} | 문자가 n번 이상 m번 이하 반복될 때 매치 | `a{2,4}b` : `aab`, `aaab`, `aaaab` |\n",
    "| [ ] | 대괄호 안의 문자 중 하나와 매치 | `[abc]` : `a`, `b`, `c` |\n",
    "| [^ ] | 대괄호 안의 문자 제외하고 매치 | `[^abc]` : `d`, `e`, `1` |\n",
    "| \\| | OR 연산자로 둘 중 하나와 매치 | `a\\|b` : `a` 또는 `b` |"
   ]
  },
  {
   "cell_type": "markdown",
   "id": "843e82aa",
   "metadata": {},
   "source": [
    "### Syntax"
   ]
  },
  {
   "cell_type": "markdown",
   "id": "1abd817e",
   "metadata": {},
   "source": [
    "##### ."
   ]
  },
  {
   "cell_type": "code",
   "execution_count": 2,
   "id": "a76e5c5f",
   "metadata": {},
   "outputs": [
    {
     "name": "stdout",
     "output_type": "stream",
     "text": [
      "None\n",
      "<re.Match object; span=(0, 3), match='aXc'>\n",
      "<re.Match object; span=(0, 3), match='a c'>\n",
      "None\n",
      "None\n"
     ]
    }
   ],
   "source": [
    "import re\n",
    "\n",
    "# shift + alt + bottom arrow\n",
    "reg_exp = re.compile('a.c')\n",
    "print(reg_exp.search('abbbbbbbbbbc'))\n",
    "print(reg_exp.search('aXc'))\n",
    "print(reg_exp.search('a c'))\n",
    "print(reg_exp.search('ac'))\n",
    "print(reg_exp.search('bc'))"
   ]
  },
  {
   "cell_type": "code",
   "execution_count": 4,
   "id": "12265b09",
   "metadata": {},
   "outputs": [
    {
     "name": "stdout",
     "output_type": "stream",
     "text": [
      "<re.Match object; span=(0, 2), match='ac'>\n",
      "None\n",
      "<re.Match object; span=(0, 3), match='abc'>\n",
      "None\n",
      "None\n"
     ]
    }
   ],
   "source": [
    "reg_exp = re.compile('ab*c')\n",
    "print(reg_exp.search('ac'))\n",
    "print(reg_exp.search('ab'))\n",
    "print(reg_exp.search('abc'))\n",
    "print(reg_exp.search('adc'))\n",
    "print(reg_exp.search('bbbbc'))"
   ]
  },
  {
   "cell_type": "code",
   "execution_count": 6,
   "id": "63fcb426",
   "metadata": {},
   "outputs": [
    {
     "name": "stdout",
     "output_type": "stream",
     "text": [
      "<re.Match object; span=(0, 2), match='ac'>\n",
      "None\n",
      "<re.Match object; span=(0, 3), match='abc'>\n",
      "None\n",
      "None\n"
     ]
    }
   ],
   "source": [
    "reg_exp = re.compile('ab?c')\n",
    "print(reg_exp.search('ac'))\n",
    "print(reg_exp.search('ab'))\n",
    "print(reg_exp.search('abc'))\n",
    "print(reg_exp.search('adc'))\n",
    "print(reg_exp.search('abbbbc'))"
   ]
  },
  {
   "cell_type": "code",
   "execution_count": 7,
   "id": "e781fa66",
   "metadata": {},
   "outputs": [
    {
     "name": "stdout",
     "output_type": "stream",
     "text": [
      "None\n",
      "None\n",
      "<re.Match object; span=(0, 3), match='abc'>\n",
      "None\n",
      "<re.Match object; span=(0, 6), match='abbbbc'>\n"
     ]
    }
   ],
   "source": [
    "reg_exp = re.compile('ab+c')\n",
    "print(reg_exp.search('ac'))\n",
    "print(reg_exp.search('ab'))\n",
    "print(reg_exp.search('abc'))\n",
    "print(reg_exp.search('adc'))\n",
    "print(reg_exp.search('abbbbc'))"
   ]
  },
  {
   "cell_type": "code",
   "execution_count": 14,
   "id": "99681682",
   "metadata": {},
   "outputs": [
    {
     "name": "stdout",
     "output_type": "stream",
     "text": [
      "None\n",
      "None\n",
      "None\n",
      "None\n",
      "None\n"
     ]
    }
   ],
   "source": [
    "reg_exp = re.compile('ab{1, 3}c') # min max\n",
    "print(reg_exp.search('ac'))\n",
    "print(reg_exp.search('abc'))\n",
    "print(reg_exp.search('abbc'))\n",
    "print(reg_exp.search('abbbbc'))\n",
    "print(reg_exp.search('abbbbc'))"
   ]
  },
  {
   "cell_type": "code",
   "execution_count": 17,
   "id": "68197aac",
   "metadata": {},
   "outputs": [
    {
     "name": "stdout",
     "output_type": "stream",
     "text": [
      "<re.Match object; span=(12, 15), match='atc'>\n"
     ]
    }
   ],
   "source": [
    "reg_exp = re.compile('a.c')\n",
    "text = 'aweacsacracdatcfacgauahabccaaiaycatbcarcadfaaaecaccarcaecacaabccad '\n",
    "print(reg_exp.search(text))\n"
   ]
  },
  {
   "cell_type": "code",
   "execution_count": 18,
   "id": "c214b8d4",
   "metadata": {},
   "outputs": [
    {
     "name": "stdout",
     "output_type": "stream",
     "text": [
      "<re.Match object; span=(12, 15), match='atc'>\n",
      "<re.Match object; span=(23, 26), match='abc'>\n",
      "<re.Match object; span=(30, 33), match='ayc'>\n",
      "<re.Match object; span=(37, 40), match='arc'>\n",
      "<re.Match object; span=(45, 48), match='aec'>\n",
      "<re.Match object; span=(48, 51), match='acc'>\n",
      "<re.Match object; span=(51, 54), match='arc'>\n",
      "<re.Match object; span=(54, 57), match='aec'>\n",
      "<re.Match object; span=(60, 63), match='abc'>\n"
     ]
    }
   ],
   "source": [
    "# re.findall(r'a.c', text)\n",
    "for temp in re.finditer(reg_exp, text):\n",
    "    print(temp)"
   ]
  },
  {
   "cell_type": "code",
   "execution_count": 20,
   "id": "aacc11ae",
   "metadata": {},
   "outputs": [
    {
     "name": "stdout",
     "output_type": "stream",
     "text": [
      "<re.Match object; span=(3, 4), match='a'>\n",
      "<re.Match object; span=(3, 4), match='c'>\n",
      "<re.Match object; span=(3, 4), match='A'>\n"
     ]
    }
   ],
   "source": [
    "# IGNORECASE 대소문자 무시\n",
    "reg_exp = re.compile('[abc]', re.IGNORECASE)\n",
    "\n",
    "print(reg_exp.search('안녕 abc'))\n",
    "print(reg_exp.search('안녕 cba'))\n",
    "print(reg_exp.search('안녕 ABC'))"
   ]
  },
  {
   "cell_type": "code",
   "execution_count": 30,
   "id": "9e2f6866",
   "metadata": {},
   "outputs": [
    {
     "name": "stdout",
     "output_type": "stream",
     "text": [
      "['1', '0', '9', 'A', 'b']\n"
     ]
    }
   ],
   "source": [
    "import string\n",
    "\n",
    "# reg_exp = re.compile(f'[{string.ascii_letters}]')\n",
    "reg_exp = re.compile('[a-zA-Z0-9]')\n",
    "print(re.findall(reg_exp, '10월 9일 안녕 Ab'))"
   ]
  },
  {
   "cell_type": "code",
   "execution_count": 34,
   "id": "8588771b",
   "metadata": {},
   "outputs": [
    {
     "name": "stdout",
     "output_type": "stream",
     "text": [
      "['who', 'who']\n",
      "['who']\n",
      "[]\n"
     ]
    }
   ],
   "source": [
    "reg_exp = re.compile('^who')\n",
    "\n",
    "# print(reg_exp.search('who is who'))\n",
    "# print(reg_exp.search('is who'))\n",
    "\n",
    "print(re.findall('who', 'who is who'))\n",
    "print(re.findall('^who', 'who is who'))\n",
    "print(re.findall('who^', 'who is who'))"
   ]
  },
  {
   "cell_type": "markdown",
   "id": "0b0cdeb7",
   "metadata": {},
   "source": [
    "# re 모듈 함수 & re 객체 매서드\n",
    "##### search(), match(), split(), findall()"
   ]
  },
  {
   "cell_type": "code",
   "execution_count": 37,
   "id": "a9f0bc8e",
   "metadata": {},
   "outputs": [
    {
     "data": {
      "text/plain": [
       "['10303-44-5']"
      ]
     },
     "execution_count": 37,
     "metadata": {},
     "output_type": "execute_result"
    }
   ],
   "source": [
    "text = '제 번호 10303-44-5 임'\n",
    "\n",
    "nums = re.findall('[0-9]+-[0-9]+-[0-9]+', text)\n",
    "nums"
   ]
  },
  {
   "cell_type": "code",
   "execution_count": null,
   "id": "13aaa1fc",
   "metadata": {},
   "outputs": [
    {
     "name": "stdout",
     "output_type": "stream",
     "text": [
      "<re.Match object; span=(0, 2), match='ab'>\n",
      "None\n",
      "<re.Match object; span=(0, 2), match='ab'>\n"
     ]
    }
   ],
   "source": [
    "reg_exp = re.compile('ab')\n",
    "\n",
    "# 시작하는 문자열 패턴 검사\n",
    "print(reg_exp.match('abc'))\n",
    "print(reg_exp.match('123'))\n",
    "print(reg_exp.match('123abc'))\n",
    "print(reg_exp.match('abc123'))"
   ]
  },
  {
   "cell_type": "code",
   "execution_count": null,
   "id": "f80f45c1",
   "metadata": {},
   "outputs": [
    {
     "data": {
      "text/plain": [
       "['apl ', 'ana ', 'w']"
      ]
     },
     "execution_count": 43,
     "metadata": {},
     "output_type": "execute_result"
    }
   ],
   "source": [
    "text = \"apl bana dw\"\n",
    "\n",
    "split_text = re.split('[bd]', text, flags=re.IGNORECASE)\n",
    "split_text"
   ]
  },
  {
   "cell_type": "markdown",
   "id": "c2e2375c",
   "metadata": {},
   "source": [
    "##### sub"
   ]
  },
  {
   "cell_type": "code",
   "execution_count": 49,
   "id": "3e6be0d3",
   "metadata": {},
   "outputs": [
    {
     "data": {
      "text/plain": [
       "'hello ere ws !!!!!'"
      ]
     },
     "execution_count": 49,
     "metadata": {},
     "output_type": "execute_result"
    }
   ],
   "source": [
    "text = 'hello ere ws 1😊😊😊😊'\n",
    "sub_text = re.sub('[^a-zA-Z ]', '!',string=text)\n",
    "sub_text"
   ]
  },
  {
   "cell_type": "markdown",
   "id": "7fa0a532",
   "metadata": {},
   "source": [
    "### 정규표현식 토큰화"
   ]
  },
  {
   "cell_type": "code",
   "execution_count": 57,
   "id": "e3228bad",
   "metadata": {},
   "outputs": [
    {
     "data": {
      "text/plain": [
       "['iha', 'dwja', 'wdm', 'd_dd', 'd', '23']"
      ]
     },
     "execution_count": 57,
     "metadata": {},
     "output_type": "execute_result"
    }
   ],
   "source": [
    "from nltk.tokenize import RegexpTokenizer\n",
    "\n",
    "text = \"iha dwja wdm, d_dd d. 23!\"\n",
    "\n",
    "tokenizer = RegexpTokenizer('[a-zA-Z0-9_]+') # 알파벳, 숫자, _\n",
    "tokenizer = RegexpTokenizer(r'\\w+') # 알파벳, 숫자, _\n",
    "\n",
    "tokens = tokenizer.tokenize(text)\n",
    "tokens"
   ]
  }
 ],
 "metadata": {
  "kernelspec": {
   "display_name": "ml_env",
   "language": "python",
   "name": "python3"
  },
  "language_info": {
   "codemirror_mode": {
    "name": "ipython",
    "version": 3
   },
   "file_extension": ".py",
   "mimetype": "text/x-python",
   "name": "python",
   "nbconvert_exporter": "python",
   "pygments_lexer": "ipython3",
   "version": "3.12.11"
  }
 },
 "nbformat": 4,
 "nbformat_minor": 5
}
