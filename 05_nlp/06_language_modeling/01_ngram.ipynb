{
 "cells": [
  {
   "cell_type": "markdown",
   "id": "2985d1ff",
   "metadata": {},
   "source": [
    "# n-gram 언어 모델링"
   ]
  },
  {
   "cell_type": "code",
   "execution_count": 1,
   "id": "5352d693",
   "metadata": {},
   "outputs": [],
   "source": [
    "import nltk\n",
    "from nltk.util import ngrams\n",
    "from collections import Counter"
   ]
  },
  {
   "cell_type": "code",
   "execution_count": 2,
   "id": "d6090061",
   "metadata": {},
   "outputs": [],
   "source": [
    "text = \"오늘은 날씨가 좋다. 아주 좋다. 오늘 일 많다. 오늘은 사람많다. 오늘 날씨 맑다.\""
   ]
  },
  {
   "cell_type": "code",
   "execution_count": 3,
   "id": "05142163",
   "metadata": {},
   "outputs": [],
   "source": [
    "tokens = nltk.word_tokenize(text)"
   ]
  },
  {
   "cell_type": "code",
   "execution_count": 5,
   "id": "85ac61a9",
   "metadata": {},
   "outputs": [
    {
     "data": {
      "text/plain": [
       "[('오늘은', '날씨가'),\n",
       " ('날씨가', '좋다'),\n",
       " ('좋다', '.'),\n",
       " ('.', '아주'),\n",
       " ('아주', '좋다'),\n",
       " ('좋다', '.'),\n",
       " ('.', '오늘'),\n",
       " ('오늘', '일'),\n",
       " ('일', '많다'),\n",
       " ('많다', '.'),\n",
       " ('.', '오늘은'),\n",
       " ('오늘은', '사람많다'),\n",
       " ('사람많다', '.'),\n",
       " ('.', '오늘'),\n",
       " ('오늘', '날씨'),\n",
       " ('날씨', '맑다'),\n",
       " ('맑다', '.')]"
      ]
     },
     "execution_count": 5,
     "metadata": {},
     "output_type": "execute_result"
    }
   ],
   "source": [
    "list(ngrams(tokens, 2))"
   ]
  },
  {
   "cell_type": "code",
   "execution_count": 7,
   "id": "ba123284",
   "metadata": {},
   "outputs": [
    {
     "name": "stdout",
     "output_type": "stream",
     "text": [
      "P(날씨가|오늘은 = 0.500)\n",
      "P(좋다|날씨가 = 1.000)\n",
      "P(.|좋다 = 1.000)\n",
      "P(아주|. = 0.200)\n",
      "P(좋다|아주 = 1.000)\n",
      "P(오늘|. = 0.400)\n",
      "P(일|오늘 = 0.500)\n",
      "P(많다|일 = 1.000)\n",
      "P(.|많다 = 1.000)\n",
      "P(오늘은|. = 0.200)\n",
      "P(사람많다|오늘은 = 0.500)\n",
      "P(.|사람많다 = 1.000)\n",
      "P(날씨|오늘 = 0.500)\n",
      "P(맑다|날씨 = 1.000)\n",
      "P(.|맑다 = 1.000)\n"
     ]
    }
   ],
   "source": [
    "# 1-gram, 2-gram\n",
    "unigram = tokens\n",
    "bigram = list(ngrams(tokens, 2))\n",
    "\n",
    "unigram_freq = Counter(unigram)\n",
    "bigram_freq = Counter(bigram)\n",
    "\n",
    "# 조건부 확률 계산\n",
    "for (w1, w2), freq in bigram_freq.items():\n",
    "    prob = freq / unigram_freq[w1]\n",
    "    print(f'P({w2}|{w1} = {prob:.3f})')"
   ]
  },
  {
   "cell_type": "markdown",
   "id": "29162ef9",
   "metadata": {},
   "source": [
    "### Perplexity 계산"
   ]
  },
  {
   "cell_type": "code",
   "execution_count": 15,
   "id": "61d0168c",
   "metadata": {},
   "outputs": [],
   "source": [
    "import math\n",
    "\n",
    "def compute_bigram_perplexity(test_text, unigram_freq, bigram_freq):\n",
    "    test_tokens = nltk.word_tokenize(test_text)\n",
    "    test_bigrams = list(ngrams(test_tokens, 2))\n",
    "\n",
    "    log_prob_sum = 0\n",
    "    N = len(test_bigrams)\n",
    "\n",
    "    for bigram in test_bigrams:\n",
    "        w1, w2 = bigram\n",
    "        prob = bigram_freq.get(bigram, 0) / unigram_freq.get(w1, 1)\n",
    "        if prob == 0:\n",
    "            prob = 1e-10\n",
    "\n",
    "        log_prob_sum += math.log2(prob)\n",
    "\n",
    "    cross_entrophy = -log_prob_sum / N\n",
    "    perplexity = math.pow(2, cross_entrophy)\n",
    "    return perplexity"
   ]
  },
  {
   "cell_type": "code",
   "execution_count": 16,
   "id": "1e2894cd",
   "metadata": {},
   "outputs": [],
   "source": [
    "train_text = \"자연어 처리는 재미있다. 자연어 처리는 어렵지만 도전하고 싶다. 오늘은 날씨가 좋다.\"\n",
    "\n",
    "train_tokens = nltk.word_tokenize(train_text)\n",
    "unigram = train_tokens\n",
    "bigram = list(ngrams(train_tokens, 2))\n",
    "\n",
    "unigram_freq = Counter(unigram)\n",
    "bigram_freq = Counter(bigram)"
   ]
  },
  {
   "cell_type": "code",
   "execution_count": 20,
   "id": "f25acd0f",
   "metadata": {},
   "outputs": [
    {
     "name": "stdout",
     "output_type": "stream",
     "text": [
      "문장: 자연어 처리는 재미있다. | perplexity: 1.2599\n",
      "문장: 자연어 처리는 어렵지만 도전하고 싶다. | perplexity: 1.1487\n",
      "문장: 오늘은 날씨가 좋다 | perplexity: 1.0000\n",
      "문장: 기계 번역은 어렵다. | perplexity: 10000000000.0000\n",
      "문장: 자연어 처리에 도전하고 싶다. | perplexity: 100000.0000\n",
      "문장: 오늘 날씨가 흐리다 | perplexity: 10000000000.0000\n"
     ]
    }
   ],
   "source": [
    "test_sentences = [\n",
    "    \"자연어 처리는 재미있다.\",\n",
    "    \"자연어 처리는 어렵지만 도전하고 싶다.\",\n",
    "    \"오늘은 날씨가 좋다\",\n",
    "    \"기계 번역은 어렵다.\",\n",
    "    \"자연어 처리에 도전하고 싶다.\",\n",
    "    \"오늘 날씨가 흐리다\"\n",
    "]\n",
    "\n",
    "\n",
    "for sentence in test_sentences:\n",
    "    pp = compute_bigram_perplexity(sentence, unigram_freq, bigram_freq)\n",
    "    print(f'문장: {sentence} | perplexity: {pp:.4f}')"
   ]
  },
  {
   "cell_type": "code",
   "execution_count": null,
   "id": "334a97cc",
   "metadata": {},
   "outputs": [],
   "source": []
  }
 ],
 "metadata": {
  "kernelspec": {
   "display_name": "ml_env",
   "language": "python",
   "name": "python3"
  },
  "language_info": {
   "codemirror_mode": {
    "name": "ipython",
    "version": 3
   },
   "file_extension": ".py",
   "mimetype": "text/x-python",
   "name": "python",
   "nbconvert_exporter": "python",
   "pygments_lexer": "ipython3",
   "version": "3.12.11"
  }
 },
 "nbformat": 4,
 "nbformat_minor": 5
}
