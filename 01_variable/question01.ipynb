{
 "cells": [
  {
   "cell_type": "markdown",
   "id": "f73fc905",
   "metadata": {},
   "source": [
    "### **문제 1**\n",
    "\n",
    "1. `name`이라는 이름의 변수를 선언하고, **당신의 이름**을 문자열로 저장하세요.\n",
    "2. `age`라는 이름의 변수를 선언하고, **당신의 나이**를 숫자로 저장하세요."
   ]
  },
  {
   "cell_type": "code",
   "execution_count": 9,
   "id": "02596617",
   "metadata": {},
   "outputs": [],
   "source": [
    "name = '이주원'\n",
    "age = 20"
   ]
  },
  {
   "cell_type": "code",
   "execution_count": 20,
   "id": "7908aab3",
   "metadata": {},
   "outputs": [
    {
     "name": "stdout",
     "output_type": "stream",
     "text": [
      "이주원 20\n"
     ]
    }
   ],
   "source": [
    "print(name, age)"
   ]
  }
 ],
 "metadata": {
  "kernelspec": {
   "display_name": "pystudy_env",
   "language": "python",
   "name": "python3"
  },
  "language_info": {
   "codemirror_mode": {
    "name": "ipython",
    "version": 3
   },
   "file_extension": ".py",
   "mimetype": "text/x-python",
   "name": "python",
   "nbconvert_exporter": "python",
   "pygments_lexer": "ipython3",
   "version": "3.12.11"
  }
 },
 "nbformat": 4,
 "nbformat_minor": 5
}
