{
 "cells": [
  {
   "cell_type": "markdown",
   "id": "91b31dc3",
   "metadata": {},
   "source": [
    "### 딕셔너리"
   ]
  },
  {
   "cell_type": "code",
   "execution_count": 1,
   "id": "ca400fd0",
   "metadata": {},
   "outputs": [],
   "source": [
    "empty_dict = {}\n",
    "my_dict = {\n",
    "    'name': 'rabbit',\n",
    "    'height': '170',\n",
    "    'job': 'teacher', \n",
    "    'bag': ['ipad', 'water', 'pencil'],\n",
    "    'happy': True\n",
    "}"
   ]
  },
  {
   "cell_type": "code",
   "execution_count": 2,
   "id": "1a63457b",
   "metadata": {},
   "outputs": [
    {
     "name": "stdout",
     "output_type": "stream",
     "text": [
      "<class 'dict'>\n"
     ]
    }
   ],
   "source": [
    "print(type(empty_dict))"
   ]
  },
  {
   "cell_type": "code",
   "execution_count": 3,
   "id": "36b61a55",
   "metadata": {},
   "outputs": [],
   "source": [
    "my_dict = {\n",
    "    'name': 'rabbit',\n",
    "    'height': '170',\n",
    "    'job': 'teacher', \n",
    "    'bag': ['ipad', 'water', 'pencil'],\n",
    "    'happy': True\n",
    "}"
   ]
  },
  {
   "cell_type": "code",
   "execution_count": 4,
   "id": "95067c2b",
   "metadata": {},
   "outputs": [
    {
     "name": "stdout",
     "output_type": "stream",
     "text": [
      "dict_keys(['name', 'height', 'job', 'bag', 'happy'])\n",
      "dict_values(['rabbit', '170', 'teacher', ['ipad', 'water', 'pencil'], True])\n",
      "dict_items([('name', 'rabbit'), ('height', '170'), ('job', 'teacher'), ('bag', ['ipad', 'water', 'pencil']), ('happy', True)])\n"
     ]
    }
   ],
   "source": [
    "print(my_dict.keys())\n",
    "print(my_dict.values())\n",
    "print(my_dict.items())"
   ]
  },
  {
   "cell_type": "code",
   "execution_count": 5,
   "id": "c7c4c72c",
   "metadata": {},
   "outputs": [
    {
     "name": "stdout",
     "output_type": "stream",
     "text": [
      "rabbit\n"
     ]
    }
   ],
   "source": [
    "print(my_dict['name'])"
   ]
  },
  {
   "cell_type": "code",
   "execution_count": 6,
   "id": "53974460",
   "metadata": {},
   "outputs": [
    {
     "name": "stdout",
     "output_type": "stream",
     "text": [
      "{'name': 'koala', 'height': '170', 'job': 'teacher', 'bag': ['ipad', 'water', 'pencil'], 'happy': True}\n"
     ]
    }
   ],
   "source": [
    "my_dict['name'] = 'koala'\n",
    "print(my_dict)"
   ]
  },
  {
   "cell_type": "code",
   "execution_count": 7,
   "id": "87fe4038",
   "metadata": {},
   "outputs": [
    {
     "name": "stdout",
     "output_type": "stream",
     "text": [
      "{'name': 'koala', 'height': '170', 'job': 'teacher', 'bag': ['ipad', 'water', 'pencil']}\n"
     ]
    }
   ],
   "source": [
    "del my_dict['happy']\n",
    "print(my_dict)"
   ]
  }
 ],
 "metadata": {
  "kernelspec": {
   "display_name": "pystudy_env",
   "language": "python",
   "name": "python3"
  },
  "language_info": {
   "codemirror_mode": {
    "name": "ipython",
    "version": 3
   },
   "file_extension": ".py",
   "mimetype": "text/x-python",
   "name": "python",
   "nbconvert_exporter": "python",
   "pygments_lexer": "ipython3",
   "version": "3.12.11"
  }
 },
 "nbformat": 4,
 "nbformat_minor": 5
}
