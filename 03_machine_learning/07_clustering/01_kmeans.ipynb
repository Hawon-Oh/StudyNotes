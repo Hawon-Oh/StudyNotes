{
 "cells": [
  {
   "cell_type": "markdown",
   "id": "c708a89d",
   "metadata": {},
   "source": [
    "# KMeans\n",
    "- K개의 그룹(중심점을 기준)"
   ]
  },
  {
   "cell_type": "markdown",
   "id": "c231b00e",
   "metadata": {},
   "source": [
    "https://scikit-learn.org/stable/modules/clustering.html\n",
    "\n",
    "![](https://upload.wikimedia.org/wikipedia/commons/e/ea/K-means_convergence.gif?20170530143526)\n",
    "\n",
    "\n",
    "\n",
    "**작동 단계**\n",
    "1. K개의 중심점 임의 선택\n",
    "2. 각 데이터 포인트를 가장 가까운 중심점에 할당 > 군집 형성\n",
    "3. 각 군집의 데이터 포인트 기반으로 새로운 중심점 계산\n",
    "4. 2~3 단계를 중심점의 변화가 거의 없을 때까지 반복 실행\n",
    "\n",
    "**장단점**\n",
    "- 장점\n",
    "    - 간단한 개념과 구현\n",
    "    - 빠른 계산 속도\n",
    "    - 일반적인 군집화에서 가장 많이 활용되며 대용량 데이터에도 활용 가능\n",
    "- 단점\n",
    "    - 거리 기반 알고리즘으로 속성의 개수가 매우 많을 경우 군집화 정확도 떨어짐\n",
    "    - 반복적으로 수행하므로 반복 횟수가 많아지면 수행 시간 느려짐\n",
    "    - 이상치(outlier) 데이터에 취약\n",
    "    - 군집이 원형 구조가 아닐 경우 성능 저하 가능성"
   ]
  },
  {
   "cell_type": "code",
   "execution_count": 28,
   "id": "8697150c",
   "metadata": {},
   "outputs": [],
   "source": [
    "import numpy as np\n",
    "import pandas as pd\n",
    "import matplotlib.pyplot as plt\n",
    "import seaborn as sns"
   ]
  },
  {
   "cell_type": "code",
   "execution_count": 29,
   "id": "3c5acbca",
   "metadata": {},
   "outputs": [],
   "source": [
    "from sklearn.datasets import load_iris\n",
    "\n",
    "iris = load_iris()\n",
    "\n",
    "iris_df = pd.DataFrame(iris.data, columns=iris.feature_names)\n",
    "iris_df['target'] = iris.target"
   ]
  },
  {
   "cell_type": "code",
   "execution_count": 30,
   "id": "2bfbe77d",
   "metadata": {},
   "outputs": [
    {
     "data": {
      "text/plain": [
       "array([[3.41251117, 0.14135063, 5.03132789],\n",
       "       [3.38963991, 0.44763825, 5.08750645],\n",
       "       [3.56011415, 0.4171091 , 5.25229169],\n",
       "       [3.412319  , 0.52533799, 5.12704282],\n",
       "       [3.4603117 , 0.18862662, 5.07638109],\n",
       "       [3.14251434, 0.67703767, 4.6529179 ],\n",
       "       [3.50715704, 0.4151867 , 5.18485505],\n",
       "       [3.32903073, 0.06618157, 4.97466956],\n",
       "       [3.56110404, 0.80745278, 5.3020706 ],\n",
       "       [3.34972272, 0.37627118, 5.04034023],\n",
       "       [3.31978466, 0.4824728 , 4.86909709],\n",
       "       [3.30275389, 0.25373214, 4.96948678],\n",
       "       [3.45734945, 0.50077939, 5.1637448 ],\n",
       "       [3.89486669, 0.91322505, 5.62559662],\n",
       "       [3.64453145, 1.01409073, 5.07819914],\n",
       "       [3.49280098, 1.20481534, 4.85660046],\n",
       "       [3.49087612, 0.6542018 , 5.00219478],\n",
       "       [3.37762449, 0.1441527 , 4.99534695],\n",
       "       [3.10971292, 0.82436642, 4.58840834],\n",
       "       [3.37135761, 0.38933276, 4.94411371],\n",
       "       [3.06922637, 0.46344363, 4.66670189],\n",
       "       [3.30868004, 0.3286031 , 4.89580185],\n",
       "       [3.92319538, 0.64029681, 5.57001163],\n",
       "       [3.00463898, 0.38259639, 4.65440556],\n",
       "       [3.05369752, 0.48701129, 4.7240415 ],\n",
       "       [3.18551841, 0.45208406, 4.88014332],\n",
       "       [3.17190324, 0.20875823, 4.81795827],\n",
       "       [3.30315096, 0.21536016, 4.91125383],\n",
       "       [3.36997149, 0.21066561, 4.98987733],\n",
       "       [3.3032254 , 0.40838707, 5.00273298],\n",
       "       [3.25619002, 0.41373905, 4.95902739],\n",
       "       [3.17518343, 0.42565244, 4.76683563],\n",
       "       [3.52682735, 0.71552778, 5.0367525 ],\n",
       "       [3.56804851, 0.91977171, 5.01532562],\n",
       "       [3.31115645, 0.34982853, 5.00242545],\n",
       "       [3.56117309, 0.35039977, 5.22277103],\n",
       "       [3.43308202, 0.52685861, 4.99442293],\n",
       "       [3.52382798, 0.25686572, 5.15084298],\n",
       "       [3.65116011, 0.76077592, 5.38141663],\n",
       "       [3.30389532, 0.11480418, 4.93827582],\n",
       "       [3.49038299, 0.18541845, 5.11735647],\n",
       "       [3.59649005, 1.24803045, 5.35871242],\n",
       "       [3.67077331, 0.6690142 , 5.38227422],\n",
       "       [3.13512407, 0.38675574, 4.76086114],\n",
       "       [2.99972452, 0.60231221, 4.57068741],\n",
       "       [3.38518755, 0.48205809, 5.09143613],\n",
       "       [3.32193204, 0.41034132, 4.89611608],\n",
       "       [3.50904961, 0.47199576, 5.21097499],\n",
       "       [3.33581946, 0.40494444, 4.89988528],\n",
       "       [3.39828592, 0.14959947, 5.05428519],\n",
       "       [1.2470896 , 3.98049997, 1.22271402],\n",
       "       [0.70291175, 3.57731464, 1.41599067],\n",
       "       [1.19492904, 4.13366423, 0.98704628],\n",
       "       [0.7145924 , 3.01144152, 2.43871632],\n",
       "       [0.65760595, 3.74779669, 1.32390403],\n",
       "       [0.26017587, 3.34908644, 1.8583571 ],\n",
       "       [0.78122624, 3.74283048, 1.26233558],\n",
       "       [1.56759804, 2.23937045, 3.34968867],\n",
       "       [0.7754341 , 3.71181627, 1.38134229],\n",
       "       [0.84192578, 2.8005678 , 2.56912713],\n",
       "       [1.51921669, 2.60022691, 3.25807145],\n",
       "       [0.32741362, 3.17042268, 1.87586666],\n",
       "       [0.8036717 , 3.08317693, 2.35609495],\n",
       "       [0.41269169, 3.64581678, 1.43461023],\n",
       "       [0.86345836, 2.51268382, 2.57809388],\n",
       "       [0.89258494, 3.59732957, 1.47714341],\n",
       "       [0.40527627, 3.36719171, 1.83356283],\n",
       "       [0.52975683, 2.94753796, 2.22996007],\n",
       "       [0.63991778, 3.70615434, 1.72638762],\n",
       "       [0.69928746, 2.80841236, 2.4719252 ],\n",
       "       [0.71688283, 3.79583719, 1.3517904 ],\n",
       "       [0.46832769, 3.02383531, 2.03857765],\n",
       "       [0.70524011, 3.99098735, 1.26932401],\n",
       "       [0.44975732, 3.60360653, 1.55081578],\n",
       "       [0.56378668, 3.37448959, 1.67597009],\n",
       "       [0.76264402, 3.56196294, 1.49268433],\n",
       "       [1.00685503, 4.01083283, 1.15975411],\n",
       "       [1.085366  , 4.20528001, 0.81643619],\n",
       "       [0.2357124 , 3.47401497, 1.59507378],\n",
       "       [1.01577057, 2.42676328, 2.75269637],\n",
       "       [0.84948567, 2.73795179, 2.62100076],\n",
       "       [0.9624012 , 2.62259032, 2.73193908],\n",
       "       [0.54980146, 2.83096803, 2.29724559],\n",
       "       [0.7408367 , 4.07263797, 1.20656488],\n",
       "       [0.56364127, 3.33772078, 1.97572547],\n",
       "       [0.69834911, 3.47153856, 1.58636945],\n",
       "       [0.94694661, 3.87741924, 1.16702728],\n",
       "       [0.62133094, 3.56224367, 1.79133351],\n",
       "       [0.49883767, 2.93359506, 2.18077941],\n",
       "       [0.61175882, 2.94237659, 2.38255494],\n",
       "       [0.47129366, 3.23598208, 2.12594566],\n",
       "       [0.39977822, 3.5438369 , 1.49859895],\n",
       "       [0.48246601, 2.94407541, 2.23822362],\n",
       "       [1.53259226, 2.28455247, 3.31436715],\n",
       "       [0.36840775, 3.08064604, 2.13983077],\n",
       "       [0.43737631, 3.01190637, 2.08871298],\n",
       "       [0.33557341, 3.0607156 , 2.05604895],\n",
       "       [0.38897048, 3.29690461, 1.74080849],\n",
       "       [1.64680107, 1.99117553, 3.41934974],\n",
       "       [0.37217087, 2.99098312, 2.14144783],\n",
       "       [2.05382163, 5.23113563, 0.79785215],\n",
       "       [0.85535134, 4.13898297, 1.28647953],\n",
       "       [2.06742566, 5.26319105, 0.32050256],\n",
       "       [1.34163578, 4.63585807, 0.64482464],\n",
       "       [1.73936667, 5.00515534, 0.39955597],\n",
       "       [2.88906696, 6.06204421, 1.16074859],\n",
       "       [1.05285856, 3.49513662, 2.39848325],\n",
       "       [2.41222698, 5.6002125 , 0.79785215],\n",
       "       [1.68833598, 4.9963967 , 0.65429849],\n",
       "       [2.55644214, 5.60667281, 0.86047324],\n",
       "       [1.19025538, 4.31225927, 0.72246291],\n",
       "       [1.1471217 , 4.46533089, 0.73774003],\n",
       "       [1.60786581, 4.81086063, 0.23945204],\n",
       "       [0.88631842, 4.11543193, 1.47610153],\n",
       "       [1.20374539, 4.34736472, 1.29838315],\n",
       "       [1.43435129, 4.57650303, 0.67398839],\n",
       "       [1.34760979, 4.59734489, 0.49188684],\n",
       "       [3.21711402, 6.21697515, 1.49319957],\n",
       "       [3.22116255, 6.46018421, 1.55155963],\n",
       "       [0.82729245, 4.07258886, 1.52202761],\n",
       "       [1.92689838, 5.08121836, 0.27947542],\n",
       "       [0.81571833, 3.95519658, 1.52202761],\n",
       "       [2.99425455, 6.17779734, 1.32854416],\n",
       "       [0.75519165, 4.05452587, 1.08540615],\n",
       "       [1.77255572, 4.92787784, 0.27531585],\n",
       "       [2.16196321, 5.27958142, 0.5295415 ],\n",
       "       [0.63760798, 3.92137476, 1.18598822],\n",
       "       [0.71355931, 3.95155412, 1.14170536],\n",
       "       [1.47675531, 4.78518338, 0.54599131],\n",
       "       [1.95439471, 5.06442297, 0.58213035],\n",
       "       [2.33427484, 5.51111422, 0.73930241],\n",
       "       [3.09083569, 5.99783127, 1.44529434],\n",
       "       [1.52444121, 4.8248088 , 0.56332697],\n",
       "       [0.82907395, 4.10808715, 1.03386447],\n",
       "       [1.23917728, 4.50967626, 1.11201081],\n",
       "       [2.65419303, 5.75940796, 0.96457981],\n",
       "       [1.73426973, 4.84127876, 0.73774003],\n",
       "       [1.32837371, 4.557541  , 0.56332697],\n",
       "       [0.61934895, 3.83775716, 1.27958481],\n",
       "       [1.6211167 , 4.7581488 , 0.32289372],\n",
       "       [1.78756717, 4.97393004, 0.39665763],\n",
       "       [1.55478732, 4.59878027, 0.6647952 ],\n",
       "       [0.85535134, 4.13898297, 1.28647953],\n",
       "       [2.02095246, 5.21394093, 0.33574081],\n",
       "       [1.95816567, 5.09187392, 0.52222782],\n",
       "       [1.46331748, 4.60916261, 0.59648874],\n",
       "       [0.90670707, 4.21767471, 1.08398782],\n",
       "       [1.19389966, 4.41184542, 0.63217479],\n",
       "       [1.518785  , 4.59925864, 0.83183692],\n",
       "       [0.84095165, 4.0782815 , 1.16570826]])"
      ]
     },
     "execution_count": 30,
     "metadata": {},
     "output_type": "execute_result"
    }
   ],
   "source": [
    "from sklearn.cluster import KMeans\n",
    "\n",
    "kmeans = KMeans(\n",
    "    n_clusters=3,       # 클러스터 개수 (= 중심점 개수)\n",
    "    init='k-means++',   # 초기 중심점 설정 방식\n",
    "    max_iter=300,\n",
    "    random_state=0\n",
    ")\n",
    "\n",
    "# 예측을 하는게 아니라 클러스터로 나눔\n",
    "kmeans.fit(iris.data)\n",
    "distances = kmeans.transform(iris.data) # 중심점과 거리 계산\n",
    "distances"
   ]
  },
  {
   "cell_type": "code",
   "execution_count": 31,
   "id": "4e25d8fa",
   "metadata": {},
   "outputs": [
    {
     "data": {
      "text/plain": [
       "array([1, 1, 1, 1, 1, 1, 1, 1, 1, 1, 1, 1, 1, 1, 1, 1, 1, 1, 1, 1, 1, 1,\n",
       "       1, 1, 1, 1, 1, 1, 1, 1, 1, 1, 1, 1, 1, 1, 1, 1, 1, 1, 1, 1, 1, 1,\n",
       "       1, 1, 1, 1, 1, 1, 2, 0, 2, 0, 0, 0, 0, 0, 0, 0, 0, 0, 0, 0, 0, 0,\n",
       "       0, 0, 0, 0, 0, 0, 0, 0, 0, 0, 0, 2, 0, 0, 0, 0, 0, 0, 0, 0, 0, 0,\n",
       "       0, 0, 0, 0, 0, 0, 0, 0, 0, 0, 0, 0, 2, 0, 2, 2, 2, 2, 0, 2, 2, 2,\n",
       "       2, 2, 2, 0, 0, 2, 2, 2, 2, 0, 2, 0, 2, 0, 2, 2, 0, 0, 2, 2, 2, 2,\n",
       "       2, 0, 2, 2, 2, 2, 0, 2, 2, 2, 0, 2, 2, 2, 0, 2, 2, 0], dtype=int32)"
      ]
     },
     "execution_count": 31,
     "metadata": {},
     "output_type": "execute_result"
    }
   ],
   "source": [
    "kmeans.labels_ # 군집화 결과: 거리가 가까운 곳으로 군집이 됨"
   ]
  },
  {
   "cell_type": "code",
   "execution_count": 32,
   "id": "39a9169d",
   "metadata": {},
   "outputs": [
    {
     "data": {
      "text/html": [
       "<div>\n",
       "<style scoped>\n",
       "    .dataframe tbody tr th:only-of-type {\n",
       "        vertical-align: middle;\n",
       "    }\n",
       "\n",
       "    .dataframe tbody tr th {\n",
       "        vertical-align: top;\n",
       "    }\n",
       "\n",
       "    .dataframe thead th {\n",
       "        text-align: right;\n",
       "    }\n",
       "</style>\n",
       "<table border=\"1\" class=\"dataframe\">\n",
       "  <thead>\n",
       "    <tr style=\"text-align: right;\">\n",
       "      <th></th>\n",
       "      <th>sepal length (cm)</th>\n",
       "      <th>sepal width (cm)</th>\n",
       "      <th>petal length (cm)</th>\n",
       "      <th>petal width (cm)</th>\n",
       "      <th>target</th>\n",
       "      <th>cluster</th>\n",
       "    </tr>\n",
       "  </thead>\n",
       "  <tbody>\n",
       "    <tr>\n",
       "      <th>0</th>\n",
       "      <td>5.1</td>\n",
       "      <td>3.5</td>\n",
       "      <td>1.4</td>\n",
       "      <td>0.2</td>\n",
       "      <td>0</td>\n",
       "      <td>1</td>\n",
       "    </tr>\n",
       "    <tr>\n",
       "      <th>1</th>\n",
       "      <td>4.9</td>\n",
       "      <td>3.0</td>\n",
       "      <td>1.4</td>\n",
       "      <td>0.2</td>\n",
       "      <td>0</td>\n",
       "      <td>1</td>\n",
       "    </tr>\n",
       "    <tr>\n",
       "      <th>2</th>\n",
       "      <td>4.7</td>\n",
       "      <td>3.2</td>\n",
       "      <td>1.3</td>\n",
       "      <td>0.2</td>\n",
       "      <td>0</td>\n",
       "      <td>1</td>\n",
       "    </tr>\n",
       "    <tr>\n",
       "      <th>3</th>\n",
       "      <td>4.6</td>\n",
       "      <td>3.1</td>\n",
       "      <td>1.5</td>\n",
       "      <td>0.2</td>\n",
       "      <td>0</td>\n",
       "      <td>1</td>\n",
       "    </tr>\n",
       "    <tr>\n",
       "      <th>4</th>\n",
       "      <td>5.0</td>\n",
       "      <td>3.6</td>\n",
       "      <td>1.4</td>\n",
       "      <td>0.2</td>\n",
       "      <td>0</td>\n",
       "      <td>1</td>\n",
       "    </tr>\n",
       "    <tr>\n",
       "      <th>...</th>\n",
       "      <td>...</td>\n",
       "      <td>...</td>\n",
       "      <td>...</td>\n",
       "      <td>...</td>\n",
       "      <td>...</td>\n",
       "      <td>...</td>\n",
       "    </tr>\n",
       "    <tr>\n",
       "      <th>145</th>\n",
       "      <td>6.7</td>\n",
       "      <td>3.0</td>\n",
       "      <td>5.2</td>\n",
       "      <td>2.3</td>\n",
       "      <td>2</td>\n",
       "      <td>2</td>\n",
       "    </tr>\n",
       "    <tr>\n",
       "      <th>146</th>\n",
       "      <td>6.3</td>\n",
       "      <td>2.5</td>\n",
       "      <td>5.0</td>\n",
       "      <td>1.9</td>\n",
       "      <td>2</td>\n",
       "      <td>0</td>\n",
       "    </tr>\n",
       "    <tr>\n",
       "      <th>147</th>\n",
       "      <td>6.5</td>\n",
       "      <td>3.0</td>\n",
       "      <td>5.2</td>\n",
       "      <td>2.0</td>\n",
       "      <td>2</td>\n",
       "      <td>2</td>\n",
       "    </tr>\n",
       "    <tr>\n",
       "      <th>148</th>\n",
       "      <td>6.2</td>\n",
       "      <td>3.4</td>\n",
       "      <td>5.4</td>\n",
       "      <td>2.3</td>\n",
       "      <td>2</td>\n",
       "      <td>2</td>\n",
       "    </tr>\n",
       "    <tr>\n",
       "      <th>149</th>\n",
       "      <td>5.9</td>\n",
       "      <td>3.0</td>\n",
       "      <td>5.1</td>\n",
       "      <td>1.8</td>\n",
       "      <td>2</td>\n",
       "      <td>0</td>\n",
       "    </tr>\n",
       "  </tbody>\n",
       "</table>\n",
       "<p>150 rows × 6 columns</p>\n",
       "</div>"
      ],
      "text/plain": [
       "     sepal length (cm)  sepal width (cm)  petal length (cm)  petal width (cm)  \\\n",
       "0                  5.1               3.5                1.4               0.2   \n",
       "1                  4.9               3.0                1.4               0.2   \n",
       "2                  4.7               3.2                1.3               0.2   \n",
       "3                  4.6               3.1                1.5               0.2   \n",
       "4                  5.0               3.6                1.4               0.2   \n",
       "..                 ...               ...                ...               ...   \n",
       "145                6.7               3.0                5.2               2.3   \n",
       "146                6.3               2.5                5.0               1.9   \n",
       "147                6.5               3.0                5.2               2.0   \n",
       "148                6.2               3.4                5.4               2.3   \n",
       "149                5.9               3.0                5.1               1.8   \n",
       "\n",
       "     target  cluster  \n",
       "0         0        1  \n",
       "1         0        1  \n",
       "2         0        1  \n",
       "3         0        1  \n",
       "4         0        1  \n",
       "..      ...      ...  \n",
       "145       2        2  \n",
       "146       2        0  \n",
       "147       2        2  \n",
       "148       2        2  \n",
       "149       2        0  \n",
       "\n",
       "[150 rows x 6 columns]"
      ]
     },
     "execution_count": 32,
     "metadata": {},
     "output_type": "execute_result"
    }
   ],
   "source": [
    "iris_df['cluster'] = kmeans.labels_\n",
    "iris_df"
   ]
  },
  {
   "cell_type": "code",
   "execution_count": 33,
   "id": "d1477f1c",
   "metadata": {},
   "outputs": [
    {
     "data": {
      "text/plain": [
       "target  cluster\n",
       "0       1          50\n",
       "1       0          47\n",
       "        2           3\n",
       "2       2          36\n",
       "        0          14\n",
       "Name: count, dtype: int64"
      ]
     },
     "execution_count": 33,
     "metadata": {},
     "output_type": "execute_result"
    }
   ],
   "source": [
    "iris_df.groupby('target')['cluster'].value_counts()"
   ]
  },
  {
   "cell_type": "code",
   "execution_count": 34,
   "id": "d033fcdb",
   "metadata": {},
   "outputs": [],
   "source": [
    "from sklearn.decomposition import PCA\n",
    "\n",
    "# 2차원으로 축소 후 각 차원을 df컬럼에 저장\n",
    "pca = PCA(n_components=2)\n",
    "pca_transformed = pca.fit_transform(iris.data)\n",
    "iris_df['pca1'] = pca_transformed[:, 0]\n",
    "iris_df['pca2'] = pca_transformed[:, 1]"
   ]
  },
  {
   "cell_type": "code",
   "execution_count": 35,
   "id": "b46c69a2",
   "metadata": {},
   "outputs": [
    {
     "name": "stdout",
     "output_type": "stream",
     "text": [
      "[[5.88360656 2.74098361 4.38852459 1.43442623]\n",
      " [5.006      3.428      1.462      0.246     ]\n",
      " [6.85384615 3.07692308 5.71538462 2.05384615]]\n"
     ]
    },
    {
     "data": {
      "text/plain": [
       "array([[ 0.66567601, -0.3316042 ],\n",
       "       [-2.64241546,  0.19088505],\n",
       "       [ 2.34652659,  0.27393856]])"
      ]
     },
     "execution_count": 35,
     "metadata": {},
     "output_type": "execute_result"
    }
   ],
   "source": [
    "# 4차원 공간에 3개 클러스터(꽃종류가 3개)의 중심점을 찍음 -> (3, 4)\n",
    "print(kmeans.cluster_centers_)\n",
    "\n",
    "# PCA로 축소된 2차원 공간에 3개의 클러스터의 중심점을 찍음 - > (3, 2)\n",
    "centers = pca.transform(kmeans.cluster_centers_)\n",
    "centers"
   ]
  },
  {
   "cell_type": "code",
   "execution_count": 36,
   "id": "ec7e054e",
   "metadata": {},
   "outputs": [
    {
     "data": {
      "image/png": "[encoded data removed]",
      "text/plain": [
       "<Figure size 640x480 with 1 Axes>"
      ]
     },
     "metadata": {},
     "output_type": "display_data"
    },
    {
     "data": {
      "image/png": "[encoded data removed]",
      "text/plain": [
       "<Figure size 640x480 with 1 Axes>"
      ]
     },
     "metadata": {},
     "output_type": "display_data"
    }
   ],
   "source": [
    "# target(라벨 데이터) 기준 시각화\n",
    "plt.scatter(x=iris_df['pca1'], \n",
    "            y=iris_df['pca2'], \n",
    "            c=iris_df['target'])\n",
    "\n",
    "plt.title('Species')\n",
    "plt.show()\n",
    "\n",
    "# cluster(kmeans 군집 데이터) 기준 시각화\n",
    "plt.scatter(x=iris_df['pca1'], y=iris_df['pca2'], c=iris_df['cluster'])\n",
    "plt.scatter(x=centers[:, 0], y=centers[:, 1], c='r', s=100)\n",
    "plt.title('Center')\n",
    "plt.show()"
   ]
  },
  {
   "cell_type": "code",
   "execution_count": 37,
   "id": "cc7064e7",
   "metadata": {},
   "outputs": [
    {
     "data": {
      "text/plain": [
       "(300, 100, 100)"
      ]
     },
     "execution_count": 37,
     "metadata": {},
     "output_type": "execute_result"
    }
   ],
   "source": [
    "fruits = np.load('../../data/fruits_300.npy')\n",
    "fruits.shape # 300개 이미지 * 100행 * 100열"
   ]
  },
  {
   "cell_type": "code",
   "execution_count": 38,
   "id": "b7e27b70",
   "metadata": {},
   "outputs": [],
   "source": [
    "# 이미지 시각화 함수\n",
    "def draw_fruits(arr, ratio=1):\n",
    "    N = len(arr)\n",
    "    rows = int(np.ceil(N / 10))\n",
    "    cols = N if rows < 2 else 10\n",
    "    fig, ax = plt.subplots(rows, cols, figsize=(cols * ratio, rows * ratio), squeeze=False)\n",
    "    \n",
    "    for i in range(rows):\n",
    "        for j in range(cols):\n",
    "            if i * 10 + j < N:\n",
    "                ax[i, j].imshow(arr[i * 10 + j], cmap='gray_r')\n",
    "            ax[i, j].axis('off')\n",
    "    \n",
    "    plt.show()"
   ]
  },
  {
   "cell_type": "code",
   "execution_count": null,
   "id": "243402b7",
   "metadata": {},
   "outputs": [],
   "source": [
    "# KMeans 군집 적용을 위한 reshape\n",
    "fruits_1d = fruits.reshape(-1, 100 * 100)\n",
    "\n",
    "# KMeans 적용\n",
    "kmeans = KMeans(n_clusters=3, random_state=42)\n",
    "kmeans.fit(fruits_1d)\n",
    "kmeans.transform(fruits_1d)"
   ]
  },
  {
   "cell_type": "code",
   "execution_count": 40,
   "id": "c6c028f1",
   "metadata": {},
   "outputs": [
    {
     "data": {
      "text/plain": [
       "(array([0, 1, 2], dtype=int32), array([112,  98,  90]))"
      ]
     },
     "execution_count": 40,
     "metadata": {},
     "output_type": "execute_result"
    }
   ],
   "source": [
    "np.unique(kmeans.labels_, return_counts=True)"
   ]
  },
  {
   "cell_type": "code",
   "execution_count": null,
   "id": "818ba847",
   "metadata": {},
   "outputs": [],
   "source": [
    "draw_fruits(fruits[kmeans.labels_ == 0])\n",
    "draw_fruits(fruits[kmeans.labels_ == 1])\n",
    "draw_fruits(fruits[kmeans.labels_ == 2])"
   ]
  },
  {
   "cell_type": "code",
   "execution_count": 42,
   "id": "c57d7643",
   "metadata": {},
   "outputs": [
    {
     "data": {
      "image/png": "[encoded data removed]",
      "text/plain": [
       "<Figure size 300x100 with 3 Axes>"
      ]
     },
     "metadata": {},
     "output_type": "display_data"
    }
   ],
   "source": [
    "draw_fruits(kmeans.cluster_centers_.reshape(-1, 100, 100))"
   ]
  },
  {
   "cell_type": "code",
   "execution_count": 43,
   "id": "7feb4a05",
   "metadata": {},
   "outputs": [
    {
     "data": {
      "text/plain": [
       "(300, 2)"
      ]
     },
     "execution_count": 43,
     "metadata": {},
     "output_type": "execute_result"
    }
   ],
   "source": [
    "# 차원축소 후 클러스터링\n",
    "pca = PCA(n_components=2)\n",
    "fruits_pca = pca.fit_transform(fruits_1d)\n",
    "fruits_pca.shape"
   ]
  },
  {
   "cell_type": "code",
   "execution_count": null,
   "id": "72d4a812",
   "metadata": {},
   "outputs": [],
   "source": [
    "kmeans = KMeans(n_clusters=3, random_state=42)\n",
    "kmeans.fit(fruits_pca)\n",
    "kmeans.transform(fruits_pca)"
   ]
  },
  {
   "cell_type": "code",
   "execution_count": 45,
   "id": "8c559f63",
   "metadata": {},
   "outputs": [
    {
     "name": "stdout",
     "output_type": "stream",
     "text": [
      "(array([0, 1, 2], dtype=int32), array([110,  99,  91]))\n"
     ]
    }
   ],
   "source": [
    "print(np.unique(kmeans.labels_, return_counts=True))\n"
   ]
  },
  {
   "cell_type": "code",
   "execution_count": 48,
   "id": "fdc1568c",
   "metadata": {},
   "outputs": [
    {
     "name": "stdout",
     "output_type": "stream",
     "text": [
      "[0]\n"
     ]
    },
    {
     "data": {
      "image/png": "[encoded data removed]",
      "text/plain": [
       "<Figure size 100x100 with 1 Axes>"
      ]
     },
     "metadata": {},
     "output_type": "display_data"
    }
   ],
   "source": [
    "pred = kmeans.predict(fruits_pca[100: 101])\n",
    "print(pred)\n",
    "draw_fruits(fruits[100:101])"
   ]
  },
  {
   "cell_type": "markdown",
   "id": "1465e23b",
   "metadata": {},
   "source": [
    "### 최적의 k 값 찾기\n",
    "- inertia:  중심점으로부터 각데이터포인트의 분산값\n",
    "    - 이너셔 값이 작을수록 군집이 잘 돼 있음\n",
    "- Elbow기법: inertia값이 급격히 감소하는 k값을 최적의 k로 판단"
   ]
  },
  {
   "cell_type": "code",
   "execution_count": 49,
   "id": "91806556",
   "metadata": {},
   "outputs": [
    {
     "data": {
      "text/plain": [
       "[1207702120.596421,\n",
       " 461196975.9052623,\n",
       " 322138106.3223897,\n",
       " 246026281.5865224,\n",
       " 187383135.5014418,\n",
       " 152251955.16726786,\n",
       " 144887656.77295578,\n",
       " 120809362.61707282,\n",
       " 108134287.97179157,\n",
       " 98990243.78492409]"
      ]
     },
     "execution_count": 49,
     "metadata": {},
     "output_type": "execute_result"
    }
   ],
   "source": [
    "inertias = []\n",
    "\n",
    "for k in range(2, 12):\n",
    "    kmeans = KMeans(n_clusters=k, random_state=42)\n",
    "    kmeans.fit(fruits_pca)\n",
    "    inertias.append(kmeans.inertia_)\n",
    "\n",
    "inertias"
   ]
  },
  {
   "cell_type": "code",
   "execution_count": 50,
   "id": "036ad26d",
   "metadata": {},
   "outputs": [
    {
     "data": {
      "image/png": "[encoded data removed]",
      "text/plain": [
       "<Figure size 640x480 with 1 Axes>"
      ]
     },
     "metadata": {},
     "output_type": "display_data"
    }
   ],
   "source": [
    "plt.plot(range(2, 12), inertias)\n",
    "plt.xlabel('K')\n",
    "plt.ylabel('inertia')\n",
    "plt.show()"
   ]
  }
 ],
 "metadata": {
  "kernelspec": {
   "display_name": "ml_env",
   "language": "python",
   "name": "python3"
  },
  "language_info": {
   "codemirror_mode": {
    "name": "ipython",
    "version": 3
   },
   "file_extension": ".py",
   "mimetype": "text/x-python",
   "name": "python",
   "nbconvert_exporter": "python",
   "pygments_lexer": "ipython3",
   "version": "3.12.11"
  }
 },
 "nbformat": 4,
 "nbformat_minor": 5
}
