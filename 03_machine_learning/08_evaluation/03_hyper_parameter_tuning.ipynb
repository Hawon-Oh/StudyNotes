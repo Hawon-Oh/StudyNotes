{
 "cells": [
  {
   "cell_type": "code",
   "execution_count": 14,
   "id": "dc98f597",
   "metadata": {},
   "outputs": [],
   "source": [
    "import warnings\n",
    "warnings.filterwarnings('ignore')"
   ]
  },
  {
   "cell_type": "markdown",
   "id": "d01bccfb",
   "metadata": {},
   "source": [
    "# Hyper Parameter Tuning\n",
    "- hyper parameter: 모델설정과 관련해 직접 지정가능한 매개변수\n",
    "- model parameter: 가중치, 절편 등 모델의 학습 대상이 되는 변수"
   ]
  },
  {
   "cell_type": "markdown",
   "id": "9e53afe9",
   "metadata": {},
   "source": [
    "### GridSearchCV"
   ]
  },
  {
   "cell_type": "code",
   "execution_count": null,
   "id": "711d7a23",
   "metadata": {},
   "outputs": [
    {
     "name": "stdout",
     "output_type": "stream",
     "text": [
      "최적의 파라미터:  {'n_neighbors': 7}\n",
      "최적화된 모델 객체:  KNeighborsClassifier(n_neighbors=7)\n",
      "최적화된 점수:  0.9800000000000001\n"
     ]
    }
   ],
   "source": [
    "from sklearn.datasets import load_iris\n",
    "from sklearn.neighbors import KNeighborsClassifier\n",
    "from sklearn.model_selection import GridSearchCV\n",
    "\n",
    "iris_input, iris_target = load_iris(return_X_y = True)\n",
    "\n",
    "knn = KNeighborsClassifier()\n",
    "\n",
    "params={\n",
    "    'n_neighbors': range(1, 13, 2)\n",
    "}\n",
    "\n",
    "# 첫번째 인자: 모델\n",
    "# 두번째 인자: 테스트 할 파라미터 (딕셔너리)\n",
    "# scoring: 평가지표(accuracy, precision, recall, f1)\n",
    "# cv: 반복횟수\n",
    "grid = GridSearchCV(knn, params, scoring='accuracy', cv=5)\n",
    "grid.fit(iris_input, iris_target)\n",
    "print(\"최적의 파라미터: \", grid.best_params_)\n",
    "print(\"최적화된 모델 객체: \", grid.best_estimator_)\n",
    "print(\"최적화된 점수: \", grid.best_score_)"
   ]
  },
  {
   "cell_type": "code",
   "execution_count": 11,
   "id": "07fef162",
   "metadata": {},
   "outputs": [
    {
     "data": {
      "text/plain": [
       "0.9733333333333334"
      ]
     },
     "execution_count": 11,
     "metadata": {},
     "output_type": "execute_result"
    }
   ],
   "source": [
    "best_knn = grid.best_estimator_\n",
    "best_knn.fit(iris_input, iris_target)\n",
    "best_knn.score(iris_input, iris_target)"
   ]
  },
  {
   "cell_type": "markdown",
   "id": "ba5b96b8",
   "metadata": {},
   "source": [
    "###RandomSearchCV\n",
    "- 하이퍼파라미터의 값 목록이나 값의 범위를 제공하는데, 이 범위 중에서 랜덤하게 값을 뽑아내 최적의 하이퍼파라미터 조합을 찾는다.\n",
    "    - 탐색 범위가 넓을 때 짧은 시간 내에 좋은 결과를 얻을 수 있다.\n",
    "    - 랜덤하게 값을 추출해 계산하므로, 전역 최적값을 놓칠 수 있다."
   ]
  },
  {
   "cell_type": "code",
   "execution_count": 19,
   "id": "061d993c",
   "metadata": {},
   "outputs": [
    {
     "name": "stdout",
     "output_type": "stream",
     "text": [
      "최적의 모델:  KNeighborsClassifier(n_neighbors=31)\n",
      "최적의 파라미터:  {'n_neighbors': 31}\n",
      "최적의 점수:  0.9333333333333332\n"
     ]
    },
    {
     "data": {
      "text/plain": [
       "{'mean_fit_time': array([2.00033188e-04, 2.03418732e-04, 6.91413879e-05, 2.00080872e-04,\n",
       "        0.00000000e+00, 3.98492813e-04, 2.00176239e-04, 3.99684906e-04,\n",
       "        1.99842453e-04, 0.00000000e+00]),\n",
       " 'std_fit_time': array([0.00040007, 0.00040684, 0.00013828, 0.00040016, 0.        ,\n",
       "        0.00048806, 0.00040035, 0.00048951, 0.00039968, 0.        ]),\n",
       " 'mean_score_time': array([0.00039978, 0.00040021, 0.00080051, 0.00040383, 0.00046668,\n",
       "        0.00100169, 0.00079966, 0.00039988, 0.00040083, 0.00100365]),\n",
       " 'std_score_time': array([4.89628932e-04, 4.90154913e-04, 4.00432293e-04, 4.94634389e-04,\n",
       "        4.57863886e-04, 3.01050074e-06, 3.99831781e-04, 4.89747126e-04,\n",
       "        4.90915524e-04, 7.73682065e-06]),\n",
       " 'param_n_neighbors': masked_array(data=[181, 509, 567, 891, 923, 31, 633, 979, 319, 307],\n",
       "              mask=[False, False, False, False, False, False, False, False,\n",
       "                    False, False],\n",
       "        fill_value=999999),\n",
       " 'params': [{'n_neighbors': 181},\n",
       "  {'n_neighbors': 509},\n",
       "  {'n_neighbors': 567},\n",
       "  {'n_neighbors': 891},\n",
       "  {'n_neighbors': 923},\n",
       "  {'n_neighbors': 31},\n",
       "  {'n_neighbors': 633},\n",
       "  {'n_neighbors': 979},\n",
       "  {'n_neighbors': 319},\n",
       "  {'n_neighbors': 307}],\n",
       " 'split0_test_score': array([nan, nan, nan, nan, nan, 0.9, nan, nan, nan, nan]),\n",
       " 'split1_test_score': array([       nan,        nan,        nan,        nan,        nan,\n",
       "        0.96666667,        nan,        nan,        nan,        nan]),\n",
       " 'split2_test_score': array([nan, nan, nan, nan, nan, 0.9, nan, nan, nan, nan]),\n",
       " 'split3_test_score': array([nan, nan, nan, nan, nan, 0.9, nan, nan, nan, nan]),\n",
       " 'split4_test_score': array([nan, nan, nan, nan, nan,  1., nan, nan, nan, nan]),\n",
       " 'mean_test_score': array([       nan,        nan,        nan,        nan,        nan,\n",
       "        0.93333333,        nan,        nan,        nan,        nan]),\n",
       " 'std_test_score': array([      nan,       nan,       nan,       nan,       nan, 0.0421637,\n",
       "              nan,       nan,       nan,       nan]),\n",
       " 'rank_test_score': array([2, 2, 2, 2, 2, 1, 2, 2, 2, 2], dtype=int32)}"
      ]
     },
     "execution_count": 19,
     "metadata": {},
     "output_type": "execute_result"
    }
   ],
   "source": [
    "from sklearn.model_selection import RandomizedSearchCV\n",
    "\n",
    "# 모델생성\n",
    "knn = KNeighborsClassifier()\n",
    "\n",
    "# 테스트할 파라미터 생성\n",
    "params = {\n",
    "    'n_neighbors': range(1, 1000, 2)\n",
    "}\n",
    "\n",
    "# n_iter: 탐색할 최적의 하이퍼 파라미터 조합 수\n",
    "rd_search = RandomizedSearchCV(knn, params, cv=5, n_iter=10, random_state=0)\n",
    "rd_search.fit(iris_input, iris_target)\n",
    "\n",
    "print(\"최적의 모델: \", rd_search.best_estimator_)\n",
    "print(\"최적의 파라미터: \", rd_search.best_params_)\n",
    "print(\"최적의 점수: \", rd_search.best_score_)\n",
    "rd_search.cv_results_"
   ]
  },
  {
   "cell_type": "code",
   "execution_count": null,
   "id": "1e2f90b1",
   "metadata": {},
   "outputs": [],
   "source": []
  }
 ],
 "metadata": {
  "kernelspec": {
   "display_name": "ml_env",
   "language": "python",
   "name": "python3"
  },
  "language_info": {
   "codemirror_mode": {
    "name": "ipython",
    "version": 3
   },
   "file_extension": ".py",
   "mimetype": "text/x-python",
   "name": "python",
   "nbconvert_exporter": "python",
   "pygments_lexer": "ipython3",
   "version": "3.12.11"
  }
 },
 "nbformat": 4,
 "nbformat_minor": 5
}
