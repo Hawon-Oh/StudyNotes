{
 "cells": [
  {
   "cell_type": "markdown",
   "id": "fbf80179",
   "metadata": {},
   "source": [
    "# 평가"
   ]
  },
  {
   "cell_type": "markdown",
   "id": "8fb48e9a",
   "metadata": {},
   "source": [
    "### 분류모델 평가"
   ]
  },
  {
   "cell_type": "markdown",
   "id": "d35c3f3d",
   "metadata": {},
   "source": [
    "### 정확도 (Accuracy)\n",
    "- 전체 샘플 중에서 올바르게 예측한 샘플의 비율\n",
    "- 데이터가 불균형한 경우 정확도는 비현실적인 성능을 낼 수 있음"
   ]
  },
  {
   "cell_type": "code",
   "execution_count": 103,
   "id": "c535c0dd",
   "metadata": {},
   "outputs": [],
   "source": [
    "# 전처리 -> 함수로 만들기\n",
    "from sklearn.preprocessing import LabelEncoder\n",
    "from sklearn.preprocessing import StandardScaler\n",
    "\n",
    "def fillna(df):\n",
    "    \"\"\"\n",
    "    결측치 처리 함수\n",
    "    - Age : 평균치로 대체\n",
    "    - Cabin : 'N' 기본값으로 대체\n",
    "    - Embarked : 'N' 기본값으로 대체\n",
    "    \"\"\"\n",
    "    df['Age'] = df['Age'].fillna(df['Age'].mean())\n",
    "    df['Cabin'] = df['Cabin'].fillna('N')\n",
    "    df['Embarked'] = df['Embarked'].fillna('N00')\n",
    "    return df\n",
    "\n",
    "def drop_feature(df):\n",
    "    \"\"\"\n",
    "    모델 훈련과 관련 없는 속성 제거\n",
    "    - PassengerId, Name, Ticket\n",
    "    \"\"\"\n",
    "    return df.drop(['PassengerId', 'Name', 'Ticket'], axis=1)\n",
    "\n",
    "def encode_feature(df):\n",
    "    \"\"\"\n",
    "    범주형 데이터를 숫자로 인코딩\n",
    "    - Sex, Cabin, Embarked\n",
    "    \"\"\"\n",
    "    df['Cabin'] = df['Cabin'].str[:1]\n",
    "\n",
    "    categories = ['Sex', 'Cabin', 'Embarked']\n",
    "\n",
    "    for cate_item in categories:\n",
    "        label_encoder = LabelEncoder()\n",
    "        df[cate_item] = label_encoder.fit_transform(df[cate_item])\n",
    "    \n",
    "    return df\n",
    "\n",
    "def scailing_feature(train_data, test_data):\n",
    "    \"\"\"\n",
    "    특성 스케일링\n",
    "    \"\"\"\n",
    "    scaler = StandardScaler()\n",
    "    train_scaled = scaler.fit_transform(train_data)\n",
    "    test_scaled = scaler.transform(test_data)\n",
    "\n",
    "    return train_scaled, test_scaled\n",
    "\n",
    "def preprocessing_data(df):\n",
    "    df = drop_feature(df)\n",
    "    df = fillna(df)\n",
    "    df = encode_feature(df)\n",
    "\n",
    "    return df"
   ]
  },
  {
   "cell_type": "code",
   "execution_count": 104,
   "id": "ac316a99",
   "metadata": {},
   "outputs": [],
   "source": [
    "# 잘못 학습된 모델 만들어보기(1)\n",
    "from sklearn.base import BaseEstimator\n",
    "import numpy as np\n",
    "\n",
    "# 성별로만 판별하는 모델\n",
    "class MyTitanicClassifier(BaseEstimator):\n",
    "\n",
    "    # 훈련 메서드\n",
    "    def fit(self, X, y):\n",
    "        pass\n",
    "\n",
    "    # 결과 예측 메서드\n",
    "    def predict(self, X):\n",
    "        pred = np.zeros((X.shape[0], 1))\n",
    "        for i in range(X.shape[0]):\n",
    "            sex = X['Sex'].iloc[i]\n",
    "            if sex == 0:        # 여성\n",
    "                pred[i] = 1     # 생존\n",
    "        return pred"
   ]
  },
  {
   "cell_type": "code",
   "execution_count": 105,
   "id": "9434e848",
   "metadata": {},
   "outputs": [],
   "source": [
    "import pandas as pd\n",
    "from sklearn.model_selection import train_test_split\n",
    "\n",
    "# 데이터 로드\n",
    "df = pd.read_csv('./data/titanic.csv')\n",
    "\n",
    "# 특성-라벨 데이터 분리\n",
    "X = df.drop('Survived', axis=1)\n",
    "y = df['Survived']\n",
    "\n",
    "# 전처리\n",
    "X = preprocessing_data(X)\n",
    "\n",
    "# 훈련-테스트 데이터 분리\n",
    "X_train, X_test, y_train, y_test = train_test_split(X, y, random_state=0)"
   ]
  },
  {
   "cell_type": "code",
   "execution_count": 106,
   "id": "eb1fcb00",
   "metadata": {},
   "outputs": [
    {
     "name": "stdout",
     "output_type": "stream",
     "text": [
      "훈련 데이터 정확도: 0.7889221556886228\n",
      "테스트 데이터 정확도: 0.7802690582959642\n"
     ]
    }
   ],
   "source": [
    "from sklearn.metrics import accuracy_score\n",
    "\n",
    "# 모델 훈련\n",
    "my_classifier = MyTitanicClassifier()\n",
    "my_classifier.fit(X_train, y_train)\n",
    "\n",
    "# 예측\n",
    "pred_train = my_classifier.predict(X_train)\n",
    "pred_test = my_classifier.predict(X_test)\n",
    "\n",
    "# 평가 (accuracy_score 사용)\n",
    "print(f\"훈련 데이터 정확도: {accuracy_score(y_train, pred_train)}\")\n",
    "print(f\"테스트 데이터 정확도: {accuracy_score(y_test, pred_test)}\")"
   ]
  },
  {
   "cell_type": "markdown",
   "id": "7bc49ed0",
   "metadata": {},
   "source": [
    "##### 혼동행렬 (Confusion Matrix)\n",
    "\n",
    "|               | 예측 값 부정 (Negative) | 예측 값 긍정 (Positive) |\n",
    "|---------------|------------------------|------------------------|\n",
    "| 실제 값 부정 (Negative) | True Negative (TN)         | False Positive (FP)        |\n",
    "| 실제 값 긍정 (Positive) | False Negative (FN)        | True Positive (TP)         |\n",
    "\n",
    "\n",
    "![](https://d.pr/i/rtYBJv+)"
   ]
  },
  {
   "cell_type": "code",
   "execution_count": 107,
   "id": "c1406af7",
   "metadata": {},
   "outputs": [],
   "source": [
    "# from sklearn.datasets import load_digits\n",
    "# from sklearn.ensemble import RandomForestClassifier\n",
    "# from sklearn.metrics import confusion_matrix\n",
    "# import matplotlib.pyplot as plt\n",
    "# import seaborn as sns\n",
    "\n",
    "# digits = load_digits()\n",
    "# X_train, X_test, y_train, y_test = train_test_split(digits.data, digits.target, test_size=0.2, random_state=42)\n",
    "\n",
    "# model = RandomForestClassifier(n_estimators=100, random_state=42)\n",
    "# model.fit(X_train, y_train)\n",
    "\n",
    "# y_pred = model.predict(X_test)\n",
    "\n",
    "# cm = confusion_matrix(y_test, y_pred)\n",
    "\n",
    "# sns.heatmap(cm, annot=True, fmt='d',\n",
    "#              xticklabels=digits.target_names, yticklabels=digits.target_names)\n",
    "# plt.xlabel('Predicted')\n",
    "# plt.ylabel('Actual')\n",
    "# plt.show()"
   ]
  },
  {
   "cell_type": "markdown",
   "id": "fc42b18c",
   "metadata": {},
   "source": [
    "- 정밀도 (Precision)\n",
    "    - 양성이라고 예측한 것(TP + FP)중에 실제 양성(TP)일 확률\n",
    "    - 정밀도가 중요한 지표인 경우: 음성인 데이터를 양성으로 예측하면 안되는 경우 (스팸메일 분류 등)"
   ]
  },
  {
   "cell_type": "code",
   "execution_count": 108,
   "id": "4f512d8a",
   "metadata": {},
   "outputs": [],
   "source": [
    "from sklearn.metrics import confusion_matrix, precision_score, recall_score"
   ]
  },
  {
   "cell_type": "code",
   "execution_count": 109,
   "id": "114f6fda",
   "metadata": {},
   "outputs": [
    {
     "data": {
      "text/plain": [
       "array([[115,  24],\n",
       "       [ 25,  59]])"
      ]
     },
     "execution_count": 109,
     "metadata": {},
     "output_type": "execute_result"
    }
   ],
   "source": [
    "matrix = confusion_matrix(y_test, pred_test)\n",
    "matrix"
   ]
  },
  {
   "cell_type": "code",
   "execution_count": 110,
   "id": "57e982d1",
   "metadata": {},
   "outputs": [
    {
     "data": {
      "text/plain": [
       "(0.7411764705882353, 0.7108433734939759)"
      ]
     },
     "execution_count": 110,
     "metadata": {},
     "output_type": "execute_result"
    }
   ],
   "source": [
    "p_score = 63 / (63 + 22)\n",
    "p_score, precision_score(y_test, pred_test)"
   ]
  },
  {
   "cell_type": "markdown",
   "id": "28729364",
   "metadata": {},
   "source": [
    "- 재현율 (Recall)\n",
    "    - 실제 양성(TP + FN)중에 양성으로 예측(TP)한 확률\n",
    "    - 재현율이 중요한 경우: 양성인 데이터를 음성으로 예측하면 안되는 경우(암 진단, 보험/금융 사기 등)"
   ]
  },
  {
   "cell_type": "code",
   "execution_count": 111,
   "id": "e5e726d8",
   "metadata": {},
   "outputs": [
    {
     "data": {
      "text/plain": [
       "0.7023809523809523"
      ]
     },
     "execution_count": 111,
     "metadata": {},
     "output_type": "execute_result"
    }
   ],
   "source": [
    "recall_score(y_test, pred_test)"
   ]
  },
  {
   "cell_type": "code",
   "execution_count": 112,
   "id": "86157b81",
   "metadata": {},
   "outputs": [],
   "source": [
    "# 오차행렬, 정확도, 정밀도, 재현율 계산 및 출력 함수\n",
    "def evaluate_binary_classification(y_true, y_pred):\n",
    "    print('혼동행렬:\\n', confusion_matrix(y_true, y_pred))\n",
    "    print(f'정확도: {accuracy_score(y_true, y_pred)}, 정밀도: {precision_score(y_true, y_pred)}, 재현율: {recall_score(y_true, y_pred)}')"
   ]
  },
  {
   "cell_type": "code",
   "execution_count": 113,
   "id": "7364ca50",
   "metadata": {},
   "outputs": [],
   "source": [
    "# 잘못 학습된 모델 만들어보기(2)\n",
    "class MyDeathClassifier(BaseEstimator):\n",
    "\n",
    "    def fit(self, X, y):\n",
    "        pass\n",
    "\n",
    "    def predict(self, X):\n",
    "        return np.zeros((X.shape[0], 1))"
   ]
  },
  {
   "cell_type": "code",
   "execution_count": 114,
   "id": "4f32c4fb",
   "metadata": {},
   "outputs": [
    {
     "name": "stdout",
     "output_type": "stream",
     "text": [
      "혼동행렬:\n",
      " [[410   0]\n",
      " [258   0]]\n",
      "정확도: 0.6137724550898204, 정밀도: 0.0, 재현율: 0.0\n",
      "혼동행렬:\n",
      " [[139   0]\n",
      " [ 84   0]]\n",
      "정확도: 0.6233183856502242, 정밀도: 0.0, 재현율: 0.0\n"
     ]
    },
    {
     "name": "stderr",
     "output_type": "stream",
     "text": [
      "c:\\Users\\Playdata\\anaconda3\\envs\\ml_env\\Lib\\site-packages\\sklearn\\metrics\\_classification.py:1731: UndefinedMetricWarning: Precision is ill-defined and being set to 0.0 due to no predicted samples. Use `zero_division` parameter to control this behavior.\n",
      "  _warn_prf(average, modifier, f\"{metric.capitalize()} is\", result.shape[0])\n",
      "c:\\Users\\Playdata\\anaconda3\\envs\\ml_env\\Lib\\site-packages\\sklearn\\metrics\\_classification.py:1731: UndefinedMetricWarning: Precision is ill-defined and being set to 0.0 due to no predicted samples. Use `zero_division` parameter to control this behavior.\n",
      "  _warn_prf(average, modifier, f\"{metric.capitalize()} is\", result.shape[0])\n"
     ]
    }
   ],
   "source": [
    "my_classifier = MyDeathClassifier()\n",
    "my_classifier.fit(X_train, y_train)\n",
    "\n",
    "pred_train = my_classifier.predict(X_train)\n",
    "pred_test = my_classifier.predict(X_test)\n",
    "\n",
    "evaluate_binary_classification(y_train, pred_train)\n",
    "evaluate_binary_classification(y_test, pred_test)"
   ]
  },
  {
   "cell_type": "code",
   "execution_count": 115,
   "id": "33bb720f",
   "metadata": {},
   "outputs": [
    {
     "name": "stdout",
     "output_type": "stream",
     "text": [
      "혼동행렬:\n",
      " [[350  60]\n",
      " [ 77 181]]\n",
      "정확도: 0.7949101796407185, 정밀도: 0.7510373443983402, 재현율: 0.7015503875968992\n",
      "혼동행렬:\n",
      " [[117  22]\n",
      " [ 23  61]]\n",
      "정확도: 0.7982062780269058, 정밀도: 0.7349397590361446, 재현율: 0.7261904761904762\n"
     ]
    },
    {
     "name": "stderr",
     "output_type": "stream",
     "text": [
      "c:\\Users\\Playdata\\anaconda3\\envs\\ml_env\\Lib\\site-packages\\sklearn\\linear_model\\_logistic.py:473: ConvergenceWarning: lbfgs failed to converge after 100 iteration(s) (status=1):\n",
      "STOP: TOTAL NO. OF ITERATIONS REACHED LIMIT\n",
      "\n",
      "Increase the number of iterations to improve the convergence (max_iter=100).\n",
      "You might also want to scale the data as shown in:\n",
      "    https://scikit-learn.org/stable/modules/preprocessing.html\n",
      "Please also refer to the documentation for alternative solver options:\n",
      "    https://scikit-learn.org/stable/modules/linear_model.html#logistic-regression\n",
      "  n_iter_i = _check_optimize_result(\n"
     ]
    }
   ],
   "source": [
    "from sklearn.linear_model import LogisticRegression\n",
    "\n",
    "# 모델 학습\n",
    "lr_clf = LogisticRegression()\n",
    "lr_clf.fit(X_train, y_train)\n",
    "\n",
    "# 예측\n",
    "pred_train = lr_clf.predict(X_train)\n",
    "pred_test = lr_clf.predict(X_test)\n",
    "\n",
    "# 평가\n",
    "evaluate_binary_classification(y_train, pred_train)\n",
    "evaluate_binary_classification(y_test, pred_test)"
   ]
  },
  {
   "cell_type": "markdown",
   "id": "474fe96c",
   "metadata": {},
   "source": [
    "- 정밀도와 재현율의 trade-off\n",
    "    - 분류 결정 임계치(threshold)를 낮추면? positive로 예측할 확률이 높아진다.\n",
    "        - 정밀도는 낮아지고, 재현율은 높아진다.\n",
    "    - 분류 결정 임계치(threshold)를 높이면? positive로 예측할 확률이 낮아진다.\n",
    "        - 정밀도는 높아지고, 재현율은 낮아진다."
   ]
  },
  {
   "cell_type": "code",
   "execution_count": 116,
   "id": "23666722",
   "metadata": {},
   "outputs": [
    {
     "name": "stdout",
     "output_type": "stream",
     "text": [
      "[[0.83741741 0.16258259]\n",
      " [0.88842911 0.11157089]\n",
      " [0.92060845 0.07939155]\n",
      " [0.0559761  0.9440239 ]\n",
      " [0.29857741 0.70142259]\n",
      " [0.50640704 0.49359296]\n",
      " [0.09195634 0.90804366]]\n",
      "[0 0 0 1 1 0 1]\n"
     ]
    }
   ],
   "source": [
    "pred_proba = lr_clf.predict_proba(X_test)\n",
    "print(pred_proba[:7])\n",
    "\n",
    "pred = lr_clf.predict(X_test)\n",
    "print(pred[:7])"
   ]
  },
  {
   "cell_type": "code",
   "execution_count": 117,
   "id": "b80a4f7f",
   "metadata": {},
   "outputs": [
    {
     "data": {
      "text/plain": [
       "array([[0., 0., 1.],\n",
       "       [1., 0., 0.],\n",
       "       [0., 1., 1.]])"
      ]
     },
     "execution_count": 117,
     "metadata": {},
     "output_type": "execute_result"
    }
   ],
   "source": [
    "from sklearn.preprocessing import Binarizer\n",
    "\n",
    "temp_X = [[1, -1, 2], [2, 0, 0.8], [0, 1.1, 1.2]]\n",
    "# Binarizer(threshold)\n",
    "# - threshold보다 크면(초과) 1 반환\n",
    "# - threshold보다 작거나 같으면 0 반환\n",
    "binarizer = Binarizer(threshold=1)\n",
    "adj_X = binarizer.fit_transform(temp_X)\n",
    "adj_X"
   ]
  },
  {
   "cell_type": "code",
   "execution_count": 118,
   "id": "272ec170",
   "metadata": {},
   "outputs": [
    {
     "name": "stdout",
     "output_type": "stream",
     "text": [
      "혼동행렬:\n",
      " [[117  22]\n",
      " [ 23  61]]\n",
      "정확도: 0.7982062780269058, 정밀도: 0.7349397590361446, 재현율: 0.7261904761904762\n",
      "혼동행렬:\n",
      " [[124  15]\n",
      " [ 30  54]]\n",
      "정확도: 0.7982062780269058, 정밀도: 0.782608695652174, 재현율: 0.6428571428571429\n"
     ]
    }
   ],
   "source": [
    "from sklearn.preprocessing import Binarizer\n",
    "\n",
    "# 1(생존)일 확률만 가져오고 + 배치 차원 추가\n",
    "predict_proba_1 = pred_proba[:, 1].reshape(-1, 1)\n",
    "\n",
    "binarizer = Binarizer(threshold=0.5)\n",
    "custom_pred = binarizer.fit_transform(predict_proba_1)\n",
    "evaluate_binary_classification(y_test, custom_pred)\n",
    "\n",
    "binarizer = Binarizer(threshold=0.6)\n",
    "custom_pred = binarizer.fit_transform(predict_proba_1)\n",
    "evaluate_binary_classification(y_test, custom_pred)"
   ]
  },
  {
   "cell_type": "markdown",
   "id": "e434d0de",
   "metadata": {},
   "source": [
    "### 회귀모델 평가"
   ]
  },
  {
   "cell_type": "code",
   "execution_count": 120,
   "id": "62da0621",
   "metadata": {},
   "outputs": [
    {
     "name": "stdout",
     "output_type": "stream",
     "text": [
      "혼동행렬:\n",
      " [[109  30]\n",
      " [ 19  65]]\n",
      "정확도: 0.7802690582959642, 정밀도: 0.6842105263157895, 재현율: 0.7738095238095238\n",
      "혼동행렬:\n",
      " [[114  25]\n",
      " [ 19  65]]\n",
      "정확도: 0.8026905829596412, 정밀도: 0.7222222222222222, 재현율: 0.7738095238095238\n",
      "혼동행렬:\n",
      " [[117  22]\n",
      " [ 23  61]]\n",
      "정확도: 0.7982062780269058, 정밀도: 0.7349397590361446, 재현율: 0.7261904761904762\n",
      "혼동행렬:\n",
      " [[121  18]\n",
      " [ 23  61]]\n",
      "정확도: 0.8161434977578476, 정밀도: 0.7721518987341772, 재현율: 0.7261904761904762\n",
      "혼동행렬:\n",
      " [[124  15]\n",
      " [ 30  54]]\n",
      "정확도: 0.7982062780269058, 정밀도: 0.782608695652174, 재현율: 0.6428571428571429\n"
     ]
    }
   ],
   "source": [
    "# 임계치 별 평가 결과 확인\n",
    "thresholds = [0.4, 0.45, 0.5, 0.55, 0.6]\n",
    "\n",
    "def evaluate_by_threshold(y_true, y_pred, thresholds):\n",
    "    for threshold in thresholds:\n",
    "        binarizer = Binarizer(threshold=threshold)\n",
    "        custom_pred = binarizer.fit_transform(y_pred)\n",
    "        evaluate_binary_classification(y_true, custom_pred)\n",
    "\n",
    "evaluate_by_threshold(y_test, predict_proba_1, thresholds)"
   ]
  },
  {
   "cell_type": "code",
   "execution_count": 122,
   "id": "3ed7d18d",
   "metadata": {},
   "outputs": [
    {
     "data": {
      "text/plain": [
       "((212,), (212,), (211,))"
      ]
     },
     "execution_count": 122,
     "metadata": {},
     "output_type": "execute_result"
    }
   ],
   "source": [
    "# 정밀도-재현율 변화 과정 시각화\n",
    "from sklearn.metrics import precision_recall_curve\n",
    "\n",
    "# threshold에 따른 precision, recall 값 반환\n",
    "precisions, recalls, thresholds = precision_recall_curve(y_test, predict_proba_1)\n",
    "\n",
    "precisions.shape, recalls.shape, thresholds.shape"
   ]
  }
 ],
 "metadata": {
  "kernelspec": {
   "display_name": "ml_env",
   "language": "python",
   "name": "python3"
  },
  "language_info": {
   "codemirror_mode": {
    "name": "ipython",
    "version": 3
   },
   "file_extension": ".py",
   "mimetype": "text/x-python",
   "name": "python",
   "nbconvert_exporter": "python",
   "pygments_lexer": "ipython3",
   "version": "3.12.11"
  }
 },
 "nbformat": 4,
 "nbformat_minor": 5
}
