{
 "cells": [
  {
   "cell_type": "code",
   "execution_count": 16,
   "id": "fe200a9b",
   "metadata": {},
   "outputs": [],
   "source": [
    "import warnings\n",
    "warnings.filterwarnings('ignore')"
   ]
  },
  {
   "cell_type": "markdown",
   "id": "da5744fc",
   "metadata": {},
   "source": [
    "### 교차 검증 실습"
   ]
  },
  {
   "cell_type": "code",
   "execution_count": 17,
   "id": "6d7d23b4",
   "metadata": {},
   "outputs": [],
   "source": [
    "import numpy as np\n",
    "import pandas as pd\n",
    "from sklearn.preprocessing import StandardScaler\n",
    "from sklearn.linear_model import LogisticRegression\n",
    "from sklearn.model_selection import train_test_split"
   ]
  },
  {
   "cell_type": "code",
   "execution_count": 18,
   "id": "a30f165a",
   "metadata": {},
   "outputs": [],
   "source": [
    "fish_df = pd.read_csv('../../data/fish.csv')\n",
    "fish_input = fish_df.drop('Species', axis=1)\n",
    "fish_target = fish_df['Species']\n",
    "\n",
    "X_train, X_test, y_train, y_test = train_test_split(fish_input, fish_target, random_state=42, stratify=fish_target)\n",
    "\n",
    "scaler = StandardScaler()\n",
    "X_train_scaled = scaler.fit_transform(X_train)\n",
    "X_test_scaled = scaler.transform(X_test)"
   ]
  },
  {
   "cell_type": "markdown",
   "id": "3314c159",
   "metadata": {},
   "source": [
    "### 생선 다중 분류 with cross_val_score"
   ]
  },
  {
   "cell_type": "code",
   "execution_count": 28,
   "id": "a5665464",
   "metadata": {},
   "outputs": [
    {
     "name": "stdout",
     "output_type": "stream",
     "text": [
      "훈련별 정확도:  [0.6875     0.9375     0.96875    1.         0.67741935]\n",
      "모델 정확도 0.854233870967742\n"
     ]
    }
   ],
   "source": [
    "# 교차검증 점수\n",
    "from sklearn.model_selection import cross_val_score\n",
    "\n",
    "lg_clf = LogisticRegression(max_iter=1000, solver='newton-cg')\n",
    "\n",
    "scores = cross_val_score(lg_clf, fish_input, fish_target, cv=5, scoring='accuracy')\n",
    "\n",
    "\n",
    "# 학습/예측/평가\n",
    "print(\"훈련별 정확도: \", scores)\n",
    "print(\"모델 정확도\", np.mean(scores))"
   ]
  },
  {
   "cell_type": "markdown",
   "id": "f10ca13d",
   "metadata": {},
   "source": [
    "### 생선 다중 분류 with GridSearchCV"
   ]
  },
  {
   "cell_type": "code",
   "execution_count": 33,
   "id": "b4ddfbb4",
   "metadata": {},
   "outputs": [
    {
     "name": "stdout",
     "output_type": "stream",
     "text": [
      "최적의 파라미터:  {'max_iter': 1000, 'solver': 'lbfgs'}\n",
      "최적화된 모델 객체:  LogisticRegression(max_iter=1000)\n",
      "최적화된 점수:  0.917741935483871\n"
     ]
    },
    {
     "data": {
      "text/plain": [
       "0.975"
      ]
     },
     "execution_count": 33,
     "metadata": {},
     "output_type": "execute_result"
    }
   ],
   "source": [
    "# GridSearchCV 사용 -> 최적의 파라미터, 평가점수, 모델확인\n",
    "from sklearn.model_selection import GridSearchCV, StratifiedKFold\n",
    "params = {\n",
    "    'max_iter': [10, 100, 200, 500, 1000, 1500],\n",
    "    'solver': ['liblinear', 'newton-cg', 'lbfgs']\n",
    "}\n",
    "stratifiedkfold = StratifiedKFold()\n",
    "grid = GridSearchCV(lg_clf, param_grid=params, scoring='accuracy', cv=stratifiedkfold)\n",
    "\n",
    "grid.fit(fish_input, fish_target)\n",
    "print(\"최적의 파라미터: \", grid.best_params_)\n",
    "print(\"최적화된 모델 객체: \", grid.best_estimator_)\n",
    "print(\"최적화된 점수: \", grid.best_score_)\n",
    "\n",
    "# 예측 결과 평가\n",
    "best_model = grid.best_estimator_\n",
    "best_model.fit(X_train, y_train)\n",
    "best_model.score(X_test, y_test)"
   ]
  },
  {
   "cell_type": "markdown",
   "id": "ab0f700b",
   "metadata": {},
   "source": [
    "---\n",
    "### HyperOpt\n",
    "\n",
    "---\n",
    "\n",
    "### Optuna"
   ]
  },
  {
   "cell_type": "markdown",
   "id": "70d84b9c",
   "metadata": {},
   "source": [
    "**hyper.hp클래스**\n",
    "<table border=\"1\">\n",
    "  <thead>\n",
    "    <tr>\n",
    "      <th>함수명</th>\n",
    "      <th>설명</th>\n",
    "      <th>사용 방법</th>\n",
    "      <th>예시 코드</th>\n",
    "    </tr>\n",
    "  </thead>\n",
    "  <tbody>\n",
    "    <tr>\n",
    "      <td>hp.uniform</td>\n",
    "      <td>연속적인 실수 값 샘플링</td>\n",
    "      <td>hp.uniform(label, low, high)</td>\n",
    "      <td><code>hp.uniform('learning_rate', 0.01, 0.1)</code></td>\n",
    "    </tr>\n",
    "    <tr>\n",
    "      <td>hp.quniform</td>\n",
    "      <td>연속적이지만 일정 간격(q)을 갖는 값 샘플링</td>\n",
    "      <td>hp.quniform(label, low, high, q)</td>\n",
    "      <td><code>hp.quniform('num_layers', 1, 5, 1)</code></td>\n",
    "    </tr>\n",
    "    <tr>\n",
    "      <td>hp.loguniform</td>\n",
    "      <td>로그 스케일로 분포된 실수 값 샘플링</td>\n",
    "      <td>hp.loguniform(label, low, high)</td>\n",
    "      <td><code>hp.loguniform('reg_param', -3, 0)</code></td>\n",
    "    </tr>\n",
    "    <tr>\n",
    "      <td>hp.randint</td>\n",
    "      <td>정수 값 샘플링</td>\n",
    "      <td>hp.randint(label, upper)</td>\n",
    "      <td><code>hp.randint('num_trees', 1, 100)</code></td>\n",
    "    </tr>\n",
    "    <tr>\n",
    "      <td>hp.choice</td>\n",
    "      <td>주어진 리스트 중 임의의 값 샘플링</td>\n",
    "      <td>hp.choice(label, options)</td>\n",
    "      <td><code>hp.choice('optimizer', ['adam', 'sgd', 'rmsprop'])</code></td>\n",
    "    </tr>\n",
    "    <tr>\n",
    "      <td>hp.normal</td>\n",
    "      <td>정규분포에서 값 샘플링</td>\n",
    "      <td>hp.normal(label, mean, std)</td>\n",
    "      <td><code>hp.normal('dropout_rate', 0.3, 0.05)</code></td>\n",
    "    </tr>\n",
    "    <tr>\n",
    "      <td>hp.lognormal</td>\n",
    "      <td>로그 정규분포에서 값 샘플링</td>\n",
    "      <td>hp.lognormal(label, mean, std)</td>\n",
    "      <td><code>hp.lognormal('scale', 0, 1)</code></td>\n",
    "    </tr>\n",
    "  </tbody>\n",
    "</table>"
   ]
  },
  {
   "cell_type": "code",
   "execution_count": null,
   "id": "d052fa4e",
   "metadata": {},
   "outputs": [],
   "source": [
    "!pip install hyperopt"
   ]
  },
  {
   "cell_type": "code",
   "execution_count": null,
   "id": "13565476",
   "metadata": {},
   "outputs": [],
   "source": [
    "!pip install optuna"
   ]
  },
  {
   "cell_type": "code",
   "execution_count": 36,
   "id": "37719db6",
   "metadata": {},
   "outputs": [],
   "source": [
    "from hyperopt import hp\n",
    "\n",
    "search_space = {\n",
    "    'x': hp.quniform('x', -10, 10, 1),\n",
    "    'y': hp.quniform('y', -15, 15, 1)\n",
    "}"
   ]
  },
  {
   "cell_type": "code",
   "execution_count": 37,
   "id": "e750573f",
   "metadata": {},
   "outputs": [],
   "source": [
    "import hyperopt\n",
    "\n",
    "# 목적 함수\n",
    "def objective(search_space):\n",
    "    x = search_space['x']\n",
    "    y = search_space['y']\n",
    "\n",
    "    return {\n",
    "        'loss': x**2 + 20 * y,\n",
    "        'status': hyperopt.STATUS_OK\n",
    "    }"
   ]
  },
  {
   "cell_type": "code",
   "execution_count": 39,
   "id": "9e1870c1",
   "metadata": {},
   "outputs": [
    {
     "name": "stdout",
     "output_type": "stream",
     "text": [
      "  0%|          | 0/500 [00:00<?, ?trial/s, best loss=?]"
     ]
    },
    {
     "name": "stdout",
     "output_type": "stream",
     "text": [
      "100%|██████████| 500/500 [00:05<00:00, 88.33trial/s, best loss: -300.0] \n"
     ]
    },
    {
     "data": {
      "text/plain": [
       "{'x': np.float64(0.0), 'y': np.float64(-15.0)}"
      ]
     },
     "execution_count": 39,
     "metadata": {},
     "output_type": "execute_result"
    }
   ],
   "source": [
    "from hyperopt import fmin, tpe, Trials\n",
    "\n",
    "# 하이퍼 파라미터 탐색 과정을 저장하는 객체\n",
    "trials = Trials()\n",
    "\n",
    "# fmin(): 목적 함수의 최소값을 찾는 함수\n",
    "best_val = fmin(\n",
    "    fn=objective,       # 목적함수\n",
    "    space=search_space, # 검색공간\n",
    "    algo=tpe.suggest,   # 베이지안 최적화 적용\n",
    "    max_evals=500,       # 반복 횟수\n",
    "    trials=trials       # 탐색과정 저장\n",
    ")\n",
    "\n",
    "best_val"
   ]
  },
  {
   "cell_type": "code",
   "execution_count": 46,
   "id": "8d97802a",
   "metadata": {},
   "outputs": [
    {
     "name": "stdout",
     "output_type": "stream",
     "text": [
      "[{'loss': -276.0, 'status': 'ok'}, {'loss': 261.0, 'status': 'ok'}, {'loss': -195.0, 'status': 'ok'}, {'loss': -204.0, 'status': 'ok'}, {'loss': -176.0, 'status': 'ok'}, {'loss': 285.0, 'status': 'ok'}, {'loss': 244.0, 'status': 'ok'}, {'loss': 41.0, 'status': 'ok'}, {'loss': -71.0, 'status': 'ok'}, {'loss': 24.0, 'status': 'ok'}]\n",
      "{'x': [np.float64(-2.0), np.float64(1.0), np.float64(5.0), np.float64(6.0), np.float64(-8.0), np.float64(5.0), np.float64(-2.0), np.float64(-1.0), np.float64(-7.0), np.float64(-8.0), np.float64(-1.0), np.float64(2.0), np.float64(-3.0), np.float64(0.0), np.float64(8.0), np.float64(-7.0), np.float64(9.0), np.float64(7.0), np.float64(2.0), np.float64(7.0), np.float64(-4.0), np.float64(-4.0), np.float64(-10.0), np.float64(-4.0), np.float64(-4.0), np.float64(-5.0), np.float64(-10.0), np.float64(-6.0), np.float64(-3.0), np.float64(-9.0), np.float64(-5.0), np.float64(3.0), np.float64(-0.0), np.float64(-2.0), np.float64(-6.0), np.float64(3.0), np.float64(-3.0), np.float64(-8.0), np.float64(-1.0), np.float64(1.0), np.float64(4.0), np.float64(-5.0), np.float64(-2.0), np.float64(-7.0), np.float64(-9.0), np.float64(1.0), np.float64(-4.0), np.float64(-2.0), np.float64(-1.0), np.float64(-0.0), np.float64(5.0), np.float64(-1.0), np.float64(2.0), np.float64(-6.0), np.float64(-1.0), np.float64(-3.0), np.float64(1.0), np.float64(4.0), np.float64(6.0), np.float64(10.0), np.float64(-8.0), np.float64(-9.0), np.float64(3.0), np.float64(2.0), np.float64(-4.0), np.float64(-3.0), np.float64(-5.0), np.float64(-2.0), np.float64(-1.0), np.float64(0.0), np.float64(1.0), np.float64(1.0), np.float64(4.0), np.float64(0.0), np.float64(6.0), np.float64(8.0), np.float64(5.0), np.float64(-0.0), np.float64(2.0), np.float64(1.0), np.float64(3.0), np.float64(4.0), np.float64(-2.0), np.float64(-1.0), np.float64(2.0), np.float64(0.0), np.float64(5.0), np.float64(3.0), np.float64(-3.0), np.float64(7.0), np.float64(0.0), np.float64(1.0), np.float64(2.0), np.float64(-1.0), np.float64(-6.0), np.float64(-4.0), np.float64(6.0), np.float64(-3.0), np.float64(8.0), np.float64(-2.0), np.float64(9.0), np.float64(3.0), np.float64(4.0), np.float64(-1.0), np.float64(-5.0), np.float64(1.0), np.float64(-7.0), np.float64(-0.0), np.float64(-2.0), np.float64(2.0), np.float64(-4.0), np.float64(7.0), np.float64(-3.0), np.float64(6.0), np.float64(1.0), np.float64(-1.0), np.float64(-6.0), np.float64(4.0), np.float64(3.0), np.float64(-2.0), np.float64(5.0), np.float64(2.0), np.float64(1.0), np.float64(-5.0), np.float64(-0.0), np.float64(-8.0), np.float64(-4.0), np.float64(3.0), np.float64(-5.0), np.float64(-1.0), np.float64(0.0), np.float64(-3.0), np.float64(4.0), np.float64(5.0), np.float64(-2.0), np.float64(1.0), np.float64(6.0), np.float64(2.0), np.float64(7.0), np.float64(-1.0), np.float64(10.0), np.float64(9.0), np.float64(-2.0), np.float64(-3.0), np.float64(3.0), np.float64(1.0), np.float64(1.0), np.float64(2.0), np.float64(-1.0), np.float64(0.0), np.float64(-0.0), np.float64(-0.0), np.float64(-2.0), np.float64(2.0), np.float64(-1.0), np.float64(4.0), np.float64(-0.0), np.float64(-4.0), np.float64(-3.0), np.float64(3.0), np.float64(-1.0), np.float64(1.0), np.float64(-2.0), np.float64(-0.0), np.float64(-5.0), np.float64(2.0), np.float64(-3.0), np.float64(3.0), np.float64(1.0), np.float64(5.0), np.float64(0.0), np.float64(-4.0), np.float64(-1.0), np.float64(2.0), np.float64(-2.0), np.float64(4.0), np.float64(-1.0), np.float64(-7.0), np.float64(-6.0), np.float64(2.0), np.float64(-3.0), np.float64(-2.0), np.float64(1.0), np.float64(0.0), np.float64(1.0), np.float64(4.0), np.float64(-2.0), np.float64(-4.0), np.float64(3.0), np.float64(0.0), np.float64(-10.0), np.float64(-6.0), np.float64(-1.0), np.float64(2.0), np.float64(1.0), np.float64(6.0), np.float64(8.0), np.float64(-3.0), np.float64(3.0), np.float64(-5.0), np.float64(-1.0), np.float64(-4.0), np.float64(5.0), np.float64(-0.0), np.float64(5.0), np.float64(-2.0), np.float64(2.0), np.float64(-1.0), np.float64(-3.0), np.float64(1.0), np.float64(3.0), np.float64(4.0), np.float64(0.0), np.float64(-9.0), np.float64(-7.0), np.float64(-5.0), np.float64(-3.0), np.float64(7.0), np.float64(2.0), np.float64(1.0), np.float64(0.0), np.float64(4.0), np.float64(-1.0), np.float64(-2.0), np.float64(2.0), np.float64(0.0), np.float64(1.0), np.float64(-4.0), np.float64(3.0), np.float64(-2.0), np.float64(-3.0), np.float64(1.0), np.float64(-1.0), np.float64(6.0), np.float64(-2.0), np.float64(4.0), np.float64(-4.0), np.float64(5.0), np.float64(9.0), np.float64(3.0), np.float64(2.0), np.float64(-1.0), np.float64(0.0), np.float64(-5.0), np.float64(1.0), np.float64(-2.0), np.float64(2.0), np.float64(-7.0), np.float64(-0.0), np.float64(-3.0), np.float64(-6.0), np.float64(-1.0), np.float64(0.0), np.float64(-2.0), np.float64(-4.0), np.float64(-5.0), np.float64(-1.0), np.float64(1.0), np.float64(1.0), np.float64(3.0), np.float64(0.0), np.float64(2.0), np.float64(1.0), np.float64(3.0), np.float64(2.0), np.float64(1.0), np.float64(-0.0), np.float64(2.0), np.float64(4.0), np.float64(3.0), np.float64(0.0), np.float64(1.0), np.float64(-1.0), np.float64(5.0), np.float64(2.0), np.float64(-2.0), np.float64(-3.0), np.float64(-1.0), np.float64(-0.0), np.float64(-2.0), np.float64(-1.0), np.float64(0.0), np.float64(-3.0), np.float64(0.0), np.float64(-2.0), np.float64(4.0), np.float64(1.0), np.float64(-1.0), np.float64(-3.0), np.float64(-4.0), np.float64(-1.0), np.float64(-0.0), np.float64(-2.0), np.float64(3.0), np.float64(-1.0), np.float64(-3.0), np.float64(1.0), np.float64(2.0), np.float64(-0.0), np.float64(3.0), np.float64(2.0), np.float64(-2.0), np.float64(-4.0), np.float64(1.0), np.float64(-1.0), np.float64(0.0), np.float64(5.0), np.float64(4.0), np.float64(1.0), np.float64(2.0), np.float64(-2.0), np.float64(-1.0), np.float64(-3.0), np.float64(3.0), np.float64(0.0), np.float64(1.0), np.float64(2.0), np.float64(-0.0), np.float64(3.0), np.float64(4.0), np.float64(2.0), np.float64(1.0), np.float64(6.0), np.float64(8.0), np.float64(-6.0), np.float64(-0.0), np.float64(-1.0), np.float64(1.0), np.float64(4.0), np.float64(-1.0), np.float64(-2.0), np.float64(3.0), np.float64(2.0), np.float64(0.0), np.float64(-2.0), np.float64(-3.0), np.float64(-0.0), np.float64(7.0), np.float64(-4.0), np.float64(-3.0), np.float64(-8.0), np.float64(-2.0), np.float64(-1.0), np.float64(-5.0), np.float64(-0.0), np.float64(1.0), np.float64(0.0), np.float64(-2.0), np.float64(-1.0), np.float64(2.0), np.float64(1.0), np.float64(-3.0), np.float64(0.0), np.float64(-4.0), np.float64(-1.0), np.float64(5.0), np.float64(3.0), np.float64(-5.0), np.float64(-10.0), np.float64(1.0), np.float64(2.0), np.float64(-4.0), np.float64(0.0), np.float64(-2.0), np.float64(-1.0), np.float64(-3.0), np.float64(0.0), np.float64(10.0), np.float64(-2.0), np.float64(3.0), np.float64(1.0), np.float64(4.0), np.float64(2.0), np.float64(-1.0), np.float64(1.0), np.float64(0.0), np.float64(-1.0), np.float64(2.0), np.float64(-2.0), np.float64(1.0), np.float64(-3.0), np.float64(-6.0), np.float64(4.0), np.float64(5.0), np.float64(3.0), np.float64(-0.0), np.float64(-1.0), np.float64(-3.0), np.float64(-5.0), np.float64(-7.0), np.float64(-4.0), np.float64(2.0), np.float64(-0.0), np.float64(-1.0), np.float64(1.0), np.float64(-2.0), np.float64(3.0), np.float64(1.0), np.float64(0.0), np.float64(2.0), np.float64(6.0), np.float64(-0.0), np.float64(-1.0), np.float64(1.0), np.float64(0.0), np.float64(-2.0), np.float64(-0.0), np.float64(-1.0), np.float64(1.0), np.float64(-2.0), np.float64(0.0), np.float64(2.0), np.float64(-1.0), np.float64(1.0), np.float64(0.0), np.float64(-1.0), np.float64(-2.0), np.float64(0.0), np.float64(2.0), np.float64(-1.0), np.float64(2.0), np.float64(1.0), np.float64(3.0), np.float64(-1.0), np.float64(-2.0), np.float64(1.0), np.float64(-3.0), np.float64(0.0), np.float64(0.0), np.float64(2.0), np.float64(-1.0), np.float64(1.0), np.float64(3.0), np.float64(-0.0), np.float64(-2.0), np.float64(-3.0), np.float64(-0.0), np.float64(-4.0), np.float64(2.0), np.float64(0.0), np.float64(1.0), np.float64(-2.0), np.float64(-1.0), np.float64(1.0), np.float64(4.0), np.float64(-1.0), np.float64(3.0), np.float64(-3.0), np.float64(1.0), np.float64(0.0), np.float64(-2.0), np.float64(2.0), np.float64(-1.0), np.float64(-3.0), np.float64(1.0), np.float64(0.0), np.float64(3.0), np.float64(2.0), np.float64(-4.0), np.float64(-2.0), np.float64(-0.0), np.float64(-2.0), np.float64(-1.0), np.float64(1.0), np.float64(3.0), np.float64(2.0), np.float64(-1.0), np.float64(0.0), np.float64(4.0), np.float64(2.0), np.float64(-3.0), np.float64(-1.0), np.float64(1.0), np.float64(-0.0), np.float64(-2.0), np.float64(-1.0), np.float64(1.0), np.float64(2.0), np.float64(-2.0), np.float64(0.0), np.float64(3.0), np.float64(-4.0), np.float64(1.0), np.float64(-1.0), np.float64(-3.0), np.float64(4.0), np.float64(-8.0), np.float64(2.0), np.float64(-2.0), np.float64(0.0), np.float64(1.0), np.float64(-1.0), np.float64(-9.0), np.float64(-5.0), np.float64(-0.0), np.float64(5.0), np.float64(3.0), np.float64(2.0), np.float64(-3.0), np.float64(1.0)], 'y': [np.float64(-14.0), np.float64(13.0), np.float64(-11.0), np.float64(-12.0), np.float64(-12.0), np.float64(13.0), np.float64(12.0), np.float64(2.0), np.float64(-6.0), np.float64(-2.0), np.float64(11.0), np.float64(-1.0), np.float64(9.0), np.float64(-4.0), np.float64(1.0), np.float64(11.0), np.float64(6.0), np.float64(-6.0), np.float64(-11.0), np.float64(-1.0), np.float64(-15.0), np.float64(-15.0), np.float64(-9.0), np.float64(-14.0), np.float64(-15.0), np.float64(-9.0), np.float64(-8.0), np.float64(-14.0), np.float64(4.0), np.float64(-15.0), np.float64(-4.0), np.float64(-13.0), np.float64(15.0), np.float64(-10.0), np.float64(-12.0), np.float64(-7.0), np.float64(7.0), np.float64(-3.0), np.float64(-11.0), np.float64(-5.0), np.float64(3.0), np.float64(-13.0), np.float64(-7.0), np.float64(-10.0), np.float64(-13.0), np.float64(5.0), np.float64(1.0), np.float64(9.0), np.float64(-15.0), np.float64(-12.0), np.float64(-2.0), np.float64(-6.0), np.float64(14.0), np.float64(0.0), np.float64(-9.0), np.float64(-8.0), np.float64(-11.0), np.float64(-14.0), np.float64(-4.0), np.float64(8.0), np.float64(11.0), np.float64(-15.0), np.float64(-12.0), np.float64(-10.0), np.float64(2.0), np.float64(-14.0), np.float64(-13.0), np.float64(-15.0), np.float64(-8.0), np.float64(-15.0), np.float64(-15.0), np.float64(-7.0), np.float64(-10.0), np.float64(-5.0), np.float64(-14.0), np.float64(-11.0), np.float64(-13.0), np.float64(-9.0), np.float64(-12.0), np.float64(-15.0), np.float64(-2.0), np.float64(-11.0), np.float64(-6.0), np.float64(-3.0), np.float64(-5.0), np.float64(-13.0), np.float64(12.0), np.float64(-8.0), np.float64(-12.0), np.float64(-10.0), np.float64(-1.0), np.float64(-14.0), np.float64(5.0), np.float64(-15.0), np.float64(-7.0), np.float64(-9.0), np.float64(-11.0), np.float64(-14.0), np.float64(-13.0), np.float64(-0.0), np.float64(-12.0), np.float64(-4.0), np.float64(9.0), np.float64(10.0), np.float64(-3.0), np.float64(-7.0), np.float64(3.0), np.float64(15.0), np.float64(-9.0), np.float64(-15.0), np.float64(-8.0), np.float64(-10.0), np.float64(-11.0), np.float64(-6.0), np.float64(-14.0), np.float64(-5.0), np.float64(6.0), np.float64(1.0), np.float64(-12.0), np.float64(-14.0), np.float64(-13.0), np.float64(14.0), np.float64(-1.0), np.float64(-15.0), np.float64(-10.0), np.float64(-8.0), np.float64(-13.0), np.float64(-2.0), np.float64(-9.0), np.float64(-11.0), np.float64(3.0), np.float64(7.0), np.float64(-14.0), np.float64(-3.0), np.float64(-5.0), np.float64(-15.0), np.float64(-13.0), np.float64(-11.0), np.float64(-7.0), np.float64(-12.0), np.float64(-10.0), np.float64(-4.0), np.float64(-15.0), np.float64(-12.0), np.float64(2.0), np.float64(-14.0), np.float64(-15.0), np.float64(-13.0), np.float64(-12.0), np.float64(-15.0), np.float64(-14.0), np.float64(-9.0), np.float64(-10.0), np.float64(-11.0), np.float64(-13.0), np.float64(-15.0), np.float64(-14.0), np.float64(-13.0), np.float64(-8.0), np.float64(-11.0), np.float64(-15.0), np.float64(-12.0), np.float64(-10.0), np.float64(-9.0), np.float64(-14.0), np.float64(-6.0), np.float64(-11.0), np.float64(-15.0), np.float64(4.0), np.float64(-13.0), np.float64(-8.0), np.float64(-7.0), np.float64(-12.0), np.float64(13.0), np.float64(-12.0), np.float64(8.0), np.float64(-9.0), np.float64(-1.0), np.float64(-14.0), np.float64(-13.0), np.float64(-10.0), np.float64(-15.0), np.float64(-14.0), np.float64(1.0), np.float64(-7.0), np.float64(-11.0), np.float64(-10.0), np.float64(-5.0), np.float64(10.0), np.float64(-13.0), np.float64(-15.0), np.float64(-8.0), np.float64(-6.0), np.float64(-12.0), np.float64(-4.0), np.float64(-14.0), np.float64(-11.0), np.float64(-9.0), np.float64(-15.0), np.float64(5.0), np.float64(12.0), np.float64(-13.0), np.float64(0.0), np.float64(-14.0), np.float64(-15.0), np.float64(-12.0), np.float64(-11.0), np.float64(-3.0), np.float64(2.0), np.float64(-9.0), np.float64(-6.0), np.float64(-10.0), np.float64(-14.0), np.float64(-12.0), np.float64(-13.0), np.float64(-10.0), np.float64(7.0), np.float64(-8.0), np.float64(-14.0), np.float64(-7.0), np.float64(-12.0), np.float64(6.0), np.float64(4.0), np.float64(-15.0), np.float64(-13.0), np.float64(-11.0), np.float64(-15.0), np.float64(-4.0), np.float64(-13.0), np.float64(-9.0), np.float64(-6.0), np.float64(-11.0), np.float64(15.0), np.float64(-2.0), np.float64(10.0), np.float64(-14.0), np.float64(-9.0), np.float64(-15.0), np.float64(-12.0), np.float64(-10.0), np.float64(-7.0), np.float64(-13.0), np.float64(14.0), np.float64(-14.0), np.float64(-8.0), np.float64(-10.0), np.float64(-11.0), np.float64(-5.0), np.float64(-15.0), np.float64(1.0), np.float64(-13.0), np.float64(-14.0), np.float64(8.0), np.float64(-12.0), np.float64(-1.0), np.float64(-15.0), np.float64(-11.0), np.float64(-15.0), np.float64(-15.0), np.float64(-13.0), np.float64(-14.0), np.float64(-13.0), np.float64(-12.0), np.float64(-15.0), np.float64(-14.0), np.float64(-15.0), np.float64(-12.0), np.float64(-14.0), np.float64(-15.0), np.float64(-13.0), np.float64(-14.0), np.float64(-10.0), np.float64(-12.0), np.float64(-11.0), np.float64(-14.0), np.float64(-15.0), np.float64(-13.0), np.float64(-12.0), np.float64(-8.0), np.float64(-9.0), np.float64(-11.0), np.float64(-15.0), np.float64(-11.0), np.float64(-13.0), np.float64(3.0), np.float64(-14.0), np.float64(-12.0), np.float64(-13.0), np.float64(-14.0), np.float64(-10.0), np.float64(11.0), np.float64(-10.0), np.float64(-15.0), np.float64(-8.0), np.float64(-12.0), np.float64(-9.0), np.float64(-14.0), np.float64(-15.0), np.float64(-11.0), np.float64(-15.0), np.float64(-5.0), np.float64(-13.0), np.float64(-12.0), np.float64(-2.0), np.float64(-7.0), np.float64(-6.0), np.float64(6.0), np.float64(0.0), np.float64(-13.0), np.float64(-15.0), np.float64(-14.0), np.float64(-10.0), np.float64(-9.0), np.float64(-11.0), np.float64(-13.0), np.float64(-3.0), np.float64(5.0), np.float64(-12.0), np.float64(13.0), np.float64(-15.0), np.float64(9.0), np.float64(-14.0), np.float64(-11.0), np.float64(-10.0), np.float64(-12.0), np.float64(-8.0), np.float64(-14.0), np.float64(-15.0), np.float64(-13.0), np.float64(-13.0), np.float64(-14.0), np.float64(-9.0), np.float64(-7.0), np.float64(-15.0), np.float64(-10.0), np.float64(-12.0), np.float64(-8.0), np.float64(-11.0), np.float64(-15.0), np.float64(-14.0), np.float64(-10.0), np.float64(-9.0), np.float64(-13.0), np.float64(-11.0), np.float64(-12.0), np.float64(-14.0), np.float64(-15.0), np.float64(-4.0), np.float64(-15.0), np.float64(2.0), np.float64(-13.0), np.float64(-12.0), np.float64(-14.0), np.float64(12.0), np.float64(-10.0), np.float64(-6.0), np.float64(-7.0), np.float64(7.0), np.float64(-11.0), np.float64(-13.0), np.float64(-15.0), np.float64(-14.0), np.float64(-13.0), np.float64(-12.0), np.float64(-9.0), np.float64(-3.0), np.float64(-8.0), np.float64(-15.0), np.float64(-14.0), np.float64(-5.0), np.float64(-11.0), np.float64(11.0), np.float64(-14.0), np.float64(-15.0), np.float64(0.0), np.float64(-12.0), np.float64(-10.0), np.float64(-13.0), np.float64(-4.0), np.float64(-15.0), np.float64(4.0), np.float64(-11.0), np.float64(-12.0), np.float64(-7.0), np.float64(-8.0), np.float64(-13.0), np.float64(-9.0), np.float64(-15.0), np.float64(-14.0), np.float64(-11.0), np.float64(-10.0), np.float64(-1.0), np.float64(-12.0), np.float64(14.0), np.float64(-6.0), np.float64(-13.0), np.float64(-14.0), np.float64(-15.0), np.float64(-12.0), np.float64(8.0), np.float64(-10.0), np.float64(-15.0), np.float64(-14.0), np.float64(-15.0), np.float64(-13.0), np.float64(-14.0), np.float64(-15.0), np.float64(-13.0), np.float64(-14.0), np.float64(-15.0), np.float64(-15.0), np.float64(-14.0), np.float64(-12.0), np.float64(-13.0), np.float64(-15.0), np.float64(-11.0), np.float64(-13.0), np.float64(-14.0), np.float64(-15.0), np.float64(-12.0), np.float64(-13.0), np.float64(-14.0), np.float64(-12.0), np.float64(3.0), np.float64(-11.0), np.float64(-13.0), np.float64(-15.0), np.float64(-14.0), np.float64(-11.0), np.float64(-15.0), np.float64(-9.0), np.float64(-14.0), np.float64(-13.0), np.float64(-10.0), np.float64(1.0), np.float64(-12.0), np.float64(-15.0), np.float64(-15.0), np.float64(-15.0), np.float64(-13.0), np.float64(-12.0), np.float64(-14.0), np.float64(-11.0), np.float64(-14.0), np.float64(-11.0), np.float64(-13.0), np.float64(10.0), np.float64(-12.0), np.float64(-14.0), np.float64(-10.0), np.float64(-15.0), np.float64(-9.0), np.float64(-13.0), np.float64(-12.0), np.float64(-15.0), np.float64(-11.0), np.float64(4.0), np.float64(-14.0), np.float64(-14.0), np.float64(-12.0), np.float64(-10.0), np.float64(-8.0), np.float64(-15.0), np.float64(-13.0), np.float64(-2.0), np.float64(-13.0), np.float64(2.0), np.float64(-15.0), np.float64(-14.0), np.float64(-11.0), np.float64(-10.0), np.float64(-12.0), np.float64(-9.0), np.float64(-13.0), np.float64(-15.0), np.float64(-14.0), np.float64(-12.0), np.float64(5.0), np.float64(-14.0), np.float64(-9.0), np.float64(-13.0), np.float64(-15.0), np.float64(-11.0), np.float64(-12.0), np.float64(-7.0), np.float64(-15.0), np.float64(15.0), np.float64(-10.0), np.float64(-14.0), np.float64(-15.0), np.float64(7.0), np.float64(-13.0), np.float64(-12.0), np.float64(-8.0), np.float64(-11.0), np.float64(-14.0), np.float64(1.0), np.float64(-13.0), np.float64(-11.0), np.float64(9.0)]}\n"
     ]
    }
   ],
   "source": [
    "# 탐색과정 -> 목적함수 반환값 (loos와 실행 상태 저장)\n",
    "print(trials.results[:10])\n",
    "print(trials.vals)\n"
   ]
  },
  {
   "cell_type": "markdown",
   "id": "73e0aba3",
   "metadata": {},
   "source": [
    "- hyperopt를 활용한 XGBoost 하이퍼 파라미터 튜닝"
   ]
  },
  {
   "cell_type": "code",
   "execution_count": 47,
   "id": "69686917",
   "metadata": {},
   "outputs": [],
   "source": [
    "from xgboost import XGBClassifier\n",
    "from sklearn.datasets import load_breast_cancer\n",
    "from sklearn.model_selection import train_test_split, cross_val_score"
   ]
  },
  {
   "cell_type": "code",
   "execution_count": null,
   "id": "1f5be8ca",
   "metadata": {},
   "outputs": [],
   "source": [
    "data = load_breast_cancer()\n",
    "X_train, X_test, y_train, y_test = train_test_split(data.data, data.target, random_state=42)\n",
    "\n",
    "# 1. 검색 공간\n",
    "search_space = {\n",
    "    'n_estimators': hp.quniform('n_estimators', 100, 500, 100), \n",
    "    'max_depth': hp.quniform('max_depth', 3, 10, 1), \n",
    "    'learning_rate': hp.uniform('learning_rate', 0.01, 0.2), \n",
    "    'colsample_bytree': hp.uniform('colsample_bytree', 0.5, 1)\n",
    "\n",
    "}\n",
    "\n",
    "# 2. 목적함수\n",
    "def xgb_objective(search_space):\n",
    "    xgb_clf = XGBClassifier(\n",
    "        n_estimators=int(search_space['n_estimators']),\n",
    "        max_depth=int(search_space['max_depth']),\n",
    "        learning_rate=search_space['learning_rate'],\n",
    "        colsample_bytree=search_space['colsample_bytree']\n",
    "    )\n",
    "\n",
    "    return {\n",
    "        'loss': x**2 + 20 * y,\n",
    "        'status': hyperopt.STATUS_OK\n",
    "    }\n",
    "\n",
    "# 3. "
   ]
  }
 ],
 "metadata": {
  "kernelspec": {
   "display_name": "ml_env",
   "language": "python",
   "name": "python3"
  },
  "language_info": {
   "codemirror_mode": {
    "name": "ipython",
    "version": 3
   },
   "file_extension": ".py",
   "mimetype": "text/x-python",
   "name": "python",
   "nbconvert_exporter": "python",
   "pygments_lexer": "ipython3",
   "version": "3.12.11"
  }
 },
 "nbformat": 4,
 "nbformat_minor": 5
}
