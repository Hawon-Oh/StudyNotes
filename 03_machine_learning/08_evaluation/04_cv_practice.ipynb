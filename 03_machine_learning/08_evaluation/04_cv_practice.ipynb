{
 "cells": [
  {
   "cell_type": "code",
   "execution_count": 1,
   "id": "fe200a9b",
   "metadata": {},
   "outputs": [],
   "source": [
    "import warnings\n",
    "warnings.filterwarnings('ignore')"
   ]
  },
  {
   "cell_type": "markdown",
   "id": "da5744fc",
   "metadata": {},
   "source": [
    "### 교차 검증 실습"
   ]
  },
  {
   "cell_type": "code",
   "execution_count": 2,
   "id": "6d7d23b4",
   "metadata": {},
   "outputs": [],
   "source": [
    "import numpy as np\n",
    "import pandas as pd\n",
    "from sklearn.preprocessing import StandardScaler\n",
    "from sklearn.linear_model import LogisticRegression\n",
    "from sklearn.model_selection import train_test_split"
   ]
  },
  {
   "cell_type": "code",
   "execution_count": 3,
   "id": "a30f165a",
   "metadata": {},
   "outputs": [],
   "source": [
    "fish_df = pd.read_csv('../../data/fish.csv')\n",
    "fish_input = fish_df.drop('Species', axis=1)\n",
    "fish_target = fish_df['Species']\n",
    "\n",
    "X_train, X_test, y_train, y_test = train_test_split(fish_input, fish_target, random_state=42, stratify=fish_target)\n",
    "\n",
    "scaler = StandardScaler()\n",
    "X_train_scaled = scaler.fit_transform(X_train)\n",
    "X_test_scaled = scaler.transform(X_test)"
   ]
  },
  {
   "cell_type": "markdown",
   "id": "3314c159",
   "metadata": {},
   "source": [
    "### 생선 다중 분류 with cross_val_score"
   ]
  },
  {
   "cell_type": "code",
   "execution_count": 4,
   "id": "a5665464",
   "metadata": {},
   "outputs": [
    {
     "name": "stdout",
     "output_type": "stream",
     "text": [
      "훈련별 정확도:  [0.6875     0.9375     0.96875    1.         0.67741935]\n",
      "모델 정확도 0.854233870967742\n"
     ]
    }
   ],
   "source": [
    "# 교차검증 점수\n",
    "from sklearn.model_selection import cross_val_score\n",
    "\n",
    "lg_clf = LogisticRegression(max_iter=1000, solver='newton-cg')\n",
    "\n",
    "scores = cross_val_score(lg_clf, fish_input, fish_target, cv=5, scoring='accuracy')\n",
    "\n",
    "\n",
    "# 학습/예측/평가\n",
    "print(\"훈련별 정확도: \", scores)\n",
    "print(\"모델 정확도\", np.mean(scores))"
   ]
  },
  {
   "cell_type": "markdown",
   "id": "f10ca13d",
   "metadata": {},
   "source": [
    "### 생선 다중 분류 with GridSearchCV"
   ]
  },
  {
   "cell_type": "code",
   "execution_count": 5,
   "id": "b4ddfbb4",
   "metadata": {},
   "outputs": [
    {
     "name": "stdout",
     "output_type": "stream",
     "text": [
      "최적의 파라미터:  {'max_iter': 1000, 'solver': 'lbfgs'}\n",
      "최적화된 모델 객체:  LogisticRegression(max_iter=1000)\n",
      "최적화된 점수:  0.917741935483871\n"
     ]
    },
    {
     "data": {
      "text/plain": [
       "0.975"
      ]
     },
     "execution_count": 5,
     "metadata": {},
     "output_type": "execute_result"
    }
   ],
   "source": [
    "# GridSearchCV 사용 -> 최적의 파라미터, 평가점수, 모델확인\n",
    "from sklearn.model_selection import GridSearchCV, StratifiedKFold\n",
    "params = {\n",
    "    'max_iter': [10, 100, 200, 500, 1000, 1500],\n",
    "    'solver': ['liblinear', 'newton-cg', 'lbfgs']\n",
    "}\n",
    "stratifiedkfold = StratifiedKFold()\n",
    "grid = GridSearchCV(lg_clf, param_grid=params, scoring='accuracy', cv=stratifiedkfold)\n",
    "\n",
    "grid.fit(fish_input, fish_target)\n",
    "print(\"최적의 파라미터: \", grid.best_params_)\n",
    "print(\"최적화된 모델 객체: \", grid.best_estimator_)\n",
    "print(\"최적화된 점수: \", grid.best_score_)\n",
    "\n",
    "# 예측 결과 평가\n",
    "best_model = grid.best_estimator_\n",
    "best_model.fit(X_train, y_train)\n",
    "best_model.score(X_test, y_test)"
   ]
  },
  {
   "cell_type": "markdown",
   "id": "ab0f700b",
   "metadata": {},
   "source": [
    "---\n",
    "### HyperOpt\n",
    "\n",
    "---\n",
    "\n",
    "### Optuna"
   ]
  },
  {
   "cell_type": "markdown",
   "id": "70d84b9c",
   "metadata": {},
   "source": [
    "**hyper.hp클래스**\n",
    "<table border=\"1\">\n",
    "  <thead>\n",
    "    <tr>\n",
    "      <th>함수명</th>\n",
    "      <th>설명</th>\n",
    "      <th>사용 방법</th>\n",
    "      <th>예시 코드</th>\n",
    "    </tr>\n",
    "  </thead>\n",
    "  <tbody>\n",
    "    <tr>\n",
    "      <td>hp.uniform</td>\n",
    "      <td>연속적인 실수 값 샘플링</td>\n",
    "      <td>hp.uniform(label, low, high)</td>\n",
    "      <td><code>hp.uniform('learning_rate', 0.01, 0.1)</code></td>\n",
    "    </tr>\n",
    "    <tr>\n",
    "      <td>hp.quniform</td>\n",
    "      <td>연속적이지만 일정 간격(q)을 갖는 값 샘플링</td>\n",
    "      <td>hp.quniform(label, low, high, q)</td>\n",
    "      <td><code>hp.quniform('num_layers', 1, 5, 1)</code></td>\n",
    "    </tr>\n",
    "    <tr>\n",
    "      <td>hp.loguniform</td>\n",
    "      <td>로그 스케일로 분포된 실수 값 샘플링</td>\n",
    "      <td>hp.loguniform(label, low, high)</td>\n",
    "      <td><code>hp.loguniform('reg_param', -3, 0)</code></td>\n",
    "    </tr>\n",
    "    <tr>\n",
    "      <td>hp.randint</td>\n",
    "      <td>정수 값 샘플링</td>\n",
    "      <td>hp.randint(label, upper)</td>\n",
    "      <td><code>hp.randint('num_trees', 1, 100)</code></td>\n",
    "    </tr>\n",
    "    <tr>\n",
    "      <td>hp.choice</td>\n",
    "      <td>주어진 리스트 중 임의의 값 샘플링</td>\n",
    "      <td>hp.choice(label, options)</td>\n",
    "      <td><code>hp.choice('optimizer', ['adam', 'sgd', 'rmsprop'])</code></td>\n",
    "    </tr>\n",
    "    <tr>\n",
    "      <td>hp.normal</td>\n",
    "      <td>정규분포에서 값 샘플링</td>\n",
    "      <td>hp.normal(label, mean, std)</td>\n",
    "      <td><code>hp.normal('dropout_rate', 0.3, 0.05)</code></td>\n",
    "    </tr>\n",
    "    <tr>\n",
    "      <td>hp.lognormal</td>\n",
    "      <td>로그 정규분포에서 값 샘플링</td>\n",
    "      <td>hp.lognormal(label, mean, std)</td>\n",
    "      <td><code>hp.lognormal('scale', 0, 1)</code></td>\n",
    "    </tr>\n",
    "  </tbody>\n",
    "</table>"
   ]
  },
  {
   "cell_type": "code",
   "execution_count": 6,
   "id": "d052fa4e",
   "metadata": {},
   "outputs": [
    {
     "name": "stdout",
     "output_type": "stream",
     "text": [
      "Requirement already satisfied: hyperopt in c:\\users\\playdata\\anaconda3\\envs\\ml_env\\lib\\site-packages (0.2.7)\n",
      "Requirement already satisfied: numpy in c:\\users\\playdata\\anaconda3\\envs\\ml_env\\lib\\site-packages (from hyperopt) (2.3.3)\n",
      "Requirement already satisfied: scipy in c:\\users\\playdata\\anaconda3\\envs\\ml_env\\lib\\site-packages (from hyperopt) (1.16.1)\n",
      "Requirement already satisfied: six in c:\\users\\playdata\\anaconda3\\envs\\ml_env\\lib\\site-packages (from hyperopt) (1.17.0)\n",
      "Requirement already satisfied: networkx>=2.2 in c:\\users\\playdata\\anaconda3\\envs\\ml_env\\lib\\site-packages (from hyperopt) (3.5)\n",
      "Requirement already satisfied: future in c:\\users\\playdata\\anaconda3\\envs\\ml_env\\lib\\site-packages (from hyperopt) (1.0.0)\n",
      "Requirement already satisfied: tqdm in c:\\users\\playdata\\anaconda3\\envs\\ml_env\\lib\\site-packages (from hyperopt) (4.67.1)\n",
      "Requirement already satisfied: cloudpickle in c:\\users\\playdata\\anaconda3\\envs\\ml_env\\lib\\site-packages (from hyperopt) (3.1.1)\n",
      "Requirement already satisfied: py4j in c:\\users\\playdata\\anaconda3\\envs\\ml_env\\lib\\site-packages (from hyperopt) (0.10.9.9)\n",
      "Requirement already satisfied: colorama in c:\\users\\playdata\\anaconda3\\envs\\ml_env\\lib\\site-packages (from tqdm->hyperopt) (0.4.6)\n"
     ]
    }
   ],
   "source": [
    "!pip install hyperopt"
   ]
  },
  {
   "cell_type": "code",
   "execution_count": 7,
   "id": "13565476",
   "metadata": {},
   "outputs": [
    {
     "name": "stdout",
     "output_type": "stream",
     "text": [
      "Requirement already satisfied: optuna in c:\\users\\playdata\\anaconda3\\envs\\ml_env\\lib\\site-packages (4.5.0)\n",
      "Requirement already satisfied: alembic>=1.5.0 in c:\\users\\playdata\\anaconda3\\envs\\ml_env\\lib\\site-packages (from optuna) (1.16.5)\n",
      "Requirement already satisfied: colorlog in c:\\users\\playdata\\anaconda3\\envs\\ml_env\\lib\\site-packages (from optuna) (6.9.0)\n",
      "Requirement already satisfied: numpy in c:\\users\\playdata\\anaconda3\\envs\\ml_env\\lib\\site-packages (from optuna) (2.3.3)\n",
      "Requirement already satisfied: packaging>=20.0 in c:\\users\\playdata\\anaconda3\\envs\\ml_env\\lib\\site-packages (from optuna) (25.0)\n",
      "Requirement already satisfied: sqlalchemy>=1.4.2 in c:\\users\\playdata\\anaconda3\\envs\\ml_env\\lib\\site-packages (from optuna) (2.0.43)\n",
      "Requirement already satisfied: tqdm in c:\\users\\playdata\\anaconda3\\envs\\ml_env\\lib\\site-packages (from optuna) (4.67.1)\n",
      "Requirement already satisfied: PyYAML in c:\\users\\playdata\\anaconda3\\envs\\ml_env\\lib\\site-packages (from optuna) (6.0.2)\n",
      "Requirement already satisfied: Mako in c:\\users\\playdata\\anaconda3\\envs\\ml_env\\lib\\site-packages (from alembic>=1.5.0->optuna) (1.3.10)\n",
      "Requirement already satisfied: typing-extensions>=4.12 in c:\\users\\playdata\\anaconda3\\envs\\ml_env\\lib\\site-packages (from alembic>=1.5.0->optuna) (4.15.0)\n",
      "Requirement already satisfied: greenlet>=1 in c:\\users\\playdata\\anaconda3\\envs\\ml_env\\lib\\site-packages (from sqlalchemy>=1.4.2->optuna) (3.2.4)\n",
      "Requirement already satisfied: colorama in c:\\users\\playdata\\anaconda3\\envs\\ml_env\\lib\\site-packages (from colorlog->optuna) (0.4.6)\n",
      "Requirement already satisfied: MarkupSafe>=0.9.2 in c:\\users\\playdata\\anaconda3\\envs\\ml_env\\lib\\site-packages (from Mako->alembic>=1.5.0->optuna) (3.0.2)\n"
     ]
    }
   ],
   "source": [
    "!pip install optuna"
   ]
  },
  {
   "cell_type": "code",
   "execution_count": 8,
   "id": "37719db6",
   "metadata": {},
   "outputs": [],
   "source": [
    "from hyperopt import hp\n",
    "\n",
    "search_space = {\n",
    "    'x': hp.quniform('x', -10, 10, 1),\n",
    "    'y': hp.quniform('y', -15, 15, 1)\n",
    "}"
   ]
  },
  {
   "cell_type": "code",
   "execution_count": 9,
   "id": "e750573f",
   "metadata": {},
   "outputs": [],
   "source": [
    "import hyperopt\n",
    "\n",
    "# 목적 함수\n",
    "def objective(search_space):\n",
    "    x = search_space['x']\n",
    "    y = search_space['y']\n",
    "\n",
    "    return {\n",
    "        'loss': x**2 + 20 * y,\n",
    "        'status': hyperopt.STATUS_OK\n",
    "    }"
   ]
  },
  {
   "cell_type": "code",
   "execution_count": 10,
   "id": "9e1870c1",
   "metadata": {},
   "outputs": [
    {
     "name": "stdout",
     "output_type": "stream",
     "text": [
      "100%|██████████| 500/500 [00:06<00:00, 81.29trial/s, best loss: -300.0] \n"
     ]
    },
    {
     "data": {
      "text/plain": [
       "{'x': np.float64(0.0), 'y': np.float64(-15.0)}"
      ]
     },
     "execution_count": 10,
     "metadata": {},
     "output_type": "execute_result"
    }
   ],
   "source": [
    "from hyperopt import fmin, tpe, Trials\n",
    "\n",
    "# 하이퍼 파라미터 탐색 과정을 저장하는 객체\n",
    "trials = Trials()\n",
    "\n",
    "# fmin(): 목적 함수의 최소값을 찾는 함수\n",
    "best_val = fmin(\n",
    "    fn=objective,       # 목적함수\n",
    "    space=search_space, # 검색공간\n",
    "    algo=tpe.suggest,   # 베이지안 최적화 적용\n",
    "    max_evals=500,       # 반복 횟수\n",
    "    trials=trials       # 탐색과정 저장\n",
    ")\n",
    "\n",
    "best_val"
   ]
  },
  {
   "cell_type": "code",
   "execution_count": 11,
   "id": "8d97802a",
   "metadata": {},
   "outputs": [
    {
     "name": "stdout",
     "output_type": "stream",
     "text": [
      "[{'loss': -11.0, 'status': 'ok'}, {'loss': -96.0, 'status': 'ok'}, {'loss': 144.0, 'status': 'ok'}, {'loss': 216.0, 'status': 'ok'}, {'loss': 16.0, 'status': 'ok'}, {'loss': -104.0, 'status': 'ok'}, {'loss': 205.0, 'status': 'ok'}, {'loss': 236.0, 'status': 'ok'}, {'loss': -216.0, 'status': 'ok'}, {'loss': 264.0, 'status': 'ok'}]\n",
      "{'x': [np.float64(7.0), np.float64(-2.0), np.float64(2.0), np.float64(-4.0), np.float64(-4.0), np.float64(-6.0), np.float64(-5.0), np.float64(4.0), np.float64(8.0), np.float64(2.0), np.float64(-1.0), np.float64(-4.0), np.float64(-2.0), np.float64(-9.0), np.float64(-6.0), np.float64(-9.0), np.float64(8.0), np.float64(-3.0), np.float64(8.0), np.float64(8.0), np.float64(5.0), np.float64(5.0), np.float64(5.0), np.float64(5.0), np.float64(1.0), np.float64(1.0), np.float64(10.0), np.float64(3.0), np.float64(3.0), np.float64(-0.0), np.float64(-0.0), np.float64(3.0), np.float64(1.0), np.float64(6.0), np.float64(10.0), np.float64(-2.0), np.float64(3.0), np.float64(1.0), np.float64(-7.0), np.float64(-1.0), np.float64(7.0), np.float64(-3.0), np.float64(2.0), np.float64(4.0), np.float64(-1.0), np.float64(-5.0), np.float64(7.0), np.float64(4.0), np.float64(9.0), np.float64(-7.0), np.float64(2.0), np.float64(6.0), np.float64(-2.0), np.float64(-3.0), np.float64(6.0), np.float64(-1.0), np.float64(-10.0), np.float64(-4.0), np.float64(1.0), np.float64(-5.0), np.float64(-0.0), np.float64(1.0), np.float64(-6.0), np.float64(4.0), np.float64(-8.0), np.float64(3.0), np.float64(2.0), np.float64(1.0), np.float64(0.0), np.float64(-0.0), np.float64(-3.0), np.float64(-1.0), np.float64(-4.0), np.float64(-2.0), np.float64(-2.0), np.float64(2.0), np.float64(-0.0), np.float64(-4.0), np.float64(-1.0), np.float64(5.0), np.float64(2.0), np.float64(3.0), np.float64(7.0), np.float64(4.0), np.float64(1.0), np.float64(9.0), np.float64(4.0), np.float64(-0.0), np.float64(1.0), np.float64(3.0), np.float64(-1.0), np.float64(-2.0), np.float64(-3.0), np.float64(6.0), np.float64(2.0), np.float64(-5.0), np.float64(1.0), np.float64(-6.0), np.float64(5.0), np.float64(-2.0), np.float64(-7.0), np.float64(0.0), np.float64(2.0), np.float64(5.0), np.float64(9.0), np.float64(-3.0), np.float64(-1.0), np.float64(4.0), np.float64(8.0), np.float64(3.0), np.float64(1.0), np.float64(6.0), np.float64(3.0), np.float64(-4.0), np.float64(-1.0), np.float64(0.0), np.float64(7.0), np.float64(2.0), np.float64(4.0), np.float64(-10.0), np.float64(-8.0), np.float64(-3.0), np.float64(1.0), np.float64(-5.0), np.float64(-2.0), np.float64(-6.0), np.float64(0.0), np.float64(-2.0), np.float64(-1.0), np.float64(4.0), np.float64(6.0), np.float64(-4.0), np.float64(2.0), np.float64(5.0), np.float64(2.0), np.float64(3.0), np.float64(10.0), np.float64(-0.0), np.float64(1.0), np.float64(-1.0), np.float64(-4.0), np.float64(-7.0), np.float64(3.0), np.float64(-3.0), np.float64(7.0), np.float64(1.0), np.float64(-0.0), np.float64(-1.0), np.float64(1.0), np.float64(4.0), np.float64(-2.0), np.float64(2.0), np.float64(3.0), np.float64(0.0), np.float64(1.0), np.float64(2.0), np.float64(-3.0), np.float64(-2.0), np.float64(-0.0), np.float64(-1.0), np.float64(2.0), np.float64(1.0), np.float64(4.0), np.float64(3.0), np.float64(5.0), np.float64(-2.0), np.float64(0.0), np.float64(-1.0), np.float64(6.0), np.float64(1.0), np.float64(-3.0), np.float64(-4.0), np.float64(3.0), np.float64(5.0), np.float64(-1.0), np.float64(3.0), np.float64(1.0), np.float64(4.0), np.float64(-5.0), np.float64(0.0), np.float64(2.0), np.float64(2.0), np.float64(-2.0), np.float64(1.0), np.float64(5.0), np.float64(-0.0), np.float64(-1.0), np.float64(-3.0), np.float64(2.0), np.float64(7.0), np.float64(-2.0), np.float64(3.0), np.float64(4.0), np.float64(-5.0), np.float64(6.0), np.float64(-1.0), np.float64(-0.0), np.float64(2.0), np.float64(3.0), np.float64(1.0), np.float64(-4.0), np.float64(0.0), np.float64(-1.0), np.float64(-3.0), np.float64(-2.0), np.float64(-0.0), np.float64(1.0), np.float64(-2.0), np.float64(-6.0), np.float64(-4.0), np.float64(-9.0), np.float64(4.0), np.float64(-2.0), np.float64(0.0), np.float64(-3.0), np.float64(-1.0), np.float64(-1.0), np.float64(2.0), np.float64(5.0), np.float64(-6.0), np.float64(-5.0), np.float64(1.0), np.float64(8.0), np.float64(2.0), np.float64(9.0), np.float64(3.0), np.float64(-3.0), np.float64(-8.0), np.float64(1.0), np.float64(0.0), np.float64(4.0), np.float64(-1.0), np.float64(2.0), np.float64(-0.0), np.float64(3.0), np.float64(6.0), np.float64(1.0), np.float64(5.0), np.float64(-4.0), np.float64(-2.0), np.float64(-1.0), np.float64(7.0), np.float64(4.0), np.float64(3.0), np.float64(1.0), np.float64(-0.0), np.float64(-2.0), np.float64(2.0), np.float64(-3.0), np.float64(-4.0), np.float64(-5.0), np.float64(-3.0), np.float64(-0.0), np.float64(-7.0), np.float64(5.0), np.float64(-1.0), np.float64(1.0), np.float64(1.0), np.float64(2.0), np.float64(3.0), np.float64(0.0), np.float64(1.0), np.float64(1.0), np.float64(-1.0), np.float64(2.0), np.float64(1.0), np.float64(-2.0), np.float64(0.0), np.float64(4.0), np.float64(3.0), np.float64(-1.0), np.float64(0.0), np.float64(2.0), np.float64(3.0), np.float64(2.0), np.float64(4.0), np.float64(-2.0), np.float64(0.0), np.float64(-1.0), np.float64(-2.0), np.float64(0.0), np.float64(-3.0), np.float64(-1.0), np.float64(0.0), np.float64(1.0), np.float64(2.0), np.float64(-3.0), np.float64(-1.0), np.float64(-2.0), np.float64(1.0), np.float64(-0.0), np.float64(1.0), np.float64(-1.0), np.float64(-4.0), np.float64(-3.0), np.float64(-2.0), np.float64(-4.0), np.float64(-5.0), np.float64(-1.0), np.float64(-2.0), np.float64(2.0), np.float64(-0.0), np.float64(-10.0), np.float64(4.0), np.float64(3.0), np.float64(1.0), np.float64(1.0), np.float64(2.0), np.float64(-3.0), np.float64(-1.0), np.float64(3.0), np.float64(5.0), np.float64(-0.0), np.float64(-2.0), np.float64(-1.0), np.float64(-6.0), np.float64(-4.0), np.float64(4.0), np.float64(2.0), np.float64(0.0), np.float64(-5.0), np.float64(-3.0), np.float64(-6.0), np.float64(-1.0), np.float64(-2.0), np.float64(3.0), np.float64(2.0), np.float64(1.0), np.float64(-3.0), np.float64(-4.0), np.float64(-5.0), np.float64(-2.0), np.float64(-1.0), np.float64(0.0), np.float64(1.0), np.float64(-7.0), np.float64(-0.0), np.float64(3.0), np.float64(6.0), np.float64(2.0), np.float64(5.0), np.float64(-1.0), np.float64(-2.0), np.float64(0.0), np.float64(-0.0), np.float64(-3.0), np.float64(-2.0), np.float64(-4.0), np.float64(-1.0), np.float64(-3.0), np.float64(0.0), np.float64(-4.0), np.float64(-1.0), np.float64(1.0), np.float64(10.0), np.float64(2.0), np.float64(1.0), np.float64(0.0), np.float64(-0.0), np.float64(-2.0), np.float64(-0.0), np.float64(-1.0), np.float64(2.0), np.float64(1.0), np.float64(3.0), np.float64(-9.0), np.float64(-2.0), np.float64(-3.0), np.float64(-2.0), np.float64(4.0), np.float64(0.0), np.float64(-1.0), np.float64(8.0), np.float64(0.0), np.float64(1.0), np.float64(-1.0), np.float64(3.0), np.float64(-5.0), np.float64(2.0), np.float64(0.0), np.float64(1.0), np.float64(2.0), np.float64(-3.0), np.float64(-1.0), np.float64(1.0), np.float64(4.0), np.float64(-4.0), np.float64(3.0), np.float64(-2.0), np.float64(6.0), np.float64(0.0), np.float64(-3.0), np.float64(-2.0), np.float64(2.0), np.float64(-1.0), np.float64(-6.0), np.float64(1.0), np.float64(0.0), np.float64(-8.0), np.float64(3.0), np.float64(5.0), np.float64(-1.0), np.float64(-1.0), np.float64(-2.0), np.float64(-0.0), np.float64(1.0), np.float64(-1.0), np.float64(0.0), np.float64(-2.0), np.float64(0.0), np.float64(1.0), np.float64(-1.0), np.float64(2.0), np.float64(-3.0), np.float64(1.0), np.float64(-1.0), np.float64(0.0), np.float64(-2.0), np.float64(2.0), np.float64(2.0), np.float64(-1.0), np.float64(1.0), np.float64(4.0), np.float64(3.0), np.float64(0.0), np.float64(1.0), np.float64(-2.0), np.float64(-1.0), np.float64(2.0), np.float64(3.0), np.float64(-3.0), np.float64(-4.0), np.float64(-2.0), np.float64(1.0), np.float64(0.0), np.float64(1.0), np.float64(2.0), np.float64(-3.0), np.float64(-1.0), np.float64(-0.0), np.float64(-0.0), np.float64(0.0), np.float64(1.0), np.float64(0.0), np.float64(-0.0), np.float64(2.0), np.float64(-1.0), np.float64(1.0), np.float64(-2.0), np.float64(3.0), np.float64(1.0), np.float64(2.0), np.float64(-2.0), np.float64(-1.0), np.float64(-0.0), np.float64(-3.0), np.float64(-1.0), np.float64(1.0), np.float64(0.0), np.float64(3.0), np.float64(4.0), np.float64(-2.0), np.float64(2.0), np.float64(1.0), np.float64(-4.0), np.float64(-3.0), np.float64(-1.0), np.float64(-2.0), np.float64(2.0), np.float64(-0.0), np.float64(2.0), np.float64(-1.0), np.float64(-2.0), np.float64(3.0), np.float64(-5.0), np.float64(1.0), np.float64(0.0), np.float64(-3.0), np.float64(-1.0), np.float64(4.0), np.float64(-0.0), np.float64(1.0), np.float64(-2.0), np.float64(-1.0), np.float64(3.0), np.float64(2.0), np.float64(-4.0), np.float64(0.0), np.float64(1.0), np.float64(0.0), np.float64(-2.0), np.float64(-3.0), np.float64(1.0), np.float64(-1.0), np.float64(-4.0), np.float64(4.0), np.float64(2.0), np.float64(-0.0), np.float64(1.0), np.float64(-1.0)], 'y': [np.float64(-3.0), np.float64(-5.0), np.float64(7.0), np.float64(10.0), np.float64(0.0), np.float64(-7.0), np.float64(9.0), np.float64(11.0), np.float64(-14.0), np.float64(13.0), np.float64(14.0), np.float64(7.0), np.float64(-3.0), np.float64(14.0), np.float64(13.0), np.float64(-13.0), np.float64(-2.0), np.float64(3.0), np.float64(3.0), np.float64(-13.0), np.float64(-15.0), np.float64(-10.0), np.float64(-15.0), np.float64(-10.0), np.float64(-15.0), np.float64(-10.0), np.float64(-8.0), np.float64(-15.0), np.float64(-12.0), np.float64(-6.0), np.float64(-11.0), np.float64(-8.0), np.float64(-5.0), np.float64(2.0), np.float64(-3.0), np.float64(6.0), np.float64(-15.0), np.float64(0.0), np.float64(-7.0), np.float64(-13.0), np.float64(-9.0), np.float64(-4.0), np.float64(-11.0), np.float64(-1.0), np.float64(-6.0), np.float64(-14.0), np.float64(6.0), np.float64(11.0), np.float64(-12.0), np.float64(2.0), np.float64(-8.0), np.float64(8.0), np.float64(-14.0), np.float64(-5.0), np.float64(-12.0), np.float64(-1.0), np.float64(4.0), np.float64(-9.0), np.float64(-15.0), np.float64(-4.0), np.float64(10.0), np.float64(-11.0), np.float64(-14.0), np.float64(15.0), np.float64(1.0), np.float64(-13.0), np.float64(-12.0), np.float64(-15.0), np.float64(-15.0), np.float64(-9.0), np.float64(-7.0), np.float64(-10.0), np.float64(-14.0), np.float64(-11.0), np.float64(-13.0), np.float64(-15.0), np.float64(-7.0), np.float64(-12.0), np.float64(-6.0), np.float64(-9.0), np.float64(-10.0), np.float64(-2.0), np.float64(-14.0), np.float64(-13.0), np.float64(-8.0), np.float64(5.0), np.float64(-15.0), np.float64(-5.0), np.float64(-4.0), np.float64(-11.0), np.float64(-12.0), np.float64(-6.0), np.float64(13.0), np.float64(-2.0), np.float64(-8.0), np.float64(-14.0), np.float64(-9.0), np.float64(-13.0), np.float64(-10.0), np.float64(11.0), np.float64(-15.0), np.float64(-7.0), np.float64(1.0), np.float64(-11.0), np.float64(-3.0), np.float64(-12.0), np.float64(7.0), np.float64(9.0), np.float64(-15.0), np.float64(-13.0), np.float64(-10.0), np.float64(4.0), np.float64(-1.0), np.float64(15.0), np.float64(-14.0), np.float64(-11.0), np.float64(-12.0), np.float64(-9.0), np.float64(-3.0), np.float64(-14.0), np.float64(-8.0), np.float64(12.0), np.float64(-6.0), np.float64(-10.0), np.float64(-7.0), np.float64(2.0), np.float64(-4.0), np.float64(-15.0), np.float64(-11.0), np.float64(-14.0), np.float64(-13.0), np.float64(-13.0), np.float64(1.0), np.float64(-15.0), np.float64(-10.0), np.float64(-5.0), np.float64(-9.0), np.float64(-13.0), np.float64(-12.0), np.float64(5.0), np.float64(-2.0), np.float64(0.0), np.float64(-6.0), np.float64(10.0), np.float64(8.0), np.float64(-15.0), np.float64(-14.0), np.float64(-12.0), np.float64(-11.0), np.float64(-15.0), np.float64(-13.0), np.float64(-14.0), np.float64(-15.0), np.float64(-10.0), np.float64(-8.0), np.float64(14.0), np.float64(-14.0), np.float64(-12.0), np.float64(-9.0), np.float64(-11.0), np.float64(-12.0), np.float64(-15.0), np.float64(-13.0), np.float64(-11.0), np.float64(-14.0), np.float64(-8.0), np.float64(-7.0), np.float64(-13.0), np.float64(-10.0), np.float64(-9.0), np.float64(-4.0), np.float64(-12.0), np.float64(-15.0), np.float64(3.0), np.float64(-11.0), np.float64(-7.0), np.float64(-14.0), np.float64(-8.0), np.float64(-15.0), np.float64(-13.0), np.float64(-12.0), np.float64(-9.0), np.float64(-6.0), np.float64(-14.0), np.float64(-13.0), np.float64(-5.0), np.float64(-10.0), np.float64(-1.0), np.float64(-10.0), np.float64(6.0), np.float64(-15.0), np.float64(-14.0), np.float64(12.0), np.float64(-11.0), np.float64(-13.0), np.float64(8.0), np.float64(-11.0), np.float64(-15.0), np.float64(-12.0), np.float64(-14.0), np.float64(-12.0), np.float64(-15.0), np.float64(9.0), np.float64(-9.0), np.float64(4.0), np.float64(-2.0), np.float64(-14.0), np.float64(-13.0), np.float64(-8.0), np.float64(-11.0), np.float64(-5.0), np.float64(-15.0), np.float64(-10.0), np.float64(2.0), np.float64(-7.0), np.float64(-13.0), np.float64(-14.0), np.float64(-6.0), np.float64(-12.0), np.float64(-10.0), np.float64(-4.0), np.float64(-15.0), np.float64(-9.0), np.float64(5.0), np.float64(7.0), np.float64(-12.0), np.float64(14.0), np.float64(1.0), np.float64(-8.0), np.float64(-14.0), np.float64(-13.0), np.float64(-11.0), np.float64(-7.0), np.float64(-1.0), np.float64(-3.0), np.float64(-11.0), np.float64(-9.0), np.float64(-15.0), np.float64(-13.0), np.float64(-15.0), np.float64(-12.0), np.float64(-5.0), np.float64(11.0), np.float64(-14.0), np.float64(-10.0), np.float64(3.0), np.float64(-13.0), np.float64(-10.0), np.float64(-15.0), np.float64(-8.0), np.float64(-14.0), np.float64(-3.0), np.float64(-12.0), np.float64(-6.0), np.float64(-0.0), np.float64(-11.0), np.float64(-7.0), np.float64(-15.0), np.float64(-14.0), np.float64(-15.0), np.float64(-13.0), np.float64(-15.0), np.float64(-14.0), np.float64(-12.0), np.float64(-15.0), np.float64(-13.0), np.float64(-14.0), np.float64(-12.0), np.float64(-11.0), np.float64(-13.0), np.float64(-10.0), np.float64(-9.0), np.float64(-13.0), np.float64(-15.0), np.float64(-11.0), np.float64(-14.0), np.float64(-12.0), np.float64(-15.0), np.float64(-15.0), np.float64(-12.0), np.float64(-14.0), np.float64(-10.0), np.float64(-11.0), np.float64(-13.0), np.float64(-14.0), np.float64(-15.0), np.float64(-9.0), np.float64(-14.0), np.float64(-8.0), np.float64(-12.0), np.float64(-11.0), np.float64(-13.0), np.float64(-15.0), np.float64(-15.0), np.float64(-10.0), np.float64(-13.0), np.float64(-14.0), np.float64(-12.0), np.float64(-9.0), np.float64(-15.0), np.float64(-11.0), np.float64(-14.0), np.float64(7.0), np.float64(-12.0), np.float64(-13.0), np.float64(-9.0), np.float64(-10.0), np.float64(-13.0), np.float64(10.0), np.float64(-15.0), np.float64(-8.0), np.float64(-14.0), np.float64(13.0), np.float64(12.0), np.float64(-7.0), np.float64(2.0), np.float64(-4.0), np.float64(6.0), np.float64(-2.0), np.float64(-12.0), np.float64(-11.0), np.float64(-15.0), np.float64(1.0), np.float64(15.0), np.float64(-13.0), np.float64(-10.0), np.float64(-14.0), np.float64(-15.0), np.float64(-12.0), np.float64(4.0), np.float64(-13.0), np.float64(-15.0), np.float64(-6.0), np.float64(8.0), np.float64(-11.0), np.float64(-8.0), np.float64(-14.0), np.float64(-11.0), np.float64(-7.0), np.float64(-10.0), np.float64(-14.0), np.float64(-12.0), np.float64(-9.0), np.float64(-15.0), np.float64(-13.0), np.float64(-13.0), np.float64(-14.0), np.float64(-12.0), np.float64(-15.0), np.float64(-5.0), np.float64(-0.0), np.float64(-11.0), np.float64(-9.0), np.float64(-14.0), np.float64(-8.0), np.float64(3.0), np.float64(-12.0), np.float64(-15.0), np.float64(-10.0), np.float64(-11.0), np.float64(-14.0), np.float64(-15.0), np.float64(-13.0), np.float64(-6.0), np.float64(-3.0), np.float64(-13.0), np.float64(-10.0), np.float64(-12.0), np.float64(-1.0), np.float64(-15.0), np.float64(-9.0), np.float64(-11.0), np.float64(-13.0), np.float64(9.0), np.float64(-7.0), np.float64(-14.0), np.float64(-12.0), np.float64(-15.0), np.float64(-14.0), np.float64(-8.0), np.float64(-11.0), np.float64(-4.0), np.float64(-13.0), np.float64(-15.0), np.float64(-12.0), np.float64(-10.0), np.float64(-6.0), np.float64(-9.0), np.float64(-2.0), np.float64(-5.0), np.float64(-14.0), np.float64(-13.0), np.float64(14.0), np.float64(5.0), np.float64(-14.0), np.float64(-15.0), np.float64(-12.0), np.float64(-11.0), np.float64(-10.0), np.float64(-13.0), np.float64(-14.0), np.float64(-15.0), np.float64(-15.0), np.float64(-15.0), np.float64(-14.0), np.float64(-13.0), np.float64(-15.0), np.float64(-13.0), np.float64(-14.0), np.float64(-12.0), np.float64(-15.0), np.float64(-14.0), np.float64(-12.0), np.float64(-15.0), np.float64(-13.0), np.float64(-14.0), np.float64(-11.0), np.float64(-15.0), np.float64(-13.0), np.float64(-12.0), np.float64(-14.0), np.float64(10.0), np.float64(-12.0), np.float64(-14.0), np.float64(-11.0), np.float64(-13.0), np.float64(-15.0), np.float64(-10.0), np.float64(-11.0), np.float64(-15.0), np.float64(-13.0), np.float64(-14.0), np.float64(-12.0), np.float64(-15.0), np.float64(-13.0), np.float64(6.0), np.float64(-14.0), np.float64(-10.0), np.float64(-11.0), np.float64(-15.0), np.float64(-9.0), np.float64(-12.0), np.float64(-13.0), np.float64(2.0), np.float64(-14.0), np.float64(-15.0), np.float64(-14.0), np.float64(-12.0), np.float64(-11.0), np.float64(-13.0), np.float64(-10.0), np.float64(11.0), np.float64(-15.0), np.float64(-8.0), np.float64(-14.0), np.float64(-12.0), np.float64(-15.0), np.float64(-13.0), np.float64(-11.0), np.float64(13.0), np.float64(-7.0), np.float64(-9.0), np.float64(-15.0), np.float64(-14.0), np.float64(-13.0), np.float64(-12.0), np.float64(-14.0), np.float64(-10.0), np.float64(-15.0), np.float64(-11.0), np.float64(-13.0), np.float64(-14.0), np.float64(-12.0), np.float64(-15.0), np.float64(15.0), np.float64(1.0), np.float64(-13.0), np.float64(4.0), np.float64(-9.0), np.float64(-14.0), np.float64(-8.0), np.float64(-11.0), np.float64(-10.0), np.float64(-15.0), np.float64(-12.0), np.float64(3.0), np.float64(-15.0), np.float64(-13.0), np.float64(-12.0), np.float64(-14.0), np.float64(-11.0), np.float64(-9.0), np.float64(-7.0), np.float64(0.0), np.float64(-13.0), np.float64(-15.0), np.float64(-14.0), np.float64(-14.0), np.float64(-12.0), np.float64(-10.0)]}\n"
     ]
    }
   ],
   "source": [
    "# 탐색과정 -> 목적함수 반환값 (loos와 실행 상태 저장)\n",
    "print(trials.results[:10])\n",
    "print(trials.vals)\n"
   ]
  },
  {
   "cell_type": "markdown",
   "id": "73e0aba3",
   "metadata": {},
   "source": [
    "- hyperopt를 활용한 XGBoost 하이퍼 파라미터 튜닝"
   ]
  },
  {
   "cell_type": "code",
   "execution_count": 12,
   "id": "69686917",
   "metadata": {},
   "outputs": [],
   "source": [
    "from xgboost import XGBClassifier\n",
    "from sklearn.datasets import load_breast_cancer\n",
    "from sklearn.model_selection import train_test_split, cross_val_score"
   ]
  },
  {
   "cell_type": "code",
   "execution_count": 13,
   "id": "1f5be8ca",
   "metadata": {},
   "outputs": [
    {
     "name": "stdout",
     "output_type": "stream",
     "text": [
      "500trial [00:00, ?trial/s, best loss=?]\n"
     ]
    },
    {
     "data": {
      "text/plain": [
       "{'x': np.float64(0.0), 'y': np.float64(-15.0)}"
      ]
     },
     "execution_count": 13,
     "metadata": {},
     "output_type": "execute_result"
    }
   ],
   "source": [
    "data = load_breast_cancer()\n",
    "X_train, X_test, y_train, y_test = train_test_split(data.data, data.target, random_state=42)\n",
    "\n",
    "# 1. 검색 공간\n",
    "search_space = {\n",
    "    'n_estimators': hp.quniform('n_estimators', 100, 500, 100), \n",
    "    'max_depth': hp.quniform('max_depth', 3, 10, 1), \n",
    "    'learning_rate': hp.uniform('learning_rate', 0.01, 0.2), \n",
    "    'colsample_bytree': hp.uniform('colsample_bytree', 0.5, 1)\n",
    "\n",
    "}\n",
    "\n",
    "# 2. 목적함수\n",
    "def xgb_objective(search_space):\n",
    "    xgb_clf = XGBClassifier(\n",
    "        n_estimators=int(search_space['n_estimators']),\n",
    "        max_depth=int(search_space['max_depth']),\n",
    "        learning_rate=search_space['learning_rate'],\n",
    "        colsample_bytree=search_space['colsample_bytree']\n",
    "    )\n",
    "    mean_acc = cross_val_score(xgb_clf, X_train, y_train, scoring='accuracy',cv=3).mean()\n",
    "    return {\n",
    "        'loss': -1 * mean_acc,          # 손실함수는 최소화 하는 방향으로 가니까 정확도 평균에 음수를 넣음\n",
    "        'status': hyperopt.STATUS_OK\n",
    "    }\n",
    "\n",
    "best = fmin(\n",
    "    fn=xgb_objective,\n",
    "    space=search_space,\n",
    "    algo=tpe.suggest,\n",
    "    max_evals=50,\n",
    "    trials=trials\n",
    ")\n",
    "\n",
    "best"
   ]
  },
  {
   "cell_type": "code",
   "execution_count": 14,
   "id": "53eea498",
   "metadata": {},
   "outputs": [
    {
     "name": "stderr",
     "output_type": "stream",
     "text": [
      "[I 2025-09-25 16:12:23,354] A new study created in memory with name: no-name-4b2f8b29-3ad4-4fdf-9162-a4d6834d023a\n",
      "[I 2025-09-25 16:12:23,356] Trial 0 finished with value: 190.00285763424017 and parameters: {'x': -3.9931813771257074, 'y': 6.878479358102297}. Best is trial 0 with value: 190.00285763424017.\n",
      "[I 2025-09-25 16:12:23,357] Trial 1 finished with value: 15.127277733012534 and parameters: {'x': 6.364212247962062, 'y': -3.048243436369539}. Best is trial 1 with value: 15.127277733012534.\n",
      "[I 2025-09-25 16:12:23,357] Trial 2 finished with value: 237.85489945540672 and parameters: {'x': -9.669918025970798, 'y': -13.793638420505301}. Best is trial 1 with value: 15.127277733012534.\n",
      "[I 2025-09-25 16:12:23,358] Trial 3 finished with value: 126.47870464525487 and parameters: {'x': 8.26765541021167, 'y': 4.9363228170446725}. Best is trial 1 with value: 15.127277733012534.\n",
      "[I 2025-09-25 16:12:23,359] Trial 4 finished with value: 68.7057920578992 and parameters: {'x': -4.011806223574359, 'y': -9.420448567842758}. Best is trial 1 with value: 15.127277733012534.\n",
      "[I 2025-09-25 16:12:23,361] Trial 5 finished with value: 206.80495708772517 and parameters: {'x': 5.04386873182883, 'y': 9.23473068571294}. Best is trial 1 with value: 15.127277733012534.\n",
      "[I 2025-09-25 16:12:23,362] Trial 6 finished with value: 80.2489775480973 and parameters: {'x': 6.716332857318015, 'y': -13.150941518727503}. Best is trial 1 with value: 15.127277733012534.\n",
      "[I 2025-09-25 16:12:23,363] Trial 7 finished with value: 402.93607588756504 and parameters: {'x': -6.748478594439091, 'y': 12.547171879859384}. Best is trial 1 with value: 15.127277733012534.\n",
      "[I 2025-09-25 16:12:23,363] Trial 8 finished with value: 270.9734234429491 and parameters: {'x': -2.2484120631776268, 'y': 10.602166332212995}. Best is trial 1 with value: 15.127277733012534.\n",
      "[I 2025-09-25 16:12:23,364] Trial 9 finished with value: 24.069888845838324 and parameters: {'x': 1.2952701115732559, 'y': -9.600411378707655}. Best is trial 1 with value: 15.127277733012534.\n",
      "[I 2025-09-25 16:12:23,367] Trial 10 finished with value: 10.472408742120761 and parameters: {'x': 3.1936700340026647, 'y': -1.7696903151477614}. Best is trial 10 with value: 10.472408742120761.\n",
      "[I 2025-09-25 16:12:23,370] Trial 11 finished with value: 10.454606240159096 and parameters: {'x': 3.379521982492912, 'y': -1.7889924782143931}. Best is trial 11 with value: 10.454606240159096.\n",
      "[I 2025-09-25 16:12:23,373] Trial 12 finished with value: 16.238834587424908 and parameters: {'x': 2.4533164456906267, 'y': -1.0075105912635685}. Best is trial 11 with value: 10.454606240159096.\n",
      "[I 2025-09-25 16:12:23,376] Trial 13 finished with value: 0.7208708945519126 and parameters: {'x': 3.239976207441387, 'y': -4.18557854005806}. Best is trial 13 with value: 0.7208708945519126.\n",
      "[I 2025-09-25 16:12:23,378] Trial 14 finished with value: 45.28278943786973 and parameters: {'x': 9.669250275702083, 'y': -5.8965992404176015}. Best is trial 13 with value: 0.7208708945519126.\n",
      "[I 2025-09-25 16:12:23,380] Trial 15 finished with value: 73.32984617305083 and parameters: {'x': 0.18001897966812352, 'y': 3.0856387019219955}. Best is trial 13 with value: 0.7208708945519126.\n",
      "[I 2025-09-25 16:12:23,383] Trial 16 finished with value: 1.353271328747916 and parameters: {'x': 3.814561632650087, 'y': -5.830518317294893}. Best is trial 13 with value: 0.7208708945519126.\n",
      "[I 2025-09-25 16:12:23,386] Trial 17 finished with value: 19.282328605452417 and parameters: {'x': -1.1963299081549863, 'y': -6.293500640655575}. Best is trial 13 with value: 0.7208708945519126.\n",
      "[I 2025-09-25 16:12:23,388] Trial 18 finished with value: 52.520242089668585 and parameters: {'x': 5.726971920455318, 'y': 1.7144520427743632}. Best is trial 13 with value: 0.7208708945519126.\n",
      "[I 2025-09-25 16:12:23,390] Trial 19 finished with value: 2.0621784806719403 and parameters: {'x': 4.356290770098329, 'y': -5.471862085378793}. Best is trial 13 with value: 0.7208708945519126.\n",
      "[I 2025-09-25 16:12:23,393] Trial 20 finished with value: 34.78827140353687 and parameters: {'x': 1.4426342829805474, 'y': -10.688838495421482}. Best is trial 13 with value: 0.7208708945519126.\n",
      "[I 2025-09-25 16:12:23,395] Trial 21 finished with value: 4.301605401635986 and parameters: {'x': 4.67767184117632, 'y': -6.219435359074044}. Best is trial 13 with value: 0.7208708945519126.\n",
      "[I 2025-09-25 16:12:23,399] Trial 22 finished with value: 2.4930951673318904 and parameters: {'x': 4.107071068490819, 'y': -3.874171941794624}. Best is trial 13 with value: 0.7208708945519126.\n",
      "[I 2025-09-25 16:12:23,402] Trial 23 finished with value: 34.80173678671779 and parameters: {'x': 8.205485578792686, 'y': -7.775726332998115}. Best is trial 13 with value: 0.7208708945519126.\n",
      "[I 2025-09-25 16:12:23,404] Trial 24 finished with value: 46.85013267726322 and parameters: {'x': 0.003967721739903294, 'y': 1.1541793331756944}. Best is trial 13 with value: 0.7208708945519126.\n",
      "[I 2025-09-25 16:12:23,407] Trial 25 finished with value: 1.4964816692210647 and parameters: {'x': 1.879864628064336, 'y': -4.508290311505237}. Best is trial 13 with value: 0.7208708945519126.\n",
      "[I 2025-09-25 16:12:23,409] Trial 26 finished with value: 39.42724035007632 and parameters: {'x': 1.9924069961425508, 'y': -11.197741256994668}. Best is trial 13 with value: 0.7208708945519126.\n",
      "[I 2025-09-25 16:12:23,411] Trial 27 finished with value: 23.80106785198016 and parameters: {'x': -1.7364097110973908, 'y': -3.830602334275251}. Best is trial 13 with value: 0.7208708945519126.\n",
      "[I 2025-09-25 16:12:23,414] Trial 28 finished with value: 12.41418453417138 and parameters: {'x': 0.7715853563003217, 'y': -7.729167035913378}. Best is trial 13 with value: 0.7208708945519126.\n",
      "[I 2025-09-25 16:12:23,416] Trial 29 finished with value: 139.18994690447673 and parameters: {'x': -4.101267473667146, 'y': 4.421355909417378}. Best is trial 13 with value: 0.7208708945519126.\n",
      "[I 2025-09-25 16:12:23,420] Trial 30 finished with value: 52.821278067104686 and parameters: {'x': -0.8492810935827628, 'y': 1.1647638340564983}. Best is trial 13 with value: 0.7208708945519126.\n",
      "[I 2025-09-25 16:12:23,422] Trial 31 finished with value: 0.5058747087170532 and parameters: {'x': 3.440112377573721, 'y': -4.441273050745304}. Best is trial 31 with value: 0.5058747087170532.\n",
      "[I 2025-09-25 16:12:23,425] Trial 32 finished with value: 4.009837594956742 and parameters: {'x': 3.097555308802574, 'y': -2.9999198624352132}. Best is trial 31 with value: 0.5058747087170532.\n",
      "[I 2025-09-25 16:12:23,430] Trial 33 finished with value: 12.74417760937728 and parameters: {'x': 6.351078907795177, 'y': -3.7693709888404374}. Best is trial 31 with value: 0.5058747087170532.\n",
      "[I 2025-09-25 16:12:23,432] Trial 34 finished with value: 30.383283736257475 and parameters: {'x': 7.719970488251044, 'y': -7.846956677980309}. Best is trial 31 with value: 0.5058747087170532.\n",
      "[I 2025-09-25 16:12:23,435] Trial 35 finished with value: 131.06191921990816 and parameters: {'x': -2.842580881342114, 'y': -14.84510882950939}. Best is trial 31 with value: 0.5058747087170532.\n",
      "[I 2025-09-25 16:12:23,438] Trial 36 finished with value: 0.72446462374747 and parameters: {'x': 2.154352308046278, 'y': -5.096667496299496}. Best is trial 31 with value: 0.5058747087170532.\n",
      "[I 2025-09-25 16:12:23,440] Trial 37 finished with value: 26.94779519194634 and parameters: {'x': 5.375454048915016, 'y': -0.3842646031818946}. Best is trial 31 with value: 0.5058747087170532.\n",
      "[I 2025-09-25 16:12:23,442] Trial 38 finished with value: 63.46585144009839 and parameters: {'x': 7.19525575098095, 'y': -11.772420588235764}. Best is trial 31 with value: 0.5058747087170532.\n",
      "[I 2025-09-25 16:12:23,445] Trial 39 finished with value: 8.772596845604584 and parameters: {'x': 4.010637253187278, 'y': -2.215900650466177}. Best is trial 31 with value: 0.5058747087170532.\n",
      "[I 2025-09-25 16:12:23,448] Trial 40 finished with value: 19.131227311171582 and parameters: {'x': 2.5246275751010434, 'y': -9.348016601718221}. Best is trial 31 with value: 0.5058747087170532.\n",
      "[I 2025-09-25 16:12:23,450] Trial 41 finished with value: 1.3804874694697526 and parameters: {'x': 1.8400764647675927, 'y': -4.812743860224272}. Best is trial 31 with value: 0.5058747087170532.\n",
      "[I 2025-09-25 16:12:23,454] Trial 42 finished with value: 4.579821392114487 and parameters: {'x': 0.8606006929004799, 'y': -5.052839349887937}. Best is trial 31 with value: 0.5058747087170532.\n",
      "[I 2025-09-25 16:12:23,456] Trial 43 finished with value: 7.448289917255251 and parameters: {'x': 3.004869705941331, 'y': -7.729151187314344}. Best is trial 31 with value: 0.5058747087170532.\n",
      "[I 2025-09-25 16:12:23,459] Trial 44 finished with value: 10.850088308936648 and parameters: {'x': 5.55175743594657, 'y': -2.9170640199401143}. Best is trial 31 with value: 0.5058747087170532.\n",
      "[I 2025-09-25 16:12:23,461] Trial 45 finished with value: 24.7513093246478 and parameters: {'x': 3.688464535936761, 'y': -0.07279735474527271}. Best is trial 31 with value: 0.5058747087170532.\n",
      "[I 2025-09-25 16:12:23,464] Trial 46 finished with value: 29.399670873899446 and parameters: {'x': -0.6132972006677759, 'y': -9.042740928323983}. Best is trial 31 with value: 0.5058747087170532.\n",
      "[I 2025-09-25 16:12:23,466] Trial 47 finished with value: 140.8072503479915 and parameters: {'x': -8.786423172981392, 'y': -6.373855572976563}. Best is trial 31 with value: 0.5058747087170532.\n",
      "[I 2025-09-25 16:12:23,469] Trial 48 finished with value: 413.43318053064826 and parameters: {'x': 9.376454794005191, 'y': 14.307356235141478}. Best is trial 31 with value: 0.5058747087170532.\n",
      "[I 2025-09-25 16:12:23,472] Trial 49 finished with value: 153.37554200474892 and parameters: {'x': 2.1858548381679395, 'y': 7.357698396554852}. Best is trial 31 with value: 0.5058747087170532.\n",
      "[I 2025-09-25 16:12:23,476] Trial 50 finished with value: 15.003512412467087 and parameters: {'x': 4.876372524212279, 'y': -1.6113810242447841}. Best is trial 31 with value: 0.5058747087170532.\n",
      "[I 2025-09-25 16:12:23,478] Trial 51 finished with value: 3.668144725429606 and parameters: {'x': 1.085243805258862, 'y': -4.956948401539044}. Best is trial 31 with value: 0.5058747087170532.\n",
      "[I 2025-09-25 16:12:23,482] Trial 52 finished with value: 1.6899089158809153 and parameters: {'x': 1.7943646834991998, 'y': -4.513839121805415}. Best is trial 31 with value: 0.5058747087170532.\n",
      "[I 2025-09-25 16:12:23,485] Trial 53 finished with value: 3.201768440846775 and parameters: {'x': 2.9205217803061805, 'y': -6.78758262842339}. Best is trial 31 with value: 0.5058747087170532.\n",
      "[I 2025-09-25 16:12:23,488] Trial 54 finished with value: 14.270278222369779 and parameters: {'x': 0.038953573099238525, 'y': -2.654262955890407}. Best is trial 31 with value: 0.5058747087170532.\n",
      "[I 2025-09-25 16:12:23,491] Trial 55 finished with value: 15.678930404807025 and parameters: {'x': 3.786573507595698, 'y': -1.1192484591311924}. Best is trial 31 with value: 0.5058747087170532.\n",
      "[I 2025-09-25 16:12:23,494] Trial 56 finished with value: 2.658297658245624 and parameters: {'x': 1.5713198314990735, 'y': -4.214397916004681}. Best is trial 31 with value: 0.5058747087170532.\n",
      "[I 2025-09-25 16:12:23,497] Trial 57 finished with value: 9.175917683895488 and parameters: {'x': 0.5840580516484442, 'y': -6.827331985735153}. Best is trial 31 with value: 0.5058747087170532.\n",
      "[I 2025-09-25 16:12:23,502] Trial 58 finished with value: 2.8970174049794433 and parameters: {'x': 4.609497020746312, 'y': -5.553657606457445}. Best is trial 31 with value: 0.5058747087170532.\n",
      "[I 2025-09-25 16:12:23,505] Trial 59 finished with value: 12.92914557319051 and parameters: {'x': 2.4586958531743215, 'y': -8.554734222669795}. Best is trial 31 with value: 0.5058747087170532.\n",
      "[I 2025-09-25 16:12:23,508] Trial 60 finished with value: 32.20585222808556 and parameters: {'x': 5.888238470670252, 'y': -9.88507223740099}. Best is trial 31 with value: 0.5058747087170532.\n",
      "[I 2025-09-25 16:12:23,510] Trial 61 finished with value: 2.3016595358316767 and parameters: {'x': 1.5807069300480083, 'y': -4.464027316537561}. Best is trial 31 with value: 0.5058747087170532.\n",
      "[I 2025-09-25 16:12:23,513] Trial 62 finished with value: 3.750203083710011 and parameters: {'x': 1.835032474831721, 'y': -3.4530501788961265}. Best is trial 31 with value: 0.5058747087170532.\n",
      "[I 2025-09-25 16:12:23,521] Trial 63 finished with value: 0.5032306696809269 and parameters: {'x': 3.654899077394854, 'y': -5.272649716868175}. Best is trial 63 with value: 0.5032306696809269.\n",
      "[I 2025-09-25 16:12:23,527] Trial 64 finished with value: 0.5677453507496055 and parameters: {'x': 3.4691040865908214, 'y': -5.589649647412255}. Best is trial 63 with value: 0.5032306696809269.\n",
      "[I 2025-09-25 16:12:23,532] Trial 65 finished with value: 0.7408148216836156 and parameters: {'x': 3.49222159776793, 'y': -5.706068495526037}. Best is trial 63 with value: 0.5032306696809269.\n",
      "[I 2025-09-25 16:12:23,536] Trial 66 finished with value: 1.9748846396983568 and parameters: {'x': 3.4518663379432066, 'y': -6.330677065381437}. Best is trial 63 with value: 0.5032306696809269.\n",
      "[I 2025-09-25 16:12:23,540] Trial 67 finished with value: 7.440462823681425 and parameters: {'x': 4.359138512956028, 'y': -7.3649958406477385}. Best is trial 63 with value: 0.5032306696809269.\n",
      "[I 2025-09-25 16:12:23,545] Trial 68 finished with value: 71.70710913153214 and parameters: {'x': 6.481069649160354, 'y': -12.719408217553127}. Best is trial 63 with value: 0.5032306696809269.\n",
      "[I 2025-09-25 16:12:23,550] Trial 69 finished with value: 31.444838586322202 and parameters: {'x': 5.234459694622092, 'y': -10.143153551998186}. Best is trial 63 with value: 0.5032306696809269.\n",
      "[I 2025-09-25 16:12:23,554] Trial 70 finished with value: 0.3297990158462749 and parameters: {'x': 2.7888075340676197, 'y': -5.534038161725991}. Best is trial 70 with value: 0.3297990158462749.\n",
      "[I 2025-09-25 16:12:23,557] Trial 71 finished with value: 0.9065354691533387 and parameters: {'x': 3.059532200633261, 'y': -5.950258589143555}. Best is trial 70 with value: 0.3297990158462749.\n",
      "[I 2025-09-25 16:12:23,560] Trial 72 finished with value: 0.43937801485403816 and parameters: {'x': 2.8054992942045374, 'y': -5.633677749569215}. Best is trial 70 with value: 0.3297990158462749.\n",
      "[I 2025-09-25 16:12:23,562] Trial 73 finished with value: 10.223486677119332 and parameters: {'x': 2.5213647422037524, 'y': -8.161391302435314}. Best is trial 70 with value: 0.3297990158462749.\n",
      "[I 2025-09-25 16:12:23,566] Trial 74 finished with value: 8.11353212679368 and parameters: {'x': 4.310120849152085, 'y': -2.4707480379743303}. Best is trial 70 with value: 0.3297990158462749.\n",
      "[I 2025-09-25 16:12:23,569] Trial 75 finished with value: 4.829089067819372 and parameters: {'x': 3.4741049218474562, 'y': -7.145766434377094}. Best is trial 70 with value: 0.3297990158462749.\n",
      "[I 2025-09-25 16:12:23,572] Trial 76 finished with value: 0.30640017712626666 and parameters: {'x': 2.7231385262846146, 'y': -5.479320249414117}. Best is trial 76 with value: 0.30640017712626666.\n",
      "[I 2025-09-25 16:12:23,575] Trial 77 finished with value: 3.225347654982422 and parameters: {'x': 2.8292327003272626, 'y': -3.2122119296893987}. Best is trial 76 with value: 0.30640017712626666.\n",
      "[I 2025-09-25 16:12:23,578] Trial 78 finished with value: 17.092716398298762 and parameters: {'x': 4.948350863670763, 'y': -8.646456541676063}. Best is trial 76 with value: 0.30640017712626666.\n",
      "[I 2025-09-25 16:12:23,580] Trial 79 finished with value: 24.409154123497732 and parameters: {'x': 0.43309623368503836, 'y': -0.7786069623907563}. Best is trial 76 with value: 0.30640017712626666.\n",
      "[I 2025-09-25 16:12:23,583] Trial 80 finished with value: 23.776772780861016 and parameters: {'x': -0.4597235706083258, 'y': -1.5638559989665457}. Best is trial 76 with value: 0.30640017712626666.\n",
      "[I 2025-09-25 16:12:23,586] Trial 81 finished with value: 1.0548633287037215 and parameters: {'x': 3.9149082242016813, 'y': -5.4666971930404635}. Best is trial 76 with value: 0.30640017712626666.\n",
      "[I 2025-09-25 16:12:23,589] Trial 82 finished with value: 3.334039875993024 and parameters: {'x': 1.197174389832024, 'y': -5.2895853851897385}. Best is trial 76 with value: 0.30640017712626666.\n",
      "[I 2025-09-25 16:12:23,593] Trial 83 finished with value: 1.5801939802283373 and parameters: {'x': 2.448988636799536, 'y': -3.870141399177621}. Best is trial 76 with value: 0.30640017712626666.\n",
      "[I 2025-09-25 16:12:23,596] Trial 84 finished with value: 10.148290614321095 and parameters: {'x': 6.004422218184688, 'y': -6.059121215536397}. Best is trial 76 with value: 0.30640017712626666.\n",
      "[I 2025-09-25 16:12:23,598] Trial 85 finished with value: 4.121560800062524 and parameters: {'x': 3.4744765678393152, 'y': -6.9739383948426426}. Best is trial 76 with value: 0.30640017712626666.\n",
      "[I 2025-09-25 16:12:23,601] Trial 86 finished with value: 1.6382717457849645 and parameters: {'x': 4.27837188010817, 'y': -4.936461964669449}. Best is trial 76 with value: 0.30640017712626666.\n",
      "[I 2025-09-25 16:12:23,604] Trial 87 finished with value: 2.3725967564026114 and parameters: {'x': 2.904081937856296, 'y': -3.462665787228682}. Best is trial 76 with value: 0.30640017712626666.\n",
      "[I 2025-09-25 16:12:23,608] Trial 88 finished with value: 24.60568187437017 and parameters: {'x': 7.021687850605588, 'y': -2.096259531800134}. Best is trial 76 with value: 0.30640017712626666.\n",
      "[I 2025-09-25 16:12:23,612] Trial 89 finished with value: 52.410561875875146 and parameters: {'x': 2.1967347011309935, 'y': 2.194812487862907}. Best is trial 76 with value: 0.30640017712626666.\n",
      "[I 2025-09-25 16:12:23,615] Trial 90 finished with value: 33.69198005806099 and parameters: {'x': 4.678786462861775, 'y': 0.556406758884112}. Best is trial 76 with value: 0.30640017712626666.\n",
      "[I 2025-09-25 16:12:23,618] Trial 91 finished with value: 1.2511029772441609 and parameters: {'x': 3.22187972616692, 'y': -6.096299395402667}. Best is trial 76 with value: 0.30640017712626666.\n",
      "[I 2025-09-25 16:12:23,622] Trial 92 finished with value: 1.2516349514444973 and parameters: {'x': 3.942483308405741, 'y': -5.602793633693212}. Best is trial 76 with value: 0.30640017712626666.\n",
      "[I 2025-09-25 16:12:23,625] Trial 93 finished with value: 0.7683295753349209 and parameters: {'x': 2.807564569320431, 'y': -4.144840260329048}. Best is trial 76 with value: 0.30640017712626666.\n",
      "[I 2025-09-25 16:12:23,628] Trial 94 finished with value: 3.505136042703725 and parameters: {'x': 1.2111280461917686, 'y': -4.447665703054712}. Best is trial 76 with value: 0.30640017712626666.\n",
      "[I 2025-09-25 16:12:23,631] Trial 95 finished with value: 5.327055311854289 and parameters: {'x': 2.172084915952838, 'y': -2.84555995083143}. Best is trial 76 with value: 0.30640017712626666.\n",
      "[I 2025-09-25 16:12:23,634] Trial 96 finished with value: 1.1319694042532642 and parameters: {'x': 2.6013047093620405, 'y': -4.013586562603501}. Best is trial 76 with value: 0.30640017712626666.\n",
      "[I 2025-09-25 16:12:23,638] Trial 97 finished with value: 2.6356717437755517 and parameters: {'x': 3.5303407502631114, 'y': -6.534408821789653}. Best is trial 76 with value: 0.30640017712626666.\n",
      "[I 2025-09-25 16:12:23,642] Trial 98 finished with value: 9.8793454411766 and parameters: {'x': 4.909281911662931, 'y': -7.496795550895857}. Best is trial 76 with value: 0.30640017712626666.\n",
      "[I 2025-09-25 16:12:23,644] Trial 99 finished with value: 78.35453195362403 and parameters: {'x': -5.851726795534522, 'y': -4.961728720426449}. Best is trial 76 with value: 0.30640017712626666.\n",
      "[I 2025-09-25 16:12:23,647] Trial 100 finished with value: 17.751775816270786 and parameters: {'x': 5.450376760992277, 'y': -8.427452340362997}. Best is trial 76 with value: 0.30640017712626666.\n",
      "[I 2025-09-25 16:12:23,651] Trial 101 finished with value: 0.6873397212589762 and parameters: {'x': 3.2154629177866423, 'y': -5.800571953242082}. Best is trial 76 with value: 0.30640017712626666.\n",
      "[I 2025-09-25 16:12:23,654] Trial 102 finished with value: 0.7154298361404158 and parameters: {'x': 3.1059198013270763, 'y': -4.160827293206429}. Best is trial 76 with value: 0.30640017712626666.\n",
      "[I 2025-09-25 16:12:23,657] Trial 103 finished with value: 1.1140446666861954 and parameters: {'x': 3.952251826974722, 'y': -5.455259403757352}. Best is trial 76 with value: 0.30640017712626666.\n",
      "[I 2025-09-25 16:12:23,660] Trial 104 finished with value: 2.7422640734743204 and parameters: {'x': 3.1863181334947863, 'y': -6.6454633470865705}. Best is trial 76 with value: 0.30640017712626666.\n",
      "[I 2025-09-25 16:12:23,663] Trial 105 finished with value: 4.2662071942245605 and parameters: {'x': 2.0661531522970056, 'y': -3.1576815532433757}. Best is trial 76 with value: 0.30640017712626666.\n",
      "[I 2025-09-25 16:12:23,666] Trial 106 finished with value: 2.334122845449965 and parameters: {'x': 1.489331891229398, 'y': -4.771954586554744}. Best is trial 76 with value: 0.30640017712626666.\n",
      "[I 2025-09-25 16:12:23,670] Trial 107 finished with value: 19.60615201164255 and parameters: {'x': 4.3742665018476155, 'y': -9.209221257375534}. Best is trial 76 with value: 0.30640017712626666.\n",
      "[I 2025-09-25 16:12:23,674] Trial 108 finished with value: 8.067648298058405 and parameters: {'x': 3.424309414635455, 'y': -7.80848888527445}. Best is trial 76 with value: 0.30640017712626666.\n",
      "[I 2025-09-25 16:12:23,677] Trial 109 finished with value: 5.932699912894229 and parameters: {'x': 0.9442156403445643, 'y': -3.6936881767777194}. Best is trial 76 with value: 0.30640017712626666.\n",
      "[I 2025-09-25 16:12:23,680] Trial 110 finished with value: 5.222169668204437 and parameters: {'x': 3.733099863226751, 'y': -7.16442469463397}. Best is trial 76 with value: 0.30640017712626666.\n",
      "[I 2025-09-25 16:12:23,683] Trial 111 finished with value: 0.8021635198420869 and parameters: {'x': 2.695869254684668, 'y': -4.157582045777734}. Best is trial 76 with value: 0.30640017712626666.\n",
      "[I 2025-09-25 16:12:23,686] Trial 112 finished with value: 0.36928177152705244 and parameters: {'x': 2.971804914847002, 'y': -5.607031143105745}. Best is trial 76 with value: 0.30640017712626666.\n",
      "[I 2025-09-25 16:12:23,689] Trial 113 finished with value: 1.4382987526197082 and parameters: {'x': 2.3078353678979395, 'y': -5.979391073415889}. Best is trial 76 with value: 0.30640017712626666.\n",
      "[I 2025-09-25 16:12:23,693] Trial 114 finished with value: 0.059367105389543415 and parameters: {'x': 3.16375720497978, 'y': -5.180418078935437}. Best is trial 114 with value: 0.059367105389543415.\n",
      "[I 2025-09-25 16:12:23,696] Trial 115 finished with value: 7.830650491654332 and parameters: {'x': 1.830862811209089, 'y': -2.457605710075556}. Best is trial 114 with value: 0.059367105389543415.\n",
      "[I 2025-09-25 16:12:23,699] Trial 116 finished with value: 0.024714589377475102 and parameters: {'x': 2.9385643582588354, 'y': -5.144707468021959}. Best is trial 116 with value: 0.024714589377475102.\n",
      "[I 2025-09-25 16:12:23,701] Trial 117 finished with value: 2.3433874083012163 and parameters: {'x': 3.0660669182087523, 'y': -6.529386337921068}. Best is trial 116 with value: 0.024714589377475102.\n",
      "[I 2025-09-25 16:12:23,705] Trial 118 finished with value: 1.3476757024214312 and parameters: {'x': 4.115782760103625, 'y': -5.320475482177605}. Best is trial 116 with value: 0.024714589377475102.\n",
      "[I 2025-09-25 16:12:23,710] Trial 119 finished with value: 0.16554693832278772 and parameters: {'x': 2.666844573271954, 'y': -4.766431166538767}. Best is trial 116 with value: 0.024714589377475102.\n",
      "[I 2025-09-25 16:12:23,713] Trial 120 finished with value: 4.826140931619221 and parameters: {'x': 5.159002381235198, 'y': -4.593983190692842}. Best is trial 116 with value: 0.024714589377475102.\n",
      "[I 2025-09-25 16:12:23,716] Trial 121 finished with value: 2.635426567304308 and parameters: {'x': 2.6060065289855086, 'y': -3.425136287768919}. Best is trial 116 with value: 0.024714589377475102.\n",
      "[I 2025-09-25 16:12:23,720] Trial 122 finished with value: 3.485610983080211 and parameters: {'x': 4.632215434664909, 'y': -5.9063574117983775}. Best is trial 116 with value: 0.024714589377475102.\n",
      "[I 2025-09-25 16:12:23,723] Trial 123 finished with value: 0.08825229806296944 and parameters: {'x': 3.2215161969014234, 'y': -4.802053359277559}. Best is trial 116 with value: 0.024714589377475102.\n",
      "[I 2025-09-25 16:12:23,726] Trial 124 finished with value: 0.06869686354006085 and parameters: {'x': 3.141607448281237, 'y': -5.220554288399336}. Best is trial 116 with value: 0.024714589377475102.\n",
      "[I 2025-09-25 16:12:23,729] Trial 125 finished with value: 5.079582897240772 and parameters: {'x': 3.752425712007323, 'y': -7.1244854542102765}. Best is trial 116 with value: 0.024714589377475102.\n",
      "[I 2025-09-25 16:12:23,733] Trial 126 finished with value: 2.368214195929153 and parameters: {'x': 1.4797880072945793, 'y': -5.23910184684307}. Best is trial 116 with value: 0.024714589377475102.\n",
      "[I 2025-09-25 16:12:23,737] Trial 127 finished with value: 1.6682506246716025 and parameters: {'x': 2.735438694777602, 'y': -6.264222267028478}. Best is trial 116 with value: 0.024714589377475102.\n",
      "[I 2025-09-25 16:12:23,740] Trial 128 finished with value: 2.0440706922298 and parameters: {'x': 4.419932936451581, 'y': -4.833083409423181}. Best is trial 116 with value: 0.024714589377475102.\n",
      "[I 2025-09-25 16:12:23,744] Trial 129 finished with value: 7.350873773123058 and parameters: {'x': 3.3053013909993045, 'y': -7.694005351475187}. Best is trial 116 with value: 0.024714589377475102.\n",
      "[I 2025-09-25 16:12:23,747] Trial 130 finished with value: 1.7489406421209936 and parameters: {'x': 1.8762912908199973, 'y': -5.697294327407018}. Best is trial 116 with value: 0.024714589377475102.\n",
      "[I 2025-09-25 16:12:23,751] Trial 131 finished with value: 0.30518103948738734 and parameters: {'x': 2.952279210762957, 'y': -4.449633062619146}. Best is trial 116 with value: 0.024714589377475102.\n",
      "[I 2025-09-25 16:12:23,756] Trial 132 finished with value: 0.5398617103263073 and parameters: {'x': 2.3753315854007977, 'y': -4.613152378670327}. Best is trial 116 with value: 0.024714589377475102.\n",
      "[I 2025-09-25 16:12:23,759] Trial 133 finished with value: 2.554851166606276 and parameters: {'x': 2.359733497156933, 'y': -3.5354488838065827}. Best is trial 116 with value: 0.024714589377475102.\n",
      "[I 2025-09-25 16:12:23,763] Trial 134 finished with value: 0.9785117785594446 and parameters: {'x': 3.8793911443809694, 'y': -4.547028705386563}. Best is trial 116 with value: 0.024714589377475102.\n",
      "[I 2025-09-25 16:12:23,767] Trial 135 finished with value: 4.610750939924397 and parameters: {'x': 2.8361603786961065, 'y': -2.8589938070114336}. Best is trial 116 with value: 0.024714589377475102.\n",
      "[I 2025-09-25 16:12:23,772] Trial 136 finished with value: 9.211532949151575 and parameters: {'x': 2.2096964144523032, 'y': -2.0696496469155723}. Best is trial 116 with value: 0.024714589377475102.\n",
      "[I 2025-09-25 16:12:23,777] Trial 137 finished with value: 2.8609505840799123 and parameters: {'x': 3.605671523878161, 'y': -6.5792759699441445}. Best is trial 116 with value: 0.024714589377475102.\n",
      "[I 2025-09-25 16:12:23,785] Trial 138 finished with value: 5.454325179409564 and parameters: {'x': 0.6681239568417494, 'y': -5.12914835947152}. Best is trial 116 with value: 0.024714589377475102.\n",
      "[I 2025-09-25 16:12:23,790] Trial 139 finished with value: 0.9716788797326473 and parameters: {'x': 2.86580825836808, 'y': -4.023438964421353}. Best is trial 116 with value: 0.024714589377475102.\n",
      "[I 2025-09-25 16:12:23,796] Trial 140 finished with value: 216.0334819173007 and parameters: {'x': 4.179017593908057, 'y': 9.650713273781449}. Best is trial 116 with value: 0.024714589377475102.\n",
      "[I 2025-09-25 16:12:23,804] Trial 141 finished with value: 0.9430937145592373 and parameters: {'x': 3.2839025772846666, 'y': -5.9287050345348415}. Best is trial 116 with value: 0.024714589377475102.\n",
      "[I 2025-09-25 16:12:23,811] Trial 142 finished with value: 0.062171576753899865 and parameters: {'x': 3.203028665644292, 'y': -5.144744387388935}. Best is trial 116 with value: 0.024714589377475102.\n",
      "[I 2025-09-25 16:12:23,818] Trial 143 finished with value: 0.42636308799278955 and parameters: {'x': 2.416963405061151, 'y': -4.7060077943977054}. Best is trial 116 with value: 0.024714589377475102.\n",
      "[I 2025-09-25 16:12:23,825] Trial 144 finished with value: 1.4062458775985143 and parameters: {'x': 1.9145003803264675, 'y': -4.5225730911572635}. Best is trial 116 with value: 0.024714589377475102.\n",
      "[I 2025-09-25 16:12:23,829] Trial 145 finished with value: 0.2960731449010621 and parameters: {'x': 2.4670888248656766, 'y': -5.1099037047510985}. Best is trial 116 with value: 0.024714589377475102.\n",
      "[I 2025-09-25 16:12:23,836] Trial 146 finished with value: 4.5562578674481795 and parameters: {'x': 1.3848593775644615, 'y': -3.604443251885929}. Best is trial 116 with value: 0.024714589377475102.\n",
      "[I 2025-09-25 16:12:23,842] Trial 147 finished with value: 0.2023939401158234 and parameters: {'x': 2.6036557134988185, 'y': -5.21285005678574}. Best is trial 116 with value: 0.024714589377475102.\n",
      "[I 2025-09-25 16:12:23,847] Trial 148 finished with value: 3.155365755956809 and parameters: {'x': 2.5584677890076475, 'y': -6.720585674301926}. Best is trial 116 with value: 0.024714589377475102.\n",
      "[I 2025-09-25 16:12:23,852] Trial 149 finished with value: 2.0696419106465327 and parameters: {'x': 1.572551200839793, 'y': -5.178974401584741}. Best is trial 116 with value: 0.024714589377475102.\n",
      "[I 2025-09-25 16:12:23,858] Trial 150 finished with value: 1.4281375015840068 and parameters: {'x': 2.7867355975672217, 'y': -6.175863851063973}. Best is trial 116 with value: 0.024714589377475102.\n",
      "[I 2025-09-25 16:12:23,865] Trial 151 finished with value: 0.5145121109867902 and parameters: {'x': 3.6903224163831174, 'y': -5.194851411146453}. Best is trial 116 with value: 0.024714589377475102.\n",
      "[I 2025-09-25 16:12:23,869] Trial 152 finished with value: 0.6718914622565039 and parameters: {'x': 2.9715794327206213, 'y': -4.180802994627042}. Best is trial 116 with value: 0.024714589377475102.\n",
      "[I 2025-09-25 16:12:23,873] Trial 153 finished with value: 4.167990673529357 and parameters: {'x': 2.1077444806082797, 'y': -3.163734561223686}. Best is trial 116 with value: 0.024714589377475102.\n",
      "[I 2025-09-25 16:12:23,879] Trial 154 finished with value: 0.03835540479256224 and parameters: {'x': 3.1898704805706424, 'y': -4.951993694159667}. Best is trial 116 with value: 0.024714589377475102.\n",
      "[I 2025-09-25 16:12:23,883] Trial 155 finished with value: 0.3606934773304787 and parameters: {'x': 3.0905413519604963, 'y': -5.593713517544989}. Best is trial 116 with value: 0.024714589377475102.\n",
      "[I 2025-09-25 16:12:23,886] Trial 156 finished with value: 110.77469251107992 and parameters: {'x': 2.4258848876584884, 'y': 5.509285625048975}. Best is trial 116 with value: 0.024714589377475102.\n",
      "[I 2025-09-25 16:12:23,890] Trial 157 finished with value: 2.9516959556648614 and parameters: {'x': 3.1151914581491837, 'y': -6.71418402852037}. Best is trial 116 with value: 0.024714589377475102.\n",
      "[I 2025-09-25 16:12:23,893] Trial 158 finished with value: 3.6970748659698103 and parameters: {'x': 1.0836853418339891, 'y': -4.842478582827937}. Best is trial 116 with value: 0.024714589377475102.\n",
      "[I 2025-09-25 16:12:23,896] Trial 159 finished with value: 6.231766376983732 and parameters: {'x': 2.0537373567586146, 'y': -7.310054845017659}. Best is trial 116 with value: 0.024714589377475102.\n",
      "[I 2025-09-25 16:12:23,900] Trial 160 finished with value: 1.6887528510188985 and parameters: {'x': 4.068384313059546, 'y': -5.739802548405438}. Best is trial 116 with value: 0.024714589377475102.\n",
      "[I 2025-09-25 16:12:23,904] Trial 161 finished with value: 0.19928057348198847 and parameters: {'x': 2.9618643599124943, 'y': -5.444776625326809}. Best is trial 116 with value: 0.024714589377475102.\n",
      "[I 2025-09-25 16:12:23,910] Trial 162 finished with value: 0.15185481877348284 and parameters: {'x': 3.125280381267421, 'y': -5.368998163739296}. Best is trial 116 with value: 0.024714589377475102.\n",
      "[I 2025-09-25 16:12:23,913] Trial 163 finished with value: 0.7010975621297234 and parameters: {'x': 3.207897039562134, 'y': -4.1889042084494434}. Best is trial 116 with value: 0.024714589377475102.\n",
      "[I 2025-09-25 16:12:23,916] Trial 164 finished with value: 1.8736844697608526 and parameters: {'x': 2.5217143954897603, 'y': -6.28254721171547}. Best is trial 116 with value: 0.024714589377475102.\n",
      "[I 2025-09-25 16:12:23,919] Trial 165 finished with value: 0.06426481559296086 and parameters: {'x': 3.253253272637412, 'y': -5.011295817429538}. Best is trial 116 with value: 0.024714589377475102.\n",
      "[I 2025-09-25 16:12:23,925] Trial 166 finished with value: 0.3937517446274794 and parameters: {'x': 3.5006814000130757, 'y': -5.37824579351055}. Best is trial 116 with value: 0.024714589377475102.\n",
      "[I 2025-09-25 16:12:23,930] Trial 167 finished with value: 2.807625925996284 and parameters: {'x': 3.935445029627654, 'y': -3.609831476927635}. Best is trial 116 with value: 0.024714589377475102.\n",
      "[I 2025-09-25 16:12:23,933] Trial 168 finished with value: 4.002688781289718 and parameters: {'x': 2.939684254752557, 'y': -6.9997626839615155}. Best is trial 116 with value: 0.024714589377475102.\n",
      "[I 2025-09-25 16:12:23,936] Trial 169 finished with value: 1.464696515294437 and parameters: {'x': 3.3471605531066007, 'y': -6.1593860727389975}. Best is trial 116 with value: 0.024714589377475102.\n",
      "[I 2025-09-25 16:12:23,941] Trial 170 finished with value: 1.5443172778645795 and parameters: {'x': 1.7578345370602133, 'y': -5.036636601154651}. Best is trial 116 with value: 0.024714589377475102.\n",
      "[I 2025-09-25 16:12:23,945] Trial 171 finished with value: 0.5202970412818302 and parameters: {'x': 3.6277496354421914, 'y': -5.355285007401137}. Best is trial 116 with value: 0.024714589377475102.\n",
      "[I 2025-09-25 16:12:23,948] Trial 172 finished with value: 0.5804336055511132 and parameters: {'x': 3.455470034213217, 'y': -5.610721420522421}. Best is trial 116 with value: 0.024714589377475102.\n",
      "[I 2025-09-25 16:12:23,953] Trial 173 finished with value: 0.4253978455905782 and parameters: {'x': 3.126446650837769, 'y': -4.360149165756198}. Best is trial 116 with value: 0.024714589377475102.\n",
      "[I 2025-09-25 16:12:23,958] Trial 174 finished with value: 2.0197258176250314 and parameters: {'x': 4.416885336520806, 'y': -4.889719626508817}. Best is trial 116 with value: 0.024714589377475102.\n",
      "[I 2025-09-25 16:12:23,963] Trial 175 finished with value: 0.3653022264764807 and parameters: {'x': 2.8991722050887847, 'y': -5.5959328672340725}. Best is trial 116 with value: 0.024714589377475102.\n",
      "[I 2025-09-25 16:12:23,967] Trial 176 finished with value: 1.3265264354152468 and parameters: {'x': 2.864481513235085, 'y': -6.143748737774252}. Best is trial 116 with value: 0.024714589377475102.\n",
      "[I 2025-09-25 16:12:23,972] Trial 177 finished with value: 1.279309734334321 and parameters: {'x': 2.707147300093446, 'y': -3.907504219462719}. Best is trial 116 with value: 0.024714589377475102.\n",
      "[I 2025-09-25 16:12:23,978] Trial 178 finished with value: 137.71610713874807 and parameters: {'x': -8.718011989027866, 'y': -5.63584759474834}. Best is trial 116 with value: 0.024714589377475102.\n",
      "[I 2025-09-25 16:12:23,981] Trial 179 finished with value: 9.984395531615782 and parameters: {'x': 2.2984874954189243, 'y': -8.080953705840477}. Best is trial 116 with value: 0.024714589377475102.\n",
      "[I 2025-09-25 16:12:23,985] Trial 180 finished with value: 3.3332356764365456 and parameters: {'x': 3.846391458015738, 'y': -6.617670292808315}. Best is trial 116 with value: 0.024714589377475102.\n",
      "[I 2025-09-25 16:12:23,990] Trial 181 finished with value: 0.26634803391913325 and parameters: {'x': 3.4340240073375727, 'y': -5.279233226844099}. Best is trial 116 with value: 0.024714589377475102.\n",
      "[I 2025-09-25 16:12:23,997] Trial 182 finished with value: 0.07324839277792292 and parameters: {'x': 3.203395099203867, 'y': -4.821453573550821}. Best is trial 116 with value: 0.024714589377475102.\n",
      "[I 2025-09-25 16:12:24,007] Trial 183 finished with value: 0.1590429735412307 and parameters: {'x': 3.2708587125461417, 'y': -4.707291046636634}. Best is trial 116 with value: 0.024714589377475102.\n",
      "[I 2025-09-25 16:12:24,013] Trial 184 finished with value: 0.4360346252965423 and parameters: {'x': 3.360570600635986, 'y': -4.446806121460526}. Best is trial 116 with value: 0.024714589377475102.\n",
      "[I 2025-09-25 16:12:24,020] Trial 185 finished with value: 2.333776284532301 and parameters: {'x': 3.8685348508036013, 'y': -3.7432488323172852}. Best is trial 116 with value: 0.024714589377475102.\n",
      "[I 2025-09-25 16:12:24,027] Trial 186 finished with value: 1.5089808132476585 and parameters: {'x': 4.218398436459082, 'y': -4.843519767121457}. Best is trial 116 with value: 0.024714589377475102.\n",
      "[I 2025-09-25 16:12:24,032] Trial 187 finished with value: 42.055734731360104 and parameters: {'x': -3.161367852000857, 'y': -2.976814164815685}. Best is trial 116 with value: 0.024714589377475102.\n",
      "[I 2025-09-25 16:12:24,036] Trial 188 finished with value: 0.6705734311966447 and parameters: {'x': 2.6709126352852754, 'y': -4.250150056623485}. Best is trial 116 with value: 0.024714589377475102.\n",
      "[I 2025-09-25 16:12:24,041] Trial 189 finished with value: 0.08331541376491562 and parameters: {'x': 3.2864569093149076, 'y': -5.035466221544822}. Best is trial 116 with value: 0.024714589377475102.\n",
      "[I 2025-09-25 16:12:24,044] Trial 190 finished with value: 0.5350146930095204 and parameters: {'x': 3.6663333854790685, 'y': -4.698313884301045}. Best is trial 116 with value: 0.024714589377475102.\n",
      "[I 2025-09-25 16:12:24,048] Trial 191 finished with value: 0.04667215867141139 and parameters: {'x': 3.2075916262239406, 'y': -5.059815344127666}. Best is trial 116 with value: 0.024714589377475102.\n",
      "[I 2025-09-25 16:12:24,051] Trial 192 finished with value: 0.08997880677463424 and parameters: {'x': 3.298996579151134, 'y': -5.024080125218817}. Best is trial 116 with value: 0.024714589377475102.\n",
      "[I 2025-09-25 16:12:24,056] Trial 193 finished with value: 2.8768236297267378 and parameters: {'x': 4.69583029630131, 'y': -4.968643407816699}. Best is trial 116 with value: 0.024714589377475102.\n",
      "[I 2025-09-25 16:12:24,061] Trial 194 finished with value: 1.2910653587292993 and parameters: {'x': 3.309604076088273, 'y': -3.906743088382778}. Best is trial 116 with value: 0.024714589377475102.\n",
      "[I 2025-09-25 16:12:24,064] Trial 195 finished with value: 1.1805993248881312 and parameters: {'x': 4.085649405572538, 'y': -5.044324858354261}. Best is trial 116 with value: 0.024714589377475102.\n",
      "[I 2025-09-25 16:12:24,067] Trial 196 finished with value: 3.3216640676245133 and parameters: {'x': 2.219442023764203, 'y': -3.3530654799418436}. Best is trial 116 with value: 0.024714589377475102.\n",
      "[I 2025-09-25 16:12:24,073] Trial 197 finished with value: 1.631399684392783 and parameters: {'x': 3.3964670484490886, 'y': -6.214171966356846}. Best is trial 116 with value: 0.024714589377475102.\n",
      "[I 2025-09-25 16:12:24,077] Trial 198 finished with value: 0.5117597795836133 and parameters: {'x': 2.6452193639051282, 'y': -4.378799163043278}. Best is trial 116 with value: 0.024714589377475102.\n",
      "[I 2025-09-25 16:12:24,080] Trial 199 finished with value: 0.06956007591626928 and parameters: {'x': 3.22577168284538, 'y': -5.136334966686593}. Best is trial 116 with value: 0.024714589377475102.\n",
      "[I 2025-09-25 16:12:24,084] Trial 200 finished with value: 0.49682043299777645 and parameters: {'x': 3.704849735536687, 'y': -5.002698761130394}. Best is trial 116 with value: 0.024714589377475102.\n",
      "[I 2025-09-25 16:12:24,089] Trial 201 finished with value: 1.0297241815607705 and parameters: {'x': 3.1373489925872318, 'y': -6.005415056479682}. Best is trial 116 with value: 0.024714589377475102.\n",
      "[I 2025-09-25 16:12:24,093] Trial 202 finished with value: 0.7206823006110585 and parameters: {'x': 2.5551866388133466, 'y': -4.276934737163449}. Best is trial 116 with value: 0.024714589377475102.\n",
      "[I 2025-09-25 16:12:24,096] Trial 203 finished with value: 0.06712079087014944 and parameters: {'x': 3.1524061694846583, 'y': -5.2095069220173}. Best is trial 116 with value: 0.024714589377475102.\n",
      "[I 2025-09-25 16:12:24,099] Trial 204 finished with value: 0.07491428541658798 and parameters: {'x': 3.2164664591282737, 'y': -5.1675009178752624}. Best is trial 116 with value: 0.024714589377475102.\n",
      "[I 2025-09-25 16:12:24,104] Trial 205 finished with value: 0.472249769460813 and parameters: {'x': 3.6492022125716885, 'y': -5.225358063207947}. Best is trial 116 with value: 0.024714589377475102.\n",
      "[I 2025-09-25 16:12:24,107] Trial 206 finished with value: 3.117398364762195 and parameters: {'x': 4.142919476517003, 'y': -6.345783576568051}. Best is trial 116 with value: 0.024714589377475102.\n",
      "[I 2025-09-25 16:12:24,111] Trial 207 finished with value: 0.0948866396781547 and parameters: {'x': 3.2932028648154033, 'y': -4.905561026359902}. Best is trial 116 with value: 0.024714589377475102.\n",
      "[I 2025-09-25 16:12:24,114] Trial 208 finished with value: 1.7181737686982692 and parameters: {'x': 3.308097227852902, 'y': -3.7259317652152117}. Best is trial 116 with value: 0.024714589377475102.\n",
      "[I 2025-09-25 16:12:24,118] Trial 209 finished with value: 0.5674347243106833 and parameters: {'x': 3.689016266051467, 'y': -4.6955475251748195}. Best is trial 116 with value: 0.024714589377475102.\n",
      "[I 2025-09-25 16:12:24,122] Trial 210 finished with value: 0.6561461806000718 and parameters: {'x': 3.1682401054448857, 'y': -5.792364466341068}. Best is trial 116 with value: 0.024714589377475102.\n",
      "[I 2025-09-25 16:12:24,126] Trial 211 finished with value: 0.020986600495549117 and parameters: {'x': 3.112329566081041, 'y': -5.091480430036124}. Best is trial 211 with value: 0.020986600495549117.\n",
      "[I 2025-09-25 16:12:24,130] Trial 212 finished with value: 0.1990641338375586 and parameters: {'x': 3.3559392136227673, 'y': -5.269019348826743}. Best is trial 211 with value: 0.020986600495549117.\n",
      "[I 2025-09-25 16:12:24,134] Trial 213 finished with value: 0.1446902203909273 and parameters: {'x': 3.0473171862779376, 'y': -4.62257278281281}. Best is trial 211 with value: 0.020986600495549117.\n",
      "[I 2025-09-25 16:12:24,138] Trial 214 finished with value: 1.98007621105236 and parameters: {'x': 3.9770885214021714, 'y': -3.9873923600937635}. Best is trial 211 with value: 0.020986600495549117.\n",
      "[I 2025-09-25 16:12:24,141] Trial 215 finished with value: 0.09237242558642936 and parameters: {'x': 3.0669058877397988, 'y': -4.703527357464169}. Best is trial 211 with value: 0.020986600495549117.\n",
      "[I 2025-09-25 16:12:24,145] Trial 216 finished with value: 2.49016619880918 and parameters: {'x': 4.516015698051844, 'y': -4.561978765275518}. Best is trial 211 with value: 0.020986600495549117.\n",
      "[I 2025-09-25 16:12:24,148] Trial 217 finished with value: 3.011182258567835 and parameters: {'x': 3.20041451637151, 'y': -3.276336378467246}. Best is trial 211 with value: 0.020986600495549117.\n",
      "[I 2025-09-25 16:12:24,151] Trial 218 finished with value: 1.2069450651088143 and parameters: {'x': 3.5411085685150985, 'y': -4.043889869215708}. Best is trial 211 with value: 0.020986600495549117.\n",
      "[I 2025-09-25 16:12:24,155] Trial 219 finished with value: 0.7427231121649059 and parameters: {'x': 3.8355524553162432, 'y': -4.788871587464161}. Best is trial 211 with value: 0.020986600495549117.\n",
      "[I 2025-09-25 16:12:24,159] Trial 220 finished with value: 0.9393475831022426 and parameters: {'x': 2.9819700090893173, 'y': -5.969031734531952}. Best is trial 211 with value: 0.020986600495549117.\n",
      "[I 2025-09-25 16:12:24,163] Trial 221 finished with value: 0.3101068307088171 and parameters: {'x': 3.1532036719535084, 'y': -5.535383475285499}. Best is trial 211 with value: 0.020986600495549117.\n",
      "[I 2025-09-25 16:12:24,166] Trial 222 finished with value: 335.7551675794325 and parameters: {'x': 2.984493736966604, 'y': 13.323616649974952}. Best is trial 211 with value: 0.020986600495549117.\n",
      "[I 2025-09-25 16:12:24,170] Trial 223 finished with value: 0.3187144217822571 and parameters: {'x': 3.4626343110578937, 'y': -4.67645106086676}. Best is trial 211 with value: 0.020986600495549117.\n",
      "[I 2025-09-25 16:12:24,174] Trial 224 finished with value: 0.18103904187328002 and parameters: {'x': 2.6904587971708147, 'y': -5.291930275278775}. Best is trial 211 with value: 0.020986600495549117.\n",
      "[I 2025-09-25 16:12:24,177] Trial 225 finished with value: 1.311942634497429 and parameters: {'x': 2.0836026528727336, 'y': -4.312862068667769}. Best is trial 211 with value: 0.020986600495549117.\n",
      "[I 2025-09-25 16:12:24,180] Trial 226 finished with value: 0.11948227787353755 and parameters: {'x': 2.6592613453909717, 'y': -5.058133012383386}. Best is trial 211 with value: 0.020986600495549117.\n",
      "[I 2025-09-25 16:12:24,185] Trial 227 finished with value: 2.5887246230690963 and parameters: {'x': 2.732836022149863, 'y': -6.586615275360851}. Best is trial 211 with value: 0.020986600495549117.\n",
      "[I 2025-09-25 16:12:24,189] Trial 228 finished with value: 1.9282025935439313 and parameters: {'x': 2.3039627421934488, 'y': -3.798444870474489}. Best is trial 211 with value: 0.020986600495549117.\n",
      "[I 2025-09-25 16:12:24,193] Trial 229 finished with value: 0.8888262125252248 and parameters: {'x': 2.6287646842740453, 'y': -5.866608650362478}. Best is trial 211 with value: 0.020986600495549117.\n",
      "[I 2025-09-25 16:12:24,197] Trial 230 finished with value: 0.9958843361916354 and parameters: {'x': 3.9583734081732116, 'y': -4.721782914438926}. Best is trial 211 with value: 0.020986600495549117.\n",
      "[I 2025-09-25 16:12:24,200] Trial 231 finished with value: 0.10566917741340927 and parameters: {'x': 3.2915681544908533, 'y': -5.1437260891425325}. Best is trial 211 with value: 0.020986600495549117.\n",
      "[I 2025-09-25 16:12:24,204] Trial 232 finished with value: 0.057661824994174826 and parameters: {'x': 2.8576870193324675, 'y': -4.806586348652177}. Best is trial 211 with value: 0.020986600495549117.\n",
      "[I 2025-09-25 16:12:24,207] Trial 233 finished with value: 0.06689809091742885 and parameters: {'x': 3.168944558404901, 'y': -4.8041535624454665}. Best is trial 211 with value: 0.020986600495549117.\n",
      "[I 2025-09-25 16:12:24,210] Trial 234 finished with value: 0.5859352733917469 and parameters: {'x': 3.4889453303878946, 'y': -4.411045216265612}. Best is trial 211 with value: 0.020986600495549117.\n",
      "[I 2025-09-25 16:12:24,214] Trial 235 finished with value: 0.01929699135586021 and parameters: {'x': 3.0889754370672278, 'y': -5.106678783994551}. Best is trial 235 with value: 0.01929699135586021.\n",
      "[I 2025-09-25 16:12:24,219] Trial 236 finished with value: 0.5099519063517326 and parameters: {'x': 2.980155395063828, 'y': -5.713833382524704}. Best is trial 235 with value: 0.01929699135586021.\n",
      "[I 2025-09-25 16:12:24,223] Trial 237 finished with value: 0.488774659694928 and parameters: {'x': 3.691511946428586, 'y': -5.1028877429117605}. Best is trial 235 with value: 0.01929699135586021.\n",
      "[I 2025-09-25 16:12:24,227] Trial 238 finished with value: 1.2801012744430205 and parameters: {'x': 3.1596170832482753, 'y': -6.120099844289934}. Best is trial 235 with value: 0.01929699135586021.\n",
      "[I 2025-09-25 16:12:24,231] Trial 239 finished with value: 22.17063302626984 and parameters: {'x': -1.5654211352034373, 'y': -3.8478008485910093}. Best is trial 235 with value: 0.01929699135586021.\n",
      "[I 2025-09-25 16:12:24,235] Trial 240 finished with value: 0.5844235977780243 and parameters: {'x': 3.74635834426606, 'y': -5.165447332170845}. Best is trial 235 with value: 0.01929699135586021.\n",
      "[I 2025-09-25 16:12:24,240] Trial 241 finished with value: 0.4146464464875803 and parameters: {'x': 3.2600724395886242, 'y': -4.410925494819202}. Best is trial 235 with value: 0.01929699135586021.\n",
      "[I 2025-09-25 16:12:24,248] Trial 242 finished with value: 0.06024964856675949 and parameters: {'x': 3.0616975532017876, 'y': -4.762422516858874}. Best is trial 235 with value: 0.01929699135586021.\n",
      "[I 2025-09-25 16:12:24,259] Trial 243 finished with value: 0.3579559950235721 and parameters: {'x': 2.907054849014443, 'y': -5.591030620130501}. Best is trial 235 with value: 0.01929699135586021.\n",
      "[I 2025-09-25 16:12:24,265] Trial 244 finished with value: 0.2669648283842565 and parameters: {'x': 2.484632374397205, 'y': -4.963107739771139}. Best is trial 235 with value: 0.01929699135586021.\n",
      "[I 2025-09-25 16:12:24,273] Trial 245 finished with value: 35.32830224746534 and parameters: {'x': 8.864345521822472, 'y': -4.031623085701616}. Best is trial 235 with value: 0.01929699135586021.\n",
      "[I 2025-09-25 16:12:24,278] Trial 246 finished with value: 0.6952225999527659 and parameters: {'x': 3.009285696646176, 'y': -5.83374838877839}. Best is trial 235 with value: 0.01929699135586021.\n",
      "[I 2025-09-25 16:12:24,282] Trial 247 finished with value: 1.5175911150003374 and parameters: {'x': 4.2305906248949805, 'y': -5.056901923701389}. Best is trial 235 with value: 0.01929699135586021.\n",
      "[I 2025-09-25 16:12:24,286] Trial 248 finished with value: 0.48028087208353953 and parameters: {'x': 3.541965237066988, 'y': -4.568080384915824}. Best is trial 235 with value: 0.01929699135586021.\n",
      "[I 2025-09-25 16:12:24,290] Trial 249 finished with value: 1.6553985919569782 and parameters: {'x': 2.8706503350503083, 'y': -6.280104392670528}. Best is trial 235 with value: 0.01929699135586021.\n",
      "[I 2025-09-25 16:12:24,294] Trial 250 finished with value: 2.6728983139313707 and parameters: {'x': 2.360581217419205, 'y': -3.4953266353077606}. Best is trial 235 with value: 0.01929699135586021.\n",
      "[I 2025-09-25 16:12:24,297] Trial 251 finished with value: 0.37156611201863854 and parameters: {'x': 3.489152318105313, 'y': -5.363725338285412}. Best is trial 235 with value: 0.01929699135586021.\n",
      "[I 2025-09-25 16:12:24,301] Trial 252 finished with value: 1.3478317274898797 and parameters: {'x': 3.8349598978857538, 'y': -4.193356524595599}. Best is trial 235 with value: 0.01929699135586021.\n",
      "[I 2025-09-25 16:12:24,305] Trial 253 finished with value: 0.04926292247181496 and parameters: {'x': 3.1869216213643177, 'y': -4.880320302731208}. Best is trial 235 with value: 0.01929699135586021.\n",
      "[I 2025-09-25 16:12:24,310] Trial 254 finished with value: 5.019837837222855 and parameters: {'x': 2.7548037055336465, 'y': -2.7729578777214776}. Best is trial 235 with value: 0.01929699135586021.\n",
      "[I 2025-09-25 16:12:24,313] Trial 255 finished with value: 0.09161057111547345 and parameters: {'x': 3.171619625699855, 'y': -4.750686391887416}. Best is trial 235 with value: 0.01929699135586021.\n",
      "[I 2025-09-25 16:12:24,316] Trial 256 finished with value: 1.280492333080837 and parameters: {'x': 4.131488234245787, 'y': -5.015056853728039}. Best is trial 235 with value: 0.01929699135586021.\n",
      "[I 2025-09-25 16:12:24,321] Trial 257 finished with value: 0.9806787269021734 and parameters: {'x': 3.4134096718772815, 'y': -5.899872863298195}. Best is trial 235 with value: 0.01929699135586021.\n",
      "[I 2025-09-25 16:12:24,325] Trial 258 finished with value: 4.354986388847903 and parameters: {'x': 2.2063898603215772, 'y': -6.93006977465777}. Best is trial 235 with value: 0.01929699135586021.\n",
      "[I 2025-09-25 16:12:24,329] Trial 259 finished with value: 2.0585249248596362 and parameters: {'x': 3.6728545865395863, 'y': -3.732801661052115}. Best is trial 235 with value: 0.01929699135586021.\n",
      "[I 2025-09-25 16:12:24,332] Trial 260 finished with value: 0.4246717149125385 and parameters: {'x': 3.259898110889857, 'y': -4.402400897868461}. Best is trial 235 with value: 0.01929699135586021.\n",
      "[I 2025-09-25 16:12:24,336] Trial 261 finished with value: 0.42777272036545577 and parameters: {'x': 2.5615139054456346, 'y': -5.485286168407792}. Best is trial 235 with value: 0.01929699135586021.\n",
      "[I 2025-09-25 16:12:24,342] Trial 262 finished with value: 1.2975307109226195 and parameters: {'x': 1.8822419025805825, 'y': -4.780574507916825}. Best is trial 235 with value: 0.01929699135586021.\n",
      "[I 2025-09-25 16:12:24,346] Trial 263 finished with value: 3.155313643954143 and parameters: {'x': 3.992880182691152, 'y': -6.472923143539176}. Best is trial 235 with value: 0.01929699135586021.\n",
      "[I 2025-09-25 16:12:24,350] Trial 264 finished with value: 0.9612603116335025 and parameters: {'x': 2.891891063158541, 'y': -4.025539754834241}. Best is trial 235 with value: 0.01929699135586021.\n",
      "[I 2025-09-25 16:12:24,354] Trial 265 finished with value: 0.7229356978154222 and parameters: {'x': 3.4039472838686877, 'y': -5.748172633601719}. Best is trial 235 with value: 0.01929699135586021.\n",
      "[I 2025-09-25 16:12:24,357] Trial 266 finished with value: 82.63504475890689 and parameters: {'x': 3.2060641146575235, 'y': -14.088046123318108}. Best is trial 235 with value: 0.01929699135586021.\n",
      "[I 2025-09-25 16:12:24,361] Trial 267 finished with value: 0.17657389979272398 and parameters: {'x': 2.581097439245295, 'y': -4.966916100806062}. Best is trial 235 with value: 0.01929699135586021.\n",
      "[I 2025-09-25 16:12:24,365] Trial 268 finished with value: 74.8586328505585 and parameters: {'x': 4.4479815935181914, 'y': 3.5300634320848414}. Best is trial 235 with value: 0.01929699135586021.\n",
      "[I 2025-09-25 16:12:24,370] Trial 269 finished with value: 0.6321778178130756 and parameters: {'x': 3.7308602566844846, 'y': -5.313083220585462}. Best is trial 235 with value: 0.01929699135586021.\n",
      "[I 2025-09-25 16:12:24,373] Trial 270 finished with value: 2.366235435876267 and parameters: {'x': 2.9343515986346094, 'y': -3.4631442086928144}. Best is trial 235 with value: 0.01929699135586021.\n",
      "[I 2025-09-25 16:12:24,377] Trial 271 finished with value: 0.938498971921294 and parameters: {'x': 2.2994038867991407, 'y': -4.330922980450574}. Best is trial 235 with value: 0.01929699135586021.\n",
      "[I 2025-09-25 16:12:24,380] Trial 272 finished with value: 1.5879935491159576 and parameters: {'x': 3.4256255870841654, 'y': -6.186101348424837}. Best is trial 235 with value: 0.01929699135586021.\n",
      "[I 2025-09-25 16:12:24,384] Trial 273 finished with value: 0.9973574523561018 and parameters: {'x': 3.9876905616704885, 'y': -4.85226778704989}. Best is trial 235 with value: 0.01929699135586021.\n",
      "[I 2025-09-25 16:12:24,388] Trial 274 finished with value: 0.5371044644306008 and parameters: {'x': 2.8505811913497032, 'y': -5.717480650646501}. Best is trial 235 with value: 0.01929699135586021.\n",
      "[I 2025-09-25 16:12:24,392] Trial 275 finished with value: 0.9753805944571365 and parameters: {'x': 3.3112396428210027, 'y': -4.062711101530701}. Best is trial 235 with value: 0.01929699135586021.\n",
      "[I 2025-09-25 16:12:24,397] Trial 276 finished with value: 0.5020294734679552 and parameters: {'x': 3.700956155133522, 'y': -5.103392175953429}. Best is trial 235 with value: 0.01929699135586021.\n",
      "[I 2025-09-25 16:12:24,401] Trial 277 finished with value: 0.3786873758942171 and parameters: {'x': 2.6069016605047706, 'y': -4.526543485227724}. Best is trial 235 with value: 0.01929699135586021.\n",
      "[I 2025-09-25 16:12:24,405] Trial 278 finished with value: 3.734231098912809 and parameters: {'x': 1.9961459720117922, 'y': -6.651214156130167}. Best is trial 235 with value: 0.01929699135586021.\n",
      "[I 2025-09-25 16:12:24,408] Trial 279 finished with value: 0.20376150835206766 and parameters: {'x': 3.1016367787173884, 'y': -5.439808450992043}. Best is trial 235 with value: 0.01929699135586021.\n",
      "[I 2025-09-25 16:12:24,413] Trial 280 finished with value: 3.8887696308419515 and parameters: {'x': 3.0621227777936704, 'y': -3.028982397003733}. Best is trial 235 with value: 0.01929699135586021.\n",
      "[I 2025-09-25 16:12:24,416] Trial 281 finished with value: 2.373611515402831 and parameters: {'x': 4.187754516483279, 'y': -5.981249572726736}. Best is trial 235 with value: 0.01929699135586021.\n",
      "[I 2025-09-25 16:12:24,422] Trial 282 finished with value: 0.4527439596124463 and parameters: {'x': 3.5981086352148783, 'y': -4.691763045541515}. Best is trial 235 with value: 0.01929699135586021.\n",
      "[I 2025-09-25 16:12:24,426] Trial 283 finished with value: 2.0240269538726827 and parameters: {'x': 2.3757300354947297, 'y': -3.72159710369177}. Best is trial 235 with value: 0.01929699135586021.\n",
      "[I 2025-09-25 16:12:24,430] Trial 284 finished with value: 0.10288491237260548 and parameters: {'x': 3.2433880159281685, 'y': -5.208919089781559}. Best is trial 235 with value: 0.01929699135586021.\n",
      "[I 2025-09-25 16:12:24,433] Trial 285 finished with value: 0.9714029161524664 and parameters: {'x': 3.8301584292090043, 'y': -5.53126255144298}. Best is trial 235 with value: 0.01929699135586021.\n",
      "[I 2025-09-25 16:12:24,439] Trial 286 finished with value: 72.07974780704441 and parameters: {'x': -5.465772451996842, 'y': -4.359340497568484}. Best is trial 235 with value: 0.01929699135586021.\n",
      "[I 2025-09-25 16:12:24,445] Trial 287 finished with value: 1.7657100215313501 and parameters: {'x': 3.3062665136901987, 'y': -6.293023914753088}. Best is trial 235 with value: 0.01929699135586021.\n",
      "[I 2025-09-25 16:12:24,449] Trial 288 finished with value: 0.023079952508128658 and parameters: {'x': 3.0159417057966325, 'y': -5.151082144955724}. Best is trial 235 with value: 0.01929699135586021.\n",
      "[I 2025-09-25 16:12:24,454] Trial 289 finished with value: 160.74839267175594 and parameters: {'x': 4.823335199065271, 'y': 7.546865800812789}. Best is trial 235 with value: 0.01929699135586021.\n",
      "[I 2025-09-25 16:12:24,459] Trial 290 finished with value: 1.2473448372839586 and parameters: {'x': 2.8604859308138595, 'y': -3.89190223275061}. Best is trial 235 with value: 0.01929699135586021.\n",
      "[I 2025-09-25 16:12:24,464] Trial 291 finished with value: 1.0543816577717267 and parameters: {'x': 3.596368963827473, 'y': -5.83589814974976}. Best is trial 235 with value: 0.01929699135586021.\n",
      "[I 2025-09-25 16:12:24,470] Trial 292 finished with value: 4.749606108861296 and parameters: {'x': 2.9207711165858243, 'y': -7.1779184771001505}. Best is trial 235 with value: 0.01929699135586021.\n",
      "[I 2025-09-25 16:12:24,477] Trial 293 finished with value: 0.7345784511340793 and parameters: {'x': 2.208283831076451, 'y': -4.671725786880697}. Best is trial 235 with value: 0.01929699135586021.\n",
      "[I 2025-09-25 16:12:24,482] Trial 294 finished with value: 4.417595848921561 and parameters: {'x': 4.304070692809133, 'y': -3.3516688812383997}. Best is trial 235 with value: 0.01929699135586021.\n",
      "[I 2025-09-25 16:12:24,487] Trial 295 finished with value: 0.1614426048114648 and parameters: {'x': 3.2207075045722546, 'y': -5.335754080000457}. Best is trial 235 with value: 0.01929699135586021.\n",
      "[I 2025-09-25 16:12:24,492] Trial 296 finished with value: 0.6200331022577837 and parameters: {'x': 2.6411069738161492, 'y': -4.29912276537586}. Best is trial 235 with value: 0.01929699135586021.\n",
      "[I 2025-09-25 16:12:24,496] Trial 297 finished with value: 32.7314134512227 and parameters: {'x': 3.9482730494202505, 'y': -10.642002452584181}. Best is trial 235 with value: 0.01929699135586021.\n",
      "[I 2025-09-25 16:12:24,501] Trial 298 finished with value: 1.5418335795081728 and parameters: {'x': 3.5358654372985656, 'y': -6.120125802138755}. Best is trial 235 with value: 0.01929699135586021.\n",
      "[I 2025-09-25 16:12:24,508] Trial 299 finished with value: 0.008039066698608273 and parameters: {'x': 3.0174575410839712, 'y': -4.9120551254596965}. Best is trial 299 with value: 0.008039066698608273.\n",
      "[I 2025-09-25 16:12:24,512] Trial 300 finished with value: 1.444187688942728 and parameters: {'x': 1.8358893668000897, 'y': -4.701614138046669}. Best is trial 299 with value: 0.008039066698608273.\n",
      "[I 2025-09-25 16:12:24,516] Trial 301 finished with value: 6.7463681054679405 and parameters: {'x': 2.4233640481390664, 'y': -2.4674402110731175}. Best is trial 299 with value: 0.008039066698608273.\n",
      "[I 2025-09-25 16:12:24,522] Trial 302 finished with value: 0.8841306095087587 and parameters: {'x': 2.883939983899706, 'y': -4.066907999085}. Best is trial 299 with value: 0.008039066698608273.\n",
      "[I 2025-09-25 16:12:24,526] Trial 303 finished with value: 0.4769486499744108 and parameters: {'x': 2.9958714736018712, 'y': -5.6906023495791125}. Best is trial 299 with value: 0.008039066698608273.\n",
      "[I 2025-09-25 16:12:24,530] Trial 304 finished with value: 3.606043913624147 and parameters: {'x': 3.8125062612118734, 'y': -6.716355874845205}. Best is trial 299 with value: 0.008039066698608273.\n",
      "[I 2025-09-25 16:12:24,535] Trial 305 finished with value: 0.09423207446791541 and parameters: {'x': 2.721132063276881, 'y': -4.871684964498677}. Best is trial 299 with value: 0.008039066698608273.\n",
      "[I 2025-09-25 16:12:24,541] Trial 306 finished with value: 2.6531055843994547 and parameters: {'x': 2.4860873736835734, 'y': -3.4543611686710225}. Best is trial 299 with value: 0.008039066698608273.\n",
      "[I 2025-09-25 16:12:24,545] Trial 307 finished with value: 50.98670358668981 and parameters: {'x': 1.9766686370194924, 'y': -12.066788273907056}. Best is trial 299 with value: 0.008039066698608273.\n",
      "[I 2025-09-25 16:12:24,550] Trial 308 finished with value: 0.4748198873284045 and parameters: {'x': 2.7947543776617563, 'y': -4.342205106557225}. Best is trial 299 with value: 0.008039066698608273.\n",
      "[I 2025-09-25 16:12:24,555] Trial 309 finished with value: 21.285451405161552 and parameters: {'x': 7.613563402164498, 'y': -4.977996832730475}. Best is trial 299 with value: 0.008039066698608273.\n",
      "[I 2025-09-25 16:12:24,560] Trial 310 finished with value: 0.8338253519030165 and parameters: {'x': 2.363252016517245, 'y': -5.654505429644141}. Best is trial 299 with value: 0.008039066698608273.\n",
      "[I 2025-09-25 16:12:24,564] Trial 311 finished with value: 1.7106115994062145 and parameters: {'x': 3.58987300626277, 'y': -3.8326690975183015}. Best is trial 299 with value: 0.008039066698608273.\n",
      "[I 2025-09-25 16:12:24,571] Trial 312 finished with value: 1.790378322526179 and parameters: {'x': 3.127403566885299, 'y': -6.331970965776312}. Best is trial 299 with value: 0.008039066698608273.\n",
      "[I 2025-09-25 16:12:24,576] Trial 313 finished with value: 0.1332110239164095 and parameters: {'x': 2.7217876647107913, 'y': -4.763760882982233}. Best is trial 299 with value: 0.008039066698608273.\n",
      "[I 2025-09-25 16:12:24,580] Trial 314 finished with value: 1.951203933454369 and parameters: {'x': 4.343718353088544, 'y': -5.381608334588462}. Best is trial 299 with value: 0.008039066698608273.\n",
      "[I 2025-09-25 16:12:24,584] Trial 315 finished with value: 4.052908282519415 and parameters: {'x': 3.4678536662832276, 'y': -3.041934314313037}. Best is trial 299 with value: 0.008039066698608273.\n",
      "[I 2025-09-25 16:12:24,590] Trial 316 finished with value: 0.5892591797728145 and parameters: {'x': 3.033054742379893, 'y': -4.23307981916042}. Best is trial 299 with value: 0.008039066698608273.\n",
      "[I 2025-09-25 16:12:24,594] Trial 317 finished with value: 0.6171573709779461 and parameters: {'x': 2.2144082583337834, 'y': -5.001728121461741}. Best is trial 299 with value: 0.008039066698608273.\n",
      "[I 2025-09-25 16:12:24,598] Trial 318 finished with value: 2.5170276592013727 and parameters: {'x': 1.5919783468253432, 'y': -5.731096904242303}. Best is trial 299 with value: 0.008039066698608273.\n",
      "[I 2025-09-25 16:12:24,606] Trial 319 finished with value: 1.1796520529533125 and parameters: {'x': 4.043950010654653, 'y': -4.7002994357571835}. Best is trial 299 with value: 0.008039066698608273.\n",
      "[I 2025-09-25 16:12:24,610] Trial 320 finished with value: 1.8963416669890876 and parameters: {'x': 2.7586722972699427, 'y': -6.355766427849621}. Best is trial 299 with value: 0.008039066698608273.\n",
      "[I 2025-09-25 16:12:24,614] Trial 321 finished with value: 1.235699716996161 and parameters: {'x': 3.5130076444209304, 'y': -4.013834256444765}. Best is trial 299 with value: 0.008039066698608273.\n",
      "[I 2025-09-25 16:12:24,619] Trial 322 finished with value: 0.1563186208789076 and parameters: {'x': 3.2050917823979312, 'y': -5.338017723901791}. Best is trial 299 with value: 0.008039066698608273.\n",
      "[I 2025-09-25 16:12:24,625] Trial 323 finished with value: 1.7051657805557503 and parameters: {'x': 3.85601077320427, 'y': -5.986109191070633}. Best is trial 299 with value: 0.008039066698608273.\n",
      "[I 2025-09-25 16:12:24,629] Trial 324 finished with value: 13.605026783829834 and parameters: {'x': 2.5686279330922464, 'y': -1.3368121910388533}. Best is trial 299 with value: 0.008039066698608273.\n",
      "[I 2025-09-25 16:12:24,633] Trial 325 finished with value: 0.252817577797162 and parameters: {'x': 3.059387579954589, 'y': -4.500709810686912}. Best is trial 299 with value: 0.008039066698608273.\n",
      "[I 2025-09-25 16:12:24,639] Trial 326 finished with value: 33.31420740017227 and parameters: {'x': 3.506821628079078, 'y': 0.7495512205287422}. Best is trial 299 with value: 0.008039066698608273.\n",
      "[I 2025-09-25 16:12:24,644] Trial 327 finished with value: 5.313599839654405 and parameters: {'x': 2.1802256531922968, 'y': -7.154430286635056}. Best is trial 299 with value: 0.008039066698608273.\n",
      "[I 2025-09-25 16:12:24,649] Trial 328 finished with value: 2.3992469532996585 and parameters: {'x': 2.7058716679352024, 'y': -3.479231944846145}. Best is trial 299 with value: 0.008039066698608273.\n",
      "[I 2025-09-25 16:12:24,654] Trial 329 finished with value: 0.13490528807409521 and parameters: {'x': 3.2098918641838416, 'y': -5.30141448774657}. Best is trial 299 with value: 0.008039066698608273.\n",
      "[I 2025-09-25 16:12:24,660] Trial 330 finished with value: 2.7773409477117132 and parameters: {'x': 4.656431059859408, 'y': -4.816759470518248}. Best is trial 299 with value: 0.008039066698608273.\n",
      "[I 2025-09-25 16:12:24,663] Trial 331 finished with value: 1.5526108497441535 and parameters: {'x': 3.8902320718654946, 'y': -4.1281641737309585}. Best is trial 299 with value: 0.008039066698608273.\n",
      "[I 2025-09-25 16:12:24,668] Trial 332 finished with value: 0.38874485211431 and parameters: {'x': 2.8872848516586753, 'y': -5.613221124431231}. Best is trial 299 with value: 0.008039066698608273.\n",
      "[I 2025-09-25 16:12:24,674] Trial 333 finished with value: 48.09344552434536 and parameters: {'x': 9.934781263084286, 'y': -4.952519925016075}. Best is trial 299 with value: 0.008039066698608273.\n",
      "[I 2025-09-25 16:12:24,679] Trial 334 finished with value: 1.7326607556810476 and parameters: {'x': 3.512694455328463, 'y': -6.212355208326544}. Best is trial 299 with value: 0.008039066698608273.\n",
      "[I 2025-09-25 16:12:24,685] Trial 335 finished with value: 0.7477582929481361 and parameters: {'x': 2.3878696051682473, 'y': -4.389217982688375}. Best is trial 299 with value: 0.008039066698608273.\n",
      "[I 2025-09-25 16:12:24,692] Trial 336 finished with value: 0.12665109823667287 and parameters: {'x': 3.1615443415312754, 'y': -5.317103333246277}. Best is trial 299 with value: 0.008039066698608273.\n",
      "[I 2025-09-25 16:12:24,696] Trial 337 finished with value: 4.775378321120817 and parameters: {'x': 4.270065638843871, 'y': -6.7782889512531215}. Best is trial 299 with value: 0.008039066698608273.\n",
      "[I 2025-09-25 16:12:24,701] Trial 338 finished with value: 1.8774936348017253 and parameters: {'x': 3.7267204728296717, 'y': -3.838375710837646}. Best is trial 299 with value: 0.008039066698608273.\n",
      "[I 2025-09-25 16:12:24,707] Trial 339 finished with value: 15.457934987585686 and parameters: {'x': -0.837882100520575, 'y': -5.85357833272024}. Best is trial 299 with value: 0.008039066698608273.\n",
      "[I 2025-09-25 16:12:24,712] Trial 340 finished with value: 0.12555399477442222 and parameters: {'x': 2.671209940947643, 'y': -4.867897419242583}. Best is trial 299 with value: 0.008039066698608273.\n",
      "[I 2025-09-25 16:12:24,717] Trial 341 finished with value: 6.06587332343727 and parameters: {'x': 2.0348205645197006, 'y': -2.7341001829817806}. Best is trial 299 with value: 0.008039066698608273.\n",
      "[I 2025-09-25 16:12:24,722] Trial 342 finished with value: 2.490333856254808 and parameters: {'x': 3.3080376165066716, 'y': -3.452276935924357}. Best is trial 299 with value: 0.008039066698608273.\n",
      "[I 2025-09-25 16:12:24,727] Trial 343 finished with value: 0.39551698193323587 and parameters: {'x': 3.002388252066884, 'y': -4.371103125953626}. Best is trial 299 with value: 0.008039066698608273.\n",
      "[I 2025-09-25 16:12:24,731] Trial 344 finished with value: 0.3891914574149612 and parameters: {'x': 2.54564216244963, 'y': -5.427493172894624}. Best is trial 299 with value: 0.008039066698608273.\n",
      "[I 2025-09-25 16:12:24,736] Trial 345 finished with value: 1.4924603831895922 and parameters: {'x': 3.6841396760709597, 'y': -6.01213303810078}. Best is trial 299 with value: 0.008039066698608273.\n",
      "[I 2025-09-25 16:12:24,741] Trial 346 finished with value: 0.18185658235578284 and parameters: {'x': 3.358599698054883, 'y': -4.769212567693279}. Best is trial 299 with value: 0.008039066698608273.\n",
      "[I 2025-09-25 16:12:24,746] Trial 347 finished with value: 0.06372304059082552 and parameters: {'x': 2.9170335402400758, 'y': -5.238410585221652}. Best is trial 299 with value: 0.008039066698608273.\n",
      "[I 2025-09-25 16:12:24,752] Trial 348 finished with value: 3.9353656950852676 and parameters: {'x': 4.016915153143881, 'y': -6.70330539434114}. Best is trial 299 with value: 0.008039066698608273.\n",
      "[I 2025-09-25 16:12:24,759] Trial 349 finished with value: 1.8312691087423711 and parameters: {'x': 1.7567839348757615, 'y': -5.5344931469713865}. Best is trial 299 with value: 0.008039066698608273.\n",
      "[I 2025-09-25 16:12:24,763] Trial 350 finished with value: 120.18429733772105 and parameters: {'x': -7.917750603945386, 'y': -4.006511656952533}. Best is trial 299 with value: 0.008039066698608273.\n",
      "[I 2025-09-25 16:12:24,767] Trial 351 finished with value: 0.04874601122210782 and parameters: {'x': 3.0647001707892993, 'y': -5.21109215788831}. Best is trial 299 with value: 0.008039066698608273.\n",
      "[I 2025-09-25 16:12:24,773] Trial 352 finished with value: 21.7284665576351 and parameters: {'x': 3.4566316213491386, 'y': -0.3610395431714277}. Best is trial 299 with value: 0.008039066698608273.\n",
      "[I 2025-09-25 16:12:24,778] Trial 353 finished with value: 1.4092632918333428 and parameters: {'x': 2.925687901443972, 'y': -6.184795764611581}. Best is trial 299 with value: 0.008039066698608273.\n",
      "[I 2025-09-25 16:12:24,785] Trial 354 finished with value: 4.6728951387639315 and parameters: {'x': 5.145185584604386, 'y': -5.266596973669002}. Best is trial 299 with value: 0.008039066698608273.\n",
      "[I 2025-09-25 16:12:24,791] Trial 355 finished with value: 8.083155696821708 and parameters: {'x': 2.3941039175102157, 'y': -7.77777710301695}. Best is trial 299 with value: 0.008039066698608273.\n",
      "[I 2025-09-25 16:12:24,798] Trial 356 finished with value: 1.7000704769808657 and parameters: {'x': 4.031232151800753, 'y': -5.797891424990428}. Best is trial 299 with value: 0.008039066698608273.\n",
      "[I 2025-09-25 16:12:24,807] Trial 357 finished with value: 2.5683678604162075 and parameters: {'x': 3.6414379993071124, 'y': -6.468647389083267}. Best is trial 299 with value: 0.008039066698608273.\n",
      "[I 2025-09-25 16:12:24,811] Trial 358 finished with value: 10.504250560196606 and parameters: {'x': -0.23410095171792022, 'y': -5.211758339372618}. Best is trial 299 with value: 0.008039066698608273.\n",
      "[I 2025-09-25 16:12:24,820] Trial 359 finished with value: 28.55220255646911 and parameters: {'x': -2.2988567629788053, 'y': -4.311291380986934}. Best is trial 299 with value: 0.008039066698608273.\n",
      "[I 2025-09-25 16:12:24,830] Trial 360 finished with value: 0.5974972839261871 and parameters: {'x': 3.1160738523171547, 'y': -5.764214724232949}. Best is trial 299 with value: 0.008039066698608273.\n",
      "[I 2025-09-25 16:12:24,842] Trial 361 finished with value: 251.1107804940153 and parameters: {'x': 2.6727320200499607, 'y': 10.843095536015515}. Best is trial 299 with value: 0.008039066698608273.\n",
      "[I 2025-09-25 16:12:24,849] Trial 362 finished with value: 2.335529379591503 and parameters: {'x': 4.480119740750938, 'y': -4.6195069874086006}. Best is trial 299 with value: 0.008039066698608273.\n",
      "[I 2025-09-25 16:12:24,858] Trial 363 finished with value: 2.318683011171368 and parameters: {'x': 3.2590017807377603, 'y': -3.4994663986614505}. Best is trial 299 with value: 0.008039066698608273.\n",
      "[I 2025-09-25 16:12:24,864] Trial 364 finished with value: 0.4629714159624602 and parameters: {'x': 2.3507308962930717, 'y': -5.203521612940892}. Best is trial 299 with value: 0.008039066698608273.\n",
      "[I 2025-09-25 16:12:24,870] Trial 365 finished with value: 4.881799326518723 and parameters: {'x': 3.752787050331902, 'y': -7.077284521525955}. Best is trial 299 with value: 0.008039066698608273.\n",
      "[I 2025-09-25 16:12:24,876] Trial 366 finished with value: 0.7107475586223887 and parameters: {'x': 2.8936575266613573, 'y': -4.163675399748035}. Best is trial 299 with value: 0.008039066698608273.\n",
      "[I 2025-09-25 16:12:24,882] Trial 367 finished with value: 1.9077322752441452 and parameters: {'x': 1.996404269172035, 'y': -5.948961476724966}. Best is trial 299 with value: 0.008039066698608273.\n",
      "[I 2025-09-25 16:12:24,888] Trial 368 finished with value: 0.16367359340589147 and parameters: {'x': 3.3970184303643056, 'y': -5.07778148466669}. Best is trial 299 with value: 0.008039066698608273.\n",
      "[I 2025-09-25 16:12:24,894] Trial 369 finished with value: 0.17414991259418033 and parameters: {'x': 2.9943741424389136, 'y': -4.582725195679295}. Best is trial 299 with value: 0.008039066698608273.\n",
      "[I 2025-09-25 16:12:24,899] Trial 370 finished with value: 1.4530452775749352 and parameters: {'x': 4.084188042258179, 'y': -5.526860101544339}. Best is trial 299 with value: 0.008039066698608273.\n",
      "[I 2025-09-25 16:12:24,905] Trial 371 finished with value: 1.8932574261281432 and parameters: {'x': 2.6090959618991514, 'y': -6.319261709868286}. Best is trial 299 with value: 0.008039066698608273.\n",
      "[I 2025-09-25 16:12:24,911] Trial 372 finished with value: 2.24180543594089 and parameters: {'x': 3.591656159704487, 'y': -3.6245915426228366}. Best is trial 299 with value: 0.008039066698608273.\n",
      "[I 2025-09-25 16:12:24,915] Trial 373 finished with value: 397.45253080007024 and parameters: {'x': 3.158793236007727, 'y': 14.935579136515408}. Best is trial 299 with value: 0.008039066698608273.\n",
      "[I 2025-09-25 16:12:24,921] Trial 374 finished with value: 0.5526962819739414 and parameters: {'x': 2.259305983083874, 'y': -5.063786011621635}. Best is trial 299 with value: 0.008039066698608273.\n",
      "[I 2025-09-25 16:12:24,927] Trial 375 finished with value: 10.651249406680165 and parameters: {'x': 6.117473618227518, 'y': -4.034283868657257}. Best is trial 299 with value: 0.008039066698608273.\n",
      "[I 2025-09-25 16:12:24,933] Trial 376 finished with value: 53.567710338755575 and parameters: {'x': 2.880471152915313, 'y': 2.318020442269219}. Best is trial 299 with value: 0.008039066698608273.\n",
      "[I 2025-09-25 16:12:24,941] Trial 377 finished with value: 0.38433825799216614 and parameters: {'x': 3.466395093478857, 'y': -4.591571456958485}. Best is trial 299 with value: 0.008039066698608273.\n",
      "[I 2025-09-25 16:12:24,946] Trial 378 finished with value: 1.3433027062085197 and parameters: {'x': 3.9316853211313134, 'y': -5.689394784283259}. Best is trial 299 with value: 0.008039066698608273.\n",
      "[I 2025-09-25 16:12:24,950] Trial 379 finished with value: 6.5358240402553855 and parameters: {'x': 1.4916806988736726, 'y': -2.935830208993172}. Best is trial 299 with value: 0.008039066698608273.\n",
      "[I 2025-09-25 16:12:24,957] Trial 380 finished with value: 2.5809135020340417 and parameters: {'x': 3.235484887766253, 'y': -6.589169710782255}. Best is trial 299 with value: 0.008039066698608273.\n",
      "[I 2025-09-25 16:12:24,963] Trial 381 finished with value: 0.17133250526297478 and parameters: {'x': 2.62494562684119, 'y': -5.175119166390852}. Best is trial 299 with value: 0.008039066698608273.\n",
      "[I 2025-09-25 16:12:24,967] Trial 382 finished with value: 2.2196180770557477 and parameters: {'x': 4.40735947237114, 'y': -4.511167316371978}. Best is trial 299 with value: 0.008039066698608273.\n",
      "[I 2025-09-25 16:12:24,974] Trial 383 finished with value: 1.4772953238113444 and parameters: {'x': 3.6481849758478986, 'y': -6.028178759212815}. Best is trial 299 with value: 0.008039066698608273.\n",
      "[I 2025-09-25 16:12:24,980] Trial 384 finished with value: 1.330849546413165 and parameters: {'x': 2.9731805387679895, 'y': -3.8466872657807034}. Best is trial 299 with value: 0.008039066698608273.\n",
      "[I 2025-09-25 16:12:24,987] Trial 385 finished with value: 1.0660903802463442 and parameters: {'x': 2.0588699163943422, 'y': -5.424693472964622}. Best is trial 299 with value: 0.008039066698608273.\n",
      "[I 2025-09-25 16:12:24,994] Trial 386 finished with value: 0.24286906066875233 and parameters: {'x': 2.5275798423027154, 'y': -4.859685156629724}. Best is trial 299 with value: 0.008039066698608273.\n",
      "[I 2025-09-25 16:12:25,000] Trial 387 finished with value: 0.7352130899092981 and parameters: {'x': 3.3446697003170263, 'y': -5.785121575039605}. Best is trial 299 with value: 0.008039066698608273.\n",
      "[I 2025-09-25 16:12:25,007] Trial 388 finished with value: 1.3091066911465743 and parameters: {'x': 3.9480763176588445, 'y': -4.359486153903743}. Best is trial 299 with value: 0.008039066698608273.\n",
      "[I 2025-09-25 16:12:25,012] Trial 389 finished with value: 0.03498677733030482 and parameters: {'x': 2.8371096604058312, 'y': -5.091942996455419}. Best is trial 299 with value: 0.008039066698608273.\n",
      "[I 2025-09-25 16:12:25,017] Trial 390 finished with value: 2.8104058056548338 and parameters: {'x': 2.800436763213325, 'y': -6.664506028880058}. Best is trial 299 with value: 0.008039066698608273.\n",
      "[I 2025-09-25 16:12:25,025] Trial 391 finished with value: 0.6464844655754775 and parameters: {'x': 2.2267563569977895, 'y': -5.220405839605369}. Best is trial 299 with value: 0.008039066698608273.\n",
      "[I 2025-09-25 16:12:25,030] Trial 392 finished with value: 163.598572839064 and parameters: {'x': -9.749546645066182, 'y': -6.023539537265489}. Best is trial 299 with value: 0.008039066698608273.\n",
      "[I 2025-09-25 16:12:25,035] Trial 393 finished with value: 8.51224157476322 and parameters: {'x': 2.8793615814474096, 'y': -2.0849205934087576}. Best is trial 299 with value: 0.008039066698608273.\n",
      "[I 2025-09-25 16:12:25,042] Trial 394 finished with value: 0.5084230982250636 and parameters: {'x': 3.5687061534176223, 'y': -5.430112089216283}. Best is trial 299 with value: 0.008039066698608273.\n",
      "[I 2025-09-25 16:12:25,046] Trial 395 finished with value: 3.2973940296559845 and parameters: {'x': 2.4841691067201617, 'y': -3.2589335109783693}. Best is trial 299 with value: 0.008039066698608273.\n",
      "[I 2025-09-25 16:12:25,051] Trial 396 finished with value: 6.07436389412117 and parameters: {'x': 1.733478509609014, 'y': -7.114305372574871}. Best is trial 299 with value: 0.008039066698608273.\n",
      "[I 2025-09-25 16:12:25,057] Trial 397 finished with value: 0.5367127307406477 and parameters: {'x': 3.1814335346034586, 'y': -4.290215100708712}. Best is trial 299 with value: 0.008039066698608273.\n",
      "[I 2025-09-25 16:12:25,064] Trial 398 finished with value: 1.4497756793109038 and parameters: {'x': 4.203813116230876, 'y': -4.975308695834127}. Best is trial 299 with value: 0.008039066698608273.\n",
      "[I 2025-09-25 16:12:25,069] Trial 399 finished with value: 1.7659611161707693 and parameters: {'x': 3.6185632304672204, 'y': -6.17615502638246}. Best is trial 299 with value: 0.008039066698608273.\n",
      "[I 2025-09-25 16:12:25,075] Trial 400 finished with value: 1.81850187522809 and parameters: {'x': 2.773436591979586, 'y': -3.670650197512233}. Best is trial 299 with value: 0.008039066698608273.\n",
      "[I 2025-09-25 16:12:25,080] Trial 401 finished with value: 54.05886054966207 and parameters: {'x': -4.340669725753394, 'y': -5.416447508180392}. Best is trial 299 with value: 0.008039066698608273.\n",
      "[I 2025-09-25 16:12:25,088] Trial 402 finished with value: 0.19985963171514592 and parameters: {'x': 3.30421043791972, 'y': -4.672409338997831}. Best is trial 299 with value: 0.008039066698608273.\n",
      "[I 2025-09-25 16:12:25,095] Trial 403 finished with value: 3.874660918671627 and parameters: {'x': 4.733962456585188, 'y': -4.068315977476974}. Best is trial 299 with value: 0.008039066698608273.\n",
      "[I 2025-09-25 16:12:25,102] Trial 404 finished with value: 116.29747275962053 and parameters: {'x': 2.382896854463414, 'y': 5.766459792679736}. Best is trial 299 with value: 0.008039066698608273.\n",
      "[I 2025-09-25 16:12:25,108] Trial 405 finished with value: 0.5757445869437509 and parameters: {'x': 2.990146723198035, 'y': -5.7587143730548505}. Best is trial 299 with value: 0.008039066698608273.\n",
      "[I 2025-09-25 16:12:25,113] Trial 406 finished with value: 0.8146914838581065 and parameters: {'x': 3.902530074724693, 'y': -4.988556745412847}. Best is trial 299 with value: 0.008039066698608273.\n",
      "[I 2025-09-25 16:12:25,117] Trial 407 finished with value: 3.0821510667095073 and parameters: {'x': 2.0294953956250366, 'y': -6.4629668074144755}. Best is trial 299 with value: 0.008039066698608273.\n",
      "[I 2025-09-25 16:12:25,129] Trial 408 finished with value: 6.878313335714057 and parameters: {'x': 3.3856716216521985, 'y': -7.594141618332781}. Best is trial 299 with value: 0.008039066698608273.\n",
      "[I 2025-09-25 16:12:25,142] Trial 409 finished with value: 0.2544201957956314 and parameters: {'x': 2.740557865648337, 'y': -4.5674378949576315}. Best is trial 299 with value: 0.008039066698608273.\n",
      "[I 2025-09-25 16:12:25,150] Trial 410 finished with value: 0.5015982144637046 and parameters: {'x': 3.1522214904231176, 'y': -5.691684055271675}. Best is trial 299 with value: 0.008039066698608273.\n",
      "[I 2025-09-25 16:12:25,160] Trial 411 finished with value: 1.5841243275651495 and parameters: {'x': 3.706614992403833, 'y': -3.9584532751358292}. Best is trial 299 with value: 0.008039066698608273.\n",
      "[I 2025-09-25 16:12:25,166] Trial 412 finished with value: 0.1763350307320516 and parameters: {'x': 2.5949505828363475, 'y': -5.110770033797219}. Best is trial 299 with value: 0.008039066698608273.\n",
      "[I 2025-09-25 16:12:25,172] Trial 413 finished with value: 0.36938706027493334 and parameters: {'x': 3.096253015794454, 'y': -4.399897994316461}. Best is trial 299 with value: 0.008039066698608273.\n",
      "[I 2025-09-25 16:12:25,177] Trial 414 finished with value: 2.8521991003479856 and parameters: {'x': 4.1897719766140185, 'y': -6.198599909899862}. Best is trial 299 with value: 0.008039066698608273.\n",
      "[I 2025-09-25 16:12:25,181] Trial 415 finished with value: 14.352680238231073 and parameters: {'x': 6.767074573643178, 'y': -5.402280244160885}. Best is trial 299 with value: 0.008039066698608273.\n",
      "[I 2025-09-25 16:12:25,187] Trial 416 finished with value: 0.5374977887656576 and parameters: {'x': 3.7322299828741676, 'y': -5.036565570496763}. Best is trial 299 with value: 0.008039066698608273.\n",
      "[I 2025-09-25 16:12:25,193] Trial 417 finished with value: 3.135724042883691 and parameters: {'x': 2.2036964148415414, 'y': -3.4183474960828226}. Best is trial 299 with value: 0.008039066698608273.\n",
      "[I 2025-09-25 16:12:25,199] Trial 418 finished with value: 0.8441531652500304 and parameters: {'x': 3.3850038318813014, 'y': -5.8342213223640025}. Best is trial 299 with value: 0.008039066698608273.\n",
      "[I 2025-09-25 16:12:25,204] Trial 419 finished with value: 3.454061404909103 and parameters: {'x': 2.9004105150165675, 'y': -6.855840332407354}. Best is trial 299 with value: 0.008039066698608273.\n",
      "[I 2025-09-25 16:12:25,210] Trial 420 finished with value: 3.083066488486728 and parameters: {'x': 1.3112672907933358, 'y': -4.519117139687586}. Best is trial 299 with value: 0.008039066698608273.\n",
      "[I 2025-09-25 16:12:25,215] Trial 421 finished with value: 1.3735512271710149 and parameters: {'x': 2.5296977730602976, 'y': -3.9265163985851617}. Best is trial 299 with value: 0.008039066698608273.\n",
      "[I 2025-09-25 16:12:25,220] Trial 422 finished with value: 0.17719708446712215 and parameters: {'x': 3.4192554853996944, 'y': -4.962291613275177}. Best is trial 299 with value: 0.008039066698608273.\n",
      "[I 2025-09-25 16:12:25,226] Trial 423 finished with value: 5.248877626952814 and parameters: {'x': 2.979162365275396, 'y': -2.709051851321838}. Best is trial 299 with value: 0.008039066698608273.\n",
      "[I 2025-09-25 16:12:25,231] Trial 424 finished with value: 1.0187651463747094 and parameters: {'x': 3.873355804472725, 'y': -5.5059790362935095}. Best is trial 299 with value: 0.008039066698608273.\n",
      "[I 2025-09-25 16:12:25,236] Trial 425 finished with value: 1.997734230531209 and parameters: {'x': 2.4719078154948178, 'y': -6.311050294685812}. Best is trial 299 with value: 0.008039066698608273.\n",
      "[I 2025-09-25 16:12:25,242] Trial 426 finished with value: 1.6065125111054268 and parameters: {'x': 1.8122869749310766, 'y': -4.557450250042943}. Best is trial 299 with value: 0.008039066698608273.\n",
      "[I 2025-09-25 16:12:25,247] Trial 427 finished with value: 0.37443815793922547 and parameters: {'x': 3.279216034909105, 'y': -5.544496615038939}. Best is trial 299 with value: 0.008039066698608273.\n",
      "[I 2025-09-25 16:12:25,253] Trial 428 finished with value: 15.295835760477933 and parameters: {'x': 2.916026343512314, 'y': -8.9100874907723}. Best is trial 299 with value: 0.008039066698608273.\n",
      "[I 2025-09-25 16:12:25,260] Trial 429 finished with value: 3.2894569785058523 and parameters: {'x': 4.414081624745062, 'y': -3.8642931112896175}. Best is trial 299 with value: 0.008039066698608273.\n",
      "[I 2025-09-25 16:12:25,265] Trial 430 finished with value: 0.3905488128281563 and parameters: {'x': 3.61888832944684, 'y': -5.086752801122821}. Best is trial 299 with value: 0.008039066698608273.\n",
      "[I 2025-09-25 16:12:25,272] Trial 431 finished with value: 0.4713410215711903 and parameters: {'x': 2.7132498822907354, 'y': -4.376208855813973}. Best is trial 299 with value: 0.008039066698608273.\n",
      "[I 2025-09-25 16:12:25,277] Trial 432 finished with value: 1.7890259957112309 and parameters: {'x': 2.155541598481606, 'y': -6.037263709871424}. Best is trial 299 with value: 0.008039066698608273.\n",
      "[I 2025-09-25 16:12:25,282] Trial 433 finished with value: 2.764856173671306 and parameters: {'x': 3.226104330740555, 'y': -3.3526588072619345}. Best is trial 299 with value: 0.008039066698608273.\n",
      "[I 2025-09-25 16:12:25,289] Trial 434 finished with value: 0.7753139564844445 and parameters: {'x': 3.8795831765116855, 'y': -4.9594119219221025}. Best is trial 299 with value: 0.008039066698608273.\n",
      "[I 2025-09-25 16:12:25,295] Trial 435 finished with value: 0.7063072943977833 and parameters: {'x': 3.4293202468752826, 'y': -5.722489736965675}. Best is trial 299 with value: 0.008039066698608273.\n",
      "[I 2025-09-25 16:12:25,300] Trial 436 finished with value: 0.5175263832905751 and parameters: {'x': 2.8416681842702918, 'y': -4.298246895683169}. Best is trial 299 with value: 0.008039066698608273.\n",
      "[I 2025-09-25 16:12:25,307] Trial 437 finished with value: 10.363078459932224 and parameters: {'x': 5.672653915757888, 'y': -6.794435706988761}. Best is trial 299 with value: 0.008039066698608273.\n",
      "[I 2025-09-25 16:12:25,312] Trial 438 finished with value: 0.3022676774195604 and parameters: {'x': 2.4506784870832896, 'y': -4.977338295155554}. Best is trial 299 with value: 0.008039066698608273.\n",
      "[I 2025-09-25 16:12:25,316] Trial 439 finished with value: 1.688104545016845 and parameters: {'x': 4.223392056753208, 'y': -5.437511623262743}. Best is trial 299 with value: 0.008039066698608273.\n",
      "[I 2025-09-25 16:12:25,324] Trial 440 finished with value: 1.1663484809538625 and parameters: {'x': 3.164391936419595, 'y': -6.067391105543829}. Best is trial 299 with value: 0.008039066698608273.\n",
      "[I 2025-09-25 16:12:25,329] Trial 441 finished with value: 0.6374618561395076 and parameters: {'x': 3.7025732078004188, 'y': -4.620720757461554}. Best is trial 299 with value: 0.008039066698608273.\n",
      "[I 2025-09-25 16:12:25,334] Trial 442 finished with value: 1.2689869246372478 and parameters: {'x': 2.8210882066110567, 'y': -3.8878051003427503}. Best is trial 299 with value: 0.008039066698608273.\n",
      "[I 2025-09-25 16:12:25,341] Trial 443 finished with value: 0.2973910681597066 and parameters: {'x': 3.4654450067969202, 'y': -5.284168988117144}. Best is trial 299 with value: 0.008039066698608273.\n",
      "[I 2025-09-25 16:12:25,346] Trial 444 finished with value: 9.340346292882675 and parameters: {'x': 0.3510184427751817, 'y': -6.5242188170881015}. Best is trial 299 with value: 0.008039066698608273.\n",
      "[I 2025-09-25 16:12:25,352] Trial 445 finished with value: 6.756610645701825 and parameters: {'x': 2.343474980717319, 'y': -7.515071677856856}. Best is trial 299 with value: 0.008039066698608273.\n",
      "[I 2025-09-25 16:12:25,360] Trial 446 finished with value: 0.09492092659531934 and parameters: {'x': 3.0710644717159195, 'y': -4.700215464950147}. Best is trial 299 with value: 0.008039066698608273.\n",
      "[I 2025-09-25 16:12:25,365] Trial 447 finished with value: 1.6594443331923392 and parameters: {'x': 3.9955453293598406, 'y': -5.8175168685612215}. Best is trial 299 with value: 0.008039066698608273.\n",
      "[I 2025-09-25 16:12:25,371] Trial 448 finished with value: 3.5811590866966445 and parameters: {'x': 2.5615402568094576, 'y': -3.159100181895297}. Best is trial 299 with value: 0.008039066698608273.\n",
      "[I 2025-09-25 16:12:25,377] Trial 449 finished with value: 2.323624403400272 and parameters: {'x': 1.8530020198757415, 'y': -3.9959979895482562}. Best is trial 299 with value: 0.008039066698608273.\n",
      "[I 2025-09-25 16:12:25,381] Trial 450 finished with value: 0.31942135105568686 and parameters: {'x': 3.5151525030710165, 'y': -5.232463437201107}. Best is trial 299 with value: 0.008039066698608273.\n",
      "[I 2025-09-25 16:12:25,387] Trial 451 finished with value: 0.18082593628536506 and parameters: {'x': 2.9919813580852903, 'y': -4.574839280192527}. Best is trial 299 with value: 0.008039066698608273.\n",
      "[I 2025-09-25 16:12:25,394] Trial 452 finished with value: 0.37720169519240393 and parameters: {'x': 3.2267069694373793, 'y': -5.5707938727780135}. Best is trial 299 with value: 0.008039066698608273.\n",
      "[I 2025-09-25 16:12:25,398] Trial 453 finished with value: 4.997317596448534 and parameters: {'x': 4.860999341707336, 'y': -6.238547151550314}. Best is trial 299 with value: 0.008039066698608273.\n",
      "[I 2025-09-25 16:12:25,407] Trial 454 finished with value: 0.10293156273719067 and parameters: {'x': 2.6964936663948764, 'y': -4.89600255676813}. Best is trial 299 with value: 0.008039066698608273.\n",
      "[I 2025-09-25 16:12:25,413] Trial 455 finished with value: 1.6004791755457601 and parameters: {'x': 3.7853439605758408, 'y': -4.008176407251364}. Best is trial 299 with value: 0.008039066698608273.\n",
      "[I 2025-09-25 16:12:25,421] Trial 456 finished with value: 0.22582911246346543 and parameters: {'x': 3.3403645611381108, 'y': -5.3316339517973494}. Best is trial 299 with value: 0.008039066698608273.\n",
      "[I 2025-09-25 16:12:25,427] Trial 457 finished with value: 1.1314781133121832 and parameters: {'x': 2.071647728126256, 'y': -4.480731117224379}. Best is trial 299 with value: 0.008039066698608273.\n",
      "[I 2025-09-25 16:12:25,431] Trial 458 finished with value: 2.099413608821402 and parameters: {'x': 4.123362871800306, 'y': -5.915133578818946}. Best is trial 299 with value: 0.008039066698608273.\n",
      "[I 2025-09-25 16:12:25,436] Trial 459 finished with value: 2.0680605850938467 and parameters: {'x': 2.8655661492111717, 'y': -3.5682220406585614}. Best is trial 299 with value: 0.008039066698608273.\n",
      "[I 2025-09-25 16:12:25,442] Trial 460 finished with value: 0.42221331803223916 and parameters: {'x': 3.649739080197104, 'y': -4.992758059869031}. Best is trial 299 with value: 0.008039066698608273.\n",
      "[I 2025-09-25 16:12:25,447] Trial 461 finished with value: 3.935412638078715 and parameters: {'x': 3.1322685081275634, 'y': -6.9793730522153785}. Best is trial 299 with value: 0.008039066698608273.\n",
      "[I 2025-09-25 16:12:25,453] Trial 462 finished with value: 0.6955603121615017 and parameters: {'x': 2.411524605778404, 'y': -4.409020285832721}. Best is trial 299 with value: 0.008039066698608273.\n",
      "[I 2025-09-25 16:12:25,459] Trial 463 finished with value: 2.7299974960756357 and parameters: {'x': 4.505012184290132, 'y': -5.681862025056302}. Best is trial 299 with value: 0.008039066698608273.\n",
      "[I 2025-09-25 16:12:25,464] Trial 464 finished with value: 1.7337064181373527 and parameters: {'x': 2.831160979312905, 'y': -6.3058329920900205}. Best is trial 299 with value: 0.008039066698608273.\n",
      "[I 2025-09-25 16:12:25,470] Trial 465 finished with value: 0.23868007866209676 and parameters: {'x': 3.4864640410212866, 'y': -5.045086754766081}. Best is trial 299 with value: 0.008039066698608273.\n",
      "[I 2025-09-25 16:12:25,477] Trial 466 finished with value: 1.117800035187872 and parameters: {'x': 2.2446809359824096, 'y': -4.260207362351136}. Best is trial 299 with value: 0.008039066698608273.\n",
      "[I 2025-09-25 16:12:25,487] Trial 467 finished with value: 5.300182707210707 and parameters: {'x': 3.9324899618650613, 'y': -2.8950902208808085}. Best is trial 299 with value: 0.008039066698608273.\n",
      "[I 2025-09-25 16:12:25,495] Trial 468 finished with value: 95.95483960641788 and parameters: {'x': 3.131280495209734, 'y': -14.794774374021863}. Best is trial 299 with value: 0.008039066698608273.\n",
      "[I 2025-09-25 16:12:25,505] Trial 469 finished with value: 25.41788073274246 and parameters: {'x': 0.8322547862282792, 'y': -9.55178661856114}. Best is trial 299 with value: 0.008039066698608273.\n",
      "[I 2025-09-25 16:12:25,511] Trial 470 finished with value: 0.34090736500462937 and parameters: {'x': 2.616047170326423, 'y': -5.439872242350302}. Best is trial 299 with value: 0.008039066698608273.\n",
      "[I 2025-09-25 16:12:25,516] Trial 471 finished with value: 2.290007792511295 and parameters: {'x': 3.504834886465903, 'y': -3.573413328984792}. Best is trial 299 with value: 0.008039066698608273.\n",
      "[I 2025-09-25 16:12:25,524] Trial 472 finished with value: 37.11203475988652 and parameters: {'x': 9.090196536693057, 'y': -4.853231800656893}. Best is trial 299 with value: 0.008039066698608273.\n",
      "[I 2025-09-25 16:12:25,532] Trial 473 finished with value: 1.883261476350455 and parameters: {'x': 3.050642413982161, 'y': -6.37138500146987}. Best is trial 299 with value: 0.008039066698608273.\n",
      "[I 2025-09-25 16:12:25,538] Trial 474 finished with value: 0.7728493105277765 and parameters: {'x': 2.687682130940016, 'y': -4.178229436403562}. Best is trial 299 with value: 0.008039066698608273.\n",
      "[I 2025-09-25 16:12:25,544] Trial 475 finished with value: 1.033175615167437 and parameters: {'x': 3.734661763758486, 'y': -5.702458331887883}. Best is trial 299 with value: 0.008039066698608273.\n",
      "[I 2025-09-25 16:12:25,549] Trial 476 finished with value: 1.8082517030074827 and parameters: {'x': 1.65636427450939, 'y': -5.053802789823623}. Best is trial 299 with value: 0.008039066698608273.\n",
      "[I 2025-09-25 16:12:25,555] Trial 477 finished with value: 0.29101123885015906 and parameters: {'x': 3.2981455250471865, 'y': -4.550421881377111}. Best is trial 299 with value: 0.008039066698608273.\n",
      "[I 2025-09-25 16:12:25,560] Trial 478 finished with value: 1.934436471921522 and parameters: {'x': 4.047925125410196, 'y': -5.914488602146329}. Best is trial 299 with value: 0.008039066698608273.\n",
      "[I 2025-09-25 16:12:25,565] Trial 479 finished with value: 4.040494863334447 and parameters: {'x': 2.355519753314251, 'y': -6.903980061598945}. Best is trial 299 with value: 0.008039066698608273.\n",
      "[I 2025-09-25 16:12:25,571] Trial 480 finished with value: 0.12187649698347298 and parameters: {'x': 2.88903932409488, 'y': -5.331004872148662}. Best is trial 299 with value: 0.008039066698608273.\n",
      "[I 2025-09-25 16:12:25,578] Trial 481 finished with value: 101.18872390019183 and parameters: {'x': -6.984520360916699, 'y': -3.7760404162588905}. Best is trial 299 with value: 0.008039066698608273.\n",
      "[I 2025-09-25 16:12:25,584] Trial 482 finished with value: 0.23422079521150435 and parameters: {'x': 3.3974742264774456, 'y': -4.723893074158469}. Best is trial 299 with value: 0.008039066698608273.\n",
      "[I 2025-09-25 16:12:25,590] Trial 483 finished with value: 1.1482882084332382 and parameters: {'x': 2.0057149112836523, 'y': -5.39960651995377}. Best is trial 299 with value: 0.008039066698608273.\n",
      "[I 2025-09-25 16:12:25,595] Trial 484 finished with value: 0.7223510868874924 and parameters: {'x': 3.0203302352298342, 'y': -4.150330788822502}. Best is trial 299 with value: 0.008039066698608273.\n",
      "[I 2025-09-25 16:12:25,601] Trial 485 finished with value: 3.7336016101555343 and parameters: {'x': 4.447778191986432, 'y': -6.27966398596039}. Best is trial 299 with value: 0.008039066698608273.\n",
      "[I 2025-09-25 16:12:25,608] Trial 486 finished with value: 0.5391257253198991 and parameters: {'x': 3.7330415278417184, 'y': -5.0421407614949985}. Best is trial 299 with value: 0.008039066698608273.\n",
      "[I 2025-09-25 16:12:25,612] Trial 487 finished with value: 8.301885012449892 and parameters: {'x': 2.579294046743543, 'y': -2.1495804671339225}. Best is trial 299 with value: 0.008039066698608273.\n",
      "[I 2025-09-25 16:12:25,617] Trial 488 finished with value: 3.1343090478525575 and parameters: {'x': 3.2195322413502527, 'y': -3.2432659157230734}. Best is trial 299 with value: 0.008039066698608273.\n",
      "[I 2025-09-25 16:12:25,624] Trial 489 finished with value: 64.5788353759991 and parameters: {'x': 2.732604108538909, 'y': -13.03164583464864}. Best is trial 299 with value: 0.008039066698608273.\n",
      "[I 2025-09-25 16:12:25,629] Trial 490 finished with value: 0.837897054427579 and parameters: {'x': 3.4912442749296426, 'y': -5.772383400117085}. Best is trial 299 with value: 0.008039066698608273.\n",
      "[I 2025-09-25 16:12:25,635] Trial 491 finished with value: 1.445119820509689 and parameters: {'x': 4.1740191294468625, 'y': -4.7415451602261625}. Best is trial 299 with value: 0.008039066698608273.\n",
      "[I 2025-09-25 16:12:25,642] Trial 492 finished with value: 1.0701054078266719 and parameters: {'x': 2.2796276438571805, 'y': -4.25759237858713}. Best is trial 299 with value: 0.008039066698608273.\n",
      "[I 2025-09-25 16:12:25,648] Trial 493 finished with value: 0.16548978016262061 and parameters: {'x': 3.0618386299998734, 'y': -5.402076813559747}. Best is trial 299 with value: 0.008039066698608273.\n",
      "[I 2025-09-25 16:12:25,654] Trial 494 finished with value: 45.59864533480925 and parameters: {'x': 3.804268860909439, 'y': -11.704610125442096}. Best is trial 299 with value: 0.008039066698608273.\n",
      "[I 2025-09-25 16:12:25,661] Trial 495 finished with value: 3.1305643048886926 and parameters: {'x': 2.7040340846337907, 'y': -6.744410640253646}. Best is trial 299 with value: 0.008039066698608273.\n",
      "[I 2025-09-25 16:12:25,666] Trial 496 finished with value: 265.077931825022 and parameters: {'x': 3.3501146433873985, 'y': 11.277449172444303}. Best is trial 299 with value: 0.008039066698608273.\n",
      "[I 2025-09-25 16:12:25,673] Trial 497 finished with value: 1.4873871890551837 and parameters: {'x': 3.0307589390983534, 'y': -3.7808031017424923}. Best is trial 299 with value: 0.008039066698608273.\n",
      "[I 2025-09-25 16:12:25,679] Trial 498 finished with value: 11.555725378160357 and parameters: {'x': 3.639878924247493, 'y': -8.338604549877722}. Best is trial 299 with value: 0.008039066698608273.\n",
      "[I 2025-09-25 16:12:25,689] Trial 499 finished with value: 3.609955304882337 and parameters: {'x': 1.342406391910122, 'y': -5.9286219549967125}. Best is trial 299 with value: 0.008039066698608273.\n"
     ]
    },
    {
     "name": "stdout",
     "output_type": "stream",
     "text": [
      "0.008039066698608273\n",
      "{'x': 3.0174575410839712, 'y': -4.9120551254596965}\n"
     ]
    }
   ],
   "source": [
    "import optuna\n",
    "\n",
    "def objective(trial):\n",
    "    x = trial.suggest_uniform('x', -10, 10)\n",
    "    y = trial.suggest_uniform('y', -15, 15)\n",
    "\n",
    "    return (x - 3) ** 2 + (y + 5) ** 2\n",
    "\n",
    "# 스터디 생성\n",
    "# minimize: 목적함수의 리턴값이 최소가 되는 방향으로\n",
    "study = optuna.create_study(direction=\"minimize\")\n",
    "\n",
    "# 최적화 실행\n",
    "study.optimize(objective, n_trials=500)\n",
    "\n",
    "# 결과 확인\n",
    "print(study.best_value)\n",
    "print(study.best_params)"
   ]
  },
  {
   "cell_type": "code",
   "execution_count": 15,
   "id": "350902d7",
   "metadata": {},
   "outputs": [
    {
     "name": "stdout",
     "output_type": "stream",
     "text": [
      "Requirement already satisfied: plotly in c:\\users\\playdata\\anaconda3\\envs\\ml_env\\lib\\site-packages (6.3.0)\n",
      "Requirement already satisfied: narwhals>=1.15.1 in c:\\users\\playdata\\anaconda3\\envs\\ml_env\\lib\\site-packages (from plotly) (2.5.0)\n",
      "Requirement already satisfied: packaging in c:\\users\\playdata\\anaconda3\\envs\\ml_env\\lib\\site-packages (from plotly) (25.0)\n"
     ]
    }
   ],
   "source": [
    "!pip install plotly"
   ]
  },
  {
   "cell_type": "code",
   "execution_count": 16,
   "id": "147c0bbb",
   "metadata": {},
   "outputs": [
    {
     "data": {
      "application/vnd.plotly.v1+json": {
       "config": {
        "plotlyServerURL": "https://plot.ly"
       },
       "data": [
        {
         "cliponaxis": false,
         "hovertemplate": [
          "x (FloatDistribution): 0.06754076899053955<extra></extra>",
          "y (FloatDistribution): 0.9324592310094605<extra></extra>"
         ],
         "name": "Objective Value",
         "orientation": "h",
         "text": [
          "0.07",
          "0.93"
         ],
         "textposition": "outside",
         "type": "bar",
         "x": [
          0.06754076899053955,
          0.9324592310094605
         ],
         "y": [
          "x",
          "y"
         ]
        }
       ],
       "layout": {
        "template": {
         "data": {
          "bar": [
           {
            "error_x": {
             "color": "#2a3f5f"
            },
            "error_y": {
             "color": "#2a3f5f"
            },
            "marker": {
             "line": {
              "color": "#E5ECF6",
              "width": 0.5
             },
             "pattern": {
              "fillmode": "overlay",
              "size": 10,
              "solidity": 0.2
             }
            },
            "type": "bar"
           }
          ],
          "barpolar": [
           {
            "marker": {
             "line": {
              "color": "#E5ECF6",
              "width": 0.5
             },
             "pattern": {
              "fillmode": "overlay",
              "size": 10,
              "solidity": 0.2
             }
            },
            "type": "barpolar"
           }
          ],
          "carpet": [
           {
            "aaxis": {
             "endlinecolor": "#2a3f5f",
             "gridcolor": "white",
             "linecolor": "white",
             "minorgridcolor": "white",
             "startlinecolor": "#2a3f5f"
            },
            "baxis": {
             "endlinecolor": "#2a3f5f",
             "gridcolor": "white",
             "linecolor": "white",
             "minorgridcolor": "white",
             "startlinecolor": "#2a3f5f"
            },
            "type": "carpet"
           }
          ],
          "choropleth": [
           {
            "colorbar": {
             "outlinewidth": 0,
             "ticks": ""
            },
            "type": "choropleth"
           }
          ],
          "contour": [
           {
            "colorbar": {
             "outlinewidth": 0,
             "ticks": ""
            },
            "colorscale": [
             [
              0,
              "#0d0887"
             ],
             [
              0.1111111111111111,
              "#46039f"
             ],
             [
              0.2222222222222222,
              "#7201a8"
             ],
             [
              0.3333333333333333,
              "#9c179e"
             ],
             [
              0.4444444444444444,
              "#bd3786"
             ],
             [
              0.5555555555555556,
              "#d8576b"
             ],
             [
              0.6666666666666666,
              "#ed7953"
             ],
             [
              0.7777777777777778,
              "#fb9f3a"
             ],
             [
              0.8888888888888888,
              "#fdca26"
             ],
             [
              1,
              "#f0f921"
             ]
            ],
            "type": "contour"
           }
          ],
          "contourcarpet": [
           {
            "colorbar": {
             "outlinewidth": 0,
             "ticks": ""
            },
            "type": "contourcarpet"
           }
          ],
          "heatmap": [
           {
            "colorbar": {
             "outlinewidth": 0,
             "ticks": ""
            },
            "colorscale": [
             [
              0,
              "#0d0887"
             ],
             [
              0.1111111111111111,
              "#46039f"
             ],
             [
              0.2222222222222222,
              "#7201a8"
             ],
             [
              0.3333333333333333,
              "#9c179e"
             ],
             [
              0.4444444444444444,
              "#bd3786"
             ],
             [
              0.5555555555555556,
              "#d8576b"
             ],
             [
              0.6666666666666666,
              "#ed7953"
             ],
             [
              0.7777777777777778,
              "#fb9f3a"
             ],
             [
              0.8888888888888888,
              "#fdca26"
             ],
             [
              1,
              "#f0f921"
             ]
            ],
            "type": "heatmap"
           }
          ],
          "histogram": [
           {
            "marker": {
             "pattern": {
              "fillmode": "overlay",
              "size": 10,
              "solidity": 0.2
             }
            },
            "type": "histogram"
           }
          ],
          "histogram2d": [
           {
            "colorbar": {
             "outlinewidth": 0,
             "ticks": ""
            },
            "colorscale": [
             [
              0,
              "#0d0887"
             ],
             [
              0.1111111111111111,
              "#46039f"
             ],
             [
              0.2222222222222222,
              "#7201a8"
             ],
             [
              0.3333333333333333,
              "#9c179e"
             ],
             [
              0.4444444444444444,
              "#bd3786"
             ],
             [
              0.5555555555555556,
              "#d8576b"
             ],
             [
              0.6666666666666666,
              "#ed7953"
             ],
             [
              0.7777777777777778,
              "#fb9f3a"
             ],
             [
              0.8888888888888888,
              "#fdca26"
             ],
             [
              1,
              "#f0f921"
             ]
            ],
            "type": "histogram2d"
           }
          ],
          "histogram2dcontour": [
           {
            "colorbar": {
             "outlinewidth": 0,
             "ticks": ""
            },
            "colorscale": [
             [
              0,
              "#0d0887"
             ],
             [
              0.1111111111111111,
              "#46039f"
             ],
             [
              0.2222222222222222,
              "#7201a8"
             ],
             [
              0.3333333333333333,
              "#9c179e"
             ],
             [
              0.4444444444444444,
              "#bd3786"
             ],
             [
              0.5555555555555556,
              "#d8576b"
             ],
             [
              0.6666666666666666,
              "#ed7953"
             ],
             [
              0.7777777777777778,
              "#fb9f3a"
             ],
             [
              0.8888888888888888,
              "#fdca26"
             ],
             [
              1,
              "#f0f921"
             ]
            ],
            "type": "histogram2dcontour"
           }
          ],
          "mesh3d": [
           {
            "colorbar": {
             "outlinewidth": 0,
             "ticks": ""
            },
            "type": "mesh3d"
           }
          ],
          "parcoords": [
           {
            "line": {
             "colorbar": {
              "outlinewidth": 0,
              "ticks": ""
             }
            },
            "type": "parcoords"
           }
          ],
          "pie": [
           {
            "automargin": true,
            "type": "pie"
           }
          ],
          "scatter": [
           {
            "fillpattern": {
             "fillmode": "overlay",
             "size": 10,
             "solidity": 0.2
            },
            "type": "scatter"
           }
          ],
          "scatter3d": [
           {
            "line": {
             "colorbar": {
              "outlinewidth": 0,
              "ticks": ""
             }
            },
            "marker": {
             "colorbar": {
              "outlinewidth": 0,
              "ticks": ""
             }
            },
            "type": "scatter3d"
           }
          ],
          "scattercarpet": [
           {
            "marker": {
             "colorbar": {
              "outlinewidth": 0,
              "ticks": ""
             }
            },
            "type": "scattercarpet"
           }
          ],
          "scattergeo": [
           {
            "marker": {
             "colorbar": {
              "outlinewidth": 0,
              "ticks": ""
             }
            },
            "type": "scattergeo"
           }
          ],
          "scattergl": [
           {
            "marker": {
             "colorbar": {
              "outlinewidth": 0,
              "ticks": ""
             }
            },
            "type": "scattergl"
           }
          ],
          "scattermap": [
           {
            "marker": {
             "colorbar": {
              "outlinewidth": 0,
              "ticks": ""
             }
            },
            "type": "scattermap"
           }
          ],
          "scattermapbox": [
           {
            "marker": {
             "colorbar": {
              "outlinewidth": 0,
              "ticks": ""
             }
            },
            "type": "scattermapbox"
           }
          ],
          "scatterpolar": [
           {
            "marker": {
             "colorbar": {
              "outlinewidth": 0,
              "ticks": ""
             }
            },
            "type": "scatterpolar"
           }
          ],
          "scatterpolargl": [
           {
            "marker": {
             "colorbar": {
              "outlinewidth": 0,
              "ticks": ""
             }
            },
            "type": "scatterpolargl"
           }
          ],
          "scatterternary": [
           {
            "marker": {
             "colorbar": {
              "outlinewidth": 0,
              "ticks": ""
             }
            },
            "type": "scatterternary"
           }
          ],
          "surface": [
           {
            "colorbar": {
             "outlinewidth": 0,
             "ticks": ""
            },
            "colorscale": [
             [
              0,
              "#0d0887"
             ],
             [
              0.1111111111111111,
              "#46039f"
             ],
             [
              0.2222222222222222,
              "#7201a8"
             ],
             [
              0.3333333333333333,
              "#9c179e"
             ],
             [
              0.4444444444444444,
              "#bd3786"
             ],
             [
              0.5555555555555556,
              "#d8576b"
             ],
             [
              0.6666666666666666,
              "#ed7953"
             ],
             [
              0.7777777777777778,
              "#fb9f3a"
             ],
             [
              0.8888888888888888,
              "#fdca26"
             ],
             [
              1,
              "#f0f921"
             ]
            ],
            "type": "surface"
           }
          ],
          "table": [
           {
            "cells": {
             "fill": {
              "color": "#EBF0F8"
             },
             "line": {
              "color": "white"
             }
            },
            "header": {
             "fill": {
              "color": "#C8D4E3"
             },
             "line": {
              "color": "white"
             }
            },
            "type": "table"
           }
          ]
         },
         "layout": {
          "annotationdefaults": {
           "arrowcolor": "#2a3f5f",
           "arrowhead": 0,
           "arrowwidth": 1
          },
          "autotypenumbers": "strict",
          "coloraxis": {
           "colorbar": {
            "outlinewidth": 0,
            "ticks": ""
           }
          },
          "colorscale": {
           "diverging": [
            [
             0,
             "#8e0152"
            ],
            [
             0.1,
             "#c51b7d"
            ],
            [
             0.2,
             "#de77ae"
            ],
            [
             0.3,
             "#f1b6da"
            ],
            [
             0.4,
             "#fde0ef"
            ],
            [
             0.5,
             "#f7f7f7"
            ],
            [
             0.6,
             "#e6f5d0"
            ],
            [
             0.7,
             "#b8e186"
            ],
            [
             0.8,
             "#7fbc41"
            ],
            [
             0.9,
             "#4d9221"
            ],
            [
             1,
             "#276419"
            ]
           ],
           "sequential": [
            [
             0,
             "#0d0887"
            ],
            [
             0.1111111111111111,
             "#46039f"
            ],
            [
             0.2222222222222222,
             "#7201a8"
            ],
            [
             0.3333333333333333,
             "#9c179e"
            ],
            [
             0.4444444444444444,
             "#bd3786"
            ],
            [
             0.5555555555555556,
             "#d8576b"
            ],
            [
             0.6666666666666666,
             "#ed7953"
            ],
            [
             0.7777777777777778,
             "#fb9f3a"
            ],
            [
             0.8888888888888888,
             "#fdca26"
            ],
            [
             1,
             "#f0f921"
            ]
           ],
           "sequentialminus": [
            [
             0,
             "#0d0887"
            ],
            [
             0.1111111111111111,
             "#46039f"
            ],
            [
             0.2222222222222222,
             "#7201a8"
            ],
            [
             0.3333333333333333,
             "#9c179e"
            ],
            [
             0.4444444444444444,
             "#bd3786"
            ],
            [
             0.5555555555555556,
             "#d8576b"
            ],
            [
             0.6666666666666666,
             "#ed7953"
            ],
            [
             0.7777777777777778,
             "#fb9f3a"
            ],
            [
             0.8888888888888888,
             "#fdca26"
            ],
            [
             1,
             "#f0f921"
            ]
           ]
          },
          "colorway": [
           "#636efa",
           "#EF553B",
           "#00cc96",
           "#ab63fa",
           "#FFA15A",
           "#19d3f3",
           "#FF6692",
           "#B6E880",
           "#FF97FF",
           "#FECB52"
          ],
          "font": {
           "color": "#2a3f5f"
          },
          "geo": {
           "bgcolor": "white",
           "lakecolor": "white",
           "landcolor": "#E5ECF6",
           "showlakes": true,
           "showland": true,
           "subunitcolor": "white"
          },
          "hoverlabel": {
           "align": "left"
          },
          "hovermode": "closest",
          "mapbox": {
           "style": "light"
          },
          "paper_bgcolor": "white",
          "plot_bgcolor": "#E5ECF6",
          "polar": {
           "angularaxis": {
            "gridcolor": "white",
            "linecolor": "white",
            "ticks": ""
           },
           "bgcolor": "#E5ECF6",
           "radialaxis": {
            "gridcolor": "white",
            "linecolor": "white",
            "ticks": ""
           }
          },
          "scene": {
           "xaxis": {
            "backgroundcolor": "#E5ECF6",
            "gridcolor": "white",
            "gridwidth": 2,
            "linecolor": "white",
            "showbackground": true,
            "ticks": "",
            "zerolinecolor": "white"
           },
           "yaxis": {
            "backgroundcolor": "#E5ECF6",
            "gridcolor": "white",
            "gridwidth": 2,
            "linecolor": "white",
            "showbackground": true,
            "ticks": "",
            "zerolinecolor": "white"
           },
           "zaxis": {
            "backgroundcolor": "#E5ECF6",
            "gridcolor": "white",
            "gridwidth": 2,
            "linecolor": "white",
            "showbackground": true,
            "ticks": "",
            "zerolinecolor": "white"
           }
          },
          "shapedefaults": {
           "line": {
            "color": "#2a3f5f"
           }
          },
          "ternary": {
           "aaxis": {
            "gridcolor": "white",
            "linecolor": "white",
            "ticks": ""
           },
           "baxis": {
            "gridcolor": "white",
            "linecolor": "white",
            "ticks": ""
           },
           "bgcolor": "#E5ECF6",
           "caxis": {
            "gridcolor": "white",
            "linecolor": "white",
            "ticks": ""
           }
          },
          "title": {
           "x": 0.05
          },
          "xaxis": {
           "automargin": true,
           "gridcolor": "white",
           "linecolor": "white",
           "ticks": "",
           "title": {
            "standoff": 15
           },
           "zerolinecolor": "white",
           "zerolinewidth": 2
          },
          "yaxis": {
           "automargin": true,
           "gridcolor": "white",
           "linecolor": "white",
           "ticks": "",
           "title": {
            "standoff": 15
           },
           "zerolinecolor": "white",
           "zerolinewidth": 2
          }
         }
        },
        "title": {
         "text": "Hyperparameter Importances"
        },
        "xaxis": {
         "title": {
          "text": "Hyperparameter Importance"
         }
        },
        "yaxis": {
         "title": {
          "text": "Hyperparameter"
         }
        }
       }
      }
     },
     "metadata": {},
     "output_type": "display_data"
    }
   ],
   "source": [
    "import optuna.visualization as vis\n",
    "import plotly\n",
    "\n",
    "vis.plot_param_importances(study).show()"
   ]
  },
  {
   "cell_type": "code",
   "execution_count": 17,
   "id": "66e48344",
   "metadata": {},
   "outputs": [
    {
     "data": {
      "application/vnd.plotly.v1+json": {
       "config": {
        "plotlyServerURL": "https://plot.ly"
       },
       "data": [
        {
         "mode": "markers",
         "name": "Objective Value",
         "type": "scatter",
         "x": [
          0,
          1,
          2,
          3,
          4,
          5,
          6,
          7,
          8,
          9,
          10,
          11,
          12,
          13,
          14,
          15,
          16,
          17,
          18,
          19,
          20,
          21,
          22,
          23,
          24,
          25,
          26,
          27,
          28,
          29,
          30,
          31,
          32,
          33,
          34,
          35,
          36,
          37,
          38,
          39,
          40,
          41,
          42,
          43,
          44,
          45,
          46,
          47,
          48,
          49,
          50,
          51,
          52,
          53,
          54,
          55,
          56,
          57,
          58,
          59,
          60,
          61,
          62,
          63,
          64,
          65,
          66,
          67,
          68,
          69,
          70,
          71,
          72,
          73,
          74,
          75,
          76,
          77,
          78,
          79,
          80,
          81,
          82,
          83,
          84,
          85,
          86,
          87,
          88,
          89,
          90,
          91,
          92,
          93,
          94,
          95,
          96,
          97,
          98,
          99,
          100,
          101,
          102,
          103,
          104,
          105,
          106,
          107,
          108,
          109,
          110,
          111,
          112,
          113,
          114,
          115,
          116,
          117,
          118,
          119,
          120,
          121,
          122,
          123,
          124,
          125,
          126,
          127,
          128,
          129,
          130,
          131,
          132,
          133,
          134,
          135,
          136,
          137,
          138,
          139,
          140,
          141,
          142,
          143,
          144,
          145,
          146,
          147,
          148,
          149,
          150,
          151,
          152,
          153,
          154,
          155,
          156,
          157,
          158,
          159,
          160,
          161,
          162,
          163,
          164,
          165,
          166,
          167,
          168,
          169,
          170,
          171,
          172,
          173,
          174,
          175,
          176,
          177,
          178,
          179,
          180,
          181,
          182,
          183,
          184,
          185,
          186,
          187,
          188,
          189,
          190,
          191,
          192,
          193,
          194,
          195,
          196,
          197,
          198,
          199,
          200,
          201,
          202,
          203,
          204,
          205,
          206,
          207,
          208,
          209,
          210,
          211,
          212,
          213,
          214,
          215,
          216,
          217,
          218,
          219,
          220,
          221,
          222,
          223,
          224,
          225,
          226,
          227,
          228,
          229,
          230,
          231,
          232,
          233,
          234,
          235,
          236,
          237,
          238,
          239,
          240,
          241,
          242,
          243,
          244,
          245,
          246,
          247,
          248,
          249,
          250,
          251,
          252,
          253,
          254,
          255,
          256,
          257,
          258,
          259,
          260,
          261,
          262,
          263,
          264,
          265,
          266,
          267,
          268,
          269,
          270,
          271,
          272,
          273,
          274,
          275,
          276,
          277,
          278,
          279,
          280,
          281,
          282,
          283,
          284,
          285,
          286,
          287,
          288,
          289,
          290,
          291,
          292,
          293,
          294,
          295,
          296,
          297,
          298,
          299,
          300,
          301,
          302,
          303,
          304,
          305,
          306,
          307,
          308,
          309,
          310,
          311,
          312,
          313,
          314,
          315,
          316,
          317,
          318,
          319,
          320,
          321,
          322,
          323,
          324,
          325,
          326,
          327,
          328,
          329,
          330,
          331,
          332,
          333,
          334,
          335,
          336,
          337,
          338,
          339,
          340,
          341,
          342,
          343,
          344,
          345,
          346,
          347,
          348,
          349,
          350,
          351,
          352,
          353,
          354,
          355,
          356,
          357,
          358,
          359,
          360,
          361,
          362,
          363,
          364,
          365,
          366,
          367,
          368,
          369,
          370,
          371,
          372,
          373,
          374,
          375,
          376,
          377,
          378,
          379,
          380,
          381,
          382,
          383,
          384,
          385,
          386,
          387,
          388,
          389,
          390,
          391,
          392,
          393,
          394,
          395,
          396,
          397,
          398,
          399,
          400,
          401,
          402,
          403,
          404,
          405,
          406,
          407,
          408,
          409,
          410,
          411,
          412,
          413,
          414,
          415,
          416,
          417,
          418,
          419,
          420,
          421,
          422,
          423,
          424,
          425,
          426,
          427,
          428,
          429,
          430,
          431,
          432,
          433,
          434,
          435,
          436,
          437,
          438,
          439,
          440,
          441,
          442,
          443,
          444,
          445,
          446,
          447,
          448,
          449,
          450,
          451,
          452,
          453,
          454,
          455,
          456,
          457,
          458,
          459,
          460,
          461,
          462,
          463,
          464,
          465,
          466,
          467,
          468,
          469,
          470,
          471,
          472,
          473,
          474,
          475,
          476,
          477,
          478,
          479,
          480,
          481,
          482,
          483,
          484,
          485,
          486,
          487,
          488,
          489,
          490,
          491,
          492,
          493,
          494,
          495,
          496,
          497,
          498,
          499
         ],
         "y": [
          190.00285763424017,
          15.127277733012534,
          237.85489945540672,
          126.47870464525487,
          68.7057920578992,
          206.80495708772517,
          80.2489775480973,
          402.93607588756504,
          270.9734234429491,
          24.069888845838324,
          10.472408742120761,
          10.454606240159096,
          16.238834587424908,
          0.7208708945519126,
          45.28278943786973,
          73.32984617305083,
          1.353271328747916,
          19.282328605452417,
          52.520242089668585,
          2.0621784806719403,
          34.78827140353687,
          4.301605401635986,
          2.4930951673318904,
          34.80173678671779,
          46.85013267726322,
          1.4964816692210647,
          39.42724035007632,
          23.80106785198016,
          12.41418453417138,
          139.18994690447673,
          52.821278067104686,
          0.5058747087170532,
          4.009837594956742,
          12.74417760937728,
          30.383283736257475,
          131.06191921990816,
          0.72446462374747,
          26.94779519194634,
          63.46585144009839,
          8.772596845604584,
          19.131227311171582,
          1.3804874694697526,
          4.579821392114487,
          7.448289917255251,
          10.850088308936648,
          24.7513093246478,
          29.399670873899446,
          140.8072503479915,
          413.43318053064826,
          153.37554200474892,
          15.003512412467087,
          3.668144725429606,
          1.6899089158809153,
          3.201768440846775,
          14.270278222369779,
          15.678930404807025,
          2.658297658245624,
          9.175917683895488,
          2.8970174049794433,
          12.92914557319051,
          32.20585222808556,
          2.3016595358316767,
          3.750203083710011,
          0.5032306696809269,
          0.5677453507496055,
          0.7408148216836156,
          1.9748846396983568,
          7.440462823681425,
          71.70710913153214,
          31.444838586322202,
          0.3297990158462749,
          0.9065354691533387,
          0.43937801485403816,
          10.223486677119332,
          8.11353212679368,
          4.829089067819372,
          0.30640017712626666,
          3.225347654982422,
          17.092716398298762,
          24.409154123497732,
          23.776772780861016,
          1.0548633287037215,
          3.334039875993024,
          1.5801939802283373,
          10.148290614321095,
          4.121560800062524,
          1.6382717457849645,
          2.3725967564026114,
          24.60568187437017,
          52.410561875875146,
          33.69198005806099,
          1.2511029772441609,
          1.2516349514444973,
          0.7683295753349209,
          3.505136042703725,
          5.327055311854289,
          1.1319694042532642,
          2.6356717437755517,
          9.8793454411766,
          78.35453195362403,
          17.751775816270786,
          0.6873397212589762,
          0.7154298361404158,
          1.1140446666861954,
          2.7422640734743204,
          4.2662071942245605,
          2.334122845449965,
          19.60615201164255,
          8.067648298058405,
          5.932699912894229,
          5.222169668204437,
          0.8021635198420869,
          0.36928177152705244,
          1.4382987526197082,
          0.059367105389543415,
          7.830650491654332,
          0.024714589377475102,
          2.3433874083012163,
          1.3476757024214312,
          0.16554693832278772,
          4.826140931619221,
          2.635426567304308,
          3.485610983080211,
          0.08825229806296944,
          0.06869686354006085,
          5.079582897240772,
          2.368214195929153,
          1.6682506246716025,
          2.0440706922298,
          7.350873773123058,
          1.7489406421209936,
          0.30518103948738734,
          0.5398617103263073,
          2.554851166606276,
          0.9785117785594446,
          4.610750939924397,
          9.211532949151575,
          2.8609505840799123,
          5.454325179409564,
          0.9716788797326473,
          216.0334819173007,
          0.9430937145592373,
          0.062171576753899865,
          0.42636308799278955,
          1.4062458775985143,
          0.2960731449010621,
          4.5562578674481795,
          0.2023939401158234,
          3.155365755956809,
          2.0696419106465327,
          1.4281375015840068,
          0.5145121109867902,
          0.6718914622565039,
          4.167990673529357,
          0.03835540479256224,
          0.3606934773304787,
          110.77469251107992,
          2.9516959556648614,
          3.6970748659698103,
          6.231766376983732,
          1.6887528510188985,
          0.19928057348198847,
          0.15185481877348284,
          0.7010975621297234,
          1.8736844697608526,
          0.06426481559296086,
          0.3937517446274794,
          2.807625925996284,
          4.002688781289718,
          1.464696515294437,
          1.5443172778645795,
          0.5202970412818302,
          0.5804336055511132,
          0.4253978455905782,
          2.0197258176250314,
          0.3653022264764807,
          1.3265264354152468,
          1.279309734334321,
          137.71610713874807,
          9.984395531615782,
          3.3332356764365456,
          0.26634803391913325,
          0.07324839277792292,
          0.1590429735412307,
          0.4360346252965423,
          2.333776284532301,
          1.5089808132476585,
          42.055734731360104,
          0.6705734311966447,
          0.08331541376491562,
          0.5350146930095204,
          0.04667215867141139,
          0.08997880677463424,
          2.8768236297267378,
          1.2910653587292993,
          1.1805993248881312,
          3.3216640676245133,
          1.631399684392783,
          0.5117597795836133,
          0.06956007591626928,
          0.49682043299777645,
          1.0297241815607705,
          0.7206823006110585,
          0.06712079087014944,
          0.07491428541658798,
          0.472249769460813,
          3.117398364762195,
          0.0948866396781547,
          1.7181737686982692,
          0.5674347243106833,
          0.6561461806000718,
          0.020986600495549117,
          0.1990641338375586,
          0.1446902203909273,
          1.98007621105236,
          0.09237242558642936,
          2.49016619880918,
          3.011182258567835,
          1.2069450651088143,
          0.7427231121649059,
          0.9393475831022426,
          0.3101068307088171,
          335.7551675794325,
          0.3187144217822571,
          0.18103904187328002,
          1.311942634497429,
          0.11948227787353755,
          2.5887246230690963,
          1.9282025935439313,
          0.8888262125252248,
          0.9958843361916354,
          0.10566917741340927,
          0.057661824994174826,
          0.06689809091742885,
          0.5859352733917469,
          0.01929699135586021,
          0.5099519063517326,
          0.488774659694928,
          1.2801012744430205,
          22.17063302626984,
          0.5844235977780243,
          0.4146464464875803,
          0.06024964856675949,
          0.3579559950235721,
          0.2669648283842565,
          35.32830224746534,
          0.6952225999527659,
          1.5175911150003374,
          0.48028087208353953,
          1.6553985919569782,
          2.6728983139313707,
          0.37156611201863854,
          1.3478317274898797,
          0.04926292247181496,
          5.019837837222855,
          0.09161057111547345,
          1.280492333080837,
          0.9806787269021734,
          4.354986388847903,
          2.0585249248596362,
          0.4246717149125385,
          0.42777272036545577,
          1.2975307109226195,
          3.155313643954143,
          0.9612603116335025,
          0.7229356978154222,
          82.63504475890689,
          0.17657389979272398,
          74.8586328505585,
          0.6321778178130756,
          2.366235435876267,
          0.938498971921294,
          1.5879935491159576,
          0.9973574523561018,
          0.5371044644306008,
          0.9753805944571365,
          0.5020294734679552,
          0.3786873758942171,
          3.734231098912809,
          0.20376150835206766,
          3.8887696308419515,
          2.373611515402831,
          0.4527439596124463,
          2.0240269538726827,
          0.10288491237260548,
          0.9714029161524664,
          72.07974780704441,
          1.7657100215313501,
          0.023079952508128658,
          160.74839267175594,
          1.2473448372839586,
          1.0543816577717267,
          4.749606108861296,
          0.7345784511340793,
          4.417595848921561,
          0.1614426048114648,
          0.6200331022577837,
          32.7314134512227,
          1.5418335795081728,
          0.008039066698608273,
          1.444187688942728,
          6.7463681054679405,
          0.8841306095087587,
          0.4769486499744108,
          3.606043913624147,
          0.09423207446791541,
          2.6531055843994547,
          50.98670358668981,
          0.4748198873284045,
          21.285451405161552,
          0.8338253519030165,
          1.7106115994062145,
          1.790378322526179,
          0.1332110239164095,
          1.951203933454369,
          4.052908282519415,
          0.5892591797728145,
          0.6171573709779461,
          2.5170276592013727,
          1.1796520529533125,
          1.8963416669890876,
          1.235699716996161,
          0.1563186208789076,
          1.7051657805557503,
          13.605026783829834,
          0.252817577797162,
          33.31420740017227,
          5.313599839654405,
          2.3992469532996585,
          0.13490528807409521,
          2.7773409477117132,
          1.5526108497441535,
          0.38874485211431,
          48.09344552434536,
          1.7326607556810476,
          0.7477582929481361,
          0.12665109823667287,
          4.775378321120817,
          1.8774936348017253,
          15.457934987585686,
          0.12555399477442222,
          6.06587332343727,
          2.490333856254808,
          0.39551698193323587,
          0.3891914574149612,
          1.4924603831895922,
          0.18185658235578284,
          0.06372304059082552,
          3.9353656950852676,
          1.8312691087423711,
          120.18429733772105,
          0.04874601122210782,
          21.7284665576351,
          1.4092632918333428,
          4.6728951387639315,
          8.083155696821708,
          1.7000704769808657,
          2.5683678604162075,
          10.504250560196606,
          28.55220255646911,
          0.5974972839261871,
          251.1107804940153,
          2.335529379591503,
          2.318683011171368,
          0.4629714159624602,
          4.881799326518723,
          0.7107475586223887,
          1.9077322752441452,
          0.16367359340589147,
          0.17414991259418033,
          1.4530452775749352,
          1.8932574261281432,
          2.24180543594089,
          397.45253080007024,
          0.5526962819739414,
          10.651249406680165,
          53.567710338755575,
          0.38433825799216614,
          1.3433027062085197,
          6.5358240402553855,
          2.5809135020340417,
          0.17133250526297478,
          2.2196180770557477,
          1.4772953238113444,
          1.330849546413165,
          1.0660903802463442,
          0.24286906066875233,
          0.7352130899092981,
          1.3091066911465743,
          0.03498677733030482,
          2.8104058056548338,
          0.6464844655754775,
          163.598572839064,
          8.51224157476322,
          0.5084230982250636,
          3.2973940296559845,
          6.07436389412117,
          0.5367127307406477,
          1.4497756793109038,
          1.7659611161707693,
          1.81850187522809,
          54.05886054966207,
          0.19985963171514592,
          3.874660918671627,
          116.29747275962053,
          0.5757445869437509,
          0.8146914838581065,
          3.0821510667095073,
          6.878313335714057,
          0.2544201957956314,
          0.5015982144637046,
          1.5841243275651495,
          0.1763350307320516,
          0.36938706027493334,
          2.8521991003479856,
          14.352680238231073,
          0.5374977887656576,
          3.135724042883691,
          0.8441531652500304,
          3.454061404909103,
          3.083066488486728,
          1.3735512271710149,
          0.17719708446712215,
          5.248877626952814,
          1.0187651463747094,
          1.997734230531209,
          1.6065125111054268,
          0.37443815793922547,
          15.295835760477933,
          3.2894569785058523,
          0.3905488128281563,
          0.4713410215711903,
          1.7890259957112309,
          2.764856173671306,
          0.7753139564844445,
          0.7063072943977833,
          0.5175263832905751,
          10.363078459932224,
          0.3022676774195604,
          1.688104545016845,
          1.1663484809538625,
          0.6374618561395076,
          1.2689869246372478,
          0.2973910681597066,
          9.340346292882675,
          6.756610645701825,
          0.09492092659531934,
          1.6594443331923392,
          3.5811590866966445,
          2.323624403400272,
          0.31942135105568686,
          0.18082593628536506,
          0.37720169519240393,
          4.997317596448534,
          0.10293156273719067,
          1.6004791755457601,
          0.22582911246346543,
          1.1314781133121832,
          2.099413608821402,
          2.0680605850938467,
          0.42221331803223916,
          3.935412638078715,
          0.6955603121615017,
          2.7299974960756357,
          1.7337064181373527,
          0.23868007866209676,
          1.117800035187872,
          5.300182707210707,
          95.95483960641788,
          25.41788073274246,
          0.34090736500462937,
          2.290007792511295,
          37.11203475988652,
          1.883261476350455,
          0.7728493105277765,
          1.033175615167437,
          1.8082517030074827,
          0.29101123885015906,
          1.934436471921522,
          4.040494863334447,
          0.12187649698347298,
          101.18872390019183,
          0.23422079521150435,
          1.1482882084332382,
          0.7223510868874924,
          3.7336016101555343,
          0.5391257253198991,
          8.301885012449892,
          3.1343090478525575,
          64.5788353759991,
          0.837897054427579,
          1.445119820509689,
          1.0701054078266719,
          0.16548978016262061,
          45.59864533480925,
          3.1305643048886926,
          265.077931825022,
          1.4873871890551837,
          11.555725378160357,
          3.609955304882337
         ]
        },
        {
         "mode": "lines",
         "name": "Best Value",
         "type": "scatter",
         "x": [
          0,
          1,
          2,
          3,
          4,
          5,
          6,
          7,
          8,
          9,
          10,
          11,
          12,
          13,
          14,
          15,
          16,
          17,
          18,
          19,
          20,
          21,
          22,
          23,
          24,
          25,
          26,
          27,
          28,
          29,
          30,
          31,
          32,
          33,
          34,
          35,
          36,
          37,
          38,
          39,
          40,
          41,
          42,
          43,
          44,
          45,
          46,
          47,
          48,
          49,
          50,
          51,
          52,
          53,
          54,
          55,
          56,
          57,
          58,
          59,
          60,
          61,
          62,
          63,
          64,
          65,
          66,
          67,
          68,
          69,
          70,
          71,
          72,
          73,
          74,
          75,
          76,
          77,
          78,
          79,
          80,
          81,
          82,
          83,
          84,
          85,
          86,
          87,
          88,
          89,
          90,
          91,
          92,
          93,
          94,
          95,
          96,
          97,
          98,
          99,
          100,
          101,
          102,
          103,
          104,
          105,
          106,
          107,
          108,
          109,
          110,
          111,
          112,
          113,
          114,
          115,
          116,
          117,
          118,
          119,
          120,
          121,
          122,
          123,
          124,
          125,
          126,
          127,
          128,
          129,
          130,
          131,
          132,
          133,
          134,
          135,
          136,
          137,
          138,
          139,
          140,
          141,
          142,
          143,
          144,
          145,
          146,
          147,
          148,
          149,
          150,
          151,
          152,
          153,
          154,
          155,
          156,
          157,
          158,
          159,
          160,
          161,
          162,
          163,
          164,
          165,
          166,
          167,
          168,
          169,
          170,
          171,
          172,
          173,
          174,
          175,
          176,
          177,
          178,
          179,
          180,
          181,
          182,
          183,
          184,
          185,
          186,
          187,
          188,
          189,
          190,
          191,
          192,
          193,
          194,
          195,
          196,
          197,
          198,
          199,
          200,
          201,
          202,
          203,
          204,
          205,
          206,
          207,
          208,
          209,
          210,
          211,
          212,
          213,
          214,
          215,
          216,
          217,
          218,
          219,
          220,
          221,
          222,
          223,
          224,
          225,
          226,
          227,
          228,
          229,
          230,
          231,
          232,
          233,
          234,
          235,
          236,
          237,
          238,
          239,
          240,
          241,
          242,
          243,
          244,
          245,
          246,
          247,
          248,
          249,
          250,
          251,
          252,
          253,
          254,
          255,
          256,
          257,
          258,
          259,
          260,
          261,
          262,
          263,
          264,
          265,
          266,
          267,
          268,
          269,
          270,
          271,
          272,
          273,
          274,
          275,
          276,
          277,
          278,
          279,
          280,
          281,
          282,
          283,
          284,
          285,
          286,
          287,
          288,
          289,
          290,
          291,
          292,
          293,
          294,
          295,
          296,
          297,
          298,
          299,
          300,
          301,
          302,
          303,
          304,
          305,
          306,
          307,
          308,
          309,
          310,
          311,
          312,
          313,
          314,
          315,
          316,
          317,
          318,
          319,
          320,
          321,
          322,
          323,
          324,
          325,
          326,
          327,
          328,
          329,
          330,
          331,
          332,
          333,
          334,
          335,
          336,
          337,
          338,
          339,
          340,
          341,
          342,
          343,
          344,
          345,
          346,
          347,
          348,
          349,
          350,
          351,
          352,
          353,
          354,
          355,
          356,
          357,
          358,
          359,
          360,
          361,
          362,
          363,
          364,
          365,
          366,
          367,
          368,
          369,
          370,
          371,
          372,
          373,
          374,
          375,
          376,
          377,
          378,
          379,
          380,
          381,
          382,
          383,
          384,
          385,
          386,
          387,
          388,
          389,
          390,
          391,
          392,
          393,
          394,
          395,
          396,
          397,
          398,
          399,
          400,
          401,
          402,
          403,
          404,
          405,
          406,
          407,
          408,
          409,
          410,
          411,
          412,
          413,
          414,
          415,
          416,
          417,
          418,
          419,
          420,
          421,
          422,
          423,
          424,
          425,
          426,
          427,
          428,
          429,
          430,
          431,
          432,
          433,
          434,
          435,
          436,
          437,
          438,
          439,
          440,
          441,
          442,
          443,
          444,
          445,
          446,
          447,
          448,
          449,
          450,
          451,
          452,
          453,
          454,
          455,
          456,
          457,
          458,
          459,
          460,
          461,
          462,
          463,
          464,
          465,
          466,
          467,
          468,
          469,
          470,
          471,
          472,
          473,
          474,
          475,
          476,
          477,
          478,
          479,
          480,
          481,
          482,
          483,
          484,
          485,
          486,
          487,
          488,
          489,
          490,
          491,
          492,
          493,
          494,
          495,
          496,
          497,
          498,
          499
         ],
         "y": [
          190.00285763424017,
          15.127277733012534,
          15.127277733012534,
          15.127277733012534,
          15.127277733012534,
          15.127277733012534,
          15.127277733012534,
          15.127277733012534,
          15.127277733012534,
          15.127277733012534,
          10.472408742120761,
          10.454606240159096,
          10.454606240159096,
          0.7208708945519126,
          0.7208708945519126,
          0.7208708945519126,
          0.7208708945519126,
          0.7208708945519126,
          0.7208708945519126,
          0.7208708945519126,
          0.7208708945519126,
          0.7208708945519126,
          0.7208708945519126,
          0.7208708945519126,
          0.7208708945519126,
          0.7208708945519126,
          0.7208708945519126,
          0.7208708945519126,
          0.7208708945519126,
          0.7208708945519126,
          0.7208708945519126,
          0.5058747087170532,
          0.5058747087170532,
          0.5058747087170532,
          0.5058747087170532,
          0.5058747087170532,
          0.5058747087170532,
          0.5058747087170532,
          0.5058747087170532,
          0.5058747087170532,
          0.5058747087170532,
          0.5058747087170532,
          0.5058747087170532,
          0.5058747087170532,
          0.5058747087170532,
          0.5058747087170532,
          0.5058747087170532,
          0.5058747087170532,
          0.5058747087170532,
          0.5058747087170532,
          0.5058747087170532,
          0.5058747087170532,
          0.5058747087170532,
          0.5058747087170532,
          0.5058747087170532,
          0.5058747087170532,
          0.5058747087170532,
          0.5058747087170532,
          0.5058747087170532,
          0.5058747087170532,
          0.5058747087170532,
          0.5058747087170532,
          0.5058747087170532,
          0.5032306696809269,
          0.5032306696809269,
          0.5032306696809269,
          0.5032306696809269,
          0.5032306696809269,
          0.5032306696809269,
          0.5032306696809269,
          0.3297990158462749,
          0.3297990158462749,
          0.3297990158462749,
          0.3297990158462749,
          0.3297990158462749,
          0.3297990158462749,
          0.30640017712626666,
          0.30640017712626666,
          0.30640017712626666,
          0.30640017712626666,
          0.30640017712626666,
          0.30640017712626666,
          0.30640017712626666,
          0.30640017712626666,
          0.30640017712626666,
          0.30640017712626666,
          0.30640017712626666,
          0.30640017712626666,
          0.30640017712626666,
          0.30640017712626666,
          0.30640017712626666,
          0.30640017712626666,
          0.30640017712626666,
          0.30640017712626666,
          0.30640017712626666,
          0.30640017712626666,
          0.30640017712626666,
          0.30640017712626666,
          0.30640017712626666,
          0.30640017712626666,
          0.30640017712626666,
          0.30640017712626666,
          0.30640017712626666,
          0.30640017712626666,
          0.30640017712626666,
          0.30640017712626666,
          0.30640017712626666,
          0.30640017712626666,
          0.30640017712626666,
          0.30640017712626666,
          0.30640017712626666,
          0.30640017712626666,
          0.30640017712626666,
          0.30640017712626666,
          0.059367105389543415,
          0.059367105389543415,
          0.024714589377475102,
          0.024714589377475102,
          0.024714589377475102,
          0.024714589377475102,
          0.024714589377475102,
          0.024714589377475102,
          0.024714589377475102,
          0.024714589377475102,
          0.024714589377475102,
          0.024714589377475102,
          0.024714589377475102,
          0.024714589377475102,
          0.024714589377475102,
          0.024714589377475102,
          0.024714589377475102,
          0.024714589377475102,
          0.024714589377475102,
          0.024714589377475102,
          0.024714589377475102,
          0.024714589377475102,
          0.024714589377475102,
          0.024714589377475102,
          0.024714589377475102,
          0.024714589377475102,
          0.024714589377475102,
          0.024714589377475102,
          0.024714589377475102,
          0.024714589377475102,
          0.024714589377475102,
          0.024714589377475102,
          0.024714589377475102,
          0.024714589377475102,
          0.024714589377475102,
          0.024714589377475102,
          0.024714589377475102,
          0.024714589377475102,
          0.024714589377475102,
          0.024714589377475102,
          0.024714589377475102,
          0.024714589377475102,
          0.024714589377475102,
          0.024714589377475102,
          0.024714589377475102,
          0.024714589377475102,
          0.024714589377475102,
          0.024714589377475102,
          0.024714589377475102,
          0.024714589377475102,
          0.024714589377475102,
          0.024714589377475102,
          0.024714589377475102,
          0.024714589377475102,
          0.024714589377475102,
          0.024714589377475102,
          0.024714589377475102,
          0.024714589377475102,
          0.024714589377475102,
          0.024714589377475102,
          0.024714589377475102,
          0.024714589377475102,
          0.024714589377475102,
          0.024714589377475102,
          0.024714589377475102,
          0.024714589377475102,
          0.024714589377475102,
          0.024714589377475102,
          0.024714589377475102,
          0.024714589377475102,
          0.024714589377475102,
          0.024714589377475102,
          0.024714589377475102,
          0.024714589377475102,
          0.024714589377475102,
          0.024714589377475102,
          0.024714589377475102,
          0.024714589377475102,
          0.024714589377475102,
          0.024714589377475102,
          0.024714589377475102,
          0.024714589377475102,
          0.024714589377475102,
          0.024714589377475102,
          0.024714589377475102,
          0.024714589377475102,
          0.024714589377475102,
          0.024714589377475102,
          0.024714589377475102,
          0.024714589377475102,
          0.024714589377475102,
          0.024714589377475102,
          0.024714589377475102,
          0.024714589377475102,
          0.024714589377475102,
          0.024714589377475102,
          0.024714589377475102,
          0.020986600495549117,
          0.020986600495549117,
          0.020986600495549117,
          0.020986600495549117,
          0.020986600495549117,
          0.020986600495549117,
          0.020986600495549117,
          0.020986600495549117,
          0.020986600495549117,
          0.020986600495549117,
          0.020986600495549117,
          0.020986600495549117,
          0.020986600495549117,
          0.020986600495549117,
          0.020986600495549117,
          0.020986600495549117,
          0.020986600495549117,
          0.020986600495549117,
          0.020986600495549117,
          0.020986600495549117,
          0.020986600495549117,
          0.020986600495549117,
          0.020986600495549117,
          0.020986600495549117,
          0.01929699135586021,
          0.01929699135586021,
          0.01929699135586021,
          0.01929699135586021,
          0.01929699135586021,
          0.01929699135586021,
          0.01929699135586021,
          0.01929699135586021,
          0.01929699135586021,
          0.01929699135586021,
          0.01929699135586021,
          0.01929699135586021,
          0.01929699135586021,
          0.01929699135586021,
          0.01929699135586021,
          0.01929699135586021,
          0.01929699135586021,
          0.01929699135586021,
          0.01929699135586021,
          0.01929699135586021,
          0.01929699135586021,
          0.01929699135586021,
          0.01929699135586021,
          0.01929699135586021,
          0.01929699135586021,
          0.01929699135586021,
          0.01929699135586021,
          0.01929699135586021,
          0.01929699135586021,
          0.01929699135586021,
          0.01929699135586021,
          0.01929699135586021,
          0.01929699135586021,
          0.01929699135586021,
          0.01929699135586021,
          0.01929699135586021,
          0.01929699135586021,
          0.01929699135586021,
          0.01929699135586021,
          0.01929699135586021,
          0.01929699135586021,
          0.01929699135586021,
          0.01929699135586021,
          0.01929699135586021,
          0.01929699135586021,
          0.01929699135586021,
          0.01929699135586021,
          0.01929699135586021,
          0.01929699135586021,
          0.01929699135586021,
          0.01929699135586021,
          0.01929699135586021,
          0.01929699135586021,
          0.01929699135586021,
          0.01929699135586021,
          0.01929699135586021,
          0.01929699135586021,
          0.01929699135586021,
          0.01929699135586021,
          0.01929699135586021,
          0.01929699135586021,
          0.01929699135586021,
          0.01929699135586021,
          0.01929699135586021,
          0.008039066698608273,
          0.008039066698608273,
          0.008039066698608273,
          0.008039066698608273,
          0.008039066698608273,
          0.008039066698608273,
          0.008039066698608273,
          0.008039066698608273,
          0.008039066698608273,
          0.008039066698608273,
          0.008039066698608273,
          0.008039066698608273,
          0.008039066698608273,
          0.008039066698608273,
          0.008039066698608273,
          0.008039066698608273,
          0.008039066698608273,
          0.008039066698608273,
          0.008039066698608273,
          0.008039066698608273,
          0.008039066698608273,
          0.008039066698608273,
          0.008039066698608273,
          0.008039066698608273,
          0.008039066698608273,
          0.008039066698608273,
          0.008039066698608273,
          0.008039066698608273,
          0.008039066698608273,
          0.008039066698608273,
          0.008039066698608273,
          0.008039066698608273,
          0.008039066698608273,
          0.008039066698608273,
          0.008039066698608273,
          0.008039066698608273,
          0.008039066698608273,
          0.008039066698608273,
          0.008039066698608273,
          0.008039066698608273,
          0.008039066698608273,
          0.008039066698608273,
          0.008039066698608273,
          0.008039066698608273,
          0.008039066698608273,
          0.008039066698608273,
          0.008039066698608273,
          0.008039066698608273,
          0.008039066698608273,
          0.008039066698608273,
          0.008039066698608273,
          0.008039066698608273,
          0.008039066698608273,
          0.008039066698608273,
          0.008039066698608273,
          0.008039066698608273,
          0.008039066698608273,
          0.008039066698608273,
          0.008039066698608273,
          0.008039066698608273,
          0.008039066698608273,
          0.008039066698608273,
          0.008039066698608273,
          0.008039066698608273,
          0.008039066698608273,
          0.008039066698608273,
          0.008039066698608273,
          0.008039066698608273,
          0.008039066698608273,
          0.008039066698608273,
          0.008039066698608273,
          0.008039066698608273,
          0.008039066698608273,
          0.008039066698608273,
          0.008039066698608273,
          0.008039066698608273,
          0.008039066698608273,
          0.008039066698608273,
          0.008039066698608273,
          0.008039066698608273,
          0.008039066698608273,
          0.008039066698608273,
          0.008039066698608273,
          0.008039066698608273,
          0.008039066698608273,
          0.008039066698608273,
          0.008039066698608273,
          0.008039066698608273,
          0.008039066698608273,
          0.008039066698608273,
          0.008039066698608273,
          0.008039066698608273,
          0.008039066698608273,
          0.008039066698608273,
          0.008039066698608273,
          0.008039066698608273,
          0.008039066698608273,
          0.008039066698608273,
          0.008039066698608273,
          0.008039066698608273,
          0.008039066698608273,
          0.008039066698608273,
          0.008039066698608273,
          0.008039066698608273,
          0.008039066698608273,
          0.008039066698608273,
          0.008039066698608273,
          0.008039066698608273,
          0.008039066698608273,
          0.008039066698608273,
          0.008039066698608273,
          0.008039066698608273,
          0.008039066698608273,
          0.008039066698608273,
          0.008039066698608273,
          0.008039066698608273,
          0.008039066698608273,
          0.008039066698608273,
          0.008039066698608273,
          0.008039066698608273,
          0.008039066698608273,
          0.008039066698608273,
          0.008039066698608273,
          0.008039066698608273,
          0.008039066698608273,
          0.008039066698608273,
          0.008039066698608273,
          0.008039066698608273,
          0.008039066698608273,
          0.008039066698608273,
          0.008039066698608273,
          0.008039066698608273,
          0.008039066698608273,
          0.008039066698608273,
          0.008039066698608273,
          0.008039066698608273,
          0.008039066698608273,
          0.008039066698608273,
          0.008039066698608273,
          0.008039066698608273,
          0.008039066698608273,
          0.008039066698608273,
          0.008039066698608273,
          0.008039066698608273,
          0.008039066698608273,
          0.008039066698608273,
          0.008039066698608273,
          0.008039066698608273,
          0.008039066698608273,
          0.008039066698608273,
          0.008039066698608273,
          0.008039066698608273,
          0.008039066698608273,
          0.008039066698608273,
          0.008039066698608273,
          0.008039066698608273,
          0.008039066698608273,
          0.008039066698608273,
          0.008039066698608273,
          0.008039066698608273,
          0.008039066698608273,
          0.008039066698608273,
          0.008039066698608273,
          0.008039066698608273,
          0.008039066698608273,
          0.008039066698608273,
          0.008039066698608273,
          0.008039066698608273,
          0.008039066698608273,
          0.008039066698608273,
          0.008039066698608273,
          0.008039066698608273,
          0.008039066698608273,
          0.008039066698608273,
          0.008039066698608273,
          0.008039066698608273,
          0.008039066698608273,
          0.008039066698608273,
          0.008039066698608273,
          0.008039066698608273,
          0.008039066698608273,
          0.008039066698608273,
          0.008039066698608273,
          0.008039066698608273,
          0.008039066698608273,
          0.008039066698608273,
          0.008039066698608273,
          0.008039066698608273,
          0.008039066698608273,
          0.008039066698608273,
          0.008039066698608273,
          0.008039066698608273,
          0.008039066698608273,
          0.008039066698608273,
          0.008039066698608273,
          0.008039066698608273,
          0.008039066698608273,
          0.008039066698608273,
          0.008039066698608273,
          0.008039066698608273,
          0.008039066698608273
         ]
        },
        {
         "marker": {
          "color": "#cccccc"
         },
         "mode": "markers",
         "name": "Infeasible Trial",
         "showlegend": false,
         "type": "scatter",
         "x": [],
         "y": []
        }
       ],
       "layout": {
        "template": {
         "data": {
          "bar": [
           {
            "error_x": {
             "color": "#2a3f5f"
            },
            "error_y": {
             "color": "#2a3f5f"
            },
            "marker": {
             "line": {
              "color": "#E5ECF6",
              "width": 0.5
             },
             "pattern": {
              "fillmode": "overlay",
              "size": 10,
              "solidity": 0.2
             }
            },
            "type": "bar"
           }
          ],
          "barpolar": [
           {
            "marker": {
             "line": {
              "color": "#E5ECF6",
              "width": 0.5
             },
             "pattern": {
              "fillmode": "overlay",
              "size": 10,
              "solidity": 0.2
             }
            },
            "type": "barpolar"
           }
          ],
          "carpet": [
           {
            "aaxis": {
             "endlinecolor": "#2a3f5f",
             "gridcolor": "white",
             "linecolor": "white",
             "minorgridcolor": "white",
             "startlinecolor": "#2a3f5f"
            },
            "baxis": {
             "endlinecolor": "#2a3f5f",
             "gridcolor": "white",
             "linecolor": "white",
             "minorgridcolor": "white",
             "startlinecolor": "#2a3f5f"
            },
            "type": "carpet"
           }
          ],
          "choropleth": [
           {
            "colorbar": {
             "outlinewidth": 0,
             "ticks": ""
            },
            "type": "choropleth"
           }
          ],
          "contour": [
           {
            "colorbar": {
             "outlinewidth": 0,
             "ticks": ""
            },
            "colorscale": [
             [
              0,
              "#0d0887"
             ],
             [
              0.1111111111111111,
              "#46039f"
             ],
             [
              0.2222222222222222,
              "#7201a8"
             ],
             [
              0.3333333333333333,
              "#9c179e"
             ],
             [
              0.4444444444444444,
              "#bd3786"
             ],
             [
              0.5555555555555556,
              "#d8576b"
             ],
             [
              0.6666666666666666,
              "#ed7953"
             ],
             [
              0.7777777777777778,
              "#fb9f3a"
             ],
             [
              0.8888888888888888,
              "#fdca26"
             ],
             [
              1,
              "#f0f921"
             ]
            ],
            "type": "contour"
           }
          ],
          "contourcarpet": [
           {
            "colorbar": {
             "outlinewidth": 0,
             "ticks": ""
            },
            "type": "contourcarpet"
           }
          ],
          "heatmap": [
           {
            "colorbar": {
             "outlinewidth": 0,
             "ticks": ""
            },
            "colorscale": [
             [
              0,
              "#0d0887"
             ],
             [
              0.1111111111111111,
              "#46039f"
             ],
             [
              0.2222222222222222,
              "#7201a8"
             ],
             [
              0.3333333333333333,
              "#9c179e"
             ],
             [
              0.4444444444444444,
              "#bd3786"
             ],
             [
              0.5555555555555556,
              "#d8576b"
             ],
             [
              0.6666666666666666,
              "#ed7953"
             ],
             [
              0.7777777777777778,
              "#fb9f3a"
             ],
             [
              0.8888888888888888,
              "#fdca26"
             ],
             [
              1,
              "#f0f921"
             ]
            ],
            "type": "heatmap"
           }
          ],
          "histogram": [
           {
            "marker": {
             "pattern": {
              "fillmode": "overlay",
              "size": 10,
              "solidity": 0.2
             }
            },
            "type": "histogram"
           }
          ],
          "histogram2d": [
           {
            "colorbar": {
             "outlinewidth": 0,
             "ticks": ""
            },
            "colorscale": [
             [
              0,
              "#0d0887"
             ],
             [
              0.1111111111111111,
              "#46039f"
             ],
             [
              0.2222222222222222,
              "#7201a8"
             ],
             [
              0.3333333333333333,
              "#9c179e"
             ],
             [
              0.4444444444444444,
              "#bd3786"
             ],
             [
              0.5555555555555556,
              "#d8576b"
             ],
             [
              0.6666666666666666,
              "#ed7953"
             ],
             [
              0.7777777777777778,
              "#fb9f3a"
             ],
             [
              0.8888888888888888,
              "#fdca26"
             ],
             [
              1,
              "#f0f921"
             ]
            ],
            "type": "histogram2d"
           }
          ],
          "histogram2dcontour": [
           {
            "colorbar": {
             "outlinewidth": 0,
             "ticks": ""
            },
            "colorscale": [
             [
              0,
              "#0d0887"
             ],
             [
              0.1111111111111111,
              "#46039f"
             ],
             [
              0.2222222222222222,
              "#7201a8"
             ],
             [
              0.3333333333333333,
              "#9c179e"
             ],
             [
              0.4444444444444444,
              "#bd3786"
             ],
             [
              0.5555555555555556,
              "#d8576b"
             ],
             [
              0.6666666666666666,
              "#ed7953"
             ],
             [
              0.7777777777777778,
              "#fb9f3a"
             ],
             [
              0.8888888888888888,
              "#fdca26"
             ],
             [
              1,
              "#f0f921"
             ]
            ],
            "type": "histogram2dcontour"
           }
          ],
          "mesh3d": [
           {
            "colorbar": {
             "outlinewidth": 0,
             "ticks": ""
            },
            "type": "mesh3d"
           }
          ],
          "parcoords": [
           {
            "line": {
             "colorbar": {
              "outlinewidth": 0,
              "ticks": ""
             }
            },
            "type": "parcoords"
           }
          ],
          "pie": [
           {
            "automargin": true,
            "type": "pie"
           }
          ],
          "scatter": [
           {
            "fillpattern": {
             "fillmode": "overlay",
             "size": 10,
             "solidity": 0.2
            },
            "type": "scatter"
           }
          ],
          "scatter3d": [
           {
            "line": {
             "colorbar": {
              "outlinewidth": 0,
              "ticks": ""
             }
            },
            "marker": {
             "colorbar": {
              "outlinewidth": 0,
              "ticks": ""
             }
            },
            "type": "scatter3d"
           }
          ],
          "scattercarpet": [
           {
            "marker": {
             "colorbar": {
              "outlinewidth": 0,
              "ticks": ""
             }
            },
            "type": "scattercarpet"
           }
          ],
          "scattergeo": [
           {
            "marker": {
             "colorbar": {
              "outlinewidth": 0,
              "ticks": ""
             }
            },
            "type": "scattergeo"
           }
          ],
          "scattergl": [
           {
            "marker": {
             "colorbar": {
              "outlinewidth": 0,
              "ticks": ""
             }
            },
            "type": "scattergl"
           }
          ],
          "scattermap": [
           {
            "marker": {
             "colorbar": {
              "outlinewidth": 0,
              "ticks": ""
             }
            },
            "type": "scattermap"
           }
          ],
          "scattermapbox": [
           {
            "marker": {
             "colorbar": {
              "outlinewidth": 0,
              "ticks": ""
             }
            },
            "type": "scattermapbox"
           }
          ],
          "scatterpolar": [
           {
            "marker": {
             "colorbar": {
              "outlinewidth": 0,
              "ticks": ""
             }
            },
            "type": "scatterpolar"
           }
          ],
          "scatterpolargl": [
           {
            "marker": {
             "colorbar": {
              "outlinewidth": 0,
              "ticks": ""
             }
            },
            "type": "scatterpolargl"
           }
          ],
          "scatterternary": [
           {
            "marker": {
             "colorbar": {
              "outlinewidth": 0,
              "ticks": ""
             }
            },
            "type": "scatterternary"
           }
          ],
          "surface": [
           {
            "colorbar": {
             "outlinewidth": 0,
             "ticks": ""
            },
            "colorscale": [
             [
              0,
              "#0d0887"
             ],
             [
              0.1111111111111111,
              "#46039f"
             ],
             [
              0.2222222222222222,
              "#7201a8"
             ],
             [
              0.3333333333333333,
              "#9c179e"
             ],
             [
              0.4444444444444444,
              "#bd3786"
             ],
             [
              0.5555555555555556,
              "#d8576b"
             ],
             [
              0.6666666666666666,
              "#ed7953"
             ],
             [
              0.7777777777777778,
              "#fb9f3a"
             ],
             [
              0.8888888888888888,
              "#fdca26"
             ],
             [
              1,
              "#f0f921"
             ]
            ],
            "type": "surface"
           }
          ],
          "table": [
           {
            "cells": {
             "fill": {
              "color": "#EBF0F8"
             },
             "line": {
              "color": "white"
             }
            },
            "header": {
             "fill": {
              "color": "#C8D4E3"
             },
             "line": {
              "color": "white"
             }
            },
            "type": "table"
           }
          ]
         },
         "layout": {
          "annotationdefaults": {
           "arrowcolor": "#2a3f5f",
           "arrowhead": 0,
           "arrowwidth": 1
          },
          "autotypenumbers": "strict",
          "coloraxis": {
           "colorbar": {
            "outlinewidth": 0,
            "ticks": ""
           }
          },
          "colorscale": {
           "diverging": [
            [
             0,
             "#8e0152"
            ],
            [
             0.1,
             "#c51b7d"
            ],
            [
             0.2,
             "#de77ae"
            ],
            [
             0.3,
             "#f1b6da"
            ],
            [
             0.4,
             "#fde0ef"
            ],
            [
             0.5,
             "#f7f7f7"
            ],
            [
             0.6,
             "#e6f5d0"
            ],
            [
             0.7,
             "#b8e186"
            ],
            [
             0.8,
             "#7fbc41"
            ],
            [
             0.9,
             "#4d9221"
            ],
            [
             1,
             "#276419"
            ]
           ],
           "sequential": [
            [
             0,
             "#0d0887"
            ],
            [
             0.1111111111111111,
             "#46039f"
            ],
            [
             0.2222222222222222,
             "#7201a8"
            ],
            [
             0.3333333333333333,
             "#9c179e"
            ],
            [
             0.4444444444444444,
             "#bd3786"
            ],
            [
             0.5555555555555556,
             "#d8576b"
            ],
            [
             0.6666666666666666,
             "#ed7953"
            ],
            [
             0.7777777777777778,
             "#fb9f3a"
            ],
            [
             0.8888888888888888,
             "#fdca26"
            ],
            [
             1,
             "#f0f921"
            ]
           ],
           "sequentialminus": [
            [
             0,
             "#0d0887"
            ],
            [
             0.1111111111111111,
             "#46039f"
            ],
            [
             0.2222222222222222,
             "#7201a8"
            ],
            [
             0.3333333333333333,
             "#9c179e"
            ],
            [
             0.4444444444444444,
             "#bd3786"
            ],
            [
             0.5555555555555556,
             "#d8576b"
            ],
            [
             0.6666666666666666,
             "#ed7953"
            ],
            [
             0.7777777777777778,
             "#fb9f3a"
            ],
            [
             0.8888888888888888,
             "#fdca26"
            ],
            [
             1,
             "#f0f921"
            ]
           ]
          },
          "colorway": [
           "#636efa",
           "#EF553B",
           "#00cc96",
           "#ab63fa",
           "#FFA15A",
           "#19d3f3",
           "#FF6692",
           "#B6E880",
           "#FF97FF",
           "#FECB52"
          ],
          "font": {
           "color": "#2a3f5f"
          },
          "geo": {
           "bgcolor": "white",
           "lakecolor": "white",
           "landcolor": "#E5ECF6",
           "showlakes": true,
           "showland": true,
           "subunitcolor": "white"
          },
          "hoverlabel": {
           "align": "left"
          },
          "hovermode": "closest",
          "mapbox": {
           "style": "light"
          },
          "paper_bgcolor": "white",
          "plot_bgcolor": "#E5ECF6",
          "polar": {
           "angularaxis": {
            "gridcolor": "white",
            "linecolor": "white",
            "ticks": ""
           },
           "bgcolor": "#E5ECF6",
           "radialaxis": {
            "gridcolor": "white",
            "linecolor": "white",
            "ticks": ""
           }
          },
          "scene": {
           "xaxis": {
            "backgroundcolor": "#E5ECF6",
            "gridcolor": "white",
            "gridwidth": 2,
            "linecolor": "white",
            "showbackground": true,
            "ticks": "",
            "zerolinecolor": "white"
           },
           "yaxis": {
            "backgroundcolor": "#E5ECF6",
            "gridcolor": "white",
            "gridwidth": 2,
            "linecolor": "white",
            "showbackground": true,
            "ticks": "",
            "zerolinecolor": "white"
           },
           "zaxis": {
            "backgroundcolor": "#E5ECF6",
            "gridcolor": "white",
            "gridwidth": 2,
            "linecolor": "white",
            "showbackground": true,
            "ticks": "",
            "zerolinecolor": "white"
           }
          },
          "shapedefaults": {
           "line": {
            "color": "#2a3f5f"
           }
          },
          "ternary": {
           "aaxis": {
            "gridcolor": "white",
            "linecolor": "white",
            "ticks": ""
           },
           "baxis": {
            "gridcolor": "white",
            "linecolor": "white",
            "ticks": ""
           },
           "bgcolor": "#E5ECF6",
           "caxis": {
            "gridcolor": "white",
            "linecolor": "white",
            "ticks": ""
           }
          },
          "title": {
           "x": 0.05
          },
          "xaxis": {
           "automargin": true,
           "gridcolor": "white",
           "linecolor": "white",
           "ticks": "",
           "title": {
            "standoff": 15
           },
           "zerolinecolor": "white",
           "zerolinewidth": 2
          },
          "yaxis": {
           "automargin": true,
           "gridcolor": "white",
           "linecolor": "white",
           "ticks": "",
           "title": {
            "standoff": 15
           },
           "zerolinecolor": "white",
           "zerolinewidth": 2
          }
         }
        },
        "title": {
         "text": "Optimization History Plot"
        },
        "xaxis": {
         "title": {
          "text": "Trial"
         }
        },
        "yaxis": {
         "title": {
          "text": "Objective Value"
         }
        }
       }
      }
     },
     "metadata": {},
     "output_type": "display_data"
    }
   ],
   "source": [
    "vis.plot_optimization_history(study).show()"
   ]
  },
  {
   "cell_type": "markdown",
   "id": "0c0aec26",
   "metadata": {},
   "source": [
    "- optuna를 활용한 XGBoost 하이퍼 파라미터 튜닝"
   ]
  },
  {
   "cell_type": "code",
   "execution_count": 22,
   "id": "622d0423",
   "metadata": {},
   "outputs": [
    {
     "name": "stderr",
     "output_type": "stream",
     "text": [
      "[I 2025-09-25 16:37:17,939] A new study created in memory with name: no-name-3c2349b0-61f6-48b0-8cb2-05386f06acf6\n",
      "[I 2025-09-25 16:37:18,214] Trial 0 finished with value: -0.960093896713615 and parameters: {'n_estimators': 200, 'learning_rate': 0.01710992457137359, 'colsample_bytree': 0.6133701931703666}. Best is trial 0 with value: -0.960093896713615.\n",
      "[I 2025-09-25 16:37:18,501] Trial 1 finished with value: -0.960093896713615 and parameters: {'n_estimators': 300, 'learning_rate': 0.052073008822431585, 'colsample_bytree': 0.9105448042479937}. Best is trial 0 with value: -0.960093896713615.\n",
      "[I 2025-09-25 16:37:18,752] Trial 2 finished with value: -0.9624413145539906 and parameters: {'n_estimators': 300, 'learning_rate': 0.12768003538568096, 'colsample_bytree': 0.8076959061634145}. Best is trial 0 with value: -0.960093896713615.\n",
      "[I 2025-09-25 16:37:19,078] Trial 3 finished with value: -0.9647887323943661 and parameters: {'n_estimators': 400, 'learning_rate': 0.06672201120576389, 'colsample_bytree': 0.6423573245390772}. Best is trial 0 with value: -0.960093896713615.\n",
      "[I 2025-09-25 16:37:19,345] Trial 4 finished with value: -0.9647887323943661 and parameters: {'n_estimators': 500, 'learning_rate': 0.17963374212954875, 'colsample_bytree': 0.5010900694891761}. Best is trial 0 with value: -0.960093896713615.\n",
      "[I 2025-09-25 16:37:19,602] Trial 5 finished with value: -0.9624413145539905 and parameters: {'n_estimators': 400, 'learning_rate': 0.13977678887945383, 'colsample_bytree': 0.6951292908333432}. Best is trial 0 with value: -0.960093896713615.\n",
      "[I 2025-09-25 16:37:19,854] Trial 6 finished with value: -0.9624413145539906 and parameters: {'n_estimators': 300, 'learning_rate': 0.06489037075658351, 'colsample_bytree': 0.5953721059906159}. Best is trial 0 with value: -0.960093896713615.\n",
      "[I 2025-09-25 16:37:20,115] Trial 7 finished with value: -0.9624413145539906 and parameters: {'n_estimators': 300, 'learning_rate': 0.0742838481304098, 'colsample_bytree': 0.9183546324505191}. Best is trial 0 with value: -0.960093896713615.\n",
      "[I 2025-09-25 16:37:20,548] Trial 8 finished with value: -0.9624413145539906 and parameters: {'n_estimators': 500, 'learning_rate': 0.04656393239058075, 'colsample_bytree': 0.8354456059506368}. Best is trial 0 with value: -0.960093896713615.\n",
      "[I 2025-09-25 16:37:20,795] Trial 9 finished with value: -0.9624413145539906 and parameters: {'n_estimators': 400, 'learning_rate': 0.18535717199985538, 'colsample_bytree': 0.6813942602703804}. Best is trial 0 with value: -0.960093896713615.\n",
      "[I 2025-09-25 16:37:21,073] Trial 10 finished with value: -0.960093896713615 and parameters: {'n_estimators': 200, 'learning_rate': 0.019894768244310343, 'colsample_bytree': 0.5122264557228268}. Best is trial 0 with value: -0.960093896713615.\n",
      "[I 2025-09-25 16:37:21,251] Trial 11 finished with value: -0.9413145539906104 and parameters: {'n_estimators': 100, 'learning_rate': 0.010215825765765844, 'colsample_bytree': 0.992495016749972}. Best is trial 11 with value: -0.9413145539906104.\n",
      "[I 2025-09-25 16:37:21,430] Trial 12 finished with value: -0.948356807511737 and parameters: {'n_estimators': 100, 'learning_rate': 0.016349976221749232, 'colsample_bytree': 0.9954444128556363}. Best is trial 11 with value: -0.9413145539906104.\n",
      "[I 2025-09-25 16:37:21,630] Trial 13 finished with value: -0.9413145539906104 and parameters: {'n_estimators': 100, 'learning_rate': 0.01154780578863249, 'colsample_bytree': 0.9827164653871638}. Best is trial 11 with value: -0.9413145539906104.\n",
      "[I 2025-09-25 16:37:21,776] Trial 14 finished with value: -0.9624413145539906 and parameters: {'n_estimators': 100, 'learning_rate': 0.1026778566057324, 'colsample_bytree': 0.9967079135816159}. Best is trial 11 with value: -0.9413145539906104.\n",
      "[I 2025-09-25 16:37:21,956] Trial 15 finished with value: -0.9577464788732394 and parameters: {'n_estimators': 100, 'learning_rate': 0.037705119403426746, 'colsample_bytree': 0.9209081793166571}. Best is trial 11 with value: -0.9413145539906104.\n",
      "[I 2025-09-25 16:37:22,152] Trial 16 finished with value: -0.960093896713615 and parameters: {'n_estimators': 200, 'learning_rate': 0.09005976305638648, 'colsample_bytree': 0.8406471597214891}. Best is trial 11 with value: -0.9413145539906104.\n",
      "[I 2025-09-25 16:37:22,331] Trial 17 finished with value: -0.9577464788732394 and parameters: {'n_estimators': 100, 'learning_rate': 0.034808555861254725, 'colsample_bytree': 0.7550125802389445}. Best is trial 11 with value: -0.9413145539906104.\n",
      "[I 2025-09-25 16:37:22,527] Trial 18 finished with value: -0.9647887323943664 and parameters: {'n_estimators': 200, 'learning_rate': 0.1415418541403974, 'colsample_bytree': 0.9538534728787139}. Best is trial 11 with value: -0.9413145539906104.\n",
      "[I 2025-09-25 16:37:22,716] Trial 19 finished with value: -0.9413145539906104 and parameters: {'n_estimators': 100, 'learning_rate': 0.01141515666817675, 'colsample_bytree': 0.8755099453717399}. Best is trial 11 with value: -0.9413145539906104.\n",
      "[I 2025-09-25 16:37:22,926] Trial 20 finished with value: -0.9624413145539906 and parameters: {'n_estimators': 200, 'learning_rate': 0.08917045831926251, 'colsample_bytree': 0.7801932233431838}. Best is trial 11 with value: -0.9413145539906104.\n",
      "[I 2025-09-25 16:37:23,114] Trial 21 finished with value: -0.9436619718309859 and parameters: {'n_estimators': 100, 'learning_rate': 0.012910404058464955, 'colsample_bytree': 0.8845841895023576}. Best is trial 11 with value: -0.9413145539906104.\n",
      "[I 2025-09-25 16:37:23,298] Trial 22 finished with value: -0.9553990610328639 and parameters: {'n_estimators': 100, 'learning_rate': 0.032226947462922, 'colsample_bytree': 0.9562084815494688}. Best is trial 11 with value: -0.9413145539906104.\n",
      "[I 2025-09-25 16:37:23,474] Trial 23 finished with value: -0.960093896713615 and parameters: {'n_estimators': 100, 'learning_rate': 0.0528433126165873, 'colsample_bytree': 0.8841859938299974}. Best is trial 11 with value: -0.9413145539906104.\n",
      "[I 2025-09-25 16:37:23,774] Trial 24 finished with value: -0.960093896713615 and parameters: {'n_estimators': 200, 'learning_rate': 0.030405189717869603, 'colsample_bytree': 0.9692963696452224}. Best is trial 11 with value: -0.9413145539906104.\n",
      "[I 2025-09-25 16:37:23,959] Trial 25 finished with value: -0.943661971830986 and parameters: {'n_estimators': 100, 'learning_rate': 0.012761638651427201, 'colsample_bytree': 0.8597418905727523}. Best is trial 11 with value: -0.9413145539906104.\n",
      "[I 2025-09-25 16:37:24,243] Trial 26 finished with value: -0.960093896713615 and parameters: {'n_estimators': 200, 'learning_rate': 0.02856476353401744, 'colsample_bytree': 0.9447919436447572}. Best is trial 11 with value: -0.9413145539906104.\n",
      "[I 2025-09-25 16:37:24,426] Trial 27 finished with value: -0.960093896713615 and parameters: {'n_estimators': 100, 'learning_rate': 0.04581744273302543, 'colsample_bytree': 0.9962533740624014}. Best is trial 11 with value: -0.9413145539906104.\n",
      "[I 2025-09-25 16:37:24,542] Trial 28 finished with value: -0.960093896713615 and parameters: {'n_estimators': 100, 'learning_rate': 0.15872749514686982, 'colsample_bytree': 0.8821391548635906}. Best is trial 11 with value: -0.9413145539906104.\n",
      "[I 2025-09-25 16:37:24,714] Trial 29 finished with value: -0.960093896713615 and parameters: {'n_estimators': 200, 'learning_rate': 0.1993743945775108, 'colsample_bytree': 0.8027546808256275}. Best is trial 11 with value: -0.9413145539906104.\n",
      "[I 2025-09-25 16:37:25,011] Trial 30 finished with value: -0.9577464788732394 and parameters: {'n_estimators': 200, 'learning_rate': 0.020830250383873462, 'colsample_bytree': 0.9236452774229342}. Best is trial 11 with value: -0.9413145539906104.\n",
      "[I 2025-09-25 16:37:25,194] Trial 31 finished with value: -0.9436619718309859 and parameters: {'n_estimators': 100, 'learning_rate': 0.015549453907742374, 'colsample_bytree': 0.89063564440402}. Best is trial 11 with value: -0.9413145539906104.\n",
      "[I 2025-09-25 16:37:25,381] Trial 32 finished with value: -0.9389671361502346 and parameters: {'n_estimators': 100, 'learning_rate': 0.010283577549969601, 'colsample_bytree': 0.9629109905798786}. Best is trial 32 with value: -0.9389671361502346.\n",
      "[I 2025-09-25 16:37:25,559] Trial 33 finished with value: -0.960093896713615 and parameters: {'n_estimators': 100, 'learning_rate': 0.05681237246907839, 'colsample_bytree': 0.9697446649238484}. Best is trial 32 with value: -0.9389671361502346.\n",
      "[I 2025-09-25 16:37:25,739] Trial 34 finished with value: -0.9507042253521126 and parameters: {'n_estimators': 100, 'learning_rate': 0.024896397331692764, 'colsample_bytree': 0.9393752065127623}. Best is trial 32 with value: -0.9389671361502346.\n",
      "[I 2025-09-25 16:37:25,906] Trial 35 finished with value: -0.9577464788732394 and parameters: {'n_estimators': 100, 'learning_rate': 0.0415747269839191, 'colsample_bytree': 0.9720983655235269}. Best is trial 32 with value: -0.9389671361502346.\n",
      "[I 2025-09-25 16:37:26,238] Trial 36 finished with value: -0.9507042253521126 and parameters: {'n_estimators': 200, 'learning_rate': 0.010974784512607723, 'colsample_bytree': 0.9121734951609547}. Best is trial 32 with value: -0.9389671361502346.\n",
      "[I 2025-09-25 16:37:26,539] Trial 37 finished with value: -0.960093896713615 and parameters: {'n_estimators': 300, 'learning_rate': 0.06068341035870788, 'colsample_bytree': 0.8482403069321571}. Best is trial 32 with value: -0.9389671361502346.\n",
      "[I 2025-09-25 16:37:26,886] Trial 38 finished with value: -0.960093896713615 and parameters: {'n_estimators': 400, 'learning_rate': 0.0782014015505949, 'colsample_bytree': 0.9740728262838321}. Best is trial 32 with value: -0.9389671361502346.\n",
      "[I 2025-09-25 16:37:27,096] Trial 39 finished with value: -0.9507042253521126 and parameters: {'n_estimators': 100, 'learning_rate': 0.026371956838033266, 'colsample_bytree': 0.9354366058403746}. Best is trial 32 with value: -0.9389671361502346.\n",
      "[I 2025-09-25 16:37:27,442] Trial 40 finished with value: -0.9694835680751174 and parameters: {'n_estimators': 300, 'learning_rate': 0.0423554752155348, 'colsample_bytree': 0.6997435466491855}. Best is trial 32 with value: -0.9389671361502346.\n",
      "[I 2025-09-25 16:37:27,660] Trial 41 finished with value: -0.9436619718309859 and parameters: {'n_estimators': 100, 'learning_rate': 0.01048829099269586, 'colsample_bytree': 0.8882778177244521}. Best is trial 32 with value: -0.9389671361502346.\n",
      "[I 2025-09-25 16:37:27,855] Trial 42 finished with value: -0.948356807511737 and parameters: {'n_estimators': 100, 'learning_rate': 0.021790834433236546, 'colsample_bytree': 0.8119128645437427}. Best is trial 32 with value: -0.9389671361502346.\n",
      "[I 2025-09-25 16:37:28,054] Trial 43 finished with value: -0.9413145539906104 and parameters: {'n_estimators': 100, 'learning_rate': 0.01140966364223424, 'colsample_bytree': 0.8694462790978591}. Best is trial 32 with value: -0.9389671361502346.\n",
      "[I 2025-09-25 16:37:28,260] Trial 44 finished with value: -0.9553990610328639 and parameters: {'n_estimators': 100, 'learning_rate': 0.03466044825930058, 'colsample_bytree': 0.9881516482399241}. Best is trial 32 with value: -0.9389671361502346.\n",
      "[I 2025-09-25 16:37:28,469] Trial 45 finished with value: -0.9530516431924884 and parameters: {'n_estimators': 200, 'learning_rate': 0.11673994197601485, 'colsample_bytree': 0.9071775950851428}. Best is trial 32 with value: -0.9389671361502346.\n",
      "[I 2025-09-25 16:37:28,657] Trial 46 finished with value: -0.9507042253521126 and parameters: {'n_estimators': 100, 'learning_rate': 0.02324546936599929, 'colsample_bytree': 0.9491365048471776}. Best is trial 32 with value: -0.9389671361502346.\n",
      "[I 2025-09-25 16:37:29,063] Trial 47 finished with value: -0.9671361502347416 and parameters: {'n_estimators': 500, 'learning_rate': 0.05000676520372124, 'colsample_bytree': 0.5602913156600954}. Best is trial 32 with value: -0.9389671361502346.\n",
      "[I 2025-09-25 16:37:29,401] Trial 48 finished with value: -0.9577464788732394 and parameters: {'n_estimators': 200, 'learning_rate': 0.020208436480058906, 'colsample_bytree': 0.861382430929731}. Best is trial 32 with value: -0.9389671361502346.\n",
      "[I 2025-09-25 16:37:29,576] Trial 49 finished with value: -0.9647887323943664 and parameters: {'n_estimators': 100, 'learning_rate': 0.07403328897072838, 'colsample_bytree': 0.7180916648914779}. Best is trial 32 with value: -0.9389671361502346.\n"
     ]
    },
    {
     "name": "stdout",
     "output_type": "stream",
     "text": [
      "-0.9389671361502346\n",
      "{'n_estimators': 100, 'learning_rate': 0.010283577549969601, 'colsample_bytree': 0.9629109905798786}\n"
     ]
    }
   ],
   "source": [
    "trial = Trials()\n",
    "\n",
    "# 1. 목적 함수\n",
    "def xgb_optuna_objective(trial):\n",
    "\n",
    "    params = {\n",
    "        'n_estimators': trial.suggest_int('n_estimators', 100, 500, 100),\n",
    "        'max_depth': trial.suggest_int('n_estimators', 3, 10),\n",
    "        'learning_rate': trial.suggest_float('learning_rate', 0.01, 0.2),\n",
    "        'colsample_bytree': trial.suggest_float('colsample_bytree', 0.5, 1.0)\n",
    "    }\n",
    "\n",
    "\n",
    "    xgb_clf = XGBClassifier(**params)\n",
    "    mean_acc = cross_val_score(xgb_clf, X_train, y_train, scoring='accuracy',cv=3).mean()\n",
    "    return -mean_acc\n",
    "\n",
    "\n",
    "\n",
    "# 2. study 객체 -> 최적화\n",
    "study = optuna.create_study(direction=\"maximize\")\n",
    "study.optimize(xgb_optuna_objective, n_trials=50)\n",
    "\n",
    "\n",
    "# 3. 결과 출력\n",
    "print(study.best_value)\n",
    "print(study.best_params)"
   ]
  },
  {
   "cell_type": "markdown",
   "id": "8b78d693",
   "metadata": {},
   "source": [
    "#### HyperOpt vs Optuna"
   ]
  },
  {
   "cell_type": "code",
   "execution_count": 29,
   "id": "091be75a",
   "metadata": {},
   "outputs": [],
   "source": [
    "from sklearn.metrics import accuracy_score\n",
    "xgb_hpopt = XGBClassifier(\n",
    "    n_estimator=400,\n",
    "    max_depth=5,\n",
    "    learning_rate=0.14,\n",
    "    colsample_bytree=0.5\n",
    ")\n",
    "\n",
    "xgb_optuna = XGBClassifier(\n",
    "    n_estimators=300,\n",
    "    max_depth=9,\n",
    "    learning_rate=0.18,\n",
    "    colsample_bytree=0.5\n",
    ")"
   ]
  },
  {
   "cell_type": "code",
   "execution_count": 30,
   "id": "7764d060",
   "metadata": {},
   "outputs": [
    {
     "name": "stdout",
     "output_type": "stream",
     "text": [
      "HyperOpt 최적 파라미터 적용: 0.958041958041958\n",
      "HyperOpt 최적 파라미터 적용: 0.958041958041958\n"
     ]
    }
   ],
   "source": [
    "xgb_hpopt.fit(X_train, y_train)\n",
    "xgb_optuna.fit(X_train, y_train)\n",
    "\n",
    "hpopt_pred = xgb_hpopt.predict(X_test)\n",
    "optuna_pred = xgb_optuna.predict(X_test)\n",
    "\n",
    "print(f'HyperOpt 최적 파라미터 적용: {accuracy_score(y_test, hpopt_pred)}')\n",
    "print(f'HyperOpt 최적 파라미터 적용: {accuracy_score(y_test, optuna_pred)}')"
   ]
  },
  {
   "cell_type": "code",
   "execution_count": null,
   "id": "126fe83b",
   "metadata": {},
   "outputs": [],
   "source": []
  }
 ],
 "metadata": {
  "kernelspec": {
   "display_name": "ml_env",
   "language": "python",
   "name": "python3"
  },
  "language_info": {
   "codemirror_mode": {
    "name": "ipython",
    "version": 3
   },
   "file_extension": ".py",
   "mimetype": "text/x-python",
   "name": "python",
   "nbconvert_exporter": "python",
   "pygments_lexer": "ipython3",
   "version": "3.12.11"
  }
 },
 "nbformat": 4,
 "nbformat_minor": 5
}
