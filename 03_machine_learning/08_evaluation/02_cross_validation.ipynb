{
 "cells": [
  {
   "cell_type": "code",
   "execution_count": null,
   "id": "4d35a95c",
   "metadata": {},
   "outputs": [],
   "source": []
  },
  {
   "cell_type": "markdown",
   "id": "7ca50f14",
   "metadata": {},
   "source": [
    "# Stratified K Fold"
   ]
  },
  {
   "cell_type": "code",
   "execution_count": 2,
   "id": "3d15af79",
   "metadata": {},
   "outputs": [],
   "source": [
    "import numpy as np\n",
    "import pandas as pd"
   ]
  },
  {
   "cell_type": "code",
   "execution_count": null,
   "id": "8a962500",
   "metadata": {},
   "outputs": [],
   "source": []
  },
  {
   "cell_type": "code",
   "execution_count": null,
   "id": "33160a89",
   "metadata": {},
   "outputs": [],
   "source": [
    "from sklearn.model_selection import StratifiedGroupKFold\n",
    "from sklearn.linear_model import LogisticRegression\n",
    "from sklearn.metrics import accuracy_score\n",
    "from sklearn.datasets import load_iris\n",
    "\n",
    "# 데이터 로드\n",
    "iris_data = load_iris()\n",
    "iris_input = iris_data.data\n",
    "iris_target = iris_data.target\n",
    "\n",
    "# 모델 생성\n",
    "lr_clf = LogisticRegression()\n",
    "\n",
    "# 교차 검증 Stratified K Fold 객체 생성\n",
    "# Stratified K Fold 는 classification에만 가능 회귀엔 클래스가 없으니\n",
    "# K Fold 써야 하는데 셔플기능없음. 쓸거면 따로 구현해야 함\n",
    "stratified_kfold = StratifiedGroupKFold(n_splits=5, shuffle=True, random_state=42)\n"
   ]
  },
  {
   "cell_type": "code",
   "execution_count": 6,
   "id": "4bd61743",
   "metadata": {},
   "outputs": [
    {
     "name": "stdout",
     "output_type": "stream",
     "text": [
      "훈련별 정확도:  [0.96666667 1.         0.93333333 0.96666667 1.        ]\n",
      "모델 정확도 0.9733333333333334\n"
     ]
    },
    {
     "name": "stderr",
     "output_type": "stream",
     "text": [
      "c:\\Users\\Playdata\\anaconda3\\envs\\ml_env\\Lib\\site-packages\\sklearn\\linear_model\\_logistic.py:473: ConvergenceWarning: lbfgs failed to converge after 100 iteration(s) (status=1):\n",
      "STOP: TOTAL NO. OF ITERATIONS REACHED LIMIT\n",
      "\n",
      "Increase the number of iterations to improve the convergence (max_iter=100).\n",
      "You might also want to scale the data as shown in:\n",
      "    https://scikit-learn.org/stable/modules/preprocessing.html\n",
      "Please also refer to the documentation for alternative solver options:\n",
      "    https://scikit-learn.org/stable/modules/linear_model.html#logistic-regression\n",
      "  n_iter_i = _check_optimize_result(\n"
     ]
    }
   ],
   "source": [
    "from sklearn.model_selection import cross_val_score\n",
    "\n",
    "# 첫번째 인자: 모델\n",
    "# 두번째 인자: 특성 데이터\n",
    "# 세번째 인자: 라벨 데이터\n",
    "# cv: cross validate 반복 횟수 (KFold 사용, KFold말고 stratifiedKFold 객체 전달가능)\n",
    "# scoring: 평가 지표(accuracy, precision, recall, f1)\n",
    "# 반환값 = 반복한 훈련별 검증 점수 리스트\n",
    "scores = cross_val_score(lr_clf, iris_input, iris_target, cv=5, scoring='accuracy')\n",
    "\n",
    "print(\"훈련별 정확도: \", scores)\n",
    "print(\"모델 정확도\", np.mean(scores))"
   ]
  },
  {
   "cell_type": "code",
   "execution_count": 8,
   "id": "d5a322c4",
   "metadata": {},
   "outputs": [
    {
     "data": {
      "text/plain": [
       "{'fit_time': array([0.04887199, 0.04168844, 0.02467084, 0.02415538, 0.04089117]),\n",
       " 'score_time': array([0.        , 0.00806046, 0.        , 0.00811148, 0.        ]),\n",
       " 'test_accuracy': array([0.96666667, 1.        , 0.93333333, 0.96666667, 1.        ]),\n",
       " 'train_accuracy': array([0.96666667, 0.96666667, 0.98333333, 0.98333333, 0.975     ]),\n",
       " 'test_f1_macro': array([0.96658312, 1.        , 0.93265993, 0.96658312, 1.        ]),\n",
       " 'train_f1_macro': array([0.96664582, 0.96664582, 0.98333333, 0.98332291, 0.97499609])}"
      ]
     },
     "execution_count": 8,
     "metadata": {},
     "output_type": "execute_result"
    }
   ],
   "source": [
    "from sklearn.model_selection import cross_validate\n",
    "\n",
    "# 모델 객체\n",
    "lr_clf = LogisticRegression(max_iter=1000)\n",
    "\n",
    "# cross_validate는 다중 scoring 지표 사용가능 \n",
    "cross_validate(lr_clf, iris_input, iris_target, cv=5, scoring=['accuracy', 'f1_macro'], return_train_score=True)"
   ]
  },
  {
   "cell_type": "code",
   "execution_count": null,
   "id": "bf62b7b7",
   "metadata": {},
   "outputs": [],
   "source": []
  }
 ],
 "metadata": {
  "kernelspec": {
   "display_name": "ml_env",
   "language": "python",
   "name": "python3"
  },
  "language_info": {
   "codemirror_mode": {
    "name": "ipython",
    "version": 3
   },
   "file_extension": ".py",
   "mimetype": "text/x-python",
   "name": "python",
   "nbconvert_exporter": "python",
   "pygments_lexer": "ipython3",
   "version": "3.12.11"
  }
 },
 "nbformat": 4,
 "nbformat_minor": 5
}
