{
 "cells": [
  {
   "cell_type": "markdown",
   "id": "57080550",
   "metadata": {},
   "source": [
    "### SMOTE 적용"
   ]
  },
  {
   "cell_type": "code",
   "execution_count": 1,
   "id": "73a3b47d",
   "metadata": {},
   "outputs": [
    {
     "name": "stdout",
     "output_type": "stream",
     "text": [
      "Collecting imbalanced-learn\n",
      "  Downloading imbalanced_learn-0.14.0-py3-none-any.whl.metadata (8.8 kB)\n",
      "Requirement already satisfied: numpy<3,>=1.25.2 in c:\\users\\playdata\\anaconda3\\envs\\ml_env\\lib\\site-packages (from imbalanced-learn) (2.3.3)\n",
      "Requirement already satisfied: scipy<2,>=1.11.4 in c:\\users\\playdata\\anaconda3\\envs\\ml_env\\lib\\site-packages (from imbalanced-learn) (1.16.1)\n",
      "Requirement already satisfied: scikit-learn<2,>=1.4.2 in c:\\users\\playdata\\anaconda3\\envs\\ml_env\\lib\\site-packages (from imbalanced-learn) (1.7.2)\n",
      "Requirement already satisfied: joblib<2,>=1.2.0 in c:\\users\\playdata\\anaconda3\\envs\\ml_env\\lib\\site-packages (from imbalanced-learn) (1.5.2)\n",
      "Requirement already satisfied: threadpoolctl<4,>=2.0.0 in c:\\users\\playdata\\anaconda3\\envs\\ml_env\\lib\\site-packages (from imbalanced-learn) (3.6.0)\n",
      "Downloading imbalanced_learn-0.14.0-py3-none-any.whl (239 kB)\n",
      "Installing collected packages: imbalanced-learn\n",
      "Successfully installed imbalanced-learn-0.14.0\n"
     ]
    }
   ],
   "source": [
    "!pip install imbalanced-learn"
   ]
  },
  {
   "cell_type": "markdown",
   "id": "c1aec660",
   "metadata": {},
   "source": [
    "##### **📌 `imblearn` (imbalanced-learn) 패키지**\n",
    "**주요 기능**\n",
    "1. **오버샘플링(Over-sampling)** → 소수 클래스 데이터 샘플을 증가시킴  \n",
    "   - `SMOTE` (Synthetic Minority Over-sampling Technique)  \n",
    "   - `ADASYN` (Adaptive Synthetic Sampling)  \n",
    "\n",
    "2. **언더샘플링(Under-sampling)** → 다수 클래스 데이터 샘플을 줄임  \n",
    "   - `RandomUnderSampler`  \n",
    "   - `NearMiss`  \n",
    "\n",
    "3. **앙상블 기법(Ensemble Methods)**  \n",
    "   - `BalancedBaggingClassifier` → 클래스 균형을 유지하며 배깅 적용  \n",
    "   - `BalancedRandomForestClassifier` → 불균형 데이터에 최적화된 랜덤 포레스트  \n",
    "\n",
    "4. **SMOTE 변형 기법**  \n",
    "   - `BorderlineSMOTE` → 경계선 샘플만 증강  \n",
    "   - `SMOTENC` → 범주형 데이터를 포함한 SMOTE "
   ]
  },
  {
   "cell_type": "code",
   "execution_count": 2,
   "id": "d59121fa",
   "metadata": {},
   "outputs": [
    {
     "name": "stdout",
     "output_type": "stream",
     "text": [
      "before SMOTE: [897 103]\n",
      "After SMOTE: [897 897]\n",
      "(1000, 20) (1000,)\n",
      "(1794, 20) (1794,)\n"
     ]
    }
   ],
   "source": [
    "import numpy as np\n",
    "from imblearn.over_sampling import SMOTE\n",
    "from sklearn.datasets import make_classification\n",
    "\n",
    "X, y = make_classification(\n",
    "    n_classes = 2,\n",
    "    weights = [0.9, 0.1],\n",
    "    n_samples = 1000,\n",
    "    random_state=42\n",
    ")\n",
    "\n",
    "print(f\"before SMOTE: {np.bincount(y)}\")\n",
    "\n",
    "smote = SMOTE(random_state=42)\n",
    "X_resample, y_resample = smote.fit_resample(X, y)\n",
    "\n",
    "print(f'After SMOTE: {np.bincount(y_resample)}')\n",
    "print(X.shape, y.shape)\n",
    "print(X_resample.shape, y_resample.shape)\n"
   ]
  },
  {
   "cell_type": "code",
   "execution_count": null,
   "id": "5da0c2c6",
   "metadata": {},
   "outputs": [
    {
     "name": "stdout",
     "output_type": "stream",
     "text": [
      "              precision    recall  f1-score   support\n",
      "\n",
      "           0       0.98      1.00      0.99       179\n",
      "           1       1.00      0.86      0.92        21\n",
      "\n",
      "    accuracy                           0.98       200\n",
      "   macro avg       0.99      0.93      0.96       200\n",
      "weighted avg       0.99      0.98      0.98       200\n",
      "\n"
     ]
    }
   ],
   "source": [
    "from sklearn.model_selection import train_test_split\n",
    "from sklearn.metrics import classification_report\n",
    "from sklearn.ensemble import RandomForestClassifier\n",
    "\n",
    "X_train, X_test, y_train, y_test = train_test_split(X, y, test_size=0.2, stratify=y)\n",
    "\n",
    "model = RandomForestClassifier(random_state=0)\n",
    "model.fit(X_train, y_train)\n",
    "\n",
    "y_pred = model.predict(X_test)\n",
    "print(classification_report(y_test, y_pred))"
   ]
  },
  {
   "cell_type": "code",
   "execution_count": 4,
   "id": "582663eb",
   "metadata": {},
   "outputs": [
    {
     "name": "stdout",
     "output_type": "stream",
     "text": [
      "              precision    recall  f1-score   support\n",
      "\n",
      "           0       0.95      0.96      0.95       165\n",
      "           1       0.96      0.95      0.96       194\n",
      "\n",
      "    accuracy                           0.96       359\n",
      "   macro avg       0.95      0.96      0.96       359\n",
      "weighted avg       0.96      0.96      0.96       359\n",
      "\n"
     ]
    }
   ],
   "source": [
    "X_train, X_test, y_train, y_test = train_test_split(X_resample, y_resample, test_size=0.2)\n",
    "\n",
    "model = RandomForestClassifier(random_state=0)\n",
    "model.fit(X_train, y_train)\n",
    "\n",
    "y_pred = model.predict(X_test)\n",
    "print(classification_report(y_test, y_pred))"
   ]
  }
 ],
 "metadata": {
  "kernelspec": {
   "display_name": "ml_env",
   "language": "python",
   "name": "python3"
  },
  "language_info": {
   "codemirror_mode": {
    "name": "ipython",
    "version": 3
   },
   "file_extension": ".py",
   "mimetype": "text/x-python",
   "name": "python",
   "nbconvert_exporter": "python",
   "pygments_lexer": "ipython3",
   "version": "3.12.11"
  }
 },
 "nbformat": 4,
 "nbformat_minor": 5
}
