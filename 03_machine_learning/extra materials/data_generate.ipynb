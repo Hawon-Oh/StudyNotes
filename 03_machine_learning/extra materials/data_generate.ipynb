{
 "cells": [
  {
   "cell_type": "markdown",
   "id": "1cd1260d",
   "metadata": {},
   "source": [
    "### Faker: 데이터 생성 라이브러리"
   ]
  },
  {
   "cell_type": "code",
   "execution_count": 1,
   "id": "026a4fa8",
   "metadata": {},
   "outputs": [
    {
     "name": "stdout",
     "output_type": "stream",
     "text": [
      "Requirement already satisfied: Faker in c:\\users\\playdata\\anaconda3\\envs\\ml_env\\lib\\site-packages (37.8.0)\n",
      "Requirement already satisfied: tzdata in c:\\users\\playdata\\anaconda3\\envs\\ml_env\\lib\\site-packages (from Faker) (2025.2)\n"
     ]
    }
   ],
   "source": [
    "!pip install Faker"
   ]
  },
  {
   "cell_type": "code",
   "execution_count": 4,
   "id": "f809ebe8",
   "metadata": {},
   "outputs": [
    {
     "name": "stdout",
     "output_type": "stream",
     "text": [
      "Wendy Gutierrez\n",
      "Heather Barker\n",
      "matthew64@example.com\n",
      "Walters Inc\n",
      "1989-08-07\n"
     ]
    }
   ],
   "source": [
    "from faker import Faker\n",
    "\n",
    "faker = Faker()\n",
    "\n",
    "print(faker.name())\n",
    "print(faker.first_name() + \" \" + faker.last_name())\n",
    "print(faker.email())\n",
    "print(faker.company())\n",
    "print(faker.date_of_birth(minimum_age=19, maximum_age=90))"
   ]
  },
  {
   "cell_type": "code",
   "execution_count": 8,
   "id": "b14a20ad",
   "metadata": {},
   "outputs": [],
   "source": [
    "import pandas as pd\n",
    "import random\n",
    "\n",
    "fake = Faker()\n",
    "data =[]\n",
    "def generate_customer_data(n=100):\n",
    "    for _ in range(n):\n",
    "        age = fake.random_int(min=19, max= 90)\n",
    "        sub_months = fake.random_int(min=1, max=120)\n",
    "        monthly_payment = round(random.uniform(10, 100), 2) # 소수점 2번째 자리까지 round\n",
    "        usage_frequency = fake.random_int(min=1, max=30)\n",
    "        satisfaction_score = fake.random_int(min=0, max=5)\n",
    "        churn = fake.boolean(chance_of_getting_true=30)\n",
    "        \n",
    "        data.append([age, sub_months, monthly_payment, usage_frequency, satisfaction_score, churn])\n",
    "    \n",
    "    columns = ['AGE', 'SUB_MONTHS', 'MONTHLY_PAYMENT', 'USAGE_FEQ', 'SATISFACTION', 'CHURN']\n",
    "\n",
    "    return pd.DataFrame(data, columns=columns)\n",
    "\n"
   ]
  },
  {
   "cell_type": "code",
   "execution_count": 9,
   "id": "1e982d40",
   "metadata": {},
   "outputs": [
    {
     "data": {
      "text/html": [
       "<div>\n",
       "<style scoped>\n",
       "    .dataframe tbody tr th:only-of-type {\n",
       "        vertical-align: middle;\n",
       "    }\n",
       "\n",
       "    .dataframe tbody tr th {\n",
       "        vertical-align: top;\n",
       "    }\n",
       "\n",
       "    .dataframe thead th {\n",
       "        text-align: right;\n",
       "    }\n",
       "</style>\n",
       "<table border=\"1\" class=\"dataframe\">\n",
       "  <thead>\n",
       "    <tr style=\"text-align: right;\">\n",
       "      <th></th>\n",
       "      <th>AGE</th>\n",
       "      <th>SUB_MONTHS</th>\n",
       "      <th>MONTHLY_PAYMENT</th>\n",
       "      <th>USAGE_FEQ</th>\n",
       "      <th>SATISFACTION</th>\n",
       "      <th>CHURN</th>\n",
       "    </tr>\n",
       "  </thead>\n",
       "  <tbody>\n",
       "    <tr>\n",
       "      <th>0</th>\n",
       "      <td>49</td>\n",
       "      <td>105</td>\n",
       "      <td>65.15</td>\n",
       "      <td>25</td>\n",
       "      <td>0</td>\n",
       "      <td>False</td>\n",
       "    </tr>\n",
       "    <tr>\n",
       "      <th>1</th>\n",
       "      <td>28</td>\n",
       "      <td>12</td>\n",
       "      <td>55.17</td>\n",
       "      <td>22</td>\n",
       "      <td>0</td>\n",
       "      <td>True</td>\n",
       "    </tr>\n",
       "    <tr>\n",
       "      <th>2</th>\n",
       "      <td>33</td>\n",
       "      <td>73</td>\n",
       "      <td>68.65</td>\n",
       "      <td>21</td>\n",
       "      <td>2</td>\n",
       "      <td>True</td>\n",
       "    </tr>\n",
       "    <tr>\n",
       "      <th>3</th>\n",
       "      <td>89</td>\n",
       "      <td>89</td>\n",
       "      <td>84.26</td>\n",
       "      <td>23</td>\n",
       "      <td>4</td>\n",
       "      <td>True</td>\n",
       "    </tr>\n",
       "    <tr>\n",
       "      <th>4</th>\n",
       "      <td>90</td>\n",
       "      <td>17</td>\n",
       "      <td>70.09</td>\n",
       "      <td>5</td>\n",
       "      <td>3</td>\n",
       "      <td>False</td>\n",
       "    </tr>\n",
       "    <tr>\n",
       "      <th>...</th>\n",
       "      <td>...</td>\n",
       "      <td>...</td>\n",
       "      <td>...</td>\n",
       "      <td>...</td>\n",
       "      <td>...</td>\n",
       "      <td>...</td>\n",
       "    </tr>\n",
       "    <tr>\n",
       "      <th>199995</th>\n",
       "      <td>33</td>\n",
       "      <td>64</td>\n",
       "      <td>61.61</td>\n",
       "      <td>8</td>\n",
       "      <td>1</td>\n",
       "      <td>False</td>\n",
       "    </tr>\n",
       "    <tr>\n",
       "      <th>199996</th>\n",
       "      <td>83</td>\n",
       "      <td>46</td>\n",
       "      <td>33.59</td>\n",
       "      <td>28</td>\n",
       "      <td>4</td>\n",
       "      <td>False</td>\n",
       "    </tr>\n",
       "    <tr>\n",
       "      <th>199997</th>\n",
       "      <td>77</td>\n",
       "      <td>9</td>\n",
       "      <td>43.95</td>\n",
       "      <td>4</td>\n",
       "      <td>1</td>\n",
       "      <td>False</td>\n",
       "    </tr>\n",
       "    <tr>\n",
       "      <th>199998</th>\n",
       "      <td>47</td>\n",
       "      <td>111</td>\n",
       "      <td>45.14</td>\n",
       "      <td>18</td>\n",
       "      <td>5</td>\n",
       "      <td>True</td>\n",
       "    </tr>\n",
       "    <tr>\n",
       "      <th>199999</th>\n",
       "      <td>56</td>\n",
       "      <td>97</td>\n",
       "      <td>69.80</td>\n",
       "      <td>22</td>\n",
       "      <td>0</td>\n",
       "      <td>True</td>\n",
       "    </tr>\n",
       "  </tbody>\n",
       "</table>\n",
       "<p>200000 rows × 6 columns</p>\n",
       "</div>"
      ],
      "text/plain": [
       "        AGE  SUB_MONTHS  MONTHLY_PAYMENT  USAGE_FEQ  SATISFACTION  CHURN\n",
       "0        49         105            65.15         25             0  False\n",
       "1        28          12            55.17         22             0   True\n",
       "2        33          73            68.65         21             2   True\n",
       "3        89          89            84.26         23             4   True\n",
       "4        90          17            70.09          5             3  False\n",
       "...     ...         ...              ...        ...           ...    ...\n",
       "199995   33          64            61.61          8             1  False\n",
       "199996   83          46            33.59         28             4  False\n",
       "199997   77           9            43.95          4             1  False\n",
       "199998   47         111            45.14         18             5   True\n",
       "199999   56          97            69.80         22             0   True\n",
       "\n",
       "[200000 rows x 6 columns]"
      ]
     },
     "execution_count": 9,
     "metadata": {},
     "output_type": "execute_result"
    }
   ],
   "source": [
    "customer_df = generate_customer_data(200000)\n",
    "customer_df"
   ]
  },
  {
   "cell_type": "code",
   "execution_count": null,
   "id": "0c334b34",
   "metadata": {},
   "outputs": [],
   "source": [
    "customer_df.to_csv('fake_customer_data.csv', index=False)"
   ]
  },
  {
   "cell_type": "code",
   "execution_count": null,
   "id": "2cdf38e5",
   "metadata": {},
   "outputs": [],
   "source": []
  }
 ],
 "metadata": {
  "kernelspec": {
   "display_name": "ml_env",
   "language": "python",
   "name": "python3"
  },
  "language_info": {
   "codemirror_mode": {
    "name": "ipython",
    "version": 3
   },
   "file_extension": ".py",
   "mimetype": "text/x-python",
   "name": "python",
   "nbconvert_exporter": "python",
   "pygments_lexer": "ipython3",
   "version": "3.12.11"
  }
 },
 "nbformat": 4,
 "nbformat_minor": 5
}
