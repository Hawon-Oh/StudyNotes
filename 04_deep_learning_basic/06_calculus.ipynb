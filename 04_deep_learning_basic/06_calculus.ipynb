{
 "cells": [
  {
   "cell_type": "markdown",
   "id": "c122e58b",
   "metadata": {},
   "source": []
  },
  {
   "cell_type": "markdown",
   "id": "b4a929da",
   "metadata": {},
   "source": [
    "미분과 수치미분 개념\n",
    "\n",
    "**수학적 미분 (Analytical Differentiation)**\n",
    "\n",
    "$$\n",
    "f(x) = x^2 \\Rightarrow f'(x) = 2x\n",
    "$$\n",
    "\n",
    "* 수학적으로 정확한 **도함수**를 구함\n",
    "* 함수의 변화율을 계산하는 공식 기반 미분\n",
    "\n",
    "**수치미분 (Numerical Differentiation)**\n",
    "$$\n",
    "f'(x) \\approx \\frac{f(x+h) - f(x-h)}{2h}\n",
    "$$\n",
    "* 도함수를 직접 구하지 않고, **근사값으로 기울기를 계산**\n",
    "* 여기서 $h$는 아주 작은 수 (예: $h = 1e-4$)\n",
    "* 실제 계산 과정을 코드로 볼 수 있어 **직관적**\n",
    "\n",
    "**미분 vs 수치미분 비교표**\n",
    "\n",
    "| 항목    | 수학적 미분 (Analytical) | 수치미분 (Numerical)          |\n",
    "| ----- | ------------------- | ------------------------- |\n",
    "| 정의 방식 | 공식에 따라 도함수 계산       | 근사값으로 기울기 계산              |\n",
    "| 정확도   | 매우 정확함              | 근사값, 오차 발생 가능             |\n",
    "| 속도    | 빠름                  | 느림 (함수값 여러 번 계산 필요)       |\n",
    "| 용도    | 모델 학습, 역전파 계산       | 디버깅, 검증용 (Gradient Check) |\n",
    "\n",
    "**수치미분 방식비교**\n",
    "\n",
    "> 중앙차분(Central Difference) 방식이 가장 보편적으로 사용된다.\n",
    "\n",
    "| 방식   | 수식                                           | 정확도    | 계산 비용 | 특징         |\n",
    "| ---- | -------------------------------------------- | ------ | ----- | ---------- |\n",
    "| 전진차분 | $f'(x) \\approx \\frac{f(x+h) - f(x)}{h}$    | 1차 정확도 | 낮음    | 간단하지만 오차 큼 |\n",
    "| 후진차분 | $f'(x) \\approx \\frac{f(x) - f(x-h)}{h}$    | 1차 정확도 | 낮음    | 전진과 비슷     |\n",
    "| 중앙차분 | $f'(x) \\approx \\frac{f(x+h) - f(x-h)}{2h}$ | 2차 정확도 | 높음    | 정확하고 균형잡힘  |\n"
   ]
  },
  {
   "cell_type": "code",
   "execution_count": 9,
   "id": "2d16a6cd",
   "metadata": {},
   "outputs": [],
   "source": [
    "import numpy as np"
   ]
  },
  {
   "cell_type": "markdown",
   "id": "2de2a499",
   "metadata": {},
   "source": [
    "### 1차원 함수의 수치미분"
   ]
  },
  {
   "cell_type": "code",
   "execution_count": 10,
   "id": "cd6a22f4",
   "metadata": {},
   "outputs": [
    {
     "name": "stdout",
     "output_type": "stream",
     "text": [
      "6.0\n",
      "6.000009999951316\n",
      "5.999990000127297\n",
      "6.000000000039306\n"
     ]
    }
   ],
   "source": [
    "def f(x):\n",
    "    return x ** 2\n",
    "\n",
    "def analytical_d(x):\n",
    "    return 2 * x\n",
    "\n",
    "def num_d_forward(f, x, h=1e-5):\n",
    "    return ((f(x + h)) - f(x)) / h\n",
    "\n",
    "def num_d_backward(f, x, h=1e-5):\n",
    "    return ((f(x) - f(x - h))) / h\n",
    "\n",
    "def num_d_central(f, x, h=1e-5):\n",
    "    return (f(x + h) - f(x - h)) / (2 * h)\n",
    "\n",
    "x = 3.0\n",
    "\n",
    "print(analytical_d(x))\n",
    "print(num_d_forward(f, x))\n",
    "print(num_d_backward(f, x))\n",
    "print(num_d_central(f, x))\n"
   ]
  },
  {
   "cell_type": "markdown",
   "id": "fee84bd6",
   "metadata": {},
   "source": [
    "### 다변수 함수의 수치 미분"
   ]
  },
  {
   "cell_type": "code",
   "execution_count": 11,
   "id": "2dab433f",
   "metadata": {},
   "outputs": [],
   "source": [
    "def f(x, y):\n",
    "    return x ** 2 + y ** 2\n",
    "\n",
    "def partial_d(f, x, y, var='x', h=1e-5):\n",
    "    if var == 'x':\n",
    "        return (f(x + h, y) - f(x - h, y)) / (2 * h)\n",
    "    else:\n",
    "        return (f(x, y + h) - f(x, y - h)) / (2 * h)\n",
    " "
   ]
  },
  {
   "cell_type": "code",
   "execution_count": 12,
   "id": "ff860178",
   "metadata": {},
   "outputs": [
    {
     "name": "stdout",
     "output_type": "stream",
     "text": [
      "6.000000000039306\n",
      "4.000000000026205\n"
     ]
    }
   ],
   "source": [
    "print(partial_d(f, 3.0, 2.0, var='x'))\n",
    "print(partial_d(f, 3.0, 2.0, var='y'))"
   ]
  },
  {
   "cell_type": "code",
   "execution_count": 13,
   "id": "78783adc",
   "metadata": {},
   "outputs": [],
   "source": [
    "def f_multi(x):\n",
    "    return np.sum(x ** 2)\n",
    "\n",
    "def analytical_gradient(x):\n",
    "    return 2 * x"
   ]
  },
  {
   "cell_type": "code",
   "execution_count": 15,
   "id": "40589761",
   "metadata": {},
   "outputs": [
    {
     "name": "stdout",
     "output_type": "stream",
     "text": [
      "[2. 4. 6.]\n",
      "[2. 4. 6.]\n"
     ]
    }
   ],
   "source": [
    "def num_d_gradient(f, x, h=1e-5):\n",
    "    grad = np.zeros_like(x)\n",
    "    for idx in range(len(x)):\n",
    "        tmp = x[idx]\n",
    "        x[idx] = tmp + h\n",
    "        f_plus = f(x)\n",
    "\n",
    "        x[idx] = tmp - h\n",
    "        f_minus = f(x)\n",
    "        \n",
    "        grad[idx] = (f_plus - f_minus) / (2 * h)\n",
    "        x[idx] = tmp\n",
    "    return grad\n",
    "\n",
    "x = np.array([1.0, 2.0, 3.0])\n",
    "print(analytical_gradient(x))\n",
    "print(num_d_gradient(f_multi, x))"
   ]
  },
  {
   "cell_type": "markdown",
   "id": "8ae53498",
   "metadata": {},
   "source": [
    "### 간단한 신경망의 기울기"
   ]
  },
  {
   "cell_type": "code",
   "execution_count": null,
   "id": "ac3031a4",
   "metadata": {},
   "outputs": [],
   "source": [
    "def sigmoid(z):\n",
    "    return 1 / (1 + np.exp(-z))\n",
    "\n",
    "def forward_pass(x, params):\n",
    "    W1, b1, W2, b2 = params\n",
    "    z1 = np.dot(x, W1) + b1\n",
    "    r1 = sigmoid(z1)\n",
    "    z2 = np.dot(r1, W2) + b2\n",
    "    r2 = sigmoid(z2)\n",
    "    return r2\n",
    "\n",
    "def loss(r2, y):\n",
    "    return 0.5 * np.sum((r2 - y) ** 2)\n",
    "\n",
    "def get_loss(params, x, y):\n",
    "    r2 = forward_pass(x, params)\n",
    "    return loss(r2, y)\n",
    "\n",
    "def num_d_gradient_params(f, params, x, y, h=1e-5):\n",
    "    grads = []\n",
    "\n",
    "    for param in params:\n",
    "        grad = np.zeros_like(param)\n",
    "        iter = np.nditer(param, flags=['multi_index'], op_flags=['readwrite'])\n",
    "\n",
    "\n",
    "        while not iter.finished:\n",
    "            idx = iter.multi_index\n",
    "            origin_val = param[idx]\n",
    "            param[idx] = origin_val + h\n",
    "            f_plus = f(params, x, y)\n",
    "            param[idx] = origin_val - h\n",
    "            f_minus = f(params, x, y)\n",
    "            grad[idx] = (f_plus - f_minus) / (2 * h)\n",
    "            param[idx] = origin_val\n",
    "            iter.iternext()\n",
    "\n",
    "        grads.append(grad)\n",
    "    return grads"
   ]
  },
  {
   "cell_type": "code",
   "execution_count": 18,
   "id": "b1aa5ea0",
   "metadata": {},
   "outputs": [
    {
     "name": "stdout",
     "output_type": "stream",
     "text": [
      "0번째 파라미터 수치 미분 기울기: \n",
      "[[-3.59076788e-04 -1.91454872e-04 -1.82558270e-03]\n",
      " [ 1.43630717e-04  7.65819482e-05  7.30233079e-04]]\n",
      "1번째 파라미터 수치 미분 기울기: \n",
      "[-0.00071815 -0.00038291 -0.00365117]\n",
      "2번째 파라미터 수치 미분 기울기: \n",
      "[[-0.00872872]\n",
      " [-0.00457938]\n",
      " [-0.00700196]]\n",
      "3번째 파라미터 수치 미분 기울기: \n",
      "[-0.01091606]\n"
     ]
    }
   ],
   "source": [
    "np.random.seed(0)\n",
    "input_size = 2\n",
    "hidden_size = 3\n",
    "output_size = 1\n",
    "\n",
    "W1 = np.random.randn(input_size, hidden_size)\n",
    "b1 = np.random.randn(hidden_size)\n",
    "W2 = np.random.randn(hidden_size, output_size)\n",
    "b2 = np.random.randn(output_size)\n",
    "params = [W1, b1, W2, b2]\n",
    "\n",
    "x = np.array([0.5, -0.2])\n",
    "y = np.array([1.0])\n",
    "\n",
    "num_grads = num_d_gradient_params(get_loss, params, x, y)\n",
    "\n",
    "for i, grad in enumerate(num_grads):\n",
    "    print(f'{i}번째 파라미터 수치 미분 기울기: \\n{grad}')"
   ]
  },
  {
   "cell_type": "markdown",
   "id": "55d352de",
   "metadata": {},
   "source": [
    "### h값에 따른 영향"
   ]
  },
  {
   "cell_type": "code",
   "execution_count": 19,
   "id": "d84f4f33",
   "metadata": {},
   "outputs": [],
   "source": [
    "def f(x):\n",
    "    return x ** 2\n",
    "\n",
    "def analytical_d(x):\n",
    "    return 2 * x\n",
    "\n",
    "def num_d_central(f, x, h=1e-5):\n",
    "    return (f(x + h) - f(x - h)) / (2 * h)\n",
    "\n",
    "x = 3.0\n",
    "h_values = np.logspace(-10, -1, 50)\n",
    "errors = []\n",
    "\n",
    "true_d = analytical_d(x)\n",
    "for h in h_values:\n",
    "    num_d = num_d_central(f, x, h)\n",
    "    error = np.abs(num_d - true_d)\n",
    "    errors.append(error)"
   ]
  },
  {
   "cell_type": "code",
   "execution_count": null,
   "id": "0ee07c11",
   "metadata": {},
   "outputs": [
    {
     "data": {
      "image/png": "[encoded data removed]",
      "text/plain": [
       "<Figure size 500x300 with 1 Axes>"
      ]
     },
     "metadata": {},
     "output_type": "display_data"
    }
   ],
   "source": [
    "import matplotlib.pyplot as plt\n",
    "\n",
    "plt.figure(figsize=(5, 3))\n",
    "plt.loglog(h_values, errors, marker='o') # x,y 축 모두 log 기준으로 (로그10)\n",
    "# plt.plot(h_values, errors, marker='o')\n",
    "plt.xlabel('h size')\n",
    "plt.ylabel('error')\n",
    "plt.grid(True)\n",
    "plt.show()"
   ]
  },
  {
   "cell_type": "markdown",
   "id": "4eded6ef",
   "metadata": {},
   "source": [
    "### 자동 미분"
   ]
  },
  {
   "cell_type": "code",
   "execution_count": 21,
   "id": "d836deac",
   "metadata": {},
   "outputs": [
    {
     "name": "stdout",
     "output_type": "stream",
     "text": [
      "6.0\n",
      "tensor(6.)\n"
     ]
    }
   ],
   "source": [
    "import torch\n",
    "x = torch.tensor(3.0, requires_grad=True)\n",
    "y = f(x)\n",
    "y.backward()\n",
    "\n",
    "print(analytical_d(3.0))\n",
    "print(x.grad)"
   ]
  },
  {
   "cell_type": "code",
   "execution_count": null,
   "id": "e1705f05",
   "metadata": {},
   "outputs": [],
   "source": []
  }
 ],
 "metadata": {
  "kernelspec": {
   "display_name": "ml_env",
   "language": "python",
   "name": "python3"
  },
  "language_info": {
   "codemirror_mode": {
    "name": "ipython",
    "version": 3
   },
   "file_extension": ".py",
   "mimetype": "text/x-python",
   "name": "python",
   "nbconvert_exporter": "python",
   "pygments_lexer": "ipython3",
   "version": "3.12.11"
  }
 },
 "nbformat": 4,
 "nbformat_minor": 5
}
