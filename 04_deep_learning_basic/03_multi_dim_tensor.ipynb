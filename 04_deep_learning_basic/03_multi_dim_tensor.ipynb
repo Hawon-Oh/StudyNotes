{
 "cells": [
  {
   "cell_type": "code",
   "execution_count": 2,
   "id": "beedc477",
   "metadata": {},
   "outputs": [
    {
     "name": "stdout",
     "output_type": "stream",
     "text": [
      "Requirement already satisfied: torch in c:\\users\\playdata\\anaconda3\\envs\\ml_env\\lib\\site-packages (2.8.0)\n",
      "Requirement already satisfied: torchvision in c:\\users\\playdata\\anaconda3\\envs\\ml_env\\lib\\site-packages (0.23.0)\n",
      "Requirement already satisfied: filelock in c:\\users\\playdata\\anaconda3\\envs\\ml_env\\lib\\site-packages (from torch) (3.19.1)\n",
      "Requirement already satisfied: typing-extensions>=4.10.0 in c:\\users\\playdata\\anaconda3\\envs\\ml_env\\lib\\site-packages (from torch) (4.15.0)\n",
      "Requirement already satisfied: sympy>=1.13.3 in c:\\users\\playdata\\anaconda3\\envs\\ml_env\\lib\\site-packages (from torch) (1.14.0)\n",
      "Requirement already satisfied: networkx in c:\\users\\playdata\\anaconda3\\envs\\ml_env\\lib\\site-packages (from torch) (3.5)\n",
      "Requirement already satisfied: jinja2 in c:\\users\\playdata\\anaconda3\\envs\\ml_env\\lib\\site-packages (from torch) (3.1.6)\n",
      "Requirement already satisfied: fsspec in c:\\users\\playdata\\anaconda3\\envs\\ml_env\\lib\\site-packages (from torch) (2025.9.0)\n",
      "Requirement already satisfied: setuptools in c:\\users\\playdata\\anaconda3\\envs\\ml_env\\lib\\site-packages (from torch) (78.1.1)\n",
      "Requirement already satisfied: numpy in c:\\users\\playdata\\anaconda3\\envs\\ml_env\\lib\\site-packages (from torchvision) (2.3.3)\n",
      "Requirement already satisfied: pillow!=8.3.*,>=5.3.0 in c:\\users\\playdata\\anaconda3\\envs\\ml_env\\lib\\site-packages (from torchvision) (11.3.0)\n",
      "Requirement already satisfied: mpmath<1.4,>=1.1.0 in c:\\users\\playdata\\anaconda3\\envs\\ml_env\\lib\\site-packages (from sympy>=1.13.3->torch) (1.3.0)\n",
      "Requirement already satisfied: MarkupSafe>=2.0 in c:\\users\\playdata\\anaconda3\\envs\\ml_env\\lib\\site-packages (from jinja2->torch) (3.0.2)\n"
     ]
    }
   ],
   "source": [
    "!pip3 install torch torchvision"
   ]
  },
  {
   "cell_type": "code",
   "execution_count": 3,
   "id": "7e8ed86f",
   "metadata": {},
   "outputs": [
    {
     "name": "stdout",
     "output_type": "stream",
     "text": [
      "tensor([1., 2., 3.])\n",
      "torch.float32\n",
      "torch.Size([3])\n",
      "torch.Size([3])\n",
      "1\n",
      "cpu\n"
     ]
    }
   ],
   "source": [
    "import torch\n",
    "\n",
    "t1 = torch.tensor([1, 2, 3], dtype=torch.float)\n",
    "print(t1)\n",
    "print(t1.dtype)\n",
    "print(t1.shape)\n",
    "print(t1.size())\n",
    "print(t1.dim()) # 깊이\n",
    "print(t1.device)"
   ]
  },
  {
   "cell_type": "code",
   "execution_count": 4,
   "id": "f91d6688",
   "metadata": {},
   "outputs": [
    {
     "name": "stdout",
     "output_type": "stream",
     "text": [
      "tensor([[1., 2., 3.],\n",
      "        [4., 5., 6.]])\n",
      "<class 'torch.Tensor'>\n",
      "torch.float32\n",
      "torch.Size([2, 3])\n",
      "torch.Size([2, 3])\n",
      "2\n",
      "cpu\n"
     ]
    }
   ],
   "source": [
    "t2 = torch.tensor([[1, 2, 3], [4, 5, 6]], dtype=torch.float)\n",
    "print(t2)\n",
    "print(t2.__class__)\n",
    "print(t2.dtype)\n",
    "print(t2.shape)\n",
    "print(t2.size())\n",
    "print(t2.dim()) # 깊이\n",
    "print(t2.device)"
   ]
  },
  {
   "cell_type": "code",
   "execution_count": 5,
   "id": "aa1d6730",
   "metadata": {},
   "outputs": [
    {
     "name": "stdout",
     "output_type": "stream",
     "text": [
      "tensor([[1., 1., 1.],\n",
      "        [1., 1., 1.]])\n",
      "tensor([[0., 0., 0.],\n",
      "        [0., 0., 0.]])\n",
      "tensor([[0, 0, 0],\n",
      "        [0, 0, 0]])\n",
      "tensor([[1, 1, 1],\n",
      "        [1, 1, 1]])\n"
     ]
    }
   ],
   "source": [
    "# 0 또는 1로 tensor 생성\n",
    "print(torch.ones(2, 3)) # 자료형 float32\n",
    "print(torch.zeros(2, 3))\n",
    "\n",
    "x = torch.tensor([[1,2,3], [4,5,6]])\n",
    "print(torch.zeros_like(x))\n",
    "print(torch.ones_like(x))"
   ]
  },
  {
   "cell_type": "code",
   "execution_count": 6,
   "id": "cc3bbc2f",
   "metadata": {},
   "outputs": [
    {
     "name": "stdout",
     "output_type": "stream",
     "text": [
      "tensor([[10.6109, 11.4784],\n",
      "        [10.2164,  9.3147]])\n",
      "tensor([[0.8601, 0.0787],\n",
      "        [0.0531, 0.7136]])\n",
      "tensor([[0.2276, 0.5668, 0.7796],\n",
      "        [0.5401, 0.7075, 0.7816]])\n"
     ]
    }
   ],
   "source": [
    "# 난수 생성\n",
    "# - 정규분포\n",
    "print(torch.normal(10, 1, (2, 2)))\n",
    "print(torch.rand((2, 2)))\n",
    "print(torch.rand_like(x.float()))\n",
    "\n",
    "\n",
    "# 균등분포\n",
    "\n",
    "# 그 외"
   ]
  },
  {
   "cell_type": "code",
   "execution_count": 7,
   "id": "5dffe4bb",
   "metadata": {},
   "outputs": [
    {
     "name": "stdout",
     "output_type": "stream",
     "text": [
      "tensor([[2.3694e-38, 0.0000e+00],\n",
      "        [0.0000e+00, 0.0000e+00]])\n"
     ]
    }
   ],
   "source": [
    "# uninitialized 데이터 반환\n",
    "print(torch.empty(size=(2, 2)))"
   ]
  },
  {
   "cell_type": "code",
   "execution_count": 8,
   "id": "c1c653b9",
   "metadata": {},
   "outputs": [
    {
     "name": "stdout",
     "output_type": "stream",
     "text": [
      "[1 2 3] <class 'numpy.ndarray'>\n",
      "tensor([1, 2, 3]) <class 'torch.Tensor'>\n",
      "[1 2 3] <class 'numpy.ndarray'>\n"
     ]
    }
   ],
   "source": [
    "# numpy ndarray 호환\n",
    "import numpy as np\n",
    "\n",
    "x = np.array([1, 2, 3])\n",
    "print(x, type(x))\n",
    "\n",
    "t = torch.from_numpy(x)\n",
    "print(t, type(t))\n",
    "\n",
    "# 넘파이는 CPU 기반이라 파이썬의 텐서를 써야하나 이미지 같은거 쓸때 가끔 ndarray가 필요함\n",
    "x2 = t.numpy()\n",
    "print(x2, type(x2))"
   ]
  },
  {
   "cell_type": "code",
   "execution_count": 9,
   "id": "7ea14986",
   "metadata": {},
   "outputs": [
    {
     "name": "stdout",
     "output_type": "stream",
     "text": [
      "torch.Size([2, 3]) torch.Size([2, 3]) torch.Size([3, 2])\n"
     ]
    }
   ],
   "source": [
    "### 연산\n",
    "a = torch.tensor([[1,2,3],[4,5,6]], dtype=torch.float)\n",
    "b = torch.tensor([[7,8,9],[10,11,12]], dtype=torch.float)\n",
    "c = torch.tensor([[1,2],[3,4],[5,6]], dtype=torch.float)\n",
    "\n",
    "print(a.shape, b.shape, c.shape)"
   ]
  },
  {
   "cell_type": "code",
   "execution_count": 10,
   "id": "d87f86fe",
   "metadata": {},
   "outputs": [
    {
     "name": "stdout",
     "output_type": "stream",
     "text": [
      "tensor([[ 8., 10., 12.],\n",
      "        [14., 16., 18.]])\n",
      "tensor([[-6., -6., -6.],\n",
      "        [-6., -6., -6.]])\n",
      "tensor([[ 7., 16., 27.],\n",
      "        [40., 55., 72.]])\n",
      "tensor([[0.1429, 0.2500, 0.3333],\n",
      "        [0.4000, 0.4545, 0.5000]])\n",
      "tensor([[0., 0., 0.],\n",
      "        [0., 0., 0.]])\n",
      "tensor([[1., 2., 3.],\n",
      "        [4., 5., 6.]])\n"
     ]
    }
   ],
   "source": [
    "# 같은 shape끼리 연산\n",
    "print(a + b)\n",
    "print(a - b)\n",
    "print(a * b)\n",
    "print(a / b)\n",
    "print(a // b)\n",
    "print(a % b)"
   ]
  },
  {
   "cell_type": "code",
   "execution_count": 11,
   "id": "78365e82",
   "metadata": {},
   "outputs": [
    {
     "name": "stdout",
     "output_type": "stream",
     "text": [
      "tensor([[2., 3., 4.],\n",
      "        [5., 6., 7.]])\n",
      "tensor([[11., 22., 33.],\n",
      "        [14., 25., 36.]])\n"
     ]
    }
   ],
   "source": [
    "# broadcasting 연산\n",
    "print(a + 1)\n",
    "print(a + torch.tensor([10, 20, 30]))\n",
    "# print(a + torch.tensor([10, 20])) # 마지막 축부터 검사: 1 또는 숫자가 같지 않은 경우 브로드캐스팅 불가"
   ]
  },
  {
   "cell_type": "code",
   "execution_count": 12,
   "id": "10db38c2",
   "metadata": {},
   "outputs": [
    {
     "name": "stdout",
     "output_type": "stream",
     "text": [
      "tensor(32)\n",
      "tensor(32)\n",
      "tensor(32)\n",
      "tensor(32)\n",
      "tensor([[22., 28.],\n",
      "        [49., 64.]])\n",
      "tensor([[22., 28.],\n",
      "        [49., 64.]])\n"
     ]
    }
   ],
   "source": [
    "# 내적 (모든 원소간의 곱을 더하기)\n",
    "# - 1차원: torch.dot(), torch.matmul(), @\n",
    "# - 2차원이상: torch.dot은 불가, torch.matmul(), @ 만 가능\n",
    "\n",
    "# 1차원\n",
    "m = torch.tensor([1, 2, 3])\n",
    "n = torch.tensor([4, 5, 6])\n",
    "print(m.dot(n))\n",
    "print(torch.dot(m, n))\n",
    "print(torch.matmul(m, n))\n",
    "print(m @ n)\n",
    "\n",
    "# 2차원 이상\n",
    "print(torch.matmul(a, c))\n",
    "print(a @ c)\n",
    "# print(torch.dot(a, c)) # 에러남"
   ]
  },
  {
   "cell_type": "markdown",
   "id": "3f80f8dc",
   "metadata": {},
   "source": [
    "# 통계연산\n",
    "- 축을 지정해서 연산하는 sum, mean, max, min 등"
   ]
  },
  {
   "cell_type": "code",
   "execution_count": 13,
   "id": "5f3e009e",
   "metadata": {},
   "outputs": [
    {
     "name": "stdout",
     "output_type": "stream",
     "text": [
      "tensor([[1., 2., 3.],\n",
      "        [4., 5., 6.]])\n",
      "tensor([5., 7., 9.])\n",
      "tensor([ 6., 15.])\n",
      "tensor(21.)\n"
     ]
    }
   ],
   "source": [
    "# 합계\n",
    "print(a)\n",
    "print(torch.sum(a, dim=0))\n",
    "print(torch.sum(a, dim=1))\n",
    "print(torch.sum(a, dim=None))\n",
    "# print(torch.sum(a, axis=0)) # axis도 에러는 안나지만 dim 권장"
   ]
  },
  {
   "cell_type": "markdown",
   "id": "4ed2a7ba",
   "metadata": {},
   "source": [
    "### 형변환\n",
    "- astype 대신 해당 자료형 메서드 호출"
   ]
  },
  {
   "cell_type": "code",
   "execution_count": 14,
   "id": "a7020d21",
   "metadata": {},
   "outputs": [
    {
     "name": "stdout",
     "output_type": "stream",
     "text": [
      "tensor([1, 2, 3]) torch.int64\n",
      "tensor([1., 2., 3.]) torch.float32\n",
      "tensor([1., 2., 3.], dtype=torch.float64) torch.float64\n",
      "tensor([1, 2, 3], dtype=torch.int32) torch.int32\n",
      "tensor([1, 2, 3]) torch.int64\n"
     ]
    }
   ],
   "source": [
    "x = torch.tensor([1, 2, 3])\n",
    "print(x, x.dtype)\n",
    "\n",
    "print(x.float(), x.float().dtype)\n",
    "print(x.double(), x.double().dtype)\n",
    "print(x.int(), x.int().dtype)\n",
    "print(x.long(), x.long().dtype)"
   ]
  },
  {
   "cell_type": "markdown",
   "id": "dfc76768",
   "metadata": {},
   "source": [
    "### 형태변경"
   ]
  },
  {
   "cell_type": "code",
   "execution_count": 15,
   "id": "87975da6",
   "metadata": {},
   "outputs": [
    {
     "name": "stdout",
     "output_type": "stream",
     "text": [
      "tensor([[[ 0,  1,  2],\n",
      "         [ 3,  4,  5]],\n",
      "\n",
      "        [[ 6,  7,  8],\n",
      "         [ 9, 10, 11]]]) \n",
      " torch.Size([2, 2, 3])\n"
     ]
    }
   ],
   "source": [
    "t = torch.arange(12)\n",
    "\n",
    "t_ = t.reshape(3, 4)\n",
    "t_ = t.reshape(3, -1)\n",
    "t_ = t.reshape(-1, 4)\n",
    "t_ = t.reshape(2, 2, 3)\n",
    "\n",
    "print(t_, '\\n', t_.size())"
   ]
  },
  {
   "cell_type": "code",
   "execution_count": 16,
   "id": "3af082b4",
   "metadata": {},
   "outputs": [
    {
     "name": "stdout",
     "output_type": "stream",
     "text": [
      "tensor([[ 0,  4,  8],\n",
      "        [ 1,  5,  9],\n",
      "        [ 2,  6, 10],\n",
      "        [ 3,  7, 11]]) torch.Size([4, 3])\n",
      "tensor([[ 0,  4,  8],\n",
      "        [ 1,  5,  9],\n",
      "        [ 2,  6, 10],\n",
      "        [ 3,  7, 11]]) torch.Size([4, 3])\n"
     ]
    }
   ],
   "source": [
    "# 전치\n",
    "t = torch.arange(12).reshape(3, 4)\n",
    "print(t.T, t.T.shape)\n",
    "print(t.transpose(0, 1), t.transpose(0, 1).shape) # 0차원과 1차원을 바꾸라는것. T와 동일"
   ]
  },
  {
   "cell_type": "code",
   "execution_count": 17,
   "id": "2a28766f",
   "metadata": {},
   "outputs": [
    {
     "name": "stdout",
     "output_type": "stream",
     "text": [
      "tensor([ 0,  1,  2,  3,  4,  5,  6,  7,  8,  9, 10, 11])\n",
      "tensor([ 0,  1,  2,  3,  4,  5,  6,  7,  8,  9, 10, 11])\n"
     ]
    }
   ],
   "source": [
    "# 평탄화\n",
    "print(t.flatten())\n",
    "print(t.reshape(-1))"
   ]
  },
  {
   "cell_type": "code",
   "execution_count": 18,
   "id": "9acfc943",
   "metadata": {},
   "outputs": [
    {
     "name": "stdout",
     "output_type": "stream",
     "text": [
      "torch.Size([2, 2])\n",
      "tensor([[1, 2],\n",
      "        [3, 4]]) torch.Size([2, 2])\n"
     ]
    }
   ],
   "source": [
    "# 차원 축소 squeeze()\n",
    "x = torch.tensor([[1, 2], [3,4]])\n",
    "print(x.size())\n",
    "\n",
    "print(x.squeeze(0), x.squeeze(0).shape)"
   ]
  },
  {
   "cell_type": "code",
   "execution_count": 19,
   "id": "ea064924",
   "metadata": {},
   "outputs": [
    {
     "name": "stdout",
     "output_type": "stream",
     "text": [
      "torch.Size([2, 2])\n",
      "torch.Size([1, 2, 2])\n",
      "tensor([[[1, 2],\n",
      "         [3, 4]]])\n",
      "torch.Size([2, 2, 1])\n",
      "tensor([[[1],\n",
      "         [2]],\n",
      "\n",
      "        [[3],\n",
      "         [4]]])\n",
      "torch.Size([2, 1, 2])\n",
      "tensor([[[1, 2]],\n",
      "\n",
      "        [[3, 4]]])\n"
     ]
    }
   ],
   "source": [
    "# 차원 추가 unsqueeze()\n",
    "x = torch.tensor([[1, 2], [3,4]])\n",
    "print(x.size())\n",
    "\n",
    "x_ = x.unsqueeze(0) # 맨앞에 차원추가\n",
    "print(x_.size())\n",
    "print(x_)\n",
    "\n",
    "x_ = x.unsqueeze(-1) # 맨뒤에 차원추가\n",
    "print(x_.size())\n",
    "print(x_)\n",
    "\n",
    "x_ = x.unsqueeze(1) # 두번째에 차원추가\n",
    "print(x_.size())\n",
    "print(x_)"
   ]
  },
  {
   "cell_type": "markdown",
   "id": "1c502d54",
   "metadata": {},
   "source": [
    "### Indexing | Slicing"
   ]
  },
  {
   "cell_type": "code",
   "execution_count": 20,
   "id": "b63e4e73",
   "metadata": {},
   "outputs": [
    {
     "data": {
      "text/plain": [
       "tensor([[[ 1,  2],\n",
       "         [ 3,  4]],\n",
       "\n",
       "        [[ 5,  6],\n",
       "         [ 7,  8]],\n",
       "\n",
       "        [[ 9, 10],\n",
       "         [11, 12]]])"
      ]
     },
     "execution_count": 20,
     "metadata": {},
     "output_type": "execute_result"
    }
   ],
   "source": [
    "x = torch.arange(1, 13).reshape(3, 2, 2)\n",
    "x"
   ]
  },
  {
   "cell_type": "code",
   "execution_count": 21,
   "id": "f179015c",
   "metadata": {},
   "outputs": [
    {
     "name": "stdout",
     "output_type": "stream",
     "text": [
      "tensor([[1, 2],\n",
      "        [3, 4]])\n",
      "tensor([5, 6])\n",
      "tensor([11, 12])\n",
      "tensor(12)\n"
     ]
    }
   ],
   "source": [
    "print(x[0])\n",
    "print(x[1][0])\n",
    "print(x[2][1])\n",
    "print(x[-1][-1][-1])"
   ]
  },
  {
   "cell_type": "code",
   "execution_count": 22,
   "id": "32450c31",
   "metadata": {},
   "outputs": [
    {
     "name": "stdout",
     "output_type": "stream",
     "text": [
      "tensor([[[ 1,  2],\n",
      "         [ 3,  4]],\n",
      "\n",
      "        [[ 5,  6],\n",
      "         [ 7,  8]],\n",
      "\n",
      "        [[ 9, 10],\n",
      "         [11, 12]]])\n",
      "tensor([[ 1,  2],\n",
      "        [ 5,  6],\n",
      "        [ 9, 10]])\n",
      "torch.Size([3, 2])\n"
     ]
    }
   ],
   "source": [
    "# slicing\n",
    "print(x)\n",
    "x_ = x[:, 0] # 인덱싱 사용 1차원 제거 torch.Size([3, 2])\n",
    "# x_ = x[:, :1] # 슬라이싱은 차원유지 torch.Size([3, 1, 2])\n",
    "print(x_)\n",
    "print(x_.shape)"
   ]
  },
  {
   "cell_type": "code",
   "execution_count": 23,
   "id": "2fe5d686",
   "metadata": {},
   "outputs": [
    {
     "name": "stdout",
     "output_type": "stream",
     "text": [
      "tensor([[[ 5,  6],\n",
      "         [ 7,  8]],\n",
      "\n",
      "        [[ 9, 10],\n",
      "         [11, 12]]])\n"
     ]
    }
   ],
   "source": [
    "# fancy indexing\n",
    "index = [1, 2]\n",
    "x_ = x[index]\n",
    "print(x_)"
   ]
  },
  {
   "cell_type": "markdown",
   "id": "4ae5d1d3",
   "metadata": {},
   "source": [
    "### 유용한 메서드"
   ]
  },
  {
   "cell_type": "code",
   "execution_count": 24,
   "id": "3c44ed1a",
   "metadata": {},
   "outputs": [
    {
     "name": "stdout",
     "output_type": "stream",
     "text": [
      "tensor([[0., 0., 0., 0.],\n",
      "        [0., 0., 0., 0.],\n",
      "        [0., 0., 0., 0.],\n",
      "        [0., 0., 0., 0.]])\n",
      "tensor([[0., 0., 0., 0.],\n",
      "        [0., 0., 0., 0.],\n",
      "        [0., 0., 0., 0.],\n",
      "        [0., 0., 0., 0.]])\n",
      "tensor([[0., 0., 0., 0.],\n",
      "        [0., 0., 0., 0.]])\n"
     ]
    }
   ],
   "source": [
    "# split\n",
    "# - 지정한 개수로 분할, 마짐가 지정한 개수보다 작을 수 있다.\n",
    "x = torch.zeros(10, 4)\n",
    "\n",
    "x_splits = torch.split(x, 4)\n",
    "\n",
    "for x_ in x_splits:\n",
    "    print(x_)"
   ]
  },
  {
   "cell_type": "code",
   "execution_count": 25,
   "id": "d7c8a698",
   "metadata": {},
   "outputs": [
    {
     "name": "stdout",
     "output_type": "stream",
     "text": [
      "torch.Size([2, 1, 2])\n",
      "tensor([[[1, 2],\n",
      "         [1, 2],\n",
      "         [1, 2]],\n",
      "\n",
      "        [[3, 4],\n",
      "         [3, 4],\n",
      "         [3, 4]]])\n",
      "torch.Size([2, 3, 2])\n",
      "torch.Size([2, 1, 2])\n"
     ]
    }
   ],
   "source": [
    "# expand\n",
    "k = torch.tensor([[[1, 2]], [[3, 4]]])\n",
    "print(k.shape)\n",
    "\n",
    "k_exp = k.expand(2, 3, 2)\n",
    "print(k_exp)\n",
    "print(k_exp.shape)\n",
    "print(k.shape)"
   ]
  },
  {
   "cell_type": "code",
   "execution_count": 26,
   "id": "c9ea1a38",
   "metadata": {},
   "outputs": [
    {
     "name": "stdout",
     "output_type": "stream",
     "text": [
      "tensor([[[100,   2],\n",
      "         [100,   2],\n",
      "         [100,   2]],\n",
      "\n",
      "        [[  3,   4],\n",
      "         [  3,   4],\n",
      "         [  3,   4]]])\n",
      "tensor([[[100,   2]],\n",
      "\n",
      "        [[  3,   4]]])\n"
     ]
    }
   ],
   "source": [
    "# 원본배열 K의 view 형태로 k_exp가 생성된 것\n",
    "# - k_exp가 k를 참조. k_exp 변경 시 원본도 변경\n",
    "k_exp[0, 0, 0] = 100\n",
    "print(k_exp)\n",
    "print(k)"
   ]
  },
  {
   "cell_type": "code",
   "execution_count": 27,
   "id": "738a7d11",
   "metadata": {},
   "outputs": [
    {
     "name": "stdout",
     "output_type": "stream",
     "text": [
      "torch.Size([2, 1, 2])\n",
      "tensor([[[1, 2],\n",
      "         [1, 2],\n",
      "         [1, 2]],\n",
      "\n",
      "        [[3, 4],\n",
      "         [3, 4],\n",
      "         [3, 4]]])\n",
      "torch.Size([2, 3, 2])\n",
      "tensor([[[100,   2],\n",
      "         [  1,   2],\n",
      "         [  1,   2]],\n",
      "\n",
      "        [[  3,   4],\n",
      "         [  3,   4],\n",
      "         [  3,   4]]])\n",
      "tensor([[[1, 2]],\n",
      "\n",
      "        [[3, 4]]])\n"
     ]
    }
   ],
   "source": [
    "# repeat 원본배열의 view 생성없이 실제 값복사\n",
    "k = torch.tensor([[[1, 2]], [[3, 4]]])\n",
    "print(k.shape)\n",
    "\n",
    "k_rep = k.repeat(1, 3, 1) # 두번째 차원만 repeat 3번\n",
    "print(k_rep)\n",
    "print(k_rep.shape)\n",
    "\n",
    "k_rep[0, 0, 0] = 100\n",
    "print(k_rep)\n",
    "print(k)"
   ]
  },
  {
   "cell_type": "code",
   "execution_count": 28,
   "id": "20c33284",
   "metadata": {},
   "outputs": [
    {
     "name": "stdout",
     "output_type": "stream",
     "text": [
      "tensor([[0, 1, 2],\n",
      "        [3, 4, 5],\n",
      "        [6, 7, 8]])\n",
      "tensor([[False, False, False],\n",
      "        [False, False,  True],\n",
      "        [ True,  True,  True]])\n",
      "tensor([[0, 1, 2],\n",
      "        [3, 4, 0],\n",
      "        [0, 0, 0]])\n"
     ]
    }
   ],
   "source": [
    "# masked_fill: mask 조건식이 true인 경우만 값 변경\n",
    "x = torch.arange(9).reshape(3, -1)\n",
    "print(x)\n",
    "\n",
    "mask = x > 4\n",
    "print(mask)\n",
    "\n",
    "# mask에 따라 True인 x의 indices에 value를 채움\n",
    "x_ = x.masked_fill(mask, value=0)\n",
    "print(x_)"
   ]
  },
  {
   "cell_type": "markdown",
   "id": "d11b6037",
   "metadata": {},
   "source": [
    "---\n",
    "## 다차원 텐서 (다차원 배열)\n",
    "\n",
    "### 다차원 배열의 계산 복습"
   ]
  },
  {
   "cell_type": "code",
   "execution_count": 29,
   "id": "6b5090a9",
   "metadata": {},
   "outputs": [
    {
     "name": "stdout",
     "output_type": "stream",
     "text": [
      "[[ 8 10 12]\n",
      " [14 16 18]]\n",
      "[[2 4 6]\n",
      " [5 7 9]]\n",
      "[[ 50  68]\n",
      " [122 167]]\n"
     ]
    }
   ],
   "source": [
    "A = np.array([[1, 2, 3], [4, 5, 6]])\n",
    "B = np.array([[7, 8, 9], [10, 11, 12]])\n",
    "\n",
    "add_result = A + B\n",
    "\n",
    "vec = np.array([1, 2, 3])\n",
    "add_result2 = A + vec # 브로드캐스팅\n",
    "\n",
    "print(add_result)\n",
    "print(add_result2)\n",
    "\n",
    "dot_result = A.dot(B.T)\n",
    "print(dot_result)"
   ]
  },
  {
   "cell_type": "markdown",
   "id": "f1199099",
   "metadata": {},
   "source": [
    "### 다층 퍼셉트론"
   ]
  },
  {
   "cell_type": "code",
   "execution_count": 30,
   "id": "6271c3b3",
   "metadata": {},
   "outputs": [
    {
     "name": "stdout",
     "output_type": "stream",
     "text": [
      "[[0.56590748 0.01975648 0.20850395 0.20583209]\n",
      " [0.68481035 0.02090591 0.0182694  0.27601434]\n",
      " [0.43026563 0.01287952 0.15270791 0.40414693]\n",
      " [0.58494331 0.01682927 0.03784479 0.36038263]\n",
      " [0.72596522 0.01193869 0.03035631 0.23173977]\n",
      " [0.42913597 0.02949234 0.05037628 0.49099542]]\n"
     ]
    }
   ],
   "source": [
    "X = np.random.rand(6, 10) # 10개 피처, 6개 인스턴스\n",
    "\n",
    "# 은닉층\n",
    "w1 = np.random.randn(10, 8) # 10개의 입력(피처)를 8개의 뉴런으로\n",
    "b1 = np.random.randn(1, 8) # 각 뉴런당 편향 1개\n",
    "\n",
    "# 출력층\n",
    "w2 = np.random.randn(8, 4) # 8개의 입력(피처)를 4개의 뉴런으로\n",
    "b2 = np.random.rand(1, 4) # 각 뉴런당 편향 1개\n",
    "\n",
    "# 은닉층 계산 (선형 계산 + tanh 활성함수)  # 선형 계산 = 입력값 x 가중치 + 편향\n",
    "z1 = np.dot(X, w1) + b1\n",
    "result1 = np.tanh(z1)\n",
    "\n",
    "# 출력층 계산 (선형 계산 + softmax 활성함수)\n",
    "z2 = np.dot(result1, w2) + b2\n",
    "exp_z = np.exp(z2 - np.max(z2, axis=1, keepdims=True)) # 컴퓨터가 표현불가한 큰 수가 안 생기게 max로 뺌\n",
    "result2 = exp_z / np.sum(exp_z, axis=1, keepdims=True)\n",
    "\n",
    "print(result2)"
   ]
  },
  {
   "cell_type": "markdown",
   "id": "76d071d9",
   "metadata": {},
   "source": [
    "### 이미지 데이터 예시\n"
   ]
  },
  {
   "cell_type": "code",
   "execution_count": null,
   "id": "e95bb3bd",
   "metadata": {},
   "outputs": [
    {
     "name": "stderr",
     "output_type": "stream",
     "text": [
      "Clipping input data to the valid range for imshow with RGB data ([0..1] for floats or [0..255] for integers). Got range [-3.7385893924227287..3.1971748374649915].\n"
     ]
    },
    {
     "data": {
      "image/png": "[encoded data removed]",
      "text/plain": [
       "<Figure size 640x480 with 3 Axes>"
      ]
     },
     "metadata": {},
     "output_type": "display_data"
    }
   ],
   "source": [
    "import matplotlib.pyplot as plt\n",
    "\n",
    "# 이미지 생성\n",
    "batch_size = 5  # 샘플 수\n",
    "channels = 3    # rgb값. png이미지는 투명도까지해서 4임\n",
    "height = 32     # 픽셀 수\n",
    "width = 32      # 픽셀 수\n",
    "\n",
    "images = np.random.randn(batch_size, channels, height, width)\n",
    "\n",
    "bright_images = np.clip(images + 1, 0, 1) # 모든 값에 0.2씩 더함 (최대 1)\n",
    "gray_images = np.mean(images, axis=1) # 2번째 차원(채널수)를 기준으로 평균\n",
    "\n",
    "# pytorch 프레임워크에서는 이미지 데이터를 (채널, 높이, 너비) 순서로 저장\n",
    "# matplotlib.pyplot.imshow()는 (높이, 너비, 채널) 순서\n",
    "# transpose()로 축의 순서 재배열\n",
    "images_for_display = images[0].transpose(1, 2, 0) # 0번째 차원이던 채널을 뒤로 이동\n",
    "bright_images_display = bright_images[0].transpose(1, 2, 0)\n",
    "\n",
    "plt.subplot(1, 3, 1)\n",
    "plt.imshow(images_for_display)\n",
    "plt.axis('off')\n",
    "\n",
    "plt.subplot(1, 3, 2)\n",
    "plt.imshow(bright_images_display)\n",
    "plt.axis('off')\n",
    "\n",
    "plt.subplot(1, 3, 3)\n",
    "plt.imshow(gray_images[0], cmap='gray')\n",
    "plt.axis('off')\n",
    "\n",
    "\n",
    "plt.show()"
   ]
  }
 ],
 "metadata": {
  "kernelspec": {
   "display_name": "ml_env",
   "language": "python",
   "name": "python3"
  },
  "language_info": {
   "codemirror_mode": {
    "name": "ipython",
    "version": 3
   },
   "file_extension": ".py",
   "mimetype": "text/x-python",
   "name": "python",
   "nbconvert_exporter": "python",
   "pygments_lexer": "ipython3",
   "version": "3.12.11"
  }
 },
 "nbformat": 4,
 "nbformat_minor": 5
}
