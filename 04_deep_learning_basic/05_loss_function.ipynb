{
 "cells": [
  {
   "cell_type": "markdown",
   "id": "08f45284",
   "metadata": {},
   "source": [
    "# 손실함수 (loss function)\n",
    "\n",
    "## 이진분류 손실함수 Binary Cross Entropy\n",
    "\n",
    "$$\n",
    "\\text{Loss} = -\\left[y \\cdot \\log(p) + (1 - y) \\cdot \\log(1 - p)\\right]\n",
    "$$\n",
    "- $y$: 실제 값 (0 또는 1)\n",
    "- $p$: 예측 확률 (0과 1 사이)\n"
   ]
  },
  {
   "cell_type": "code",
   "execution_count": 67,
   "id": "9991c84a",
   "metadata": {},
   "outputs": [
    {
     "name": "stdout",
     "output_type": "stream",
     "text": [
      "정답이 1, 손실크면:  1.6094379124341003\n",
      "정답이 1, 손실작으면:  0.2231435513142097\n",
      "정답이 0, 손실작으면:  0.2231435513142097\n",
      "정답이 0, 손실크면:  1.6094379124341005\n"
     ]
    }
   ],
   "source": [
    "import numpy as np\n",
    "import pandas as pd\n",
    "import matplotlib.pyplot as plt\n",
    "\n",
    "import torch\n",
    "import torch.nn as nn\n",
    "import torch.nn.functional as F\n",
    "import torch.optim as optim\n",
    "\n",
    "# 정답이 1: - log(p)\n",
    "print('정답이 1, 손실크면: ', -np.log(0.2))\n",
    "print('정답이 1, 손실작으면: ', -np.log(0.8))\n",
    "\n",
    "# 정답이 0: - log(1 - p)\n",
    "print('정답이 0, 손실작으면: ', -np.log(1 - 0.2))\n",
    "print('정답이 0, 손실크면: ', -np.log(1 - 0.8))"
   ]
  },
  {
   "cell_type": "code",
   "execution_count": 68,
   "id": "1e5b6fbe",
   "metadata": {},
   "outputs": [
    {
     "data": {
      "text/plain": [
       "array([0.1053605 , 0.1053605 , 0.22314354, 0.35667493])"
      ]
     },
     "execution_count": 68,
     "metadata": {},
     "output_type": "execute_result"
    }
   ],
   "source": [
    "# 직접 구현\n",
    "def binary_cross_entropy(y_true, y_pred):\n",
    "    epsilon = 1e-8 # 0.00000001 로그에 0이 들어올수도 있으니 작은 값 넣음\n",
    "    return - (y_true * np.log(y_pred + epsilon) + (1 - y_true) * np.log(1 - y_pred + epsilon))\n",
    "\n",
    "y_true = np.array([1, 0, 1, 1])\n",
    "y_pred = np.array([0.9, 0.1, 0.8, 0.7])\n",
    "\n",
    "loss = binary_cross_entropy(y_true, y_pred)\n",
    "loss"
   ]
  },
  {
   "cell_type": "code",
   "execution_count": 69,
   "id": "bfa8e9a4",
   "metadata": {},
   "outputs": [
    {
     "data": {
      "text/plain": [
       "tensor(0.1976)"
      ]
     },
     "execution_count": 69,
     "metadata": {},
     "output_type": "execute_result"
    }
   ],
   "source": [
    "y_true = torch.tensor([1, 0, 1, 1], dtype=torch.float32)\n",
    "y_pred = torch.tensor([0.9, 0.1, 0.8, 0.7])\n",
    "\n",
    "criterion = nn.BCELoss()\n",
    "loss = criterion(y_pred, y_true)\n",
    "loss"
   ]
  },
  {
   "cell_type": "code",
   "execution_count": 70,
   "id": "d5b3ea48",
   "metadata": {},
   "outputs": [
    {
     "name": "stdout",
     "output_type": "stream",
     "text": [
      "tensor(0.3346)\n",
      "tensor(0.3346)\n"
     ]
    }
   ],
   "source": [
    "# torch 손실함수 BCEWithLogitsLoss\n",
    "# - 입력: logits\n",
    "# - BCELoss 확률값이 0, 1에 가까우면, 수치계산 불안정, 이를 보완한 손실함수\n",
    "logits = torch.tensor([2.173, -2.345, 1.386, -0.405], dtype=torch.float32) # 출력층 선형방정식 결과값\n",
    "y_true = torch.tensor([1, 0, 1, 1], dtype=torch.float32)\n",
    "\n",
    "# sigmoid + BCELoss\n",
    "p = torch.sigmoid(logits)\n",
    "criterion = nn.BCELoss()\n",
    "loss = criterion(p, y_true)\n",
    "print(loss)\n",
    "\n",
    "# BCEWithLogitLoss\n",
    "criterion2 = nn.BCEWithLogitsLoss()\n",
    "loss = criterion2(logits, y_true)\n",
    "print(loss)\n"
   ]
  },
  {
   "cell_type": "code",
   "execution_count": 71,
   "id": "c6267945",
   "metadata": {},
   "outputs": [
    {
     "data": {
      "image/png": "[encoded data removed]",
      "text/plain": [
       "<Figure size 640x480 with 1 Axes>"
      ]
     },
     "metadata": {},
     "output_type": "display_data"
    }
   ],
   "source": [
    "# 손실함수 시각화\n",
    "p = np.linspace(0.01, 0.99, 100) # 시그모이드 통과한 확률값\n",
    "\n",
    "loss_1 = -np.log(p)\n",
    "loss_0 = -np.log(1 - p)\n",
    "\n",
    "plt.plot(p, loss_1, label='y=1')\n",
    "plt.plot(p, loss_0, label='y=0')\n",
    "\n",
    "plt.title('Binary Cross Entropy Loss')\n",
    "plt.xlabel('p')\n",
    "plt.ylabel('loss')\n",
    "plt.legend()\n",
    "plt.grid()\n",
    "plt.show()"
   ]
  },
  {
   "cell_type": "markdown",
   "id": "779cdb03",
   "metadata": {},
   "source": [
    "## 다중분류 손실함수 Cross Entropy\n",
    "모델이 출력한 점수(logits)를 softmax 함수로 확률로 바꾼 뒤, 정답 클래스의 log 확률을 취한 값을 손실로 계산한다.\n",
    "\n",
    "$$\n",
    "\\text{Loss} = -\\log(\\text{softmax}(\\text{logits})[y])\n",
    "$$\n",
    "\n",
    "**수식 전체**\n",
    "\n",
    "$$\n",
    "\\text{Loss} = -\\log\\left( \\frac{e^{z_y}}{\\sum_{j} e^{z_j}} \\right)\n",
    "$$\n",
    "\n",
    "* $z = [z_0, z_1, ..., z_k]$: 각 클래스에 대한 모델의 출력값 (logits)\n",
    "* $z_y$: 정답 클래스 $y$에 해당하는 로짓 값\n",
    "* $\\sum_j e^{z_j}$: 모든 클래스에 대한 softmax 분모"
   ]
  },
  {
   "cell_type": "code",
   "execution_count": 72,
   "id": "63eeaade",
   "metadata": {},
   "outputs": [
    {
     "name": "stdout",
     "output_type": "stream",
     "text": [
      "tensor([0.6590, 0.2424, 0.0986])\n"
     ]
    },
    {
     "data": {
      "text/plain": [
       "np.float32(0.41702995)"
      ]
     },
     "execution_count": 72,
     "metadata": {},
     "output_type": "execute_result"
    }
   ],
   "source": [
    "# 직접 구현\n",
    "y_true = 0\n",
    "z = torch.tensor([2.0, 1.0, 0.1])\n",
    "p = F.softmax(z, dim=0)\n",
    "print(p)\n",
    "\n",
    "pred = p.argmax(dim=0)\n",
    "-np.log(p.numpy()[y_true])"
   ]
  },
  {
   "cell_type": "code",
   "execution_count": 73,
   "id": "8905907d",
   "metadata": {},
   "outputs": [
    {
     "name": "stdout",
     "output_type": "stream",
     "text": [
      "0.4170299470424652\n"
     ]
    }
   ],
   "source": [
    "# torch의 crossEntropyLoss\n",
    "y_true = torch.tensor([0], dtype=torch.long) # long만 허용\n",
    "z = torch.tensor([[2.0, 1.0, 0.10]]) # 배치 사이즈 때문에 [] 하나 더 감쌈\n",
    "\n",
    "criterion = nn.CrossEntropyLoss()\n",
    "loss = criterion(z, y_true) # pred값을 먼저 넣어야 함\n",
    "print(loss.item())"
   ]
  },
  {
   "cell_type": "code",
   "execution_count": 74,
   "id": "16a34e57",
   "metadata": {},
   "outputs": [
    {
     "data": {
      "image/png": "[encoded data removed]",
      "text/plain": [
       "<Figure size 640x480 with 1 Axes>"
      ]
     },
     "metadata": {},
     "output_type": "display_data"
    }
   ],
   "source": [
    "# 시각화\n",
    "p = np.linspace(0.01, 0.99, 100)\n",
    "loss = -np.log(p)\n",
    "plt.plot(p, loss, label='target-p')\n",
    "plt.title('Cross Entropy Loss')\n",
    "plt.xlabel('p')\n",
    "plt.ylabel('loss')\n",
    "plt.legend()\n",
    "plt.grid()\n",
    "plt.show()"
   ]
  },
  {
   "cell_type": "markdown",
   "id": "71bdc93f",
   "metadata": {},
   "source": [
    "## 회귀 손실함수\n",
    "\n",
    "**1. MSELoss (Mean Squared Error Loss)**\n",
    "\n",
    "**정의**: 오차(예측 - 실제)의 **제곱** 평균값을 계산\n",
    "\n",
    "**특징**: 큰 오차에 더 큰 패널티 → 이상치에 민감\n",
    "\n",
    "**수식**\n",
    "\n",
    "$$\n",
    "\\text{MSELoss} = \\frac{1}{n} \\sum_{i=1}^{n} (y_i - \\hat{y}_i)^2\n",
    "$$\n",
    "\n",
    "**2. L1Loss 또는 MAELoss (Mean Absolute Error Loss)**\n",
    "\n",
    "**정의**: 오차(예측 - 실제)의 **절댓값** 평균\n",
    "\n",
    "**특징**: 이상치에 덜 민감하지만, 미분 불연속점 존재\n",
    "\n",
    "**수식**\n",
    "\n",
    "$$\n",
    "\\text{MAELoss} = \\frac{1}{n} \\sum_{i=1}^{n} \\left| y_i - \\hat{y}_i \\right|\n",
    "$$\n",
    "\n",
    "**3. HuberLoss (Smooth L1 Loss)**\n",
    "\n",
    "**정의**: 작은 오차에는 MSE처럼, 큰 오차에는 MAE처럼 동작\n",
    "\n",
    "**특징**: 이상치에 덜 민감하면서도 미분 가능 → **타협형 손실함수**\n",
    "\n",
    "**수식** (임계값 $\\delta$를 기준으로 나뉨)\n",
    "\n",
    "$$\n",
    "\\text{HuberLoss}(y_i, \\hat{y}_i) =\n",
    "\\begin{cases}\n",
    "\\frac{1}{2}(y_i - \\hat{y}_i)^2 & \\text{if } |y_i - \\hat{y}_i| \\leq \\delta \\\\\n",
    "\\delta \\cdot \\left( |y_i - \\hat{y}_i| - \\frac{1}{2}\\delta \\right) & \\text{otherwise}\n",
    "\\end{cases}\n",
    "$$"
   ]
  },
  {
   "cell_type": "code",
   "execution_count": 75,
   "id": "2f18555c",
   "metadata": {},
   "outputs": [
    {
     "name": "stdout",
     "output_type": "stream",
     "text": [
      "[ 0.5 -0.5 -0.1 -0.8 35.5 52.3]\n"
     ]
    },
    {
     "data": {
      "image/png": "[encoded data removed]",
      "text/plain": [
       "<Figure size 640x480 with 1 Axes>"
      ]
     },
     "metadata": {},
     "output_type": "display_data"
    }
   ],
   "source": [
    "# 이상치가 없는 경우\n",
    "# y_true = np.array([3.0, -0.5, 2.0, 7.0])\n",
    "# y_pred - np.array([2.5, 0.0, 2.1, 7.8])\n",
    "\n",
    "\n",
    "y_true = np.array([3.0, -0.5, 2.0, 7.0, 50.5, 60.0])\n",
    "y_pred = np.array([2.5, 0.0, 2.1, 7.8, 15.0, 7.7])\n",
    "\n",
    "error = y_true - y_pred\n",
    "print(error)\n",
    "\n",
    "plt.bar(range(len(y_true)), error)\n",
    "plt.title('error')\n",
    "plt.xlabel('data index')\n",
    "plt.ylabel('error')\n",
    "plt.grid()\n",
    "plt.show()"
   ]
  },
  {
   "cell_type": "code",
   "execution_count": 76,
   "id": "0409c670",
   "metadata": {},
   "outputs": [
    {
     "name": "stdout",
     "output_type": "stream",
     "text": [
      "mse:  666.1149999999999\n",
      "mae:  14.949999999999998\n",
      "huber_loss:  14.5625\n"
     ]
    }
   ],
   "source": [
    "# 손실함수별 비교\n",
    "def mse(y_true, y_pred):\n",
    "    return np.mean((y_true - y_pred) ** 2)\n",
    "def mae(y_true, y_pred):\n",
    "    return np.mean(np.abs(y_true - y_pred))\n",
    "def huber_loss(y_true, y_pred, delta=1.0):\n",
    "    \"\"\"\n",
    "    delta보다 작은 오차엔 MSE\n",
    "    delta보다 큰 오차엔 MAE\n",
    "    \"\"\"\n",
    "    error = y_true - y_pred\n",
    "    is_small_error = error <= delta\n",
    "    return np.mean(np.where(is_small_error, 0.5 * (error ** 2), delta * (np.abs(error) - 0.5 * delta)))\n",
    "\n",
    "y_true = np.array([3.0, -0.5, 2.0, 7.0, 50.5, 60.0])\n",
    "y_pred = np.array([2.5, 0.0, 2.1, 7.8, 15.0, 7.7])\n",
    "\n",
    "print('mse: ', mse(y_true, y_pred))\n",
    "print('mae: ', mae(y_true, y_pred))\n",
    "print('huber_loss: ', huber_loss(y_true, y_pred))"
   ]
  },
  {
   "cell_type": "code",
   "execution_count": 77,
   "id": "614f6f56",
   "metadata": {},
   "outputs": [
    {
     "name": "stdout",
     "output_type": "stream",
     "text": [
      "mse:  tensor(666.1150)\n",
      "mse (객체):  tensor(666.1150)\n",
      "mae (L1 loss):  tensor(14.9500)\n",
      "huber_loss:  tensor(14.5625)\n",
      "smooth_l1_loss:  tensor(14.5625)\n"
     ]
    }
   ],
   "source": [
    "# torch 버전\n",
    "y_true = torch.tensor([3.0, -0.5, 2.0, 7.0, 50.5, 60.0], dtype=torch.float32)\n",
    "y_pred = torch.tensor([2.5, 0.0, 2.1, 7.8, 15.0, 7.7], dtype=torch.float32)\n",
    "\n",
    "print('mse: ', F.mse_loss(y_true, y_pred))\n",
    "print('mse (객체): ', nn.MSELoss()(y_true, y_pred)) # 객체로도 가능\n",
    "print('mae (L1 loss): ', F.l1_loss(y_true, y_pred))\n",
    "print('huber_loss: ', F.huber_loss(y_true, y_pred))\n",
    "print('smooth_l1_loss: ', F.smooth_l1_loss(y_true, y_pred))\n",
    "\n"
   ]
  },
  {
   "cell_type": "code",
   "execution_count": 78,
   "id": "caecdd7a",
   "metadata": {},
   "outputs": [
    {
     "data": {
      "image/png": "[encoded data removed]",
      "text/plain": [
       "<Figure size 640x480 with 1 Axes>"
      ]
     },
     "metadata": {},
     "output_type": "display_data"
    }
   ],
   "source": [
    "# 시각화\n",
    "errors = torch.linspace(-5, 5, 100)\n",
    "\n",
    "# 손실함수 객체\n",
    "# reduction=mean 여러 오차를 평균내어 스칼라 반환\n",
    "# reduction=none 여러 오차를 그대로 반환\n",
    "mse_fn = nn.MSELoss(reduction='none') \n",
    "mae_fn = nn.L1Loss(reduction='none')  \n",
    "huber_fn = nn.HuberLoss(reduction='none')\n",
    "\n",
    "\n",
    "# 정답/예측\n",
    "y_true = torch.zeros_like(errors)\n",
    "y_pred = errors\n",
    "\n",
    "# 손실계산\n",
    "mse_loss = mse_fn(y_pred, y_true).numpy()\n",
    "mae_loss = mae_fn(y_pred, y_true).numpy()\n",
    "huber_loss = huber_fn(y_pred, y_true).numpy()\n",
    "errors = errors.numpy()\n",
    "\n",
    "# 시각화\n",
    "plt.plot(errors, mse_loss, label='mse')\n",
    "plt.plot(errors, mae_loss, label='mae')\n",
    "plt.plot(errors, huber_loss, label='huber')\n",
    "\n",
    "plt.title('Regression Loss Functions')\n",
    "plt.legend()\n",
    "plt.xlabel('error')\n",
    "plt.ylabel('loss')\n",
    "plt.legend()\n",
    "plt.grid()\n",
    "plt.show()"
   ]
  },
  {
   "cell_type": "markdown",
   "id": "48c3d495",
   "metadata": {},
   "source": [
    "### 신경망 모델에서 손실 함수 사용"
   ]
  },
  {
   "cell_type": "code",
   "execution_count": 79,
   "id": "4daf7a8d",
   "metadata": {},
   "outputs": [],
   "source": [
    "from sklearn.datasets import make_classification\n",
    "from sklearn.model_selection import train_test_split\n",
    "from sklearn.preprocessing import StandardScaler\n",
    "\n",
    "# 데이터 생성\n",
    "X, y = make_classification(\n",
    "    n_samples=1000,\n",
    "    n_features=20,\n",
    "    n_informative=15,\n",
    "    n_redundant=5,\n",
    "    n_classes=2,\n",
    "    random_state=42\n",
    ")\n",
    "\n",
    "# 전처리\n",
    "scaler = StandardScaler()\n",
    "X - scaler.fit_transform(X)\n",
    "X_train, X_test, y_train, y_test = train_test_split(X, y, random_state=42)\n",
    "\n",
    "\n",
    "def one_hot(labels, num_classes):\n",
    "    return np.eye(num_classes)[labels]\n",
    "\n",
    "y_train_oh = one_hot(y_train, 2)\n",
    "y_test_oh = one_hot(y_test, 2)"
   ]
  },
  {
   "cell_type": "code",
   "execution_count": 80,
   "id": "8b620aee",
   "metadata": {},
   "outputs": [
    {
     "data": {
      "text/plain": [
       "(750, 20)"
      ]
     },
     "execution_count": 80,
     "metadata": {},
     "output_type": "execute_result"
    }
   ],
   "source": [
    "X_train.shape"
   ]
  },
  {
   "cell_type": "code",
   "execution_count": 81,
   "id": "f1247d53",
   "metadata": {},
   "outputs": [
    {
     "name": "stdout",
     "output_type": "stream",
     "text": [
      "(20, 32) (1, 32) (32, 2) (1, 2)\n"
     ]
    }
   ],
   "source": [
    "# 모델 파라미터 초기화\n",
    "np.random.seed(42)\n",
    "\n",
    "input_dim = X_train.shape[1]\n",
    "hidden_dim = 32\n",
    "output_dim = 2\n",
    "\n",
    "W1 = np.random.randn(input_dim, hidden_dim)\n",
    "b1 = np.zeros((1, hidden_dim))\n",
    "W2 = np.random.randn(hidden_dim, output_dim)\n",
    "b2 = np.zeros((1, output_dim))\n",
    "print(W1.shape, b1.shape, W2.shape, b2.shape)"
   ]
  },
  {
   "cell_type": "code",
   "execution_count": 82,
   "id": "0a563bf6",
   "metadata": {},
   "outputs": [],
   "source": [
    "# 활성화 함수, 손실 함수 정의\n",
    "\n",
    "# 은닉층에서 씀\n",
    "def relu(z):\n",
    "    return np.maximum(0, z)\n",
    "\n",
    "# 출력층에서 씀\n",
    "def softmax(z):\n",
    "    exp_z = np.exp(z - np.max(z, axis=1, keepdims=True))\n",
    "    return exp_z / np.sum(exp_z, axis=1, keepdims=True)\n",
    "\n",
    "def cross_entropy_loss(probs, labels):\n",
    "    m = labels.shape[0]\n",
    "    log_likelihood = -np.log(probs + 1e-8) * labels\n",
    "    loss = np.sum(log_likelihood) / m\n",
    "    return loss"
   ]
  },
  {
   "cell_type": "code",
   "execution_count": 83,
   "id": "6b2d9945",
   "metadata": {},
   "outputs": [
    {
     "name": "stdout",
     "output_type": "stream",
     "text": [
      "Epoch 10 | 학습 손실: 5.6000 테스트 손실: 6.5055\n",
      "Epoch 20 | 학습 손실: 4.5973 테스트 손실: 5.4199\n",
      "Epoch 30 | 학습 손실: 3.9817 테스트 손실: 4.6023\n",
      "Epoch 40 | 학습 손실: 3.4682 테스트 손실: 4.0325\n",
      "Epoch 50 | 학습 손실: 3.0681 테스트 손실: 3.5790\n"
     ]
    }
   ],
   "source": [
    "# 학습\n",
    "learning_rate = 0.01\n",
    "epochs = 50\n",
    "train_losses = []\n",
    "test_losses = []\n",
    "\n",
    "for epoch in range(epochs):\n",
    "    # forward\n",
    "    Z1 = np.dot(X_train, W1) + b1               # 은닉층거침\n",
    "    R1 = relu(Z1)                               # 은닉층의 활성함수\n",
    "    Z2 = np.dot(R1, W2) + b2                    # 출력층거침\n",
    "    probs = softmax(Z2)                         # 출력층의 활성함수\n",
    "    loss = cross_entropy_loss(probs, y_train_oh)# 손실함수 계산\n",
    "\n",
    "    # backpropagation\n",
    "    m = X_train.shape[0]\n",
    "    dZ2 = (probs - y_train_oh) / m\n",
    "    dW2 = np.dot(R1.T, dZ2)\n",
    "    db2 = np.sum(dZ2, axis=0, keepdims=True)\n",
    "    \n",
    "    dR1 = np.dot(dZ2, W2.T)\n",
    "    dZ1 = dR1 * (Z1 > 0)\n",
    "    dW1 = np.dot(X_train.T, dZ1)\n",
    "    db1 = np.sum(dZ1, axis=0, keepdims=True)\n",
    "\n",
    "    # 파라미터 업데이트\n",
    "    W1 -= learning_rate * dW1   # 학습률에 기울기 곱하고 뺌\n",
    "    b1 -= learning_rate * db1\n",
    "    W2 -= learning_rate * dW2\n",
    "    b2 -= learning_rate * db2\n",
    "\n",
    "    train_losses.append(loss)\n",
    "\n",
    "    # 테스트 데이터로 손실 확인\n",
    "    Z1_test = np.dot(X_test, W1) + b1\n",
    "    R1_test = relu(Z1_test)\n",
    "    Z2_test = np.dot(R1_test, W2) + b2\n",
    "    probs_test = softmax(Z2_test)\n",
    "    loss_test = cross_entropy_loss(probs_test, y_test_oh)\n",
    "\n",
    "    test_losses.append(loss_test)\n",
    "\n",
    "    if (epoch + 1) % 10 == 0:\n",
    "        print(f\"Epoch {epoch+1} | 학습 손실: {loss:.4f} 테스트 손실: {loss_test:.4f}\")"
   ]
  },
  {
   "cell_type": "code",
   "execution_count": 84,
   "id": "c275f782",
   "metadata": {},
   "outputs": [
    {
     "data": {
      "image/png": "[encoded data removed]",
      "text/plain": [
       "<Figure size 640x480 with 1 Axes>"
      ]
     },
     "metadata": {},
     "output_type": "display_data"
    }
   ],
   "source": [
    "# 시각화\n",
    "plt.plot(range(epochs), train_losses, label=\"train loss\")\n",
    "plt.plot(range(epochs), test_losses, label=\"train loss\")\n",
    "\n",
    "\n",
    "plt.xlabel('epoch')\n",
    "plt.ylabel('loss')\n",
    "plt.legend()\n",
    "plt.show()"
   ]
  },
  {
   "cell_type": "markdown",
   "id": "0370740b",
   "metadata": {},
   "source": [
    "### 기본 손실 함수 vs 커스텀 손실 함수"
   ]
  },
  {
   "cell_type": "code",
   "execution_count": 85,
   "id": "5e007534",
   "metadata": {},
   "outputs": [],
   "source": [
    "from sklearn.datasets import make_regression\n",
    "\n",
    "# 데이터 생성\n",
    "X, y = make_regression(\n",
    "    n_samples=1000,\n",
    "    n_features=10,\n",
    "    noise=50,\n",
    "    random_state=42\n",
    ")\n",
    "\n",
    "scaler_X = StandardScaler()\n",
    "scaler_y = StandardScaler()\n",
    "X = scaler_X.fit_transform(X)\n",
    "y = scaler_y.fit_transform(y.reshape(-1, 1)).flatten()\n",
    "\n",
    "X_train, X_test, y_train, y_test = train_test_split(X, y, test_size=0.2, random_state=42)"
   ]
  },
  {
   "cell_type": "code",
   "execution_count": 86,
   "id": "1881e57e",
   "metadata": {},
   "outputs": [],
   "source": [
    "# 예측 함수\n",
    "def predict(X, w, b):\n",
    "    return np.dot(X, w) + b"
   ]
  },
  {
   "cell_type": "code",
   "execution_count": 87,
   "id": "631ba9fa",
   "metadata": {},
   "outputs": [],
   "source": [
    "# 손실 함수\n",
    "def mse_loss(y_pred, y_true):\n",
    "    return np.mean((y_pred - y_true) ** 2)\n",
    "\n",
    "def my_loss(y_pred, y_true, w, lambda_reg=1.0):\n",
    "    mse = mse_loss(y_pred, y_true)\n",
    "    l2_reg = np.sum(w ** 2)\n",
    "    return mse + (lambda_reg * l2_reg)"
   ]
  },
  {
   "cell_type": "code",
   "execution_count": 88,
   "id": "de60e6de",
   "metadata": {},
   "outputs": [],
   "source": [
    "def train_model(X_train, y_train, X_test, y_test, loss_fn, epoch=100, learning_rate=0.1, use_custom=False):\n",
    "    np.random.seed(42)\n",
    "    n_features = X_train.shape[1]\n",
    "    W = np.random.randn(n_features)\n",
    "    b = 0.0\n",
    "\n",
    "    for epoch in range(epochs):\n",
    "        y_pred_train = predict(X_train, W, b)\n",
    "        y_pred_test = predict(X_test, W, b)\n",
    "\n",
    "        train_loss = loss_fn(y_pred_train, y_train, W) if use_custom else loss_fn(y_pred_train, y_train)\n",
    "        test_loss = loss_fn(y_pred_test, y_test, W) if use_custom else loss_fn(y_pred_test, y_test)\n",
    "\n",
    "        d_loss = 2 * (y_pred_train - y_train) / X_train.shape[0]\n",
    "        grad_w = np.dot(X_train.T, d_loss)\n",
    "        grad_b = np.sum(d_loss)\n",
    "\n",
    "        if use_custom:\n",
    "            grad_w += 2 * 1.0 * W\n",
    "\n",
    "        W -= learning_rate * grad_w\n",
    "        b -= learning_rate * grad_b\n",
    "\n",
    "        if (epoch + 1) % 10 == 0:\n",
    "            print(f'Epoch {epoch + 1} | 학습 손실: {test_loss:.4f}, 테스트 손실: {test_loss:.4f} ')"
   ]
  },
  {
   "cell_type": "code",
   "execution_count": 89,
   "id": "70d492a1",
   "metadata": {},
   "outputs": [
    {
     "name": "stdout",
     "output_type": "stream",
     "text": [
      "Epoch 10 | 학습 손실: 0.1833, 테스트 손실: 0.1833 \n",
      "Epoch 20 | 학습 손실: 0.1255, 테스트 손실: 0.1255 \n",
      "Epoch 30 | 학습 손실: 0.1242, 테스트 손실: 0.1242 \n",
      "Epoch 40 | 학습 손실: 0.1241, 테스트 손실: 0.1241 \n",
      "Epoch 50 | 학습 손실: 0.1241, 테스트 손실: 0.1241 \n"
     ]
    }
   ],
   "source": [
    "train_model(X_train, y_train, X_test, y_test, mse_loss)\n"
   ]
  },
  {
   "cell_type": "code",
   "execution_count": 90,
   "id": "7b7a2a41",
   "metadata": {},
   "outputs": [
    {
     "name": "stdout",
     "output_type": "stream",
     "text": [
      "Epoch 10 | 학습 손실: 0.5544, 테스트 손실: 0.5544 \n",
      "Epoch 20 | 학습 손실: 0.5548, 테스트 손실: 0.5548 \n",
      "Epoch 30 | 학습 손실: 0.5550, 테스트 손실: 0.5550 \n",
      "Epoch 40 | 학습 손실: 0.5550, 테스트 손실: 0.5550 \n",
      "Epoch 50 | 학습 손실: 0.5550, 테스트 손실: 0.5550 \n"
     ]
    }
   ],
   "source": [
    "train_model(X_train, y_train, X_test, y_test, my_loss, use_custom=True)"
   ]
  },
  {
   "cell_type": "code",
   "execution_count": 91,
   "id": "1dbe4533",
   "metadata": {},
   "outputs": [],
   "source": [
    "### 손실 함수 선택이 모델 성능에 미치는 영향"
   ]
  },
  {
   "cell_type": "code",
   "execution_count": 92,
   "id": "64181437",
   "metadata": {},
   "outputs": [],
   "source": [
    "# 데이터 생성\n",
    "X, y = make_regression(\n",
    "    n_samples=1000,\n",
    "    n_features=5,\n",
    "    noise=30,\n",
    "    random_state=42\n",
    ")\n",
    "\n",
    "scaler_X = StandardScaler()\n",
    "scaler_y = StandardScaler()\n",
    "X = scaler_X.fit_transform(X)\n",
    "y = scaler_y.fit_transform(y.reshape(-1, 1)).flatten()\n",
    "\n",
    "X_train, X_test, y_train, y_test = train_test_split(X, y, test_size=0.2, random_state=42)"
   ]
  },
  {
   "cell_type": "code",
   "execution_count": 93,
   "id": "e3bcd1f1",
   "metadata": {},
   "outputs": [],
   "source": [
    "# 선형 회귀 모델 예측 함수\n",
    "def predict(X, w, b):\n",
    "    return np.dot(X, w) + b"
   ]
  },
  {
   "cell_type": "code",
   "execution_count": 94,
   "id": "e7a3d45b",
   "metadata": {},
   "outputs": [],
   "source": [
    "# 손실 함수\n",
    "def mse_loss(y_pred, y_true):\n",
    "    return np.mean((y_pred - y_true) ** 2)\n",
    "\n",
    "def mae_loss(y_pred, y_true):\n",
    "    return np.mean(np.abs(y_pred - y_true))\n",
    "\n",
    "def huber_loss(y_pred, y_true, delta=1.0):\n",
    "    error = y_pred - y_true\n",
    "    is_small_error = np.abs(error) <= delta\n",
    "    squared_error = 0.5 * error**2\n",
    "    linear_error = delta * (np.abs(error) - 0.5 * delta)\n",
    "    return np.mean(np.where(is_small_error, squared_error, linear_error))"
   ]
  },
  {
   "cell_type": "code",
   "execution_count": 95,
   "id": "6cf4f0c0",
   "metadata": {},
   "outputs": [],
   "source": [
    "def train_regression(X, y, loss_fn, epochs=100, learning_rate= 0.01):\n",
    "    n_features = X.shape[1]\n",
    "    W = np.random.randn(n_features)\n",
    "    b = 0.0\n",
    "    m = X.shape[0]\n",
    "    epsilon = 1e-5\n",
    "    losses = []\n",
    "\n",
    "    for epoch in range(epochs):\n",
    "        y_pred = predict(X, W, b)\n",
    "        loss = loss_fn(y_pred, y)\n",
    "        losses.append(loss)\n",
    "\n",
    "        grad_w = np.zeros_like(W)\n",
    "        for i in range(len(W)):\n",
    "            W_eps = np.copy(W)\n",
    "            W_eps[i] += epsilon\n",
    "            loss_eps = loss_fn(predict(X, W_eps, b), y)\n",
    "            grad_w[i] += (loss_eps - loss) / epsilon\n",
    "\n",
    "        b_eps = b + epsilon\n",
    "        loss_eps_b = loss_fn(predict(X, W, b_eps), y)\n",
    "        grad_b = (loss_eps_b - loss) / epsilon\n",
    "\n",
    "        W -= learning_rate * grad_w\n",
    "        b -= learning_rate * grad_b\n",
    "\n",
    "    return W, b, losses"
   ]
  },
  {
   "cell_type": "code",
   "execution_count": 124,
   "id": "3350a039",
   "metadata": {},
   "outputs": [
    {
     "name": "stdout",
     "output_type": "stream",
     "text": [
      "MSE Loss: 0.3924\n",
      "MAE Loss: 4.1927\n",
      "Huber Loss: 4.4183\n"
     ]
    }
   ],
   "source": [
    "results = {}\n",
    "\n",
    "for name, loss_fn in zip(['MSE', 'MAE', 'Huber'], [mse_loss, mae_loss, huber_loss]):\n",
    "    W, b, losses = train_regression(X_train, y_train, loss_fn)\n",
    "    results[name] = {'losses': losses}\n",
    "\n",
    "    pred_test = predict(X_test, W, b)\n",
    "    test_loss = mse_loss(pred_test, y_test)\n",
    "    print(f'{name} Loss: {test_loss:.4f}')"
   ]
  },
  {
   "cell_type": "code",
   "execution_count": 126,
   "id": "853994ad",
   "metadata": {},
   "outputs": [
    {
     "data": {
      "image/png": "[encoded data removed]",
      "text/plain": [
       "<Figure size 640x480 with 1 Axes>"
      ]
     },
     "metadata": {},
     "output_type": "display_data"
    }
   ],
   "source": [
    "for name, value in results.items():\n",
    "    plt.plot(value[\"losses\"], label=name)\n",
    "\n",
    "plt.xlabel('epoch')\n",
    "plt.ylabel('train loss')\n",
    "plt.legend()\n",
    "plt.show()"
   ]
  },
  {
   "cell_type": "code",
   "execution_count": null,
   "id": "1d82836b",
   "metadata": {},
   "outputs": [],
   "source": []
  }
 ],
 "metadata": {
  "kernelspec": {
   "display_name": "ml_env",
   "language": "python",
   "name": "python3"
  },
  "language_info": {
   "codemirror_mode": {
    "name": "ipython",
    "version": 3
   },
   "file_extension": ".py",
   "mimetype": "text/x-python",
   "name": "python",
   "nbconvert_exporter": "python",
   "pygments_lexer": "ipython3",
   "version": "3.12.11"
  }
 },
 "nbformat": 4,
 "nbformat_minor": 5
}
