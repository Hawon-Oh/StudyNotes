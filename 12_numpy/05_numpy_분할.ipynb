{
 "cells": [
  {
   "cell_type": "code",
   "execution_count": 1,
   "id": "fcd78930",
   "metadata": {},
   "outputs": [],
   "source": [
    "import numpy as np"
   ]
  },
  {
   "cell_type": "markdown",
   "id": "9d4b8aae",
   "metadata": {},
   "source": [
    "### ndarray 병합 및 분할"
   ]
  },
  {
   "cell_type": "markdown",
   "id": "9d6c25f3",
   "metadata": {},
   "source": [
    "##### ndarray 요소 추가 및 삭제\n",
    "- ndarray는 C++처럼 고정 길이 배열이므로 크기변경 불가 -> 변수에 재할당해서 append나 insert 가능"
   ]
  },
  {
   "cell_type": "code",
   "execution_count": 2,
   "id": "ade08e8b",
   "metadata": {},
   "outputs": [],
   "source": [
    "arr = np.array([1, 2, 3])\n",
    "arr = np.append(arr, 4) # 재할당으로\n"
   ]
  },
  {
   "cell_type": "code",
   "execution_count": 10,
   "id": "b99ebb61",
   "metadata": {},
   "outputs": [
    {
     "name": "stdout",
     "output_type": "stream",
     "text": [
      "[[ 1  2  3  4]\n",
      " [ 5  6  7  8]\n",
      " [ 9 10 11 12]]\n",
      "[  1 100   2   3   4   5   6   7   8   9  10  11  12]\n",
      "[ 1  2  3  4  5  6  7  8  9 10 11 12 40]\n",
      "[[  1   2   3   4]\n",
      " [  5   6   7   8]\n",
      " [  9  10  11  12]\n",
      " [500 600 700 800]]\n",
      "[[  1   2   3   4 100]\n",
      " [  5   6   7   8 200]\n",
      " [  9  10  11  12 300]]\n"
     ]
    }
   ],
   "source": [
    "arr = np.arange(1, 13).reshape(3, 4)\n",
    "print(arr)\n",
    "\n",
    "# arr는 2차원 배열이나 insert하니 1차원이 됨\n",
    "print(np.insert(arr, 1, 100)) # i = 1에 100 insert하기\n",
    "\n",
    "print(np.append(arr, 40))\n",
    "print(np.append(arr, [[500, 600, 700, 800]], axis=0))\n",
    "print(np.append(arr, [[100], [200], [300]], axis=1))\n"
   ]
  },
  {
   "cell_type": "code",
   "execution_count": null,
   "id": "c84c88fe",
   "metadata": {},
   "outputs": [
    {
     "name": "stdout",
     "output_type": "stream",
     "text": [
      "[1 2 3 4 5 6 7 8 9]\n",
      "[1 2 3 4 5 6 7 8]\n"
     ]
    }
   ],
   "source": [
    "# np.delete()\n",
    "arr = np.arange(1, 10)\n",
    "print(arr)\n",
    "\n",
    "# 마지막 인덱스 제거 (ndarray는 재할당해야 함)\n",
    "arr = np.delete(arr, -1)\n",
    "print(arr)"
   ]
  },
  {
   "cell_type": "code",
   "execution_count": 20,
   "id": "5cc836a0",
   "metadata": {},
   "outputs": [
    {
     "name": "stdout",
     "output_type": "stream",
     "text": [
      "[[ 1  2  3  4  5]\n",
      " [ 6  7  8  9 10]]\n",
      "\n",
      "[ 1  3  4  5  6  7  8  9 10]\n",
      "\n",
      "[[1 2 3 4 5]]\n",
      "\n",
      "[[ 1  3  4  5]\n",
      " [ 6  8  9 10]]\n",
      "\n"
     ]
    }
   ],
   "source": [
    "# 2차원에서 delete()\n",
    "arr = np.arange(1, 11).reshape(2, 5)\n",
    "print(arr, end='\\n\\n')\n",
    "\n",
    "print(np.delete(arr, 1), end='\\n\\n')\n",
    "print(np.delete(arr, 1, axis=0), end='\\n\\n')\n",
    "print(np.delete(arr, 1, axis=1), end='\\n\\n')\n"
   ]
  },
  {
   "cell_type": "markdown",
   "id": "b7ab98a8",
   "metadata": {},
   "source": [
    "--- ndarray 병합\n",
    "- np.append()\n",
    "- np. vstack()\n",
    "- np.hstack()\n",
    "- np.concatenate()"
   ]
  },
  {
   "cell_type": "code",
   "execution_count": 21,
   "id": "dc45b90c",
   "metadata": {},
   "outputs": [
    {
     "data": {
      "text/plain": [
       "(array([[ 1,  2,  3,  4],\n",
       "        [ 5,  6,  7,  8],\n",
       "        [ 9, 10, 11, 12]]),\n",
       " array([[13, 14, 15, 16],\n",
       "        [17, 18, 19, 20],\n",
       "        [21, 22, 23, 24]]))"
      ]
     },
     "execution_count": 21,
     "metadata": {},
     "output_type": "execute_result"
    }
   ],
   "source": [
    "arr1 = np.arange(1, 13).reshape(3, 4)\n",
    "arr2 = np.arange(13, 25).reshape(3, 4)\n",
    "arr1, arr2"
   ]
  },
  {
   "cell_type": "code",
   "execution_count": 30,
   "id": "33dd6226",
   "metadata": {},
   "outputs": [
    {
     "name": "stdout",
     "output_type": "stream",
     "text": [
      "[ 1  2  3  4  5  6  7  8  9 10 11 12 13 14 15 16 17 18 19 20 21 22 23 24]\n",
      "\n",
      "[[ 1  2  3  4]\n",
      " [ 5  6  7  8]\n",
      " [ 9 10 11 12]\n",
      " [13 14 15 16]\n",
      " [17 18 19 20]\n",
      " [21 22 23 24]]\n",
      "\n",
      "[[ 1  2  3  4 13 14 15 16]\n",
      " [ 5  6  7  8 17 18 19 20]\n",
      " [ 9 10 11 12 21 22 23 24]]\n",
      "\n",
      "[[ 1  2  3  4]\n",
      " [ 5  6  7  8]\n",
      " [ 9 10 11 12]\n",
      " [13 14 15 16]\n",
      " [17 18 19 20]\n",
      " [21 22 23 24]]\n",
      "\n",
      "[[ 1  2  3  4 13 14 15 16]\n",
      " [ 5  6  7  8 17 18 19 20]\n",
      " [ 9 10 11 12 21 22 23 24]]\n",
      "\n",
      "[ 1  2  3  4  5  6  7  8  9 10 11 12 13 14 15 16 17 18 19 20 21 22 23 24]\n",
      "[[ 1  2  3  4 13 14 15 16]\n",
      " [ 5  6  7  8 17 18 19 20]\n",
      " [ 9 10 11 12 21 22 23 24]]\n",
      "\n"
     ]
    }
   ],
   "source": [
    "# np.append()\n",
    "print(np.append(arr1, arr2), end='\\n\\n')\n",
    "print(np.append(arr1, arr2, axis=0), end='\\n\\n')\n",
    "print(np.append(arr1, arr2, axis=1), end=\"\\n\\n\")\n",
    "\n",
    "# np. vstack()\n",
    "# vstack과 hstack은 병합할 대상을 튜플/리스트로 묶어서 전달해야 함\n",
    "print(np.vstack([arr1, arr2]), end=\"\\n\\n\")\n",
    "\n",
    "# np.hstack()\n",
    "print(np.hstack([arr1, arr2]), end=\"\\n\\n\")\n",
    "\n",
    "# np.concatenate()\n",
    "print(np.concatenate([arr1, arr2], axis=None))\n",
    "print(np.concatenate([arr1, arr2], axis=1), end=\"\\n\\n\")"
   ]
  },
  {
   "cell_type": "code",
   "execution_count": 39,
   "id": "7f51c5d9",
   "metadata": {},
   "outputs": [
    {
     "name": "stdout",
     "output_type": "stream",
     "text": [
      "[[ 1  2  3  4 13 14 15 16]\n",
      " [ 5  6  7  8 17 18 19 20]\n",
      " [ 9 10 11 12 21 22 23 24]]\n",
      "\n",
      "[[ 1  2  3  4 13 14 15 16]\n",
      " [ 5  6  7  8 17 18 19 20]\n",
      " [ 9 10 11 12 21 22 23 24]]\n",
      "\n",
      "[array([[ 1,  2,  3,  4],\n",
      "       [ 5,  6,  7,  8],\n",
      "       [ 9, 10, 11, 12]]), array([[13, 14, 15, 16],\n",
      "       [17, 18, 19, 20],\n",
      "       [21, 22, 23, 24]])]\n"
     ]
    }
   ],
   "source": [
    "# np.split()\n",
    "arr = np.hstack([arr1, arr2])\n",
    "print(arr, end=\"\\n\\n\")\n",
    "\n",
    "print(arr, end='\\n\\n')\n",
    "print(np.split(arr, 2, axis=1))"
   ]
  },
  {
   "cell_type": "code",
   "execution_count": null,
   "id": "67cd813e",
   "metadata": {},
   "outputs": [],
   "source": []
  }
 ],
 "metadata": {
  "kernelspec": {
   "display_name": "pystudy_env",
   "language": "python",
   "name": "pystudy_env"
  },
  "language_info": {
   "codemirror_mode": {
    "name": "ipython",
    "version": 3
   },
   "file_extension": ".py",
   "mimetype": "text/x-python",
   "name": "python",
   "nbconvert_exporter": "python",
   "pygments_lexer": "ipython3",
   "version": "3.12.11"
  }
 },
 "nbformat": 4,
 "nbformat_minor": 5
}
