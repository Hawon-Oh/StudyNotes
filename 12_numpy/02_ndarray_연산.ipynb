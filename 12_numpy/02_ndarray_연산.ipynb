{
 "cells": [
  {
   "cell_type": "code",
   "execution_count": 1,
   "id": "cd4c716e",
   "metadata": {},
   "outputs": [],
   "source": [
    "import numpy as np"
   ]
  },
  {
   "cell_type": "markdown",
   "id": "459a8123",
   "metadata": {
    "vscode": {
     "languageId": "plaintext"
    }
   },
   "source": [
    "다음과 같은 과일 판매량 데이터가 있습니다. 각 과일의 1분기와 2분기 판매량이 주어졌을 때, NumPy 배열을 사용하여 아래 문제를 해결하세요.\n",
    "\n",
    "1. 1분기와 2분기의 과일별 총 판매량을 구하세요.\n",
    "2. 과일별 평균 판매량을 구하세요.\n",
    "\n",
    "- **데이터**:\n",
    "    - 1분기 판매량: `[200, 340, 150, 400]` (사과, 배, 오렌지, 바나나)\n",
    "    - 2분기 판매량: `[220, 300, 180, 420]` (사과, 배, 오렌지, 바나나)"
   ]
  },
  {
   "cell_type": "code",
   "execution_count": null,
   "id": "87bce5e3",
   "metadata": {},
   "outputs": [
    {
     "name": "stdout",
     "output_type": "stream",
     "text": [
      "[420 640 330 820]\n"
     ]
    }
   ],
   "source": [
    "arr1 = np.array([200, 340, 150, 400])\n",
    "arr2 = np.array([220, 300, 180, 420])\n",
    "print(np.add(arr1, arr2))"
   ]
  },
  {
   "cell_type": "code",
   "execution_count": 4,
   "id": "6b97da62",
   "metadata": {},
   "outputs": [
    {
     "data": {
      "text/plain": [
       "array([[11, 21, 31],\n",
       "       [12, 22, 32],\n",
       "       [13, 23, 33]])"
      ]
     },
     "execution_count": 4,
     "metadata": {},
     "output_type": "execute_result"
    }
   ],
   "source": [
    "a = np.array([[1],\n",
    "              [2],\n",
    "              [3]])  # shape (3,1)\n",
    "b = np.array([10, 20, 30])  # shape (3,)\n",
    "a + b\n",
    "# shape (3,3) 결과 생성\n"
   ]
  },
  {
   "cell_type": "markdown",
   "id": "1930b4bb",
   "metadata": {},
   "source": [
    "### 브로드캐스팅\n",
    "- 크기가 1인 축은 자동반복되어 큰 배열의 크기에 맞춰짐\n",
    "- 두 배열 row 또는 col이 일치해야 함\n",
    "- 자동확장이 직관적이지 않을 경우, shape을 꼭 확인"
   ]
  },
  {
   "cell_type": "markdown",
   "id": "b9cf10f8",
   "metadata": {},
   "source": [
    "### 행렬 곱셈\n",
    "- Dot Product / 내적\n",
    "   - (2, 3) . (3, 10)처럼 1st 행렬의 열 수와 2st 행렬의 행 수가 같아야 함\n",
    "   - 연산결과의 shape은 (1st 행렬의 행수, 2st 행렬의 열수)"
   ]
  },
  {
   "cell_type": "code",
   "execution_count": null,
   "id": "4a0ebbe2",
   "metadata": {},
   "outputs": [],
   "source": [
    "# (100, 20000) . (20000, 100)의 shape = (100, 100)\n",
    "# (20000, 100) (100, 20000)의 shape = (20000, 20000)\n",
    "# (100, 20000) (100, 20000)는 내적이 안됨."
   ]
  },
  {
   "cell_type": "markdown",
   "id": "807b409d",
   "metadata": {},
   "source": [
    "---\n",
    "### 연산 함수 및 집계 함수"
   ]
  },
  {
   "cell_type": "code",
   "execution_count": 13,
   "id": "fcc1c376",
   "metadata": {},
   "outputs": [],
   "source": [
    "arr_negative = np.array([[-1, -2], [-100, -200]])\n",
    "arr_float = np.array([[1.234, -5.678], [-7.89, 10.123]])\n",
    "arr = np.arange(1, 7).reshape(2, 3)"
   ]
  },
  {
   "cell_type": "markdown",
   "id": "6e024328",
   "metadata": {},
   "source": [
    "내림과 버림은 음수에서 좀 다르게 쓰임. 내림은 더 작은 수로 내리고 버림은 아예 버림\n",
    "예: 내림은 -5.1 -> -6, 버림은 -5.1 -> -5"
   ]
  },
  {
   "cell_type": "code",
   "execution_count": null,
   "id": "e9824658",
   "metadata": {},
   "outputs": [
    {
     "name": "stdout",
     "output_type": "stream",
     "text": [
      "[[ 1. -6.]\n",
      " [-8. 10.]]\n",
      "\n",
      "[[ 1. -5.]\n",
      " [-7. 10.]]\n"
     ]
    }
   ],
   "source": [
    "# 내림\n",
    "print(np.floor(arr_float), end='\\n\\n')\n",
    "\n",
    "# 버림\n",
    "print(np.trunc(arr_float))"
   ]
  },
  {
   "cell_type": "markdown",
   "id": "cdef8eb5",
   "metadata": {},
   "source": [
    "최대/최소"
   ]
  },
  {
   "cell_type": "code",
   "execution_count": 18,
   "id": "dfc130bd",
   "metadata": {},
   "outputs": [
    {
     "name": "stdout",
     "output_type": "stream",
     "text": [
      "[[1 2 3]\n",
      " [4 5 6]]\n",
      "\n",
      "6\n",
      "1\n",
      "\n",
      "[4 5 6]\n",
      "[3 6]\n",
      "\n",
      "[1 2 3]\n",
      "[1 4]\n"
     ]
    }
   ],
   "source": [
    "arr = np.arange(1, 7).reshape(2, 3)\n",
    "\n",
    "print(arr, end='\\n\\n')\n",
    "print(np.max(arr))\n",
    "print(np.min(arr), end='\\n\\n')\n",
    "\n",
    "print(np.max(arr, axis=0))\n",
    "print(np.max(arr, axis=1), end='\\n\\n')\n",
    "\n",
    "\n",
    "print(np.min(arr, axis=0)) # 행 기준\n",
    "print(np.min(arr, axis=1)) # 열 기준"
   ]
  },
  {
   "cell_type": "code",
   "execution_count": 21,
   "id": "d65868e4",
   "metadata": {},
   "outputs": [],
   "source": [
    "arr = np.array([\n",
    "    [1, 2, 3],\n",
    "    [4, 5, 6],\n",
    "    [7, 8, 9]\n",
    "])"
   ]
  },
  {
   "cell_type": "code",
   "execution_count": null,
   "id": "563f86f9",
   "metadata": {},
   "outputs": [],
   "source": []
  }
 ],
 "metadata": {
  "kernelspec": {
   "display_name": "pystudy_env",
   "language": "python",
   "name": "pystudy_env"
  },
  "language_info": {
   "codemirror_mode": {
    "name": "ipython",
    "version": 3
   },
   "file_extension": ".py",
   "mimetype": "text/x-python",
   "name": "python",
   "nbconvert_exporter": "python",
   "pygments_lexer": "ipython3",
   "version": "3.12.11"
  }
 },
 "nbformat": 4,
 "nbformat_minor": 5
}
